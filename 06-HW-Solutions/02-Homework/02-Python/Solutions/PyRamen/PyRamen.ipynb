{
 "cells": [
  {
   "cell_type": "markdown",
   "metadata": {},
   "source": [
    "# PyRamen Homework Solution"
   ]
  },
  {
   "cell_type": "code",
   "execution_count": 1,
   "metadata": {},
   "outputs": [],
   "source": [
    "# Import libraries and dependencies\n",
    "import csv\n",
    "from pathlib import Path"
   ]
  },
  {
   "cell_type": "code",
   "execution_count": 2,
   "metadata": {},
   "outputs": [],
   "source": [
    "# Set file paths for menu_data.csv and sales_data.csv\n",
    "menu_filepath = Path(\"Resources/menu_data.csv\")\n",
    "sales_filepath = Path(\"Resources/sales_data.csv\")"
   ]
  },
  {
   "cell_type": "code",
   "execution_count": 3,
   "metadata": {},
   "outputs": [],
   "source": [
    "# Initialize list objects to hold our menu and sales data\n",
    "menu = []\n",
    "sales = []"
   ]
  },
  {
   "cell_type": "code",
   "execution_count": 4,
   "metadata": {},
   "outputs": [],
   "source": [
    "# Read in the menu data into the menu list\n",
    "with open(menu_filepath) as menu_file:\n",
    "    reader = csv.reader(menu_file)\n",
    "\n",
    "    # Skip header of menu data\n",
    "    next(reader)\n",
    "\n",
    "    # Iterate over each row after the header\n",
    "    for row in reader:\n",
    "        menu.append(row)"
   ]
  },
  {
   "cell_type": "code",
   "execution_count": 5,
   "metadata": {},
   "outputs": [],
   "source": [
    "# Read in the sales data into the sales list\n",
    "with open(sales_filepath) as sales_file:\n",
    "    reader = csv.reader(sales_file)\n",
    "\n",
    "    # Skip header of sales data\n",
    "    next(reader)\n",
    "\n",
    "    # Iterate over each row after the header\n",
    "    for row in reader:\n",
    "        sales.append(row)"
   ]
  },
  {
   "cell_type": "code",
   "execution_count": 6,
   "metadata": {},
   "outputs": [],
   "source": [
    "# Initialize dict object to hold our key-value pairs of items and metrics\n",
    "report = {}\n",
    "\n",
    "# Initialize a row counter variable\n",
    "row_count = 0"
   ]
  },
  {
   "cell_type": "code",
   "execution_count": 7,
   "metadata": {},
   "outputs": [],
   "source": [
    "# Loop over every row in the sales list object\n",
    "for row in sales:\n",
    "    print()\n",
    "    print(row)\n",
    "\n",
    "    # Line_Item_ID,Date,Credit_Card_Number,Quantity,Menu_Item\n",
    "    # Initialize sales data variables\n",
    "    quantity = int(row[3])\n",
    "    sales_item = row[4]\n",
    "\n",
    "    # If the item value not in the report, add it as a new entry with initialized metrics\n",
    "    # Naming convention allows the keys to be ordered in logical fashion, count, revenue, cost, profit\n",
    "    if sales_item not in report.keys():\n",
    "        report[sales_item] = {\n",
    "            \"01-count\": 0,\n",
    "            \"02-revenue\": 0,\n",
    "            \"03-cogs\": 0,\n",
    "            \"04-profit\": 0,\n",
    "        }\n",
    "\n",
    "    # For every row in our sales data, loop over the menu records to determine a match\n",
    "    for record in menu:\n",
    "\n",
    "        # Item,Category,Description,Price,Cost\n",
    "        # Initialize menu data variables\n",
    "        item = record[0]\n",
    "        price = float(record[3])\n",
    "        cost = float(record[4])\n",
    "\n",
    "        # Calculate profit of each item in the menu data\n",
    "        profit = price - cost\n",
    "\n",
    "        # If the item value in our sales data is equal to the any of the items in the menu, then begin tracking metrics for that item\n",
    "        if sales_item == item:\n",
    "\n",
    "            # Print out matching menu data\n",
    "            print(f\"Does {sales_item} equal {item}? WE HAVE A MATCH!!!\")\n",
    "            print(f\"   Item: {item}\")\n",
    "            print(f\"   Price: ${price}\")\n",
    "            print(f\"   Cost: ${cost}\")\n",
    "            print(f\"   Profit: ${profit}\")\n",
    "\n",
    "            # Cumulatively add up the metrics for each item key\n",
    "            report[sales_item][\"01-count\"] += quantity\n",
    "            report[sales_item][\"02-revenue\"] += price * quantity\n",
    "            report[sales_item][\"03-cogs\"] += cost * quantity\n",
    "            report[sales_item][\"04-profit\"] += profit * quantity\n",
    "\n",
    "        # Else, the sales item does not equal any fo the item in the menu data, therefore no match\n",
    "        else:\n",
    "            print(\"Does\", sales_item, \"equal\", record[0], \"? WA WA, NO MATCH\")\n",
    "\n",
    "    # Increment the row counter by 1\n",
    "    row_count += 1"
   ]
  },
  {
   "cell_type": "code",
   "execution_count": 8,
   "metadata": {},
   "outputs": [],
   "source": [
    "# Print total number of records in sales data\n",
    "print()\n",
    "print(\"Total Number of Records:\", row_count)\n",
    "print() # Adds a space between the end of the program and the console input"
   ]
  },
  {
   "cell_type": "code",
   "execution_count": 9,
   "metadata": {},
   "outputs": [],
   "source": [
    "# Write out report to a text file (won't appear on the command line output)\n",
    "with open(\"report.txt\", \"w\") as txt_file:\n",
    "    for key, value in report.items():\n",
    "\n",
    "        line = f\"{key} {value}\\n\"\n",
    "        txt_file.write(line)"
   ]
  },
  {
   "cell_type": "code",
   "execution_count": null,
   "metadata": {},
   "outputs": [],
   "source": []
  }
 ],
 "metadata": {
  "kernelspec": {
   "display_name": "Python 3",
   "language": "python",
   "name": "python3"
  },
  "language_info": {
   "codemirror_mode": {
    "name": "ipython",
    "version": 3
   },
   "file_extension": ".py",
   "mimetype": "text/x-python",
   "name": "python",
   "nbconvert_exporter": "python",
   "pygments_lexer": "ipython3",
   "version": "3.7.3"
  }
 },
 "nbformat": 4,
 "nbformat_minor": 4
}
