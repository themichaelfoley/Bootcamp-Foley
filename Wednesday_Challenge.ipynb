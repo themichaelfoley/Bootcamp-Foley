{
 "cells": [
  {
   "cell_type": "code",
   "execution_count": 17,
   "id": "58679792-d985-469a-b6e2-0eb47e14f44e",
   "metadata": {},
   "outputs": [],
   "source": [
    "#Wednesday Challenge"
   ]
  },
  {
   "cell_type": "code",
   "execution_count": 18,
   "id": "8d8c7b09-25ef-4393-af9a-d14692d539f3",
   "metadata": {},
   "outputs": [
    {
     "name": "stdout",
     "output_type": "stream",
     "text": [
      "Even numbers in list:  [0, 6, 4]\n",
      "Odd numbers in list:  [1, 5, 3, 9]\n",
      "[1, 0, 25, 36, 16, 9, 81]\n",
      "hasOne: True\n",
      "is_list False\n",
      "Even List: [0, 36, 16]\n"
     ]
    }
   ],
   "source": [
    "\"\"\"\n",
    "This file demonstrates some \"Pythonic\" style code you may encounter\n",
    "- Run the code and examine the output\n",
    "- Read the comments, search for the answers.\n",
    "- Then modify the code to test it, see if you can predict the behavior!\n",
    "\n",
    "\"\"\"\n",
    "\n",
    "# C: Try changing \"someList\" so that \"newList\" has no even values\n",
    "#\n",
    "someList = [1, 0,5,6,4,3,9]\n",
    "\n",
    "even_list = list(filter(lambda x: (x % 2 == 0), someList))\n",
    "print(\"Even numbers in list: \", even_list)\n",
    "\n",
    "odd_list = list(filter(lambda x: (x % 2 != 0), someList))\n",
    "print(\"Odd numbers in list: \", odd_list)\n",
    "# C: What is a lambda function?\n",
    "# C: What is the map function?\n",
    "# C: What type does the map function return?\n",
    "# C: What does the list() function do?\n",
    "#\n",
    "newList = list(map(lambda x : x**2, someList))\n",
    "\n",
    "print(newList)\n",
    "\n",
    "# C: Below is an example of a Ternary Expression.\n",
    "#    Create your own Ternary Expression that checks\n",
    "#    if newList is a list. Save a boolean in a variable\n",
    "#    named isList and print it\n",
    "#\n",
    "hasOne = True if 1 in newList else False\n",
    "is_list = True if newList == list else False\n",
    "\n",
    "# C: Convert print statement below to use fstring\n",
    "print(\"hasOne: \" + str(hasOne))\n",
    "print(\"is_list: \" + str(is_list ))\n",
    "# C : What is a list comprehension?\n",
    "# C : What is the modulus operator?\n",
    "evenList = [\n",
    "    x for x in newList if x % 2 == 0\n",
    "]\n",
    "\n",
    "print(\"Even List: \" + str(evenList))"
   ]
  },
  {
   "cell_type": "code",
   "execution_count": null,
   "id": "78b82990-2577-42e6-b2d9-4cc72a60e1bf",
   "metadata": {},
   "outputs": [],
   "source": []
  }
 ],
 "metadata": {
  "kernelspec": {
   "display_name": "Python 3 (ipykernel)",
   "language": "python",
   "name": "python3"
  },
  "language_info": {
   "codemirror_mode": {
    "name": "ipython",
    "version": 3
   },
   "file_extension": ".py",
   "mimetype": "text/x-python",
   "name": "python",
   "nbconvert_exporter": "python",
   "pygments_lexer": "ipython3",
   "version": "3.7.11"
  }
 },
 "nbformat": 4,
 "nbformat_minor": 5
}
