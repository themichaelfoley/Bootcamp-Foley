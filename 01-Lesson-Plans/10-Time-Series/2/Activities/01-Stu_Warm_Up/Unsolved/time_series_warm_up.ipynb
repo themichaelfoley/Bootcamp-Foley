{
 "cells": [
  {
   "cell_type": "markdown",
   "metadata": {},
   "source": [
    "# Time-Series Warm-up\n",
    "\n",
    "To start off, let's stretch our time series legs and use some of the code we learned in the previous class. In particular, we'll use what we've learned to visualize hourly patterns in the price and volume of Bitcoin."
   ]
  },
  {
   "cell_type": "markdown",
   "metadata": {},
   "source": [
    "## 1. Import the required libraries and dependencies"
   ]
  },
  {
   "cell_type": "code",
   "execution_count": 19,
   "metadata": {},
   "outputs": [],
   "source": [
    "# Import the required libraries and dependencies\n",
    "import pandas as pd\n",
    "import hvplot.pandas\n",
    "from pathlib import Path"
   ]
  },
  {
   "cell_type": "markdown",
   "metadata": {},
   "source": [
    "## 2. Read in the `bitcoin_hourly` CSV file, and prepare the data."
   ]
  },
  {
   "cell_type": "code",
   "execution_count": 20,
   "metadata": {},
   "outputs": [
    {
     "data": {
      "text/html": [
       "<div>\n",
       "<style scoped>\n",
       "    .dataframe tbody tr th:only-of-type {\n",
       "        vertical-align: middle;\n",
       "    }\n",
       "\n",
       "    .dataframe tbody tr th {\n",
       "        vertical-align: top;\n",
       "    }\n",
       "\n",
       "    .dataframe thead th {\n",
       "        text-align: right;\n",
       "    }\n",
       "</style>\n",
       "<table border=\"1\" class=\"dataframe\">\n",
       "  <thead>\n",
       "    <tr style=\"text-align: right;\">\n",
       "      <th></th>\n",
       "      <th>close</th>\n",
       "      <th>volume</th>\n",
       "    </tr>\n",
       "    <tr>\n",
       "      <th>date</th>\n",
       "      <th></th>\n",
       "      <th></th>\n",
       "    </tr>\n",
       "  </thead>\n",
       "  <tbody>\n",
       "    <tr>\n",
       "      <th>2017-08-17 05:00:00</th>\n",
       "      <td>4315.32</td>\n",
       "      <td>23.234916</td>\n",
       "    </tr>\n",
       "    <tr>\n",
       "      <th>2017-08-17 06:00:00</th>\n",
       "      <td>4324.35</td>\n",
       "      <td>7.229691</td>\n",
       "    </tr>\n",
       "    <tr>\n",
       "      <th>2017-08-17 07:00:00</th>\n",
       "      <td>4349.99</td>\n",
       "      <td>4.443249</td>\n",
       "    </tr>\n",
       "    <tr>\n",
       "      <th>2017-08-17 08:00:00</th>\n",
       "      <td>4360.69</td>\n",
       "      <td>0.972807</td>\n",
       "    </tr>\n",
       "    <tr>\n",
       "      <th>2017-08-17 09:00:00</th>\n",
       "      <td>4444.00</td>\n",
       "      <td>10.763623</td>\n",
       "    </tr>\n",
       "  </tbody>\n",
       "</table>\n",
       "</div>"
      ],
      "text/plain": [
       "                       close     volume\n",
       "date                                   \n",
       "2017-08-17 05:00:00  4315.32  23.234916\n",
       "2017-08-17 06:00:00  4324.35   7.229691\n",
       "2017-08-17 07:00:00  4349.99   4.443249\n",
       "2017-08-17 08:00:00  4360.69   0.972807\n",
       "2017-08-17 09:00:00  4444.00  10.763623"
      ]
     },
     "execution_count": 20,
     "metadata": {},
     "output_type": "execute_result"
    }
   ],
   "source": [
    "# Read csv file as DataFrame, with datetime index as the column `date` (for HVPlot)\n",
    "data_path = Path(\"../Resources/bitcoin_hourly.csv\")\n",
    "df = pd.read_csv(\n",
    "    data_path,\n",
    "    infer_datetime_format=True,\n",
    "    parse_dates=True,\n",
    "    index_col='date'\n",
    ")\n",
    "\n",
    "# Preview the dataset\n",
    "df.head()"
   ]
  },
  {
   "cell_type": "markdown",
   "metadata": {},
   "source": [
    "## 3. Plot volume in a line plot using `hvplot`."
   ]
  },
  {
   "cell_type": "code",
   "execution_count": 21,
   "metadata": {},
   "outputs": [
    {
     "data": {
      "text/plain": [
       "<AxesSubplot:xlabel='date'>"
      ]
     },
     "execution_count": 21,
     "metadata": {},
     "output_type": "execute_result"
    },
    {
     "data": {
      "image/png": "[encoded data removed]",
      "text/plain": [
       "<Figure size 432x288 with 1 Axes>"
      ]
     },
     "metadata": {
      "needs_background": "light"
     },
     "output_type": "display_data"
    }
   ],
   "source": [
    "# Plot volume by using hvplot to get a sense of what's typical volume for the cryptocurrency.\n",
    "# YOUR CODE HERE!\n",
    "df[\"volume\"].plot()\n",
    "#df[\"volume\"].hvplot.line()"
   ]
  },
  {
   "cell_type": "markdown",
   "metadata": {},
   "source": [
    "## 4. Use Pandas `groupby` and the `weekofyear` function on the `datetime` index to create a `hvplot` bar plot of the data. "
   ]
  },
  {
   "cell_type": "code",
   "execution_count": 25,
   "metadata": {},
   "outputs": [
    {
     "data": {},
     "metadata": {},
     "output_type": "display_data"
    },
    {
     "data": {
      "application/vnd.holoviews_exec.v0+json": "",
      "text/html": [
       "<div id='1257'>\n",
       "\n",
       "\n",
       "\n",
       "\n",
       "\n",
       "  <div class=\"bk-root\" id=\"1fae57b6-2661-4f5c-9d2f-990ea53f091f\" data-root-id=\"1257\"></div>\n",
       "</div>\n",
       "<script type=\"application/javascript\">(function(root) {\n",
       "  function embed_document(root) {\n",
       "    var docs_json = {\"57c15a8c-482b-4746-a917-464badbc04e2\":{\"defs\":[{\"extends\":null,\"module\":null,\"name\":\"ReactiveHTML1\",\"overrides\":[],\"properties\":[]},{\"extends\":null,\"module\":null,\"name\":\"FlexBox1\",\"overrides\":[],\"properties\":[{\"default\":\"flex-start\",\"kind\":null,\"name\":\"align_content\"},{\"default\":\"flex-start\",\"kind\":null,\"name\":\"align_items\"},{\"default\":\"row\",\"kind\":null,\"name\":\"flex_direction\"},{\"default\":\"wrap\",\"kind\":null,\"name\":\"flex_wrap\"},{\"default\":\"flex-start\",\"kind\":null,\"name\":\"justify_content\"}]},{\"extends\":null,\"module\":null,\"name\":\"TemplateActions1\",\"overrides\":[],\"properties\":[{\"default\":0,\"kind\":null,\"name\":\"open_modal\"},{\"default\":0,\"kind\":null,\"name\":\"close_modal\"}]},{\"extends\":null,\"module\":null,\"name\":\"MaterialTemplateActions1\",\"overrides\":[],\"properties\":[{\"default\":0,\"kind\":null,\"name\":\"open_modal\"},{\"default\":0,\"kind\":null,\"name\":\"close_modal\"}]}],\"roots\":{\"references\":[{\"attributes\":{\"bottom\":{\"value\":0},\"fill_alpha\":{\"value\":1.0},\"fill_color\":{\"field\":\"Variable\",\"transform\":{\"id\":\"1291\"}},\"hatch_alpha\":{\"value\":1.0},\"hatch_color\":{\"field\":\"Variable\",\"transform\":{\"id\":\"1291\"}},\"hatch_scale\":{\"value\":12.0},\"hatch_weight\":{\"value\":1.0},\"line_alpha\":{\"value\":1.0},\"line_cap\":{\"value\":\"butt\"},\"line_color\":{\"value\":\"black\"},\"line_dash\":{\"value\":[]},\"line_dash_offset\":{\"value\":0},\"line_join\":{\"value\":\"bevel\"},\"line_width\":{\"value\":1},\"top\":{\"field\":\"value\"},\"width\":{\"value\":0.8},\"x\":{\"field\":\"xoffsets\"}},\"id\":\"1300\",\"type\":\"VBar\"},{\"attributes\":{},\"id\":\"1306\",\"type\":\"AllLabels\"},{\"attributes\":{},\"id\":\"1293\",\"type\":\"Selection\"},{\"attributes\":{},\"id\":\"1278\",\"type\":\"SaveTool\"},{\"attributes\":{},\"id\":\"1279\",\"type\":\"PanTool\"},{\"attributes\":{\"coordinates\":null,\"group\":null,\"text_color\":\"black\",\"text_font_size\":\"12pt\"},\"id\":\"1263\",\"type\":\"Title\"},{\"attributes\":{\"fill_alpha\":{\"value\":0.1},\"fill_color\":{\"field\":\"Variable\",\"transform\":{\"id\":\"1291\"}},\"hatch_alpha\":{\"value\":0.1},\"hatch_color\":{\"field\":\"Variable\",\"transform\":{\"id\":\"1291\"}},\"line_alpha\":{\"value\":0.1},\"top\":{\"field\":\"value\"},\"width\":{\"value\":0.8},\"x\":{\"field\":\"xoffsets\"}},\"id\":\"1296\",\"type\":\"VBar\"},{\"attributes\":{},\"id\":\"1282\",\"type\":\"ResetTool\"},{\"attributes\":{\"fill_color\":{\"field\":\"Variable\",\"transform\":{\"id\":\"1291\"}},\"hatch_color\":{\"field\":\"Variable\",\"transform\":{\"id\":\"1291\"}},\"top\":{\"field\":\"value\"},\"width\":{\"value\":0.8},\"x\":{\"field\":\"xoffsets\"}},\"id\":\"1295\",\"type\":\"VBar\"},{\"attributes\":{},\"id\":\"1280\",\"type\":\"WheelZoomTool\"},{\"attributes\":{\"end\":31969.816031908496,\"reset_end\":31969.816031908496,\"reset_start\":0.0,\"tags\":[[[\"value\",\"value\",null]]]},\"id\":\"1260\",\"type\":\"Range1d\"},{\"attributes\":{\"margin\":[5,5,5,5],\"name\":\"HSpacer02159\",\"sizing_mode\":\"stretch_width\"},\"id\":\"1258\",\"type\":\"Spacer\"},{\"attributes\":{\"below\":[{\"id\":\"1271\"}],\"center\":[{\"id\":\"1273\"},{\"id\":\"1277\"}],\"height\":300,\"left\":[{\"id\":\"1274\"}],\"margin\":[5,5,5,5],\"min_border_bottom\":10,\"min_border_left\":10,\"min_border_right\":10,\"min_border_top\":10,\"renderers\":[{\"id\":\"1298\"}],\"sizing_mode\":\"fixed\",\"title\":{\"id\":\"1263\"},\"toolbar\":{\"id\":\"1284\"},\"width\":700,\"x_range\":{\"id\":\"1259\"},\"x_scale\":{\"id\":\"1267\"},\"y_range\":{\"id\":\"1260\"},\"y_scale\":{\"id\":\"1269\"}},\"id\":\"1262\",\"subtype\":\"Figure\",\"type\":\"Plot\"},{\"attributes\":{\"callback\":null,\"renderers\":[{\"id\":\"1298\"}],\"tags\":[\"hv_created\"],\"tooltips\":[[\"week\",\"@{week}\"],[\"Variable\",\"@{Variable}\"],[\"value\",\"@{value}\"]]},\"id\":\"1261\",\"type\":\"HoverTool\"},{\"attributes\":{\"overlay\":{\"id\":\"1283\"}},\"id\":\"1281\",\"type\":\"BoxZoomTool\"},{\"attributes\":{},\"id\":\"1305\",\"type\":\"BasicTickFormatter\"},{\"attributes\":{},\"id\":\"1302\",\"type\":\"CategoricalTickFormatter\"},{\"attributes\":{\"axis_label\":\"week, Variable\",\"coordinates\":null,\"formatter\":{\"id\":\"1302\"},\"group\":null,\"major_label_policy\":{\"id\":\"1303\"},\"ticker\":{\"id\":\"1272\"}},\"id\":\"1271\",\"type\":\"CategoricalAxis\"},{\"attributes\":{\"fill_alpha\":{\"value\":0.2},\"fill_color\":{\"field\":\"Variable\",\"transform\":{\"id\":\"1291\"}},\"hatch_alpha\":{\"value\":0.2},\"hatch_color\":{\"field\":\"Variable\",\"transform\":{\"id\":\"1291\"}},\"line_alpha\":{\"value\":0.2},\"top\":{\"field\":\"value\"},\"width\":{\"value\":0.8},\"x\":{\"field\":\"xoffsets\"}},\"id\":\"1297\",\"type\":\"VBar\"},{\"attributes\":{\"factors\":[[\"1\",\"close\"],[\"1\",\"volume\"],[\"2\",\"close\"],[\"2\",\"volume\"],[\"3\",\"close\"],[\"3\",\"volume\"],[\"4\",\"close\"],[\"4\",\"volume\"],[\"5\",\"close\"],[\"5\",\"volume\"],[\"6\",\"close\"],[\"6\",\"volume\"],[\"7\",\"close\"],[\"7\",\"volume\"],[\"8\",\"close\"],[\"8\",\"volume\"],[\"9\",\"close\"],[\"9\",\"volume\"],[\"10\",\"close\"],[\"10\",\"volume\"],[\"11\",\"close\"],[\"11\",\"volume\"],[\"12\",\"close\"],[\"12\",\"volume\"],[\"13\",\"close\"],[\"13\",\"volume\"],[\"14\",\"close\"],[\"14\",\"volume\"],[\"15\",\"close\"],[\"15\",\"volume\"],[\"16\",\"close\"],[\"16\",\"volume\"],[\"17\",\"close\"],[\"17\",\"volume\"],[\"18\",\"close\"],[\"18\",\"volume\"],[\"19\",\"close\"],[\"19\",\"volume\"],[\"20\",\"close\"],[\"20\",\"volume\"],[\"21\",\"close\"],[\"21\",\"volume\"],[\"22\",\"close\"],[\"22\",\"volume\"],[\"23\",\"close\"],[\"23\",\"volume\"],[\"24\",\"close\"],[\"24\",\"volume\"],[\"25\",\"close\"],[\"25\",\"volume\"],[\"26\",\"close\"],[\"26\",\"volume\"],[\"27\",\"close\"],[\"27\",\"volume\"],[\"28\",\"close\"],[\"28\",\"volume\"],[\"29\",\"close\"],[\"29\",\"volume\"],[\"30\",\"close\"],[\"30\",\"volume\"],[\"31\",\"close\"],[\"31\",\"volume\"],[\"32\",\"close\"],[\"32\",\"volume\"],[\"33\",\"close\"],[\"33\",\"volume\"],[\"34\",\"close\"],[\"34\",\"volume\"],[\"35\",\"close\"],[\"35\",\"volume\"],[\"36\",\"close\"],[\"36\",\"volume\"],[\"37\",\"close\"],[\"37\",\"volume\"],[\"38\",\"close\"],[\"38\",\"volume\"],[\"39\",\"close\"],[\"39\",\"volume\"],[\"40\",\"close\"],[\"40\",\"volume\"],[\"41\",\"close\"],[\"41\",\"volume\"],[\"42\",\"close\"],[\"42\",\"volume\"],[\"43\",\"close\"],[\"43\",\"volume\"],[\"44\",\"close\"],[\"44\",\"volume\"],[\"45\",\"close\"],[\"45\",\"volume\"],[\"46\",\"close\"],[\"46\",\"volume\"],[\"47\",\"close\"],[\"47\",\"volume\"],[\"48\",\"close\"],[\"48\",\"volume\"],[\"49\",\"close\"],[\"49\",\"volume\"],[\"50\",\"close\"],[\"50\",\"volume\"],[\"51\",\"close\"],[\"51\",\"volume\"],[\"52\",\"close\"],[\"52\",\"volume\"],[\"53\",\"close\"],[\"53\",\"volume\"]],\"tags\":[[[\"week\",\"week\",null],[\"Variable\",\"Variable\",null]]]},\"id\":\"1259\",\"type\":\"FactorRange\"},{\"attributes\":{\"axis\":{\"id\":\"1271\"},\"coordinates\":null,\"grid_line_color\":null,\"group\":null,\"ticker\":null},\"id\":\"1273\",\"type\":\"Grid\"},{\"attributes\":{\"tools\":[{\"id\":\"1261\"},{\"id\":\"1278\"},{\"id\":\"1279\"},{\"id\":\"1280\"},{\"id\":\"1281\"},{\"id\":\"1282\"}]},\"id\":\"1284\",\"type\":\"Toolbar\"},{\"attributes\":{},\"id\":\"1269\",\"type\":\"LinearScale\"},{\"attributes\":{\"coordinates\":null,\"data_source\":{\"id\":\"1292\"},\"glyph\":{\"id\":\"1295\"},\"group\":null,\"hover_glyph\":null,\"muted_glyph\":{\"id\":\"1297\"},\"nonselection_glyph\":{\"id\":\"1296\"},\"selection_glyph\":{\"id\":\"1300\"},\"view\":{\"id\":\"1299\"}},\"id\":\"1298\",\"type\":\"GlyphRenderer\"},{\"attributes\":{},\"id\":\"1275\",\"type\":\"BasicTicker\"},{\"attributes\":{\"bottom_units\":\"screen\",\"coordinates\":null,\"fill_alpha\":0.5,\"fill_color\":\"lightgrey\",\"group\":null,\"left_units\":\"screen\",\"level\":\"overlay\",\"line_alpha\":1.0,\"line_color\":\"black\",\"line_dash\":[4,4],\"line_width\":2,\"right_units\":\"screen\",\"syncable\":false,\"top_units\":\"screen\"},\"id\":\"1283\",\"type\":\"BoxAnnotation\"},{\"attributes\":{},\"id\":\"1272\",\"type\":\"CategoricalTicker\"},{\"attributes\":{\"axis_label\":\"\",\"coordinates\":null,\"formatter\":{\"id\":\"1305\"},\"group\":null,\"major_label_policy\":{\"id\":\"1306\"},\"ticker\":{\"id\":\"1275\"}},\"id\":\"1274\",\"type\":\"LinearAxis\"},{\"attributes\":{\"source\":{\"id\":\"1292\"}},\"id\":\"1299\",\"type\":\"CDSView\"},{\"attributes\":{\"axis\":{\"id\":\"1274\"},\"coordinates\":null,\"dimension\":1,\"grid_line_color\":null,\"group\":null,\"ticker\":null},\"id\":\"1277\",\"type\":\"Grid\"},{\"attributes\":{\"children\":[{\"id\":\"1258\"},{\"id\":\"1262\"},{\"id\":\"1327\"}],\"margin\":[0,0,0,0],\"name\":\"Row02155\",\"tags\":[\"embedded\"]},\"id\":\"1257\",\"type\":\"Row\"},{\"attributes\":{\"data\":{\"Variable\":[\"close\",\"close\",\"close\",\"close\",\"close\",\"close\",\"close\",\"close\",\"close\",\"close\",\"close\",\"close\",\"close\",\"close\",\"close\",\"close\",\"close\",\"close\",\"close\",\"close\",\"close\",\"close\",\"close\",\"close\",\"close\",\"close\",\"close\",\"close\",\"close\",\"close\",\"close\",\"close\",\"close\",\"close\",\"close\",\"close\",\"close\",\"close\",\"close\",\"close\",\"close\",\"close\",\"close\",\"close\",\"close\",\"close\",\"close\",\"close\",\"close\",\"close\",\"close\",\"close\",\"close\",\"volume\",\"volume\",\"volume\",\"volume\",\"volume\",\"volume\",\"volume\",\"volume\",\"volume\",\"volume\",\"volume\",\"volume\",\"volume\",\"volume\",\"volume\",\"volume\",\"volume\",\"volume\",\"volume\",\"volume\",\"volume\",\"volume\",\"volume\",\"volume\",\"volume\",\"volume\",\"volume\",\"volume\",\"volume\",\"volume\",\"volume\",\"volume\",\"volume\",\"volume\",\"volume\",\"volume\",\"volume\",\"volume\",\"volume\",\"volume\",\"volume\",\"volume\",\"volume\",\"volume\",\"volume\",\"volume\",\"volume\",\"volume\",\"volume\",\"volume\",\"volume\",\"volume\",\"volume\"],\"value\":{\"__ndarray__\":\"K9xz6OCuzkDy5IFfMzvOQENYt6jrTMxAzMzMzA10y0BdQGwqlP3MQBUBILsJLMpAF/B6G/29vkAAxRyZTl6/QLESK7HStL5Ae6u3euODvUBqX8MCAb+4QJdyKZda6rdATF1uf7BWt0DlrlSxq+m3QE5J+xr+m7lA+98yYT62ukAeuPVTUl28QDSMmIsLfr5Afhrb5Fjdv0D7sR/73XLAQPJQQlgzUMBA8axoJJx3wEAes/63AF3AQJaTbPwJyr9APZQQ1tWiwED6VfMKYt7BQEKi6Iz8X8FAfnYBsWHSwUAhCIIg1F7BQFLF7oVg4cFAURRFUby+wkB8inQVhF7DQPTaICRCMcBA+zj9ZjW9vkDP8zzPHQ/AQD0d5fET579A0Bt0AzXhvUBIHF57YYq+QEwvWxmwJr1AwAmcwFkQvUCdNtBphyu+QCeO1YCjKr9AADMag/oqwEBDzn12ZIfBQLmUS7kYFcJAUy7lUs1ZwkBVGnLuxb/CQJA4vPYvYsNAwn9ijp5VxUAOr72n15fGQDhGMNFBdMdAgGfutgsayEAjxNtVp3jcQBly1cXpnKBA4Sdp6BahpECrOv/LmbqiQOBM+BDjaZ9ARaxW/NkJn0AkbbE1IWyiQFgcMba1Z5xA4l2ZoOKKn0ABUCLLWNSYQBSxDyIXCZtADJm7enDbqkC3fkmM2SWpQLilpyD9fKNA62WfeIhupEDsI2R9kuegQKF05XIV/ptAXDaru6nYn0CSRs8bahyiQAe/gSbRbaRAEeClcgS7pUBv7Ff980WgQIOiKkQJ0ZxAlDHFjKronEBOruhU/yyaQIoojONNBJ1ApnEWltuyo0DfFBXvcy6eQIuJYglRoJ5AdreuV6Tmn0Bz0Cpm5Q2cQI3qQWYrSKJAB34cv3gvoUDTD7trdF+aQLS/df9qZJRAkKI5G7khlEC7hTuze56bQNAOhDkWopJAsufDiSvokkD2F9K3evSVQN1ZzrjNVI9AgQqyztdMkUDopWzixeCQQEUjxh0ilpdAt7oH0ex3lUApI5m+LYSYQJi9AX1mY5dAHfvXta74okDF3XQgre6jQOzE0i0tXZ9A0U6f9cThlkDiRSJz0cWiQAv6ftjpc6BAk2LI8DQDrUA=\",\"dtype\":\"float64\",\"order\":\"little\",\"shape\":[106]},\"week\":[\"1\",\"2\",\"3\",\"4\",\"5\",\"6\",\"7\",\"8\",\"9\",\"10\",\"11\",\"12\",\"13\",\"14\",\"15\",\"16\",\"17\",\"18\",\"19\",\"20\",\"21\",\"22\",\"23\",\"24\",\"25\",\"26\",\"27\",\"28\",\"29\",\"30\",\"31\",\"32\",\"33\",\"34\",\"35\",\"36\",\"37\",\"38\",\"39\",\"40\",\"41\",\"42\",\"43\",\"44\",\"45\",\"46\",\"47\",\"48\",\"49\",\"50\",\"51\",\"52\",\"53\",\"1\",\"2\",\"3\",\"4\",\"5\",\"6\",\"7\",\"8\",\"9\",\"10\",\"11\",\"12\",\"13\",\"14\",\"15\",\"16\",\"17\",\"18\",\"19\",\"20\",\"21\",\"22\",\"23\",\"24\",\"25\",\"26\",\"27\",\"28\",\"29\",\"30\",\"31\",\"32\",\"33\",\"34\",\"35\",\"36\",\"37\",\"38\",\"39\",\"40\",\"41\",\"42\",\"43\",\"44\",\"45\",\"46\",\"47\",\"48\",\"49\",\"50\",\"51\",\"52\",\"53\"],\"xoffsets\":[[\"1\",\"close\"],[\"2\",\"close\"],[\"3\",\"close\"],[\"4\",\"close\"],[\"5\",\"close\"],[\"6\",\"close\"],[\"7\",\"close\"],[\"8\",\"close\"],[\"9\",\"close\"],[\"10\",\"close\"],[\"11\",\"close\"],[\"12\",\"close\"],[\"13\",\"close\"],[\"14\",\"close\"],[\"15\",\"close\"],[\"16\",\"close\"],[\"17\",\"close\"],[\"18\",\"close\"],[\"19\",\"close\"],[\"20\",\"close\"],[\"21\",\"close\"],[\"22\",\"close\"],[\"23\",\"close\"],[\"24\",\"close\"],[\"25\",\"close\"],[\"26\",\"close\"],[\"27\",\"close\"],[\"28\",\"close\"],[\"29\",\"close\"],[\"30\",\"close\"],[\"31\",\"close\"],[\"32\",\"close\"],[\"33\",\"close\"],[\"34\",\"close\"],[\"35\",\"close\"],[\"36\",\"close\"],[\"37\",\"close\"],[\"38\",\"close\"],[\"39\",\"close\"],[\"40\",\"close\"],[\"41\",\"close\"],[\"42\",\"close\"],[\"43\",\"close\"],[\"44\",\"close\"],[\"45\",\"close\"],[\"46\",\"close\"],[\"47\",\"close\"],[\"48\",\"close\"],[\"49\",\"close\"],[\"50\",\"close\"],[\"51\",\"close\"],[\"52\",\"close\"],[\"53\",\"close\"],[\"1\",\"volume\"],[\"2\",\"volume\"],[\"3\",\"volume\"],[\"4\",\"volume\"],[\"5\",\"volume\"],[\"6\",\"volume\"],[\"7\",\"volume\"],[\"8\",\"volume\"],[\"9\",\"volume\"],[\"10\",\"volume\"],[\"11\",\"volume\"],[\"12\",\"volume\"],[\"13\",\"volume\"],[\"14\",\"volume\"],[\"15\",\"volume\"],[\"16\",\"volume\"],[\"17\",\"volume\"],[\"18\",\"volume\"],[\"19\",\"volume\"],[\"20\",\"volume\"],[\"21\",\"volume\"],[\"22\",\"volume\"],[\"23\",\"volume\"],[\"24\",\"volume\"],[\"25\",\"volume\"],[\"26\",\"volume\"],[\"27\",\"volume\"],[\"28\",\"volume\"],[\"29\",\"volume\"],[\"30\",\"volume\"],[\"31\",\"volume\"],[\"32\",\"volume\"],[\"33\",\"volume\"],[\"34\",\"volume\"],[\"35\",\"volume\"],[\"36\",\"volume\"],[\"37\",\"volume\"],[\"38\",\"volume\"],[\"39\",\"volume\"],[\"40\",\"volume\"],[\"41\",\"volume\"],[\"42\",\"volume\"],[\"43\",\"volume\"],[\"44\",\"volume\"],[\"45\",\"volume\"],[\"46\",\"volume\"],[\"47\",\"volume\"],[\"48\",\"volume\"],[\"49\",\"volume\"],[\"50\",\"volume\"],[\"51\",\"volume\"],[\"52\",\"volume\"],[\"53\",\"volume\"]]},\"selected\":{\"id\":\"1293\"},\"selection_policy\":{\"id\":\"1314\"}},\"id\":\"1292\",\"type\":\"ColumnDataSource\"},{\"attributes\":{},\"id\":\"1314\",\"type\":\"UnionRenderers\"},{\"attributes\":{},\"id\":\"1267\",\"type\":\"CategoricalScale\"},{\"attributes\":{\"factors\":[\"close\",\"volume\"],\"palette\":[\"#30a2da\",\"#fc4f30\"]},\"id\":\"1291\",\"type\":\"CategoricalColorMapper\"},{\"attributes\":{\"margin\":[5,5,5,5],\"name\":\"HSpacer02160\",\"sizing_mode\":\"stretch_width\"},\"id\":\"1327\",\"type\":\"Spacer\"},{\"attributes\":{},\"id\":\"1303\",\"type\":\"AllLabels\"}],\"root_ids\":[\"1257\"]},\"title\":\"Bokeh Application\",\"version\":\"2.4.2\"}};\n",
       "    var render_items = [{\"docid\":\"57c15a8c-482b-4746-a917-464badbc04e2\",\"root_ids\":[\"1257\"],\"roots\":{\"1257\":\"1fae57b6-2661-4f5c-9d2f-990ea53f091f\"}}];\n",
       "    root.Bokeh.embed.embed_items_notebook(docs_json, render_items);\n",
       "  }\n",
       "  if (root.Bokeh !== undefined && root.Bokeh.Panel !== undefined) {\n",
       "    embed_document(root);\n",
       "  } else {\n",
       "    var attempts = 0;\n",
       "    var timer = setInterval(function(root) {\n",
       "      if (root.Bokeh !== undefined && root.Bokeh.Panel !== undefined) {\n",
       "        clearInterval(timer);\n",
       "        embed_document(root);\n",
       "      } else if (document.readyState == \"complete\") {\n",
       "        attempts++;\n",
       "        if (attempts > 200) {\n",
       "          clearInterval(timer);\n",
       "          console.log(\"Bokeh: ERROR: Unable to run BokehJS code because BokehJS library is missing\");\n",
       "        }\n",
       "      }\n",
       "    }, 25, root)\n",
       "  }\n",
       "})(window);</script>"
      ],
      "text/plain": [
       ":Bars   [week,Variable]   (value)"
      ]
     },
     "execution_count": 25,
     "metadata": {
      "application/vnd.holoviews_exec.v0+json": {
       "id": "1257"
      }
     },
     "output_type": "execute_result"
    }
   ],
   "source": [
    "# Use groupby and the weekofyear function on the datetime index to create a hvplot bar plot of the data\n",
    "# YOUR CODE HERE!\n",
    "#df.groupby(df.index.isocalendar().weekofyear).hvplot(kind=\"bar\")\n",
    "#df.groupby.weekofyear().hvplot()\n",
    "#df.groupby.DatetimeIndex.isocalendar().week\n",
    "df.groupby(df.index.isocalendar().week).mean().hvplot(kind=\"bar\")"
   ]
  },
  {
   "cell_type": "markdown",
   "metadata": {},
   "source": [
    "## 5. Group the the `datetime` index hour and plot average prices and volume by hour, for each of the 24 hours in a day."
   ]
  },
  {
   "cell_type": "code",
   "execution_count": 27,
   "metadata": {},
   "outputs": [
    {
     "data": {},
     "metadata": {},
     "output_type": "display_data"
    },
    {
     "data": {
      "application/vnd.holoviews_exec.v0+json": "",
      "text/html": [
       "<div id='1379'>\n",
       "\n",
       "\n",
       "\n",
       "\n",
       "\n",
       "  <div class=\"bk-root\" id=\"0442d958-53a7-4a15-b842-77ba7fc1e895\" data-root-id=\"1379\"></div>\n",
       "</div>\n",
       "<script type=\"application/javascript\">(function(root) {\n",
       "  function embed_document(root) {\n",
       "    var docs_json = {\"70cce0b5-9add-4d56-a529-639276426013\":{\"defs\":[{\"extends\":null,\"module\":null,\"name\":\"ReactiveHTML1\",\"overrides\":[],\"properties\":[]},{\"extends\":null,\"module\":null,\"name\":\"FlexBox1\",\"overrides\":[],\"properties\":[{\"default\":\"flex-start\",\"kind\":null,\"name\":\"align_content\"},{\"default\":\"flex-start\",\"kind\":null,\"name\":\"align_items\"},{\"default\":\"row\",\"kind\":null,\"name\":\"flex_direction\"},{\"default\":\"wrap\",\"kind\":null,\"name\":\"flex_wrap\"},{\"default\":\"flex-start\",\"kind\":null,\"name\":\"justify_content\"}]},{\"extends\":null,\"module\":null,\"name\":\"TemplateActions1\",\"overrides\":[],\"properties\":[{\"default\":0,\"kind\":null,\"name\":\"open_modal\"},{\"default\":0,\"kind\":null,\"name\":\"close_modal\"}]},{\"extends\":null,\"module\":null,\"name\":\"MaterialTemplateActions1\",\"overrides\":[],\"properties\":[{\"default\":0,\"kind\":null,\"name\":\"open_modal\"},{\"default\":0,\"kind\":null,\"name\":\"close_modal\"}]}],\"roots\":{\"references\":[{\"attributes\":{\"tools\":[{\"id\":\"1383\"},{\"id\":\"1400\"},{\"id\":\"1401\"},{\"id\":\"1402\"},{\"id\":\"1403\"},{\"id\":\"1404\"}]},\"id\":\"1406\",\"type\":\"Toolbar\"},{\"attributes\":{},\"id\":\"1424\",\"type\":\"CategoricalTickFormatter\"},{\"attributes\":{\"data\":{\"Variable\":[\"close\",\"close\",\"close\",\"close\",\"close\",\"close\",\"close\",\"close\",\"close\",\"close\",\"close\",\"close\",\"close\",\"close\",\"close\",\"close\",\"close\",\"close\",\"close\",\"close\",\"close\",\"close\",\"close\",\"close\",\"volume\",\"volume\",\"volume\",\"volume\",\"volume\",\"volume\",\"volume\",\"volume\",\"volume\",\"volume\",\"volume\",\"volume\",\"volume\",\"volume\",\"volume\",\"volume\",\"volume\",\"volume\",\"volume\",\"volume\",\"volume\",\"volume\",\"volume\",\"volume\"],\"date\":[\"0\",\"1\",\"2\",\"3\",\"4\",\"5\",\"6\",\"7\",\"8\",\"9\",\"10\",\"11\",\"12\",\"13\",\"14\",\"15\",\"16\",\"17\",\"18\",\"19\",\"20\",\"21\",\"22\",\"23\",\"0\",\"1\",\"2\",\"3\",\"4\",\"5\",\"6\",\"7\",\"8\",\"9\",\"10\",\"11\",\"12\",\"13\",\"14\",\"15\",\"16\",\"17\",\"18\",\"19\",\"20\",\"21\",\"22\",\"23\"],\"value\":{\"__ndarray__\":\"1TbLX6dywkCpWkN75HPCQDSf6PzrcMJAMoZFLeR0wkBDL/RCv2XCQIBF/SI6cMJAZQ4pAJxkwkBaV4OkWmrCQLKd72claMJA7Ni9tE5dwkB0G7ANh1rCQNIpmDUPXcJApsphra9owkBCiDyVX2LCQMHuULKpX8JA8TbUicFcwkD6V4Wtgl/CQAMTapCgYcJA+EQ+YMdmwkC4XxVeHGzCQIbLbEYGbcJAiuUdBMVwwkD9JPV9S3XCQFOxRFQ9c8JAy1EfqS3wn0B5O6M2tZeaQIeHRvM5SZlAwlHbkivAmEBnKnVToMKYQA/VfDfMxJhAnV/bw9wXmkDOARvy1XObQJACn4rqDp9AV99HuarDnkDaxHDHIL+gQBbFG4kdbKBABRhR/HJeokAWY5Yj69OiQCjM2UKDVqNA0szPlhwoo0BT5sdJxLmkQNuqkOTJfqBAaML7MiZnnEDQ7xpry/aaQDvf+fMX5ZxA4YJthnFBmUATZRX4+RKZQNrSckWQvZtA\",\"dtype\":\"float64\",\"order\":\"little\",\"shape\":[48]},\"xoffsets\":[[\"0\",\"close\"],[\"1\",\"close\"],[\"2\",\"close\"],[\"3\",\"close\"],[\"4\",\"close\"],[\"5\",\"close\"],[\"6\",\"close\"],[\"7\",\"close\"],[\"8\",\"close\"],[\"9\",\"close\"],[\"10\",\"close\"],[\"11\",\"close\"],[\"12\",\"close\"],[\"13\",\"close\"],[\"14\",\"close\"],[\"15\",\"close\"],[\"16\",\"close\"],[\"17\",\"close\"],[\"18\",\"close\"],[\"19\",\"close\"],[\"20\",\"close\"],[\"21\",\"close\"],[\"22\",\"close\"],[\"23\",\"close\"],[\"0\",\"volume\"],[\"1\",\"volume\"],[\"2\",\"volume\"],[\"3\",\"volume\"],[\"4\",\"volume\"],[\"5\",\"volume\"],[\"6\",\"volume\"],[\"7\",\"volume\"],[\"8\",\"volume\"],[\"9\",\"volume\"],[\"10\",\"volume\"],[\"11\",\"volume\"],[\"12\",\"volume\"],[\"13\",\"volume\"],[\"14\",\"volume\"],[\"15\",\"volume\"],[\"16\",\"volume\"],[\"17\",\"volume\"],[\"18\",\"volume\"],[\"19\",\"volume\"],[\"20\",\"volume\"],[\"21\",\"volume\"],[\"22\",\"volume\"],[\"23\",\"volume\"]]},\"selected\":{\"id\":\"1415\"},\"selection_policy\":{\"id\":\"1436\"}},\"id\":\"1414\",\"type\":\"ColumnDataSource\"},{\"attributes\":{\"coordinates\":null,\"group\":null,\"text_color\":\"black\",\"text_font_size\":\"12pt\"},\"id\":\"1385\",\"type\":\"Title\"},{\"attributes\":{\"fill_color\":{\"field\":\"Variable\",\"transform\":{\"id\":\"1413\"}},\"hatch_color\":{\"field\":\"Variable\",\"transform\":{\"id\":\"1413\"}},\"top\":{\"field\":\"value\"},\"width\":{\"value\":0.8},\"x\":{\"field\":\"xoffsets\"}},\"id\":\"1417\",\"type\":\"VBar\"},{\"attributes\":{\"end\":10237.244504322702,\"reset_end\":10237.244504322702,\"reset_start\":0.0,\"tags\":[[[\"value\",\"value\",null]]]},\"id\":\"1382\",\"type\":\"Range1d\"},{\"attributes\":{\"axis\":{\"id\":\"1396\"},\"coordinates\":null,\"dimension\":1,\"grid_line_color\":null,\"group\":null,\"ticker\":null},\"id\":\"1399\",\"type\":\"Grid\"},{\"attributes\":{\"bottom_units\":\"screen\",\"coordinates\":null,\"fill_alpha\":0.5,\"fill_color\":\"lightgrey\",\"group\":null,\"left_units\":\"screen\",\"level\":\"overlay\",\"line_alpha\":1.0,\"line_color\":\"black\",\"line_dash\":[4,4],\"line_width\":2,\"right_units\":\"screen\",\"syncable\":false,\"top_units\":\"screen\"},\"id\":\"1405\",\"type\":\"BoxAnnotation\"},{\"attributes\":{\"callback\":null,\"renderers\":[{\"id\":\"1420\"}],\"tags\":[\"hv_created\"],\"tooltips\":[[\"date\",\"@{date}\"],[\"Variable\",\"@{Variable}\"],[\"value\",\"@{value}\"]]},\"id\":\"1383\",\"type\":\"HoverTool\"},{\"attributes\":{\"children\":[{\"id\":\"1380\"},{\"id\":\"1384\"},{\"id\":\"1449\"}],\"margin\":[0,0,0,0],\"name\":\"Row02590\",\"tags\":[\"embedded\"]},\"id\":\"1379\",\"type\":\"Row\"},{\"attributes\":{},\"id\":\"1425\",\"type\":\"AllLabels\"},{\"attributes\":{\"margin\":[5,5,5,5],\"name\":\"HSpacer02594\",\"sizing_mode\":\"stretch_width\"},\"id\":\"1380\",\"type\":\"Spacer\"},{\"attributes\":{\"coordinates\":null,\"data_source\":{\"id\":\"1414\"},\"glyph\":{\"id\":\"1417\"},\"group\":null,\"hover_glyph\":null,\"muted_glyph\":{\"id\":\"1419\"},\"nonselection_glyph\":{\"id\":\"1418\"},\"selection_glyph\":{\"id\":\"1422\"},\"view\":{\"id\":\"1421\"}},\"id\":\"1420\",\"type\":\"GlyphRenderer\"},{\"attributes\":{},\"id\":\"1436\",\"type\":\"UnionRenderers\"},{\"attributes\":{\"fill_alpha\":{\"value\":0.2},\"fill_color\":{\"field\":\"Variable\",\"transform\":{\"id\":\"1413\"}},\"hatch_alpha\":{\"value\":0.2},\"hatch_color\":{\"field\":\"Variable\",\"transform\":{\"id\":\"1413\"}},\"line_alpha\":{\"value\":0.2},\"top\":{\"field\":\"value\"},\"width\":{\"value\":0.8},\"x\":{\"field\":\"xoffsets\"}},\"id\":\"1419\",\"type\":\"VBar\"},{\"attributes\":{},\"id\":\"1389\",\"type\":\"CategoricalScale\"},{\"attributes\":{\"fill_alpha\":{\"value\":0.1},\"fill_color\":{\"field\":\"Variable\",\"transform\":{\"id\":\"1413\"}},\"hatch_alpha\":{\"value\":0.1},\"hatch_color\":{\"field\":\"Variable\",\"transform\":{\"id\":\"1413\"}},\"line_alpha\":{\"value\":0.1},\"top\":{\"field\":\"value\"},\"width\":{\"value\":0.8},\"x\":{\"field\":\"xoffsets\"}},\"id\":\"1418\",\"type\":\"VBar\"},{\"attributes\":{\"factors\":[\"close\",\"volume\"],\"palette\":[\"#30a2da\",\"#fc4f30\"]},\"id\":\"1413\",\"type\":\"CategoricalColorMapper\"},{\"attributes\":{\"axis_label\":\"date, Variable\",\"coordinates\":null,\"formatter\":{\"id\":\"1424\"},\"group\":null,\"major_label_policy\":{\"id\":\"1425\"},\"ticker\":{\"id\":\"1394\"}},\"id\":\"1393\",\"type\":\"CategoricalAxis\"},{\"attributes\":{\"source\":{\"id\":\"1414\"}},\"id\":\"1421\",\"type\":\"CDSView\"},{\"attributes\":{\"axis\":{\"id\":\"1393\"},\"coordinates\":null,\"grid_line_color\":null,\"group\":null,\"ticker\":null},\"id\":\"1395\",\"type\":\"Grid\"},{\"attributes\":{\"factors\":[[\"0\",\"close\"],[\"0\",\"volume\"],[\"1\",\"close\"],[\"1\",\"volume\"],[\"2\",\"close\"],[\"2\",\"volume\"],[\"3\",\"close\"],[\"3\",\"volume\"],[\"4\",\"close\"],[\"4\",\"volume\"],[\"5\",\"close\"],[\"5\",\"volume\"],[\"6\",\"close\"],[\"6\",\"volume\"],[\"7\",\"close\"],[\"7\",\"volume\"],[\"8\",\"close\"],[\"8\",\"volume\"],[\"9\",\"close\"],[\"9\",\"volume\"],[\"10\",\"close\"],[\"10\",\"volume\"],[\"11\",\"close\"],[\"11\",\"volume\"],[\"12\",\"close\"],[\"12\",\"volume\"],[\"13\",\"close\"],[\"13\",\"volume\"],[\"14\",\"close\"],[\"14\",\"volume\"],[\"15\",\"close\"],[\"15\",\"volume\"],[\"16\",\"close\"],[\"16\",\"volume\"],[\"17\",\"close\"],[\"17\",\"volume\"],[\"18\",\"close\"],[\"18\",\"volume\"],[\"19\",\"close\"],[\"19\",\"volume\"],[\"20\",\"close\"],[\"20\",\"volume\"],[\"21\",\"close\"],[\"21\",\"volume\"],[\"22\",\"close\"],[\"22\",\"volume\"],[\"23\",\"close\"],[\"23\",\"volume\"]],\"tags\":[[[\"date\",\"date\",null],[\"Variable\",\"Variable\",null]]]},\"id\":\"1381\",\"type\":\"FactorRange\"},{\"attributes\":{\"bottom\":{\"value\":0},\"fill_alpha\":{\"value\":1.0},\"fill_color\":{\"field\":\"Variable\",\"transform\":{\"id\":\"1413\"}},\"hatch_alpha\":{\"value\":1.0},\"hatch_color\":{\"field\":\"Variable\",\"transform\":{\"id\":\"1413\"}},\"hatch_scale\":{\"value\":12.0},\"hatch_weight\":{\"value\":1.0},\"line_alpha\":{\"value\":1.0},\"line_cap\":{\"value\":\"butt\"},\"line_color\":{\"value\":\"black\"},\"line_dash\":{\"value\":[]},\"line_dash_offset\":{\"value\":0},\"line_join\":{\"value\":\"bevel\"},\"line_width\":{\"value\":1},\"top\":{\"field\":\"value\"},\"width\":{\"value\":0.8},\"x\":{\"field\":\"xoffsets\"}},\"id\":\"1422\",\"type\":\"VBar\"},{\"attributes\":{},\"id\":\"1400\",\"type\":\"SaveTool\"},{\"attributes\":{},\"id\":\"1428\",\"type\":\"AllLabels\"},{\"attributes\":{},\"id\":\"1391\",\"type\":\"LinearScale\"},{\"attributes\":{},\"id\":\"1401\",\"type\":\"PanTool\"},{\"attributes\":{},\"id\":\"1404\",\"type\":\"ResetTool\"},{\"attributes\":{},\"id\":\"1427\",\"type\":\"BasicTickFormatter\"},{\"attributes\":{},\"id\":\"1402\",\"type\":\"WheelZoomTool\"},{\"attributes\":{\"margin\":[5,5,5,5],\"name\":\"HSpacer02595\",\"sizing_mode\":\"stretch_width\"},\"id\":\"1449\",\"type\":\"Spacer\"},{\"attributes\":{},\"id\":\"1394\",\"type\":\"CategoricalTicker\"},{\"attributes\":{\"overlay\":{\"id\":\"1405\"}},\"id\":\"1403\",\"type\":\"BoxZoomTool\"},{\"attributes\":{\"axis_label\":\"\",\"coordinates\":null,\"formatter\":{\"id\":\"1427\"},\"group\":null,\"major_label_policy\":{\"id\":\"1428\"},\"ticker\":{\"id\":\"1397\"}},\"id\":\"1396\",\"type\":\"LinearAxis\"},{\"attributes\":{\"below\":[{\"id\":\"1393\"}],\"center\":[{\"id\":\"1395\"},{\"id\":\"1399\"}],\"height\":300,\"left\":[{\"id\":\"1396\"}],\"margin\":[5,5,5,5],\"min_border_bottom\":10,\"min_border_left\":10,\"min_border_right\":10,\"min_border_top\":10,\"renderers\":[{\"id\":\"1420\"}],\"sizing_mode\":\"fixed\",\"title\":{\"id\":\"1385\"},\"toolbar\":{\"id\":\"1406\"},\"width\":700,\"x_range\":{\"id\":\"1381\"},\"x_scale\":{\"id\":\"1389\"},\"y_range\":{\"id\":\"1382\"},\"y_scale\":{\"id\":\"1391\"}},\"id\":\"1384\",\"subtype\":\"Figure\",\"type\":\"Plot\"},{\"attributes\":{},\"id\":\"1415\",\"type\":\"Selection\"},{\"attributes\":{},\"id\":\"1397\",\"type\":\"BasicTicker\"}],\"root_ids\":[\"1379\"]},\"title\":\"Bokeh Application\",\"version\":\"2.4.2\"}};\n",
       "    var render_items = [{\"docid\":\"70cce0b5-9add-4d56-a529-639276426013\",\"root_ids\":[\"1379\"],\"roots\":{\"1379\":\"0442d958-53a7-4a15-b842-77ba7fc1e895\"}}];\n",
       "    root.Bokeh.embed.embed_items_notebook(docs_json, render_items);\n",
       "  }\n",
       "  if (root.Bokeh !== undefined && root.Bokeh.Panel !== undefined) {\n",
       "    embed_document(root);\n",
       "  } else {\n",
       "    var attempts = 0;\n",
       "    var timer = setInterval(function(root) {\n",
       "      if (root.Bokeh !== undefined && root.Bokeh.Panel !== undefined) {\n",
       "        clearInterval(timer);\n",
       "        embed_document(root);\n",
       "      } else if (document.readyState == \"complete\") {\n",
       "        attempts++;\n",
       "        if (attempts > 200) {\n",
       "          clearInterval(timer);\n",
       "          console.log(\"Bokeh: ERROR: Unable to run BokehJS code because BokehJS library is missing\");\n",
       "        }\n",
       "      }\n",
       "    }, 25, root)\n",
       "  }\n",
       "})(window);</script>"
      ],
      "text/plain": [
       ":Bars   [date,Variable]   (value)"
      ]
     },
     "execution_count": 27,
     "metadata": {
      "application/vnd.holoviews_exec.v0+json": {
       "id": "1379"
      }
     },
     "output_type": "execute_result"
    }
   ],
   "source": [
    "# Plot hourly trends in prices and volume for the cryptocurrency\n",
    "# YOUR CODE HERE!\n",
    "df.groupby(df.index.hour).mean().hvplot(kind=\"bar\")"
   ]
  },
  {
   "cell_type": "markdown",
   "metadata": {},
   "source": [
    "## 6. Sentiment Analysis\n",
    "Elon Musk is known for many things, just one of them being the occasional irreverent post on his twitter feed. Below, use hvPlot and DateTime slicing to take a look at a couple days in which Musk posted commentary on Bitcoin. \n",
    "\n",
    "* Using datetime indexing, slice the volume and price DataFrame to one day before and after Jan 29, 2021, when Elon Musk added the hashtag #bitcoin to his Twitter bio.\n",
    "\n",
    "* Did Musk's posts appear to move the market for the cryptocurrency? If so, did it move prices, or just volume?"
   ]
  },
  {
   "cell_type": "code",
   "execution_count": 30,
   "metadata": {},
   "outputs": [
    {
     "data": {},
     "metadata": {},
     "output_type": "display_data"
    },
    {
     "data": {
      "application/vnd.holoviews_exec.v0+json": "",
      "text/html": [
       "<div id='1501'>\n",
       "\n",
       "\n",
       "\n",
       "\n",
       "\n",
       "  <div class=\"bk-root\" id=\"a8dd288b-7941-44d4-bf61-3eb808f7c359\" data-root-id=\"1501\"></div>\n",
       "</div>\n",
       "<script type=\"application/javascript\">(function(root) {\n",
       "  function embed_document(root) {\n",
       "    var docs_json = {\"da2c1d02-e73b-4ee6-a525-5693e8476bc3\":{\"defs\":[{\"extends\":null,\"module\":null,\"name\":\"ReactiveHTML1\",\"overrides\":[],\"properties\":[]},{\"extends\":null,\"module\":null,\"name\":\"FlexBox1\",\"overrides\":[],\"properties\":[{\"default\":\"flex-start\",\"kind\":null,\"name\":\"align_content\"},{\"default\":\"flex-start\",\"kind\":null,\"name\":\"align_items\"},{\"default\":\"row\",\"kind\":null,\"name\":\"flex_direction\"},{\"default\":\"wrap\",\"kind\":null,\"name\":\"flex_wrap\"},{\"default\":\"flex-start\",\"kind\":null,\"name\":\"justify_content\"}]},{\"extends\":null,\"module\":null,\"name\":\"TemplateActions1\",\"overrides\":[],\"properties\":[{\"default\":0,\"kind\":null,\"name\":\"open_modal\"},{\"default\":0,\"kind\":null,\"name\":\"close_modal\"}]},{\"extends\":null,\"module\":null,\"name\":\"MaterialTemplateActions1\",\"overrides\":[],\"properties\":[{\"default\":0,\"kind\":null,\"name\":\"open_modal\"},{\"default\":0,\"kind\":null,\"name\":\"close_modal\"}]}],\"roots\":{\"references\":[{\"attributes\":{\"coordinates\":null,\"group\":null,\"text_color\":\"black\",\"text_font_size\":\"12pt\"},\"id\":\"1508\",\"type\":\"Title\"},{\"attributes\":{\"tools\":[{\"id\":\"1505\"},{\"id\":\"1524\"},{\"id\":\"1525\"},{\"id\":\"1526\"},{\"id\":\"1527\"},{\"id\":\"1528\"}]},\"id\":\"1530\",\"type\":\"Toolbar\"},{\"attributes\":{},\"id\":\"1538\",\"type\":\"DatetimeTickFormatter\"},{\"attributes\":{\"children\":[{\"id\":\"1502\"},{\"id\":\"1507\"},{\"id\":\"1826\"}],\"margin\":[0,0,0,0],\"name\":\"Row02915\",\"tags\":[\"embedded\"]},\"id\":\"1501\",\"type\":\"Row\"},{\"attributes\":{\"end\":1612047600000.0,\"reset_end\":1612047600000.0,\"reset_start\":1611792000000.0,\"start\":1611792000000.0,\"tags\":[[[\"date\",\"date\",null]]]},\"id\":\"1503\",\"type\":\"Range1d\"},{\"attributes\":{\"months\":[0,4,8]},\"id\":\"1570\",\"type\":\"MonthsTicker\"},{\"attributes\":{\"months\":[0,6]},\"id\":\"1571\",\"type\":\"MonthsTicker\"},{\"attributes\":{\"num_minor_ticks\":5,\"tickers\":[{\"id\":\"1561\"},{\"id\":\"1562\"},{\"id\":\"1563\"},{\"id\":\"1564\"},{\"id\":\"1565\"},{\"id\":\"1566\"},{\"id\":\"1567\"},{\"id\":\"1568\"},{\"id\":\"1569\"},{\"id\":\"1570\"},{\"id\":\"1571\"},{\"id\":\"1572\"}]},\"id\":\"1517\",\"type\":\"DatetimeTicker\"},{\"attributes\":{\"bottom_units\":\"screen\",\"coordinates\":null,\"fill_alpha\":0.5,\"fill_color\":\"lightgrey\",\"group\":null,\"left_units\":\"screen\",\"level\":\"overlay\",\"line_alpha\":1.0,\"line_color\":\"black\",\"line_dash\":[4,4],\"line_width\":2,\"right_units\":\"screen\",\"syncable\":false,\"top_units\":\"screen\"},\"id\":\"1529\",\"type\":\"BoxAnnotation\"},{\"attributes\":{},\"id\":\"1521\",\"type\":\"BasicTicker\"},{\"attributes\":{\"base\":24,\"mantissas\":[1,2,4,6,8,12],\"max_interval\":43200000.0,\"min_interval\":3600000.0,\"num_minor_ticks\":0},\"id\":\"1563\",\"type\":\"AdaptiveTicker\"},{\"attributes\":{\"axis_label\":\"date\",\"coordinates\":null,\"formatter\":{\"id\":\"1538\"},\"group\":null,\"major_label_policy\":{\"id\":\"1539\"},\"ticker\":{\"id\":\"1517\"}},\"id\":\"1516\",\"type\":\"DatetimeAxis\"},{\"attributes\":{\"coordinates\":null,\"data_source\":{\"id\":\"1576\"},\"glyph\":{\"id\":\"1579\"},\"group\":null,\"hover_glyph\":null,\"muted_glyph\":{\"id\":\"1581\"},\"nonselection_glyph\":{\"id\":\"1580\"},\"selection_glyph\":{\"id\":\"1609\"},\"view\":{\"id\":\"1583\"}},\"id\":\"1582\",\"type\":\"GlyphRenderer\"},{\"attributes\":{\"line_color\":\"#fc4f30\",\"line_width\":2,\"x\":{\"field\":\"date\"},\"y\":{\"field\":\"value\"}},\"id\":\"1579\",\"type\":\"Line\"},{\"attributes\":{},\"id\":\"1558\",\"type\":\"UnionRenderers\"},{\"attributes\":{},\"id\":\"1572\",\"type\":\"YearsTicker\"},{\"attributes\":{\"margin\":[5,5,5,5],\"name\":\"HSpacer02919\",\"sizing_mode\":\"stretch_width\"},\"id\":\"1502\",\"type\":\"Spacer\"},{\"attributes\":{\"axis_label\":\"\",\"coordinates\":null,\"formatter\":{\"id\":\"1541\"},\"group\":null,\"major_label_policy\":{\"id\":\"1542\"},\"ticker\":{\"id\":\"1521\"}},\"id\":\"1520\",\"type\":\"LinearAxis\"},{\"attributes\":{\"data\":{\"Variable\":[\"volume\",\"volume\",\"volume\",\"volume\",\"volume\",\"volume\",\"volume\",\"volume\",\"volume\",\"volume\",\"volume\",\"volume\",\"volume\",\"volume\",\"volume\",\"volume\",\"volume\",\"volume\",\"volume\",\"volume\",\"volume\",\"volume\",\"volume\",\"volume\",\"volume\",\"volume\",\"volume\",\"volume\",\"volume\",\"volume\",\"volume\",\"volume\",\"volume\",\"volume\",\"volume\",\"volume\",\"volume\",\"volume\",\"volume\",\"volume\",\"volume\",\"volume\",\"volume\",\"volume\",\"volume\",\"volume\",\"volume\",\"volume\",\"volume\",\"volume\",\"volume\",\"volume\",\"volume\",\"volume\",\"volume\",\"volume\",\"volume\",\"volume\",\"volume\",\"volume\",\"volume\",\"volume\",\"volume\",\"volume\",\"volume\",\"volume\",\"volume\",\"volume\",\"volume\",\"volume\",\"volume\",\"volume\"],\"date\":{\"__ndarray__\":\"AABAomR0d0IAACgRaHR3QgAAEIBrdHdCAAD47m50d0IAAOBdcnR3QgAAyMx1dHdCAACwO3l0d0IAAJiqfHR3QgAAgBmAdHdCAABoiIN0d0IAAFD3hnR3QgAAOGaKdHdCAAAg1Y10d0IAAAhEkXR3QgAA8LKUdHdCAADYIZh0d0IAAMCQm3R3QgAAqP+edHdCAACQbqJ0d0IAAHjdpXR3QgAAYEypdHdCAABIu6x0d0IAADAqsHR3QgAAGJmzdHdCAAAACLd0d0IAAOh2unR3QgAA0OW9dHdCAAC4VMF0d0IAAKDDxHR3QgAAiDLIdHdCAABwoct0d0IAAFgQz3R3QgAAQH/SdHdCAAAo7tV0d0IAABBd2XR3QgAA+MvcdHdCAADgOuB0d0IAAMip43R3QgAAsBjndHdCAACYh+p0d0IAAID27XR3QgAAaGXxdHdCAABQ1PR0d0IAADhD+HR3QgAAILL7dHdCAAAIIf90d0IAAPCPAnV3QgAA2P4FdXdCAADAbQl1d0IAAKjcDHV3QgAAkEsQdXdCAAB4uhN1d0IAAGApF3V3QgAASJgadXdCAAAwBx51d0IAABh2IXV3QgAAAOUkdXdCAADoUyh1d0IAANDCK3V3QgAAuDEvdXdCAACgoDJ1d0IAAIgPNnV3QgAAcH45dXdCAABY7Tx1d0IAAEBcQHV3QgAAKMtDdXdCAAAQOkd1d0IAAPioSnV3QgAA4BdOdXdCAADIhlF1d0IAALD1VHV3QgAAmGRYdXdC\",\"dtype\":\"float64\",\"order\":\"little\",\"shape\":[72]},\"value\":{\"__ndarray__\":\"XDtREqI4rkDVz5uKXL+jQKyql9+xmqdAfc1y2Qh/skC9HeG0cL2mQDJXBtXWn6lApriq7Gs/q0CSkbOw9/KlQLN6h9txFqVAAFZHjvSWq0CdDflnzqOnQHfzVIcsX6RAdt8xPIaIqkCit3h4X2isQJnyIajyibVAqtIW12DktkCLbr2m81O1QAvAP6V6nKtAg9xFmBI7r0DVko5ySHSuQH8TChEAHKxAv7hUpfHRsEBzafzCExauQJjdk4cdmbtAyk4/qDHaw0BSK0zfdwK0QEzfawimKrJAdqT6zjOZukCygXSx99DAQFg7inOIObZAkUJZ+CKgvEAeSrTkjVC6QMh6avU03NJAggAZOnFO30DxZ3iz3hPKQJpd91aEhcNAoP1IEc9Tw0B6HXHIQufDQHaJ6q1jLMhAhlYnZ9zPu0AL7DGR0iLEQPxwkBBRgL9APx767jLmxUBBR6tadEvGQHk9mBQj8L1ARPesa5BdskDxZaIIQd2vQEHyzqFkarNA/WoOEGResUClvcEX5jquQJXyWgllKK9At6SjHLiXukBpGhTN71mwQEFEatrtbKxAuFz92PzJrEB/+zpw1jeuQK0mT1kFJLNAoUrNHqB1qkDMtWgBmgevQG/Vdai+faxAKjkn9th2p0CaJ9cUwJanQBXI7CyKa6dAU9mwpuIfp0D59UNs9NW1QI1iuaWdCapAzH7d6X6loUByhuKOx/+fQPhVuVD5iZ9AFOgTeepPoEDm5hvRlV2gQCRiSiTJF6hA\",\"dtype\":\"float64\",\"order\":\"little\",\"shape\":[72]}},\"selected\":{\"id\":\"1577\"},\"selection_policy\":{\"id\":\"1593\"}},\"id\":\"1576\",\"type\":\"ColumnDataSource\"},{\"attributes\":{},\"id\":\"1593\",\"type\":\"UnionRenderers\"},{\"attributes\":{\"axis\":{\"id\":\"1516\"},\"coordinates\":null,\"grid_line_color\":null,\"group\":null,\"ticker\":null},\"id\":\"1519\",\"type\":\"Grid\"},{\"attributes\":{},\"id\":\"1514\",\"type\":\"LinearScale\"},{\"attributes\":{\"line_color\":\"#30a2da\",\"line_width\":2,\"x\":{\"field\":\"date\"},\"y\":{\"field\":\"value\"}},\"id\":\"1546\",\"type\":\"Line\"},{\"attributes\":{\"coordinates\":null,\"data_source\":{\"id\":\"1543\"},\"glyph\":{\"id\":\"1546\"},\"group\":null,\"hover_glyph\":null,\"muted_glyph\":{\"id\":\"1548\"},\"nonselection_glyph\":{\"id\":\"1547\"},\"selection_glyph\":{\"id\":\"1575\"},\"view\":{\"id\":\"1550\"}},\"id\":\"1549\",\"type\":\"GlyphRenderer\"},{\"attributes\":{\"axis\":{\"id\":\"1520\"},\"coordinates\":null,\"dimension\":1,\"grid_line_color\":null,\"group\":null,\"ticker\":null},\"id\":\"1523\",\"type\":\"Grid\"},{\"attributes\":{\"label\":{\"value\":\"close\"},\"renderers\":[{\"id\":\"1549\"}]},\"id\":\"1574\",\"type\":\"LegendItem\"},{\"attributes\":{\"end\":41873.1836528,\"reset_end\":41873.1836528,\"reset_start\":-1604.6601807999996,\"start\":-1604.6601807999996,\"tags\":[[[\"value\",\"value\",null]]]},\"id\":\"1504\",\"type\":\"Range1d\"},{\"attributes\":{\"line_alpha\":0.1,\"line_color\":\"#30a2da\",\"line_width\":2,\"x\":{\"field\":\"date\"},\"y\":{\"field\":\"value\"}},\"id\":\"1547\",\"type\":\"Line\"},{\"attributes\":{\"base\":60,\"mantissas\":[1,2,5,10,15,20,30],\"max_interval\":1800000.0,\"min_interval\":1000.0,\"num_minor_ticks\":0},\"id\":\"1562\",\"type\":\"AdaptiveTicker\"},{\"attributes\":{\"line_alpha\":0.1,\"line_color\":\"#fc4f30\",\"line_width\":2,\"x\":{\"field\":\"date\"},\"y\":{\"field\":\"value\"}},\"id\":\"1580\",\"type\":\"Line\"},{\"attributes\":{},\"id\":\"1544\",\"type\":\"Selection\"},{\"attributes\":{\"data\":{\"Variable\":[\"close\",\"close\",\"close\",\"close\",\"close\",\"close\",\"close\",\"close\",\"close\",\"close\",\"close\",\"close\",\"close\",\"close\",\"close\",\"close\",\"close\",\"close\",\"close\",\"close\",\"close\",\"close\",\"close\",\"close\",\"close\",\"close\",\"close\",\"close\",\"close\",\"close\",\"close\",\"close\",\"close\",\"close\",\"close\",\"close\",\"close\",\"close\",\"close\",\"close\",\"close\",\"close\",\"close\",\"close\",\"close\",\"close\",\"close\",\"close\",\"close\",\"close\",\"close\",\"close\",\"close\",\"close\",\"close\",\"close\",\"close\",\"close\",\"close\",\"close\",\"close\",\"close\",\"close\",\"close\",\"close\",\"close\",\"close\",\"close\",\"close\",\"close\",\"close\",\"close\"],\"date\":{\"__ndarray__\":\"AABAomR0d0IAACgRaHR3QgAAEIBrdHdCAAD47m50d0IAAOBdcnR3QgAAyMx1dHdCAACwO3l0d0IAAJiqfHR3QgAAgBmAdHdCAABoiIN0d0IAAFD3hnR3QgAAOGaKdHdCAAAg1Y10d0IAAAhEkXR3QgAA8LKUdHdCAADYIZh0d0IAAMCQm3R3QgAAqP+edHdCAACQbqJ0d0IAAHjdpXR3QgAAYEypdHdCAABIu6x0d0IAADAqsHR3QgAAGJmzdHdCAAAACLd0d0IAAOh2unR3QgAA0OW9dHdCAAC4VMF0d0IAAKDDxHR3QgAAiDLIdHdCAABwoct0d0IAAFgQz3R3QgAAQH/SdHdCAAAo7tV0d0IAABBd2XR3QgAA+MvcdHdCAADgOuB0d0IAAMip43R3QgAAsBjndHdCAACYh+p0d0IAAID27XR3QgAAaGXxdHdCAABQ1PR0d0IAADhD+HR3QgAAILL7dHdCAAAIIf90d0IAAPCPAnV3QgAA2P4FdXdCAADAbQl1d0IAAKjcDHV3QgAAkEsQdXdCAAB4uhN1d0IAAGApF3V3QgAASJgadXdCAAAwBx51d0IAABh2IXV3QgAAAOUkdXdCAADoUyh1d0IAANDCK3V3QgAAuDEvdXdCAACgoDJ1d0IAAIgPNnV3QgAAcH45dXdCAABY7Tx1d0IAAEBcQHV3QgAAKMtDdXdCAAAQOkd1d0IAAPioSnV3QgAA4BdOdXdCAADIhlF1d0IAALD1VHV3QgAAmGRYdXdC\",\"dtype\":\"float64\",\"order\":\"little\",\"shape\":[72]},\"value\":{\"__ndarray__\":\"pHA9Cvfz3UCPwvUofCjeQEjhehRuQd5AAAAAABCr3kCF61G4LpHeQNejcD1K/N5A7FG4HiXT3kC4HoXroXDeQEjhehSeV95A16NwPbq63kD2KFyPksDeQOF6FK5Xs95AzczMzHy93kDhehSuxwffQLgeheuhFd9Aw/UoXJ8t30AK16NwbarfQMP1KFxfht9AUrgehWve30AK16NwLc3fQArXo3B90N9AXI/C9fAz4EAK16NwtVfgQFK4HoWbSuBAw/UoXMes4EDXo3A9Uo7gQGZmZmYmluBA9ihcj7J44EDXo3A92iTgQNejcD2KGuBAw/UoXO+430BmZmZmloLfQOF6FK4HsuFA7FG4HqUB4kDD9ShcJ+HhQNejcD0qFOJA16NwPQJ64kBcj8L1QK3iQOF6FK5PGOJAzczMzCwh4kApXI/C5ZjhQMP1KFync+FAhetRuE4w4UDXo3A90sHgQFK4HoXT4eBAXI/C9XDp4EDD9Shcv9bgQGZmZmaGueBAMzMzM0O54ECamZmZYangQB+F61HQiOBAUrgehSs/4ECPwvUo5FvgQKRwPQr3W+BAexSuRzmC4ECamZmZ2Z/gQAAAAADwi+BAKVyPwqW54EDXo3A9er/gQM3MzMyMb+BAPQrXo/h64EBI4XoUtrfgQMP1KFxXt+BAZmZmZka04EBmZmZmlpTgQArXo3C1ueBAAAAAAIDE4EAAAAAA0L3gQI/C9ShUreBAXI/C9XDu4ECPwvUoxNvgQI/C9SjcuuBA\",\"dtype\":\"float64\",\"order\":\"little\",\"shape\":[72]}},\"selected\":{\"id\":\"1544\"},\"selection_policy\":{\"id\":\"1558\"}},\"id\":\"1543\",\"type\":\"ColumnDataSource\"},{\"attributes\":{},\"id\":\"1539\",\"type\":\"AllLabels\"},{\"attributes\":{},\"id\":\"1512\",\"type\":\"LinearScale\"},{\"attributes\":{\"days\":[1,4,7,10,13,16,19,22,25,28]},\"id\":\"1565\",\"type\":\"DaysTicker\"},{\"attributes\":{\"days\":[1,2,3,4,5,6,7,8,9,10,11,12,13,14,15,16,17,18,19,20,21,22,23,24,25,26,27,28,29,30,31]},\"id\":\"1564\",\"type\":\"DaysTicker\"},{\"attributes\":{},\"id\":\"1577\",\"type\":\"Selection\"},{\"attributes\":{\"months\":[0,1,2,3,4,5,6,7,8,9,10,11]},\"id\":\"1568\",\"type\":\"MonthsTicker\"},{\"attributes\":{\"margin\":[5,5,5,5],\"name\":\"HSpacer02920\",\"sizing_mode\":\"stretch_width\"},\"id\":\"1826\",\"type\":\"Spacer\"},{\"attributes\":{},\"id\":\"1542\",\"type\":\"AllLabels\"},{\"attributes\":{\"click_policy\":\"mute\",\"coordinates\":null,\"group\":null,\"items\":[{\"id\":\"1574\"},{\"id\":\"1608\"}],\"location\":[0,0],\"title\":\"Variable\"},\"id\":\"1573\",\"type\":\"Legend\"},{\"attributes\":{\"line_color\":\"#30a2da\",\"line_width\":2,\"x\":{\"field\":\"date\"},\"y\":{\"field\":\"value\"}},\"id\":\"1575\",\"type\":\"Line\"},{\"attributes\":{\"source\":{\"id\":\"1576\"}},\"id\":\"1583\",\"type\":\"CDSView\"},{\"attributes\":{\"days\":[1,8,15,22]},\"id\":\"1566\",\"type\":\"DaysTicker\"},{\"attributes\":{},\"id\":\"1524\",\"type\":\"SaveTool\"},{\"attributes\":{\"days\":[1,15]},\"id\":\"1567\",\"type\":\"DaysTicker\"},{\"attributes\":{},\"id\":\"1525\",\"type\":\"PanTool\"},{\"attributes\":{\"below\":[{\"id\":\"1516\"}],\"center\":[{\"id\":\"1519\"},{\"id\":\"1523\"}],\"height\":300,\"left\":[{\"id\":\"1520\"}],\"margin\":[5,5,5,5],\"min_border_bottom\":10,\"min_border_left\":10,\"min_border_right\":10,\"min_border_top\":10,\"renderers\":[{\"id\":\"1549\"},{\"id\":\"1582\"}],\"right\":[{\"id\":\"1573\"}],\"sizing_mode\":\"fixed\",\"title\":{\"id\":\"1508\"},\"toolbar\":{\"id\":\"1530\"},\"width\":700,\"x_range\":{\"id\":\"1503\"},\"x_scale\":{\"id\":\"1512\"},\"y_range\":{\"id\":\"1504\"},\"y_scale\":{\"id\":\"1514\"}},\"id\":\"1507\",\"subtype\":\"Figure\",\"type\":\"Plot\"},{\"attributes\":{},\"id\":\"1528\",\"type\":\"ResetTool\"},{\"attributes\":{},\"id\":\"1526\",\"type\":\"WheelZoomTool\"},{\"attributes\":{},\"id\":\"1541\",\"type\":\"BasicTickFormatter\"},{\"attributes\":{\"label\":{\"value\":\"volume\"},\"renderers\":[{\"id\":\"1582\"}]},\"id\":\"1608\",\"type\":\"LegendItem\"},{\"attributes\":{\"line_color\":\"#fc4f30\",\"line_width\":2,\"x\":{\"field\":\"date\"},\"y\":{\"field\":\"value\"}},\"id\":\"1609\",\"type\":\"Line\"},{\"attributes\":{\"mantissas\":[1,2,5],\"max_interval\":500.0,\"num_minor_ticks\":0},\"id\":\"1561\",\"type\":\"AdaptiveTicker\"},{\"attributes\":{\"months\":[0,2,4,6,8,10]},\"id\":\"1569\",\"type\":\"MonthsTicker\"},{\"attributes\":{\"source\":{\"id\":\"1543\"}},\"id\":\"1550\",\"type\":\"CDSView\"},{\"attributes\":{\"callback\":null,\"formatters\":{\"@{date}\":\"datetime\"},\"renderers\":[{\"id\":\"1549\"},{\"id\":\"1582\"}],\"tags\":[\"hv_created\"],\"tooltips\":[[\"Variable\",\"@{Variable}\"],[\"date\",\"@{date}{%F %T}\"],[\"value\",\"@{value}\"]]},\"id\":\"1505\",\"type\":\"HoverTool\"},{\"attributes\":{\"overlay\":{\"id\":\"1529\"}},\"id\":\"1527\",\"type\":\"BoxZoomTool\"},{\"attributes\":{\"line_alpha\":0.2,\"line_color\":\"#fc4f30\",\"line_width\":2,\"x\":{\"field\":\"date\"},\"y\":{\"field\":\"value\"}},\"id\":\"1581\",\"type\":\"Line\"},{\"attributes\":{\"line_alpha\":0.2,\"line_color\":\"#30a2da\",\"line_width\":2,\"x\":{\"field\":\"date\"},\"y\":{\"field\":\"value\"}},\"id\":\"1548\",\"type\":\"Line\"}],\"root_ids\":[\"1501\"]},\"title\":\"Bokeh Application\",\"version\":\"2.4.2\"}};\n",
       "    var render_items = [{\"docid\":\"da2c1d02-e73b-4ee6-a525-5693e8476bc3\",\"root_ids\":[\"1501\"],\"roots\":{\"1501\":\"a8dd288b-7941-44d4-bf61-3eb808f7c359\"}}];\n",
       "    root.Bokeh.embed.embed_items_notebook(docs_json, render_items);\n",
       "  }\n",
       "  if (root.Bokeh !== undefined && root.Bokeh.Panel !== undefined) {\n",
       "    embed_document(root);\n",
       "  } else {\n",
       "    var attempts = 0;\n",
       "    var timer = setInterval(function(root) {\n",
       "      if (root.Bokeh !== undefined && root.Bokeh.Panel !== undefined) {\n",
       "        clearInterval(timer);\n",
       "        embed_document(root);\n",
       "      } else if (document.readyState == \"complete\") {\n",
       "        attempts++;\n",
       "        if (attempts > 200) {\n",
       "          clearInterval(timer);\n",
       "          console.log(\"Bokeh: ERROR: Unable to run BokehJS code because BokehJS library is missing\");\n",
       "        }\n",
       "      }\n",
       "    }, 25, root)\n",
       "  }\n",
       "})(window);</script>"
      ],
      "text/plain": [
       ":NdOverlay   [Variable]\n",
       "   :Curve   [date]   (value)"
      ]
     },
     "execution_count": 30,
     "metadata": {
      "application/vnd.holoviews_exec.v0+json": {
       "id": "1501"
      }
     },
     "output_type": "execute_result"
    }
   ],
   "source": [
    "# Slice to one day before and after Jan 29, 2021 (When Elon Musk added the hashtag #bitcoin to his Twitter bio.)\n",
    "# YOUR CODE HERE!\n",
    "df.loc[\"2021-01-28\":\"2021-01-30\"].hvplot()"
   ]
  }
 ],
 "metadata": {
  "interpreter": {
   "hash": "2803b3c07b64a7b986e21828569605b043ff1dba15e47aab897e816beaee656d"
  },
  "kernelspec": {
   "display_name": "Python 3.7.11 ('dev')",
   "language": "python",
   "name": "python3"
  },
  "language_info": {
   "codemirror_mode": {
    "name": "ipython",
    "version": 3
   },
   "file_extension": ".py",
   "mimetype": "text/x-python",
   "name": "python",
   "nbconvert_exporter": "python",
   "pygments_lexer": "ipython3",
   "version": "3.7.11"
  },
  "nteract": {
   "version": "0.28.0"
  }
 },
 "nbformat": 4,
 "nbformat_minor": 4
}
