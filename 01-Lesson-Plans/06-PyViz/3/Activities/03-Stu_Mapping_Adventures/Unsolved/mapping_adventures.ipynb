{
 "cells": [
  {
   "cell_type": "markdown",
   "metadata": {},
   "source": [
    "# Mapping Adventures"
   ]
  },
  {
   "cell_type": "markdown",
   "metadata": {},
   "source": [
    "It's time to take a break from your day job and plan an adventure!\n",
    "\n",
    "Use **hvPlot** and the **GeoViews** to create a series of geographical plots that will visualize each area of interest within the city."
   ]
  },
  {
   "cell_type": "markdown",
   "metadata": {},
   "source": [
    "## Import the required libraries and dependencies"
   ]
  },
  {
   "cell_type": "code",
   "execution_count": 7,
   "metadata": {},
   "outputs": [],
   "source": [
    "import pandas as pd\n",
    "import os\n",
    "from pathlib import Path\n",
    "import hvplot.pandas"
   ]
  },
  {
   "cell_type": "markdown",
   "metadata": {},
   "source": [
    "### Step 1: Read in the `nyc_places_interest.csv` file from the Resources folder into a Pandas DataFrame. Drop any rows that contain missing data or NaN values."
   ]
  },
  {
   "cell_type": "code",
   "execution_count": 31,
   "metadata": {},
   "outputs": [
    {
     "data": {
      "text/html": [
       "<div>\n",
       "<style scoped>\n",
       "    .dataframe tbody tr th:only-of-type {\n",
       "        vertical-align: middle;\n",
       "    }\n",
       "\n",
       "    .dataframe tbody tr th {\n",
       "        vertical-align: top;\n",
       "    }\n",
       "\n",
       "    .dataframe thead th {\n",
       "        text-align: right;\n",
       "    }\n",
       "</style>\n",
       "<table border=\"1\" class=\"dataframe\">\n",
       "  <thead>\n",
       "    <tr style=\"text-align: right;\">\n",
       "      <th></th>\n",
       "      <th>Id</th>\n",
       "      <th>Longitude</th>\n",
       "      <th>Latitude</th>\n",
       "      <th>Name</th>\n",
       "      <th>PlaceType</th>\n",
       "      <th>Borough</th>\n",
       "    </tr>\n",
       "  </thead>\n",
       "  <tbody>\n",
       "    <tr>\n",
       "      <th>0</th>\n",
       "      <td>90</td>\n",
       "      <td>-73.888958</td>\n",
       "      <td>40.896210</td>\n",
       "      <td>Van Cortlandt Park</td>\n",
       "      <td>Park</td>\n",
       "      <td>Bronx</td>\n",
       "    </tr>\n",
       "    <tr>\n",
       "      <th>1</th>\n",
       "      <td>95</td>\n",
       "      <td>-73.871651</td>\n",
       "      <td>40.889879</td>\n",
       "      <td>Woodlawn Cemetery</td>\n",
       "      <td>Cemetery</td>\n",
       "      <td>Bronx</td>\n",
       "    </tr>\n",
       "    <tr>\n",
       "      <th>2</th>\n",
       "      <td>81</td>\n",
       "      <td>-73.838642</td>\n",
       "      <td>40.886965</td>\n",
       "      <td>Seton Falls Park</td>\n",
       "      <td>Park</td>\n",
       "      <td>Bronx</td>\n",
       "    </tr>\n",
       "    <tr>\n",
       "      <th>3</th>\n",
       "      <td>69</td>\n",
       "      <td>-73.809802</td>\n",
       "      <td>40.877986</td>\n",
       "      <td>Pelham Bay Park</td>\n",
       "      <td>Park</td>\n",
       "      <td>Bronx</td>\n",
       "    </tr>\n",
       "    <tr>\n",
       "      <th>4</th>\n",
       "      <td>8</td>\n",
       "      <td>-73.878308</td>\n",
       "      <td>40.864424</td>\n",
       "      <td>Botanical Garden</td>\n",
       "      <td>Garden</td>\n",
       "      <td>Bronx</td>\n",
       "    </tr>\n",
       "    <tr>\n",
       "      <th>...</th>\n",
       "      <td>...</td>\n",
       "      <td>...</td>\n",
       "      <td>...</td>\n",
       "      <td>...</td>\n",
       "      <td>...</td>\n",
       "      <td>...</td>\n",
       "    </tr>\n",
       "    <tr>\n",
       "      <th>86</th>\n",
       "      <td>51</td>\n",
       "      <td>-73.874281</td>\n",
       "      <td>40.775416</td>\n",
       "      <td>LaGuardia Airport</td>\n",
       "      <td>NaN</td>\n",
       "      <td>Queens</td>\n",
       "    </tr>\n",
       "    <tr>\n",
       "      <th>87</th>\n",
       "      <td>47</td>\n",
       "      <td>-73.826289</td>\n",
       "      <td>40.622877</td>\n",
       "      <td>Jamaica Bay Wildlife Refuge</td>\n",
       "      <td>Wildlife Refuge</td>\n",
       "      <td>Brooklyn</td>\n",
       "    </tr>\n",
       "    <tr>\n",
       "      <th>88</th>\n",
       "      <td>13</td>\n",
       "      <td>-73.993695</td>\n",
       "      <td>40.585075</td>\n",
       "      <td>Calvert Vaux</td>\n",
       "      <td>Park</td>\n",
       "      <td>Brooklyn</td>\n",
       "    </tr>\n",
       "    <tr>\n",
       "      <th>89</th>\n",
       "      <td>43</td>\n",
       "      <td>-74.114920</td>\n",
       "      <td>40.590435</td>\n",
       "      <td>High Rock Park</td>\n",
       "      <td>Park</td>\n",
       "      <td>Staten Island</td>\n",
       "    </tr>\n",
       "    <tr>\n",
       "      <th>90</th>\n",
       "      <td>73</td>\n",
       "      <td>-74.005553</td>\n",
       "      <td>40.672047</td>\n",
       "      <td>Red Hook Park</td>\n",
       "      <td>Park</td>\n",
       "      <td>Brooklyn</td>\n",
       "    </tr>\n",
       "  </tbody>\n",
       "</table>\n",
       "<p>91 rows × 6 columns</p>\n",
       "</div>"
      ],
      "text/plain": [
       "    Id  Longitude   Latitude                         Name        PlaceType  \\\n",
       "0   90 -73.888958  40.896210           Van Cortlandt Park             Park   \n",
       "1   95 -73.871651  40.889879            Woodlawn Cemetery         Cemetery   \n",
       "2   81 -73.838642  40.886965             Seton Falls Park             Park   \n",
       "3   69 -73.809802  40.877986              Pelham Bay Park             Park   \n",
       "4    8 -73.878308  40.864424             Botanical Garden           Garden   \n",
       "..  ..        ...        ...                          ...              ...   \n",
       "86  51 -73.874281  40.775416            LaGuardia Airport              NaN   \n",
       "87  47 -73.826289  40.622877  Jamaica Bay Wildlife Refuge  Wildlife Refuge   \n",
       "88  13 -73.993695  40.585075                 Calvert Vaux             Park   \n",
       "89  43 -74.114920  40.590435               High Rock Park             Park   \n",
       "90  73 -74.005553  40.672047                Red Hook Park             Park   \n",
       "\n",
       "          Borough  \n",
       "0           Bronx  \n",
       "1           Bronx  \n",
       "2           Bronx  \n",
       "3           Bronx  \n",
       "4           Bronx  \n",
       "..            ...  \n",
       "86         Queens  \n",
       "87       Brooklyn  \n",
       "88       Brooklyn  \n",
       "89  Staten Island  \n",
       "90       Brooklyn  \n",
       "\n",
       "[91 rows x 6 columns]"
      ]
     },
     "execution_count": 31,
     "metadata": {},
     "output_type": "execute_result"
    }
   ],
   "source": [
    "# Read the the ny_places_interest.csv file into a DataFrame\n",
    "places_of_interest = pd.read_csv(Path(\"../Resources/nyc_places_interest.csv\"))\n",
    "\n",
    "# Review the DataFrame\n",
    "places_of_interest.head(-5)"
   ]
  },
  {
   "cell_type": "markdown",
   "metadata": {},
   "source": [
    "## Plot the NYC Places of Interest"
   ]
  },
  {
   "cell_type": "markdown",
   "metadata": {},
   "source": [
    "### Step 2: Plot All Places of Interest by Name"
   ]
  },
  {
   "cell_type": "code",
   "execution_count": 14,
   "metadata": {
    "tags": []
   },
   "outputs": [
    {
     "data": {},
     "metadata": {},
     "output_type": "display_data"
    },
    {
     "data": {
      "application/vnd.holoviews_exec.v0+json": "",
      "text/html": [
       "<div id='1553'>\n",
       "\n",
       "\n",
       "\n",
       "\n",
       "\n",
       "  <div class=\"bk-root\" id=\"77eb94c2-e808-4dea-bfd5-2676663204ae\" data-root-id=\"1553\"></div>\n",
       "</div>\n",
       "<script type=\"application/javascript\">(function(root) {\n",
       "  function embed_document(root) {\n",
       "    var docs_json = {\"0f107d5a-e0d9-4316-8ee8-8c22a857a6fd\":{\"defs\":[{\"extends\":null,\"module\":null,\"name\":\"ReactiveHTML1\",\"overrides\":[],\"properties\":[]},{\"extends\":null,\"module\":null,\"name\":\"FlexBox1\",\"overrides\":[],\"properties\":[{\"default\":\"flex-start\",\"kind\":null,\"name\":\"align_content\"},{\"default\":\"flex-start\",\"kind\":null,\"name\":\"align_items\"},{\"default\":\"row\",\"kind\":null,\"name\":\"flex_direction\"},{\"default\":\"wrap\",\"kind\":null,\"name\":\"flex_wrap\"},{\"default\":\"flex-start\",\"kind\":null,\"name\":\"justify_content\"}]},{\"extends\":null,\"module\":null,\"name\":\"TemplateActions1\",\"overrides\":[],\"properties\":[{\"default\":0,\"kind\":null,\"name\":\"open_modal\"},{\"default\":0,\"kind\":null,\"name\":\"close_modal\"}]},{\"extends\":null,\"module\":null,\"name\":\"MaterialTemplateActions1\",\"overrides\":[],\"properties\":[{\"default\":0,\"kind\":null,\"name\":\"open_modal\"},{\"default\":0,\"kind\":null,\"name\":\"close_modal\"}]}],\"roots\":{\"references\":[{\"attributes\":{\"match_aspect\":true,\"overlay\":{\"id\":\"1588\"}},\"id\":\"1586\",\"type\":\"BoxZoomTool\"},{\"attributes\":{\"fill_alpha\":{\"value\":0.8},\"fill_color\":{\"field\":\"color\",\"transform\":{\"id\":\"1629\"}},\"hatch_alpha\":{\"value\":0.1},\"hatch_color\":{\"field\":\"color\",\"transform\":{\"id\":\"1629\"}},\"line_alpha\":{\"value\":0.8},\"line_color\":{\"field\":\"color\",\"transform\":{\"id\":\"1629\"}},\"size\":{\"value\":5.477225575051661},\"x\":{\"field\":\"Longitude\"},\"y\":{\"field\":\"Latitude\"}},\"id\":\"1634\",\"type\":\"Scatter\"},{\"attributes\":{\"dimension\":\"lat\"},\"id\":\"1601\",\"type\":\"MercatorTickFormatter\"},{\"attributes\":{\"axis_label\":\"x\",\"coordinates\":null,\"formatter\":{\"id\":\"1599\"},\"group\":null,\"major_label_policy\":{\"id\":\"1604\"},\"ticker\":{\"id\":\"1598\"}},\"id\":\"1575\",\"type\":\"LinearAxis\"},{\"attributes\":{},\"id\":\"1631\",\"type\":\"Selection\"},{\"attributes\":{\"margin\":[5,5,5,5],\"name\":\"HSpacer04343\",\"sizing_mode\":\"stretch_width\"},\"id\":\"1554\",\"type\":\"Spacer\"},{\"attributes\":{\"children\":[{\"id\":\"1554\"},{\"id\":\"1566\"},{\"id\":\"1704\"}],\"margin\":[0,0,0,0],\"name\":\"Row04339\",\"tags\":[\"embedded\"]},\"id\":\"1553\",\"type\":\"Row\"},{\"attributes\":{},\"id\":\"1643\",\"type\":\"UnionRenderers\"},{\"attributes\":{\"label\":{\"field\":\"color\"},\"renderers\":[{\"id\":\"1638\"}]},\"id\":\"1647\",\"type\":\"LegendItem\"},{\"attributes\":{\"click_policy\":\"mute\",\"coordinates\":null,\"group\":null,\"items\":[{\"id\":\"1647\"}],\"location\":[0,0]},\"id\":\"1646\",\"type\":\"Legend\"},{\"attributes\":{\"zoom_on_axis\":false},\"id\":\"1585\",\"type\":\"WheelZoomTool\"},{\"attributes\":{\"dimension\":\"lon\"},\"id\":\"1598\",\"type\":\"MercatorTicker\"},{\"attributes\":{\"end\":-8187655.96828672,\"min_interval\":5,\"reset_end\":-8187655.96828672,\"reset_start\":-8285497.081206661,\"start\":-8285497.081206661,\"tags\":[[[\"Longitude\",\"Longitude\",null]]]},\"id\":\"1559\",\"type\":\"Range1d\"},{\"attributes\":{\"data\":{\"Latitude\":{\"__ndarray__\":\"1cxBK+0PU0EFkxUdBA9TQcMRDNWYDlNBXEPLS04NU0Fj/NYvWwtTQWcWH6ATClNBhHQWn3IFU0Gw21nzKARTQe/w925RBFNBHT83h6AHU0HEPWjhIwlTQU5VGKx6CVNBIQmrgr8DU0FUgp4ceQxTQdiHhXImC1NBVR+zxfIAU0E2n8zEmAJTQWQ2bGSDAVNBNgXi4df/UkFG10dTpP9SQRcytaaD/VJBzRE1xxL8UkE3tSfizPlSQZpHk1zo+FJBpyJdeTvyUkFyx/lLv/ZSQRIB5IfE/lJBPJgPq3DvUkEGDhf6Me5SQWCzB1bg7FJB4fjBHSLsUkHbdt/IT+1SQQSrS/ck61JB+RezdHrmUkGlbd0gEOdSQQ15ZjdR6FJB/Rk/I+flUkFBoIoDLeRSQRnpizkS6VJBtCupfsPvUkFIEKZefvBSQfOrjj/b7FJBzBzON+rvUkFrxoU9BPJSQaedhvlD9FJBNC8wVifzUkF7uaSy7PVSQUFakBRB9VJBkJXlI732UkG5rCM5q/ZSQQheUTKB9VJBSfFpQrjxUkGNe8lDM/lSQXVLmcqj+FJB+AQR/iT6UkF2Wbv56fdSQfPcn04HAVNBRiKYmJn/UkGK0c35+/1SQRgb0XNy+1JB2jwSeij7UkG8Hlou6QJTQdk20LOJ+FJBPUxXNBH5UkErzkwSWfhSQewpz+/S4FJBBMYy6+3fUkHNCCTvUPJSQUlrjmyi81JBABEW5XrrUkEwHls8VOlSQbV1qMkD6FJB4w0CngzmUkGL3Nkx2OBSQaYAgPMK3lJBtTMravLiUkFC4KPq3eJSQa5wHZ+C5VJB5WLTYpXbUkGMYLAQOdpSQWiz2Ah/2FJBK3H4Zw3XUkFgPElCb95SQaYL8y214VJBo0XGBQTjUkFnaLheTuxSQYiKYu+R/lJBTmCtk7LoUkH4MYvrSONSQX2nd1IN5FJBrgdEGb7vUkHWHNvv/vxSQa60sW1dD1NBZylGtKvzUkEv0DQ6/OtSQRmBvh8O7FJB\",\"dtype\":\"float64\",\"order\":\"little\",\"shape\":[96]},\"Longitude\":{\"__ndarray__\":\"MMxcTIBgX8Gg8uiknl5fwZEnBwEIW1/BhZa9Z+VXX8GuyW7mV19fwc1/1e0eX1/BJUQxHKtaX8G1PV23ZlpfwTbGXiytXl/Bkhwb/xJhX8GtiwZ1Al9fwUos9vOKU1/BfFpV0vpiX8EONZozjGRfwalqsXArZV/B9ePZ39NfX8EfPlliV2ZfwV6DY3wPZF/B9xEPw/VkX8Flx03K1mhfwYW4t+qaal/BbRQ255dqX8G03bp5RmtfwUDg7NuGa1/BW8o2WZJuX8E8ovo5WmdfwY368P5WZF/ByFS+1uNoX8HCEcpDNmlfwRgcX4+Ia1/B30+0VstlX8Fwpf6Jl25fwXmkv7gVcF/BWqK21rNvX8G9Le31sm5fwfIHQtvmaV/BvroF6FFkX8EipVn0n2BfwaOD+/F+YV/BcpOS2ihaX8GvmzoLz1xfwSK8dmynUV/BGVO3emhVX8EetycLylNfwb4ogozQW1/B8z2YnhtfX8HQkxTQHF5fwQLDWFk4Y1/BujBU0UJhX8ELwEPCfF9fwe1JNEpXYF/BUWbDAH9QX8GYd68vVVtfwfzQ5ucgWl/BJ/abxEZXX8FOW3y5dlNfwS+hwJ5VVF/B4HXbr55VX8G3jQDWdVNfwYgvybHFUF/BHpUQKXhPX8EBS5QgFVZfwVlFaE/6ZF/BDGWLeyFjX8F/wrTKj2JfwTgK3MacXl/BHp8JrCVhX8HEVozHfnFfwRO1BpvwcF/BiUXayMl3X8E+96Fg23ZfwR+hPlGbeF/BPOLHfPdyX8Fg6vj9UHdfwcisvyk6el/BCwpgoFR5X8HwGwNxEHxfwWNVeo/GfV/Bw5t0q6J/X8FgB3jcfYFfwXz+ZUVHhF/BIlEaGpiHX8GFY0y53IJfwRntScDEgV/Br3P7bVhjX8HIC5n1TlVfwZcJWtXnXl/B6QdxObBZX8EDahsf42tfwQmJh8wQeV/B8qGHHC1tX8E63SQRiWFfwR7Zw/GHY1/BQmKV7KVdX8Emb1oW5l1fwWuBNv+iW1/B\",\"dtype\":\"float64\",\"order\":\"little\",\"shape\":[96]},\"Name\":[\"Van Cortlandt Park\",\"Woodlawn Cemetery\",\"Seton Falls Park\",\"Pelham Bay Park\",\"Botanical Garden\",\"Bronx Park\",\"Saint  Raymond's Cemetery\",\"Ferry Point Park\",\"Sound View Park\",\"Crotona Park\",\"Zoo/Wildlife Conser. Park\",\"Hart Island\",\"Saint Mary's Park\",\"Inwood Hill Park\",\"Fort Tryon Park\",\"Rikers Island\",\"Marcus Garvey Park\",\"Randall's Island Park\",\"Ward's Island Park\",\"Central Park\",\"Columbus Circle\",\"Times Square\",\"Madison Square\",\"Union Square\",\"Governors Island\",\"McCarren Park\",\"Astoria Park\",\"Botanic Garden\",\"Prospect Park\",\"Greenwood Cemetery\",\"Holy Cross Cemetery\",\"Bush Terminal\",\"Owls Head Park\",\"Fort Hamilton\",\"Dyker Beach Park\",\"Washington Cemetery\",\"Marine Park\",\"Floyd Bennett Field\",\"Canarsie Beach Park\",\"Aqueduct Race Track\",\"Bayside Cemetery\",\"Brookville Park\",\"Baisley Pond Park\",\"Roy Wilkins Park\",\"Forest Park\",\"Cypress Hills Cemetery\",\"Saint  Johns Cemetery\",\"Linden Hill Cemetery\",\"Mount Olivet Cemetery\",\"Juniper Valley Park\",\"Lutheran Cemetery\",\"Montefiore Cemetery\",\"Flushing Meadows Corona Park\",\"Mount Hebron Cemetery\",\"Kissena Park\",\"Cunningham Park\",\"Fort Totten\",\"Clearview Park\",\"Crocheron Park\",\"Alley Pond Park\",\"Douglaston Park\",\"Fort Schuyler\",\"Calvary Cemetery\",\"New Calvary Cemetery\",\"Mount Zion Cemetery\",\"Jacob Riis Park\",\"Fort Tilden\",\"Liberty Island\",\"Ellis Island\",\"Snug Harbor\",\"Silver Lake Park\",\"Clove Lakes Park\",\"Fort Wadsworth\",\"Miller Field\",\"Great Kills Park\",\"Moravian Cemetery\",\"LaTourette Park\",\"Willowbrook Park\",\"Blue Heron Park\",\"Wolfe's Pond Park\",\"Mount Loretto\",\"Conference House Park\",\"South Shore Golf Course\",\"Fresh Kills\",\"Plumb Beach\",\"John F. Kennedy International Airport\",\"LaGuardia Airport\",\"Jamaica Bay Wildlife Refuge\",\"Calvert Vaux\",\"High Rock Park\",\"Red Hook Park\",\"Saint Michael's Cemetery\",\"Riverdale Park\",\"Forest Park Golf Course\",\"Spring Creek Park Preserve No Access\",\"Spring Creek Park Gateway National Recreation Area\"],\"color\":[\"Van Cortlandt Park\",\"Woodlawn Cemetery\",\"Seton Falls Park\",\"Pelham Bay Park\",\"Botanical Garden\",\"Bronx Park\",\"Saint  Raymond's Cemetery\",\"Ferry Point Park\",\"Sound View Park\",\"Crotona Park\",\"Zoo/Wildlife Conser. Park\",\"Hart Island\",\"Saint Mary's Park\",\"Inwood Hill Park\",\"Fort Tryon Park\",\"Rikers Island\",\"Marcus Garvey Park\",\"Randall's Island Park\",\"Ward's Island Park\",\"Central Park\",\"Columbus Circle\",\"Times Square\",\"Madison Square\",\"Union Square\",\"Governors Island\",\"McCarren Park\",\"Astoria Park\",\"Botanic Garden\",\"Prospect Park\",\"Greenwood Cemetery\",\"Holy Cross Cemetery\",\"Bush Terminal\",\"Owls Head Park\",\"Fort Hamilton\",\"Dyker Beach Park\",\"Washington Cemetery\",\"Marine Park\",\"Floyd Bennett Field\",\"Canarsie Beach Park\",\"Aqueduct Race Track\",\"Bayside Cemetery\",\"Brookville Park\",\"Baisley Pond Park\",\"Roy Wilkins Park\",\"Forest Park\",\"Cypress Hills Cemetery\",\"Saint  Johns Cemetery\",\"Linden Hill Cemetery\",\"Mount Olivet Cemetery\",\"Juniper Valley Park\",\"Lutheran Cemetery\",\"Montefiore Cemetery\",\"Flushing Meadows Corona Park\",\"Mount Hebron Cemetery\",\"Kissena Park\",\"Cunningham Park\",\"Fort Totten\",\"Clearview Park\",\"Crocheron Park\",\"Alley Pond Park\",\"Douglaston Park\",\"Fort Schuyler\",\"Calvary Cemetery\",\"New Calvary Cemetery\",\"Mount Zion Cemetery\",\"Jacob Riis Park\",\"Fort Tilden\",\"Liberty Island\",\"Ellis Island\",\"Snug Harbor\",\"Silver Lake Park\",\"Clove Lakes Park\",\"Fort Wadsworth\",\"Miller Field\",\"Great Kills Park\",\"Moravian Cemetery\",\"LaTourette Park\",\"Willowbrook Park\",\"Blue Heron Park\",\"Wolfe's Pond Park\",\"Mount Loretto\",\"Conference House Park\",\"South Shore Golf Course\",\"Fresh Kills\",\"Plumb Beach\",\"John F. Kennedy International Airport\",\"LaGuardia Airport\",\"Jamaica Bay Wildlife Refuge\",\"Calvert Vaux\",\"High Rock Park\",\"Red Hook Park\",\"Saint Michael's Cemetery\",\"Riverdale Park\",\"Forest Park Golf Course\",\"Spring Creek Park Preserve No Access\",\"Spring Creek Park Gateway National Recreation Area\"]},\"selected\":{\"id\":\"1631\"},\"selection_policy\":{\"id\":\"1643\"}},\"id\":\"1630\",\"type\":\"ColumnDataSource\"},{\"attributes\":{\"source\":{\"id\":\"1630\"}},\"id\":\"1639\",\"type\":\"CDSView\"},{\"attributes\":{\"coordinates\":null,\"data_source\":{\"id\":\"1630\"},\"glyph\":{\"id\":\"1633\"},\"group\":null,\"hover_glyph\":{\"id\":\"1636\"},\"muted_glyph\":{\"id\":\"1637\"},\"nonselection_glyph\":{\"id\":\"1634\"},\"selection_glyph\":{\"id\":\"1635\"},\"view\":{\"id\":\"1639\"}},\"id\":\"1638\",\"type\":\"GlyphRenderer\"},{\"attributes\":{\"fill_alpha\":{\"value\":0.8},\"fill_color\":{\"field\":\"color\",\"transform\":{\"id\":\"1629\"}},\"hatch_alpha\":{\"value\":0.8},\"hatch_color\":{\"field\":\"color\",\"transform\":{\"id\":\"1629\"}},\"line_alpha\":{\"value\":0.8},\"line_color\":{\"field\":\"color\",\"transform\":{\"id\":\"1629\"}},\"size\":{\"value\":5.477225575051661},\"x\":{\"field\":\"Longitude\"},\"y\":{\"field\":\"Latitude\"}},\"id\":\"1635\",\"type\":\"Scatter\"},{\"attributes\":{},\"id\":\"1587\",\"type\":\"ResetTool\"},{\"attributes\":{},\"id\":\"1584\",\"type\":\"PanTool\"},{\"attributes\":{\"code\":\"\\n        var projections = Bokeh.require(\\\"core/util/projections\\\");\\n        var x = special_vars.data_x\\n        var y = special_vars.data_y\\n        if (projections.wgs84_mercator.invert == null) {\\n          var coords = projections.wgs84_mercator.inverse([x, y])\\n        } else {\\n          var coords = projections.wgs84_mercator.invert(x, y)\\n        }\\n        return \\\"\\\" + (coords[0]).toFixed(4)\\n    \"},\"id\":\"1648\",\"type\":\"CustomJSHover\"},{\"attributes\":{\"code\":\"\\n        var projections = Bokeh.require(\\\"core/util/projections\\\");\\n        var x = special_vars.data_x\\n        var y = special_vars.data_y\\n        if (projections.wgs84_mercator.invert == null) {\\n          var coords = projections.wgs84_mercator.inverse([x, y])\\n        } else {\\n          var coords = projections.wgs84_mercator.invert(x, y)\\n        }\\n        return \\\"\\\" + (coords[1]).toFixed(4)\\n    \"},\"id\":\"1649\",\"type\":\"CustomJSHover\"},{\"attributes\":{\"coordinates\":null,\"group\":null,\"level\":\"glyph\",\"tile_source\":{\"id\":\"1624\"}},\"id\":\"1627\",\"type\":\"TileRenderer\"},{\"attributes\":{\"tools\":[{\"id\":\"1563\"},{\"id\":\"1583\"},{\"id\":\"1584\"},{\"id\":\"1585\"},{\"id\":\"1586\"},{\"id\":\"1587\"}]},\"id\":\"1589\",\"type\":\"Toolbar\"},{\"attributes\":{\"coordinates\":null,\"group\":null,\"text_color\":\"black\",\"text_font_size\":\"12pt\"},\"id\":\"1567\",\"type\":\"Title\"},{\"attributes\":{\"attribution\":\"&copy; <a href=\\\"https://www.openstreetmap.org/copyright\\\">OpenStreetMap</a> contributors\",\"url\":\"https://c.tile.openstreetmap.org/{Z}/{X}/{Y}.png\"},\"id\":\"1624\",\"type\":\"WMTSTileSource\"},{\"attributes\":{\"bottom_units\":\"screen\",\"coordinates\":null,\"fill_alpha\":0.5,\"fill_color\":\"lightgrey\",\"group\":null,\"left_units\":\"screen\",\"level\":\"overlay\",\"line_alpha\":1.0,\"line_color\":\"black\",\"line_dash\":[4,4],\"line_width\":2,\"right_units\":\"screen\",\"syncable\":false,\"top_units\":\"screen\"},\"id\":\"1588\",\"type\":\"BoxAnnotation\"},{\"attributes\":{},\"id\":\"1571\",\"type\":\"LinearScale\"},{\"attributes\":{\"axis_label\":\"y\",\"coordinates\":null,\"formatter\":{\"id\":\"1601\"},\"group\":null,\"major_label_policy\":{\"id\":\"1611\"},\"ticker\":{\"id\":\"1600\"}},\"id\":\"1579\",\"type\":\"LinearAxis\"},{\"attributes\":{\"fill_alpha\":{\"value\":0.8},\"fill_color\":{\"field\":\"color\",\"transform\":{\"id\":\"1629\"}},\"hatch_alpha\":{\"value\":0.8},\"hatch_color\":{\"field\":\"color\",\"transform\":{\"id\":\"1629\"}},\"line_alpha\":{\"value\":0.8},\"line_color\":{\"field\":\"color\",\"transform\":{\"id\":\"1629\"}},\"size\":{\"value\":5.477225575051661},\"x\":{\"field\":\"Longitude\"},\"y\":{\"field\":\"Latitude\"}},\"id\":\"1633\",\"type\":\"Scatter\"},{\"attributes\":{\"axis\":{\"id\":\"1579\"},\"coordinates\":null,\"dimension\":1,\"grid_line_color\":null,\"group\":null,\"ticker\":null},\"id\":\"1582\",\"type\":\"Grid\"},{\"attributes\":{\"fill_alpha\":{\"value\":0.8},\"fill_color\":{\"field\":\"color\",\"transform\":{\"id\":\"1629\"}},\"hatch_alpha\":{\"value\":0.8},\"hatch_color\":{\"field\":\"color\",\"transform\":{\"id\":\"1629\"}},\"line_alpha\":{\"value\":0.8},\"line_color\":{\"field\":\"color\",\"transform\":{\"id\":\"1629\"}},\"size\":{\"value\":5.477225575051661},\"x\":{\"field\":\"Longitude\"},\"y\":{\"field\":\"Latitude\"}},\"id\":\"1636\",\"type\":\"Scatter\"},{\"attributes\":{\"callback\":null,\"formatters\":{\"$x\":{\"id\":\"1648\"},\"$y\":{\"id\":\"1649\"}},\"renderers\":[{\"id\":\"1638\"}],\"tags\":[\"hv_created\"],\"tooltips\":[[\"Longitude\",\"$x{custom}\"],[\"Latitude\",\"$y{custom}\"],[\"Name\",\"@{Name}\"]]},\"id\":\"1563\",\"type\":\"HoverTool\"},{\"attributes\":{\"axis\":{\"id\":\"1575\"},\"coordinates\":null,\"grid_line_color\":null,\"group\":null,\"ticker\":null},\"id\":\"1578\",\"type\":\"Grid\"},{\"attributes\":{},\"id\":\"1611\",\"type\":\"AllLabels\"},{\"attributes\":{\"margin\":[5,5,5,5],\"name\":\"HSpacer04344\",\"sizing_mode\":\"stretch_width\"},\"id\":\"1704\",\"type\":\"Spacer\"},{\"attributes\":{\"end\":5002868.404392054,\"min_interval\":5,\"reset_end\":5002868.404392054,\"reset_start\":4932981.895163525,\"start\":4932981.895163525,\"tags\":[[[\"Latitude\",\"Latitude\",null]]]},\"id\":\"1560\",\"type\":\"Range1d\"},{\"attributes\":{},\"id\":\"1583\",\"type\":\"SaveTool\"},{\"attributes\":{\"dimension\":\"lat\"},\"id\":\"1600\",\"type\":\"MercatorTicker\"},{\"attributes\":{\"fill_alpha\":{\"value\":0.2},\"fill_color\":{\"field\":\"color\",\"transform\":{\"id\":\"1629\"}},\"hatch_alpha\":{\"value\":0.2},\"hatch_color\":{\"field\":\"color\",\"transform\":{\"id\":\"1629\"}},\"line_alpha\":{\"value\":0.2},\"line_color\":{\"field\":\"color\",\"transform\":{\"id\":\"1629\"}},\"size\":{\"value\":5.477225575051661},\"x\":{\"field\":\"Longitude\"},\"y\":{\"field\":\"Latitude\"}},\"id\":\"1637\",\"type\":\"Scatter\"},{\"attributes\":{\"below\":[{\"id\":\"1575\"}],\"center\":[{\"id\":\"1578\"},{\"id\":\"1582\"}],\"frame_height\":500,\"frame_width\":700,\"height\":null,\"left\":[{\"id\":\"1579\"}],\"margin\":[5,5,5,5],\"match_aspect\":true,\"min_border_bottom\":10,\"min_border_left\":10,\"min_border_right\":10,\"min_border_top\":10,\"renderers\":[{\"id\":\"1627\"},{\"id\":\"1638\"}],\"right\":[{\"id\":\"1646\"}],\"sizing_mode\":\"fixed\",\"title\":{\"id\":\"1567\"},\"toolbar\":{\"id\":\"1589\"},\"width\":null,\"x_range\":{\"id\":\"1559\"},\"x_scale\":{\"id\":\"1571\"},\"y_range\":{\"id\":\"1560\"},\"y_scale\":{\"id\":\"1573\"}},\"id\":\"1566\",\"subtype\":\"Figure\",\"type\":\"Plot\"},{\"attributes\":{},\"id\":\"1573\",\"type\":\"LinearScale\"},{\"attributes\":{},\"id\":\"1604\",\"type\":\"AllLabels\"},{\"attributes\":{\"factors\":[\"Van Cortlandt Park\",\"Woodlawn Cemetery\",\"Seton Falls Park\",\"Pelham Bay Park\",\"Botanical Garden\",\"Bronx Park\",\"Saint  Raymond's Cemetery\",\"Ferry Point Park\",\"Sound View Park\",\"Crotona Park\",\"Zoo/Wildlife Conser. Park\",\"Hart Island\",\"Saint Mary's Park\",\"Inwood Hill Park\",\"Fort Tryon Park\",\"Rikers Island\",\"Marcus Garvey Park\",\"Randall's Island Park\",\"Ward's Island Park\",\"Central Park\",\"Columbus Circle\",\"Times Square\",\"Madison Square\",\"Union Square\",\"Governors Island\",\"McCarren Park\",\"Astoria Park\",\"Botanic Garden\",\"Prospect Park\",\"Greenwood Cemetery\",\"Holy Cross Cemetery\",\"Bush Terminal\",\"Owls Head Park\",\"Fort Hamilton\",\"Dyker Beach Park\",\"Washington Cemetery\",\"Marine Park\",\"Floyd Bennett Field\",\"Canarsie Beach Park\",\"Aqueduct Race Track\",\"Bayside Cemetery\",\"Brookville Park\",\"Baisley Pond Park\",\"Roy Wilkins Park\",\"Forest Park\",\"Cypress Hills Cemetery\",\"Saint  Johns Cemetery\",\"Linden Hill Cemetery\",\"Mount Olivet Cemetery\",\"Juniper Valley Park\",\"Lutheran Cemetery\",\"Montefiore Cemetery\",\"Flushing Meadows Corona Park\",\"Mount Hebron Cemetery\",\"Kissena Park\",\"Cunningham Park\",\"Fort Totten\",\"Clearview Park\",\"Crocheron Park\",\"Alley Pond Park\",\"Douglaston Park\",\"Fort Schuyler\",\"Calvary Cemetery\",\"New Calvary Cemetery\",\"Mount Zion Cemetery\",\"Jacob Riis Park\",\"Fort Tilden\",\"Liberty Island\",\"Ellis Island\",\"Snug Harbor\",\"Silver Lake Park\",\"Clove Lakes Park\",\"Fort Wadsworth\",\"Miller Field\",\"Great Kills Park\",\"Moravian Cemetery\",\"LaTourette Park\",\"Willowbrook Park\",\"Blue Heron Park\",\"Wolfe's Pond Park\",\"Mount Loretto\",\"Conference House Park\",\"South Shore Golf Course\",\"Fresh Kills\",\"Plumb Beach\",\"John F. Kennedy International Airport\",\"LaGuardia Airport\",\"Jamaica Bay Wildlife Refuge\",\"Calvert Vaux\",\"High Rock Park\",\"Red Hook Park\",\"Saint Michael's Cemetery\",\"Riverdale Park\",\"Forest Park Golf Course\",\"Spring Creek Park Preserve No Access\",\"Spring Creek Park Gateway National Recreation Area\"],\"palette\":[\"#1f77b3\",\"#ff7e0e\",\"#2ba02b\",\"#d62628\",\"#9367bc\",\"#8c564b\",\"#e277c1\",\"#7e7e7e\",\"#bcbc21\",\"#16bdcf\",\"#3a0182\",\"#004201\",\"#0fffa8\",\"#5d003f\",\"#bcbcff\",\"#d8afa1\",\"#b80080\",\"#004d52\",\"#6b6400\",\"#7c0100\",\"#6026ff\",\"#ffff9a\",\"#564964\",\"#8cb893\",\"#93fbff\",\"#018267\",\"#90ff00\",\"#8200a0\",\"#ac8944\",\"#5b3400\",\"#ffbff2\",\"#ff6e75\",\"#798cff\",\"#dd00ff\",\"#505646\",\"#004489\",\"#ffbf60\",\"#ff018c\",\"#bdc8cf\",\"#af97b5\",\"#b65600\",\"#017000\",\"#cd87ff\",\"#1cd646\",\"#bfebc3\",\"#7997b5\",\"#a56089\",\"#6e8956\",\"#bc7c75\",\"#8a2844\",\"#00acff\",\"#8ed4ff\",\"#4b6d77\",\"#00d4b1\",\"#9300f2\",\"#8a9500\",\"#5d5b9e\",\"#fddfba\",\"#00939e\",\"#ffdb00\",\"#00aa79\",\"#520067\",\"#000091\",\"#0a5d3d\",\"#a5e275\",\"#623b41\",\"#c6c689\",\"#ff9eb5\",\"#cd4f6b\",\"#ff07d6\",\"#8a3a05\",\"#7e3d70\",\"#ff4901\",\"#602ba5\",\"#1c00ff\",\"#e6dfff\",\"#aa3baf\",\"#d89c00\",\"#a3a39e\",\"#3f69ff\",\"#46490c\",\"#7b6985\",\"#6b978c\",\"#ff9a75\",\"#835bff\",\"#7c6b46\",\"#80b654\",\"#bc0049\",\"#fd93ff\",\"#5d0018\",\"#89d1d1\",\"#9c8cd3\",\"#da6d42\",\"#8a5700\",\"#3b5069\",\"#4b6b3b\"]},\"id\":\"1629\",\"type\":\"CategoricalColorMapper\"},{\"attributes\":{\"dimension\":\"lon\"},\"id\":\"1599\",\"type\":\"MercatorTickFormatter\"}],\"root_ids\":[\"1553\"]},\"title\":\"Bokeh Application\",\"version\":\"2.4.2\"}};\n",
       "    var render_items = [{\"docid\":\"0f107d5a-e0d9-4316-8ee8-8c22a857a6fd\",\"root_ids\":[\"1553\"],\"roots\":{\"1553\":\"77eb94c2-e808-4dea-bfd5-2676663204ae\"}}];\n",
       "    root.Bokeh.embed.embed_items_notebook(docs_json, render_items);\n",
       "  }\n",
       "  if (root.Bokeh !== undefined && root.Bokeh.Panel !== undefined) {\n",
       "    embed_document(root);\n",
       "  } else {\n",
       "    var attempts = 0;\n",
       "    var timer = setInterval(function(root) {\n",
       "      if (root.Bokeh !== undefined && root.Bokeh.Panel !== undefined) {\n",
       "        clearInterval(timer);\n",
       "        embed_document(root);\n",
       "      } else if (document.readyState == \"complete\") {\n",
       "        attempts++;\n",
       "        if (attempts > 200) {\n",
       "          clearInterval(timer);\n",
       "          console.log(\"Bokeh: ERROR: Unable to run BokehJS code because BokehJS library is missing\");\n",
       "        }\n",
       "      }\n",
       "    }, 25, root)\n",
       "  }\n",
       "})(window);</script>"
      ],
      "text/plain": [
       ":Overlay\n",
       "   .Tiles.I  :Tiles   [x,y]\n",
       "   .Points.I :Points   [Longitude,Latitude]   (Name)"
      ]
     },
     "execution_count": 14,
     "metadata": {
      "application/vnd.holoviews_exec.v0+json": {
       "id": "1553"
      }
     },
     "output_type": "execute_result"
    }
   ],
   "source": [
    "# Plot all of the NYC places of interest\n",
    "# Set the color parameter to Name\n",
    "# Set alpha to 0.8\n",
    "# Set tiles to 'OSM'\n",
    "# Set frame_width = 700\n",
    "# Set frame_height = 500\n",
    "\n",
    "places_of_interest_by_name = places_of_interest.hvplot.points(\n",
    "    x='Longitude', \n",
    "    y='Latitude', \n",
    "    geo=True, \n",
    "    color='Name',\n",
    "    alpha= .8,\n",
    "    tiles='OSM',\n",
    "    frame_width=700,\n",
    "    frame_height=500\n",
    "    )\n",
    "\n",
    "places_of_interest_by_name\n",
    "# Show the plot\n",
    "# YOUR CODE HERE"
   ]
  },
  {
   "cell_type": "markdown",
   "metadata": {
    "tags": []
   },
   "source": [
    "### Step 3: Plot All Places of Interest by Place Type"
   ]
  },
  {
   "cell_type": "code",
   "execution_count": 13,
   "metadata": {},
   "outputs": [
    {
     "data": {},
     "metadata": {},
     "output_type": "display_data"
    },
    {
     "data": {
      "application/vnd.holoviews_exec.v0+json": "",
      "text/html": [
       "<div id='1370'>\n",
       "\n",
       "\n",
       "\n",
       "\n",
       "\n",
       "  <div class=\"bk-root\" id=\"097467f4-ceb2-46e5-8100-013ee59a6009\" data-root-id=\"1370\"></div>\n",
       "</div>\n",
       "<script type=\"application/javascript\">(function(root) {\n",
       "  function embed_document(root) {\n",
       "    var docs_json = {\"45462faf-4f9f-498b-bcae-7ab819a02314\":{\"defs\":[{\"extends\":null,\"module\":null,\"name\":\"ReactiveHTML1\",\"overrides\":[],\"properties\":[]},{\"extends\":null,\"module\":null,\"name\":\"FlexBox1\",\"overrides\":[],\"properties\":[{\"default\":\"flex-start\",\"kind\":null,\"name\":\"align_content\"},{\"default\":\"flex-start\",\"kind\":null,\"name\":\"align_items\"},{\"default\":\"row\",\"kind\":null,\"name\":\"flex_direction\"},{\"default\":\"wrap\",\"kind\":null,\"name\":\"flex_wrap\"},{\"default\":\"flex-start\",\"kind\":null,\"name\":\"justify_content\"}]},{\"extends\":null,\"module\":null,\"name\":\"TemplateActions1\",\"overrides\":[],\"properties\":[{\"default\":0,\"kind\":null,\"name\":\"open_modal\"},{\"default\":0,\"kind\":null,\"name\":\"close_modal\"}]},{\"extends\":null,\"module\":null,\"name\":\"MaterialTemplateActions1\",\"overrides\":[],\"properties\":[{\"default\":0,\"kind\":null,\"name\":\"open_modal\"},{\"default\":0,\"kind\":null,\"name\":\"close_modal\"}]}],\"roots\":{\"references\":[{\"attributes\":{\"end\":5002868.404392054,\"min_interval\":5,\"reset_end\":5002868.404392054,\"reset_start\":4932981.895163525,\"start\":4932981.895163525,\"tags\":[[[\"Latitude\",\"Latitude\",null]]]},\"id\":\"1377\",\"type\":\"Range1d\"},{\"attributes\":{\"end\":-8187655.96828672,\"min_interval\":5,\"reset_end\":-8187655.96828672,\"reset_start\":-8285497.081206661,\"start\":-8285497.081206661,\"tags\":[[[\"Longitude\",\"Longitude\",null]]]},\"id\":\"1376\",\"type\":\"Range1d\"},{\"attributes\":{\"axis_label\":\"x\",\"coordinates\":null,\"formatter\":{\"id\":\"1416\"},\"group\":null,\"major_label_policy\":{\"id\":\"1421\"},\"ticker\":{\"id\":\"1415\"}},\"id\":\"1392\",\"type\":\"LinearAxis\"},{\"attributes\":{\"bottom_units\":\"screen\",\"coordinates\":null,\"fill_alpha\":0.5,\"fill_color\":\"lightgrey\",\"group\":null,\"left_units\":\"screen\",\"level\":\"overlay\",\"line_alpha\":1.0,\"line_color\":\"black\",\"line_dash\":[4,4],\"line_width\":2,\"right_units\":\"screen\",\"syncable\":false,\"top_units\":\"screen\"},\"id\":\"1405\",\"type\":\"BoxAnnotation\"},{\"attributes\":{\"callback\":null,\"formatters\":{\"$x\":{\"id\":\"1465\"},\"$y\":{\"id\":\"1466\"}},\"renderers\":[{\"id\":\"1455\"}],\"tags\":[\"hv_created\"],\"tooltips\":[[\"Longitude\",\"$x{custom}\"],[\"Latitude\",\"$y{custom}\"],[\"PlaceType\",\"@{PlaceType}\"]]},\"id\":\"1380\",\"type\":\"HoverTool\"},{\"attributes\":{\"factors\":[\"Park\",\"Cemetery\",\"Garden\",\"Island\",\"Hill Park\",\"Circle\",\"Square\",\"Terminal\",\"Hamilton\",\"Field\",\"Track\",\"nan\",\"Corona\",\"Totten\",\"Schuyler\",\"Tilden\",\"Harbor\",\"Wadsworth\",\"Loretto\",\"Golf\",\"Kills\",\"Beach\",\"International Airport\",\"Wildlife Refuge\"],\"palette\":[\"#1f77b3\",\"#ff7e0e\",\"#2ba02b\",\"#d62628\",\"#9367bc\",\"#8c564b\",\"#e277c1\",\"#7e7e7e\",\"#bcbc21\",\"#16bdcf\",\"#3a0182\",\"#004201\",\"#0fffa8\",\"#5d003f\",\"#bcbcff\",\"#d8afa1\",\"#b80080\",\"#004d52\",\"#6b6400\",\"#7c0100\",\"#6026ff\",\"#ffff9a\",\"#564964\",\"#8cb893\"]},\"id\":\"1446\",\"type\":\"CategoricalColorMapper\"},{\"attributes\":{\"coordinates\":null,\"group\":null,\"level\":\"glyph\",\"tile_source\":{\"id\":\"1441\"}},\"id\":\"1444\",\"type\":\"TileRenderer\"},{\"attributes\":{\"axis\":{\"id\":\"1396\"},\"coordinates\":null,\"dimension\":1,\"grid_line_color\":null,\"group\":null,\"ticker\":null},\"id\":\"1399\",\"type\":\"Grid\"},{\"attributes\":{},\"id\":\"1404\",\"type\":\"ResetTool\"},{\"attributes\":{\"zoom_on_axis\":false},\"id\":\"1402\",\"type\":\"WheelZoomTool\"},{\"attributes\":{},\"id\":\"1428\",\"type\":\"AllLabels\"},{\"attributes\":{\"data\":{\"Latitude\":{\"__ndarray__\":\"1cxBK+0PU0EFkxUdBA9TQcMRDNWYDlNBXEPLS04NU0Fj/NYvWwtTQWcWH6ATClNBhHQWn3IFU0Gw21nzKARTQe/w925RBFNBHT83h6AHU0HEPWjhIwlTQU5VGKx6CVNBIQmrgr8DU0FUgp4ceQxTQdiHhXImC1NBVR+zxfIAU0E2n8zEmAJTQWQ2bGSDAVNBNgXi4df/UkFG10dTpP9SQRcytaaD/VJBzRE1xxL8UkE3tSfizPlSQZpHk1zo+FJBpyJdeTvyUkFyx/lLv/ZSQRIB5IfE/lJBPJgPq3DvUkEGDhf6Me5SQWCzB1bg7FJB4fjBHSLsUkHbdt/IT+1SQQSrS/ck61JB+RezdHrmUkGlbd0gEOdSQQ15ZjdR6FJB/Rk/I+flUkFBoIoDLeRSQRnpizkS6VJBtCupfsPvUkFIEKZefvBSQfOrjj/b7FJBzBzON+rvUkFrxoU9BPJSQaedhvlD9FJBNC8wVifzUkF7uaSy7PVSQUFakBRB9VJBkJXlI732UkG5rCM5q/ZSQQheUTKB9VJBSfFpQrjxUkGNe8lDM/lSQXVLmcqj+FJB+AQR/iT6UkF2Wbv56fdSQfPcn04HAVNBRiKYmJn/UkGK0c35+/1SQRgb0XNy+1JB2jwSeij7UkG8Hlou6QJTQdk20LOJ+FJBPUxXNBH5UkErzkwSWfhSQewpz+/S4FJBBMYy6+3fUkHNCCTvUPJSQUlrjmyi81JBABEW5XrrUkEwHls8VOlSQbV1qMkD6FJB4w0CngzmUkGL3Nkx2OBSQaYAgPMK3lJBtTMravLiUkFC4KPq3eJSQa5wHZ+C5VJB5WLTYpXbUkGMYLAQOdpSQWiz2Ah/2FJBK3H4Zw3XUkFgPElCb95SQaYL8y214VJBo0XGBQTjUkFnaLheTuxSQYiKYu+R/lJBTmCtk7LoUkH4MYvrSONSQX2nd1IN5FJBrgdEGb7vUkHWHNvv/vxSQa60sW1dD1NBZylGtKvzUkEv0DQ6/OtSQRmBvh8O7FJB\",\"dtype\":\"float64\",\"order\":\"little\",\"shape\":[96]},\"Longitude\":{\"__ndarray__\":\"MMxcTIBgX8Gg8uiknl5fwZEnBwEIW1/BhZa9Z+VXX8GuyW7mV19fwc1/1e0eX1/BJUQxHKtaX8G1PV23ZlpfwTbGXiytXl/Bkhwb/xJhX8GtiwZ1Al9fwUos9vOKU1/BfFpV0vpiX8EONZozjGRfwalqsXArZV/B9ePZ39NfX8EfPlliV2ZfwV6DY3wPZF/B9xEPw/VkX8Flx03K1mhfwYW4t+qaal/BbRQ255dqX8G03bp5RmtfwUDg7NuGa1/BW8o2WZJuX8E8ovo5WmdfwY368P5WZF/ByFS+1uNoX8HCEcpDNmlfwRgcX4+Ia1/B30+0VstlX8Fwpf6Jl25fwXmkv7gVcF/BWqK21rNvX8G9Le31sm5fwfIHQtvmaV/BvroF6FFkX8EipVn0n2BfwaOD+/F+YV/BcpOS2ihaX8GvmzoLz1xfwSK8dmynUV/BGVO3emhVX8EetycLylNfwb4ogozQW1/B8z2YnhtfX8HQkxTQHF5fwQLDWFk4Y1/BujBU0UJhX8ELwEPCfF9fwe1JNEpXYF/BUWbDAH9QX8GYd68vVVtfwfzQ5ucgWl/BJ/abxEZXX8FOW3y5dlNfwS+hwJ5VVF/B4HXbr55VX8G3jQDWdVNfwYgvybHFUF/BHpUQKXhPX8EBS5QgFVZfwVlFaE/6ZF/BDGWLeyFjX8F/wrTKj2JfwTgK3MacXl/BHp8JrCVhX8HEVozHfnFfwRO1BpvwcF/BiUXayMl3X8E+96Fg23ZfwR+hPlGbeF/BPOLHfPdyX8Fg6vj9UHdfwcisvyk6el/BCwpgoFR5X8HwGwNxEHxfwWNVeo/GfV/Bw5t0q6J/X8FgB3jcfYFfwXz+ZUVHhF/BIlEaGpiHX8GFY0y53IJfwRntScDEgV/Br3P7bVhjX8HIC5n1TlVfwZcJWtXnXl/B6QdxObBZX8EDahsf42tfwQmJh8wQeV/B8qGHHC1tX8E63SQRiWFfwR7Zw/GHY1/BQmKV7KVdX8Emb1oW5l1fwWuBNv+iW1/B\",\"dtype\":\"float64\",\"order\":\"little\",\"shape\":[96]},\"PlaceType\":[\"Park\",\"Cemetery\",\"Park\",\"Park\",\"Garden\",\"Park\",\"Cemetery\",\"Park\",\"Park\",\"Park\",\"Park\",\"Island\",\"Park\",\"Hill Park\",\"Park\",\"Island\",\"Park\",\"Park\",\"Park\",\"Park\",\"Circle\",\"Square\",\"Square\",\"Square\",\"Island\",\"Park\",\"Park\",\"Garden\",\"Park\",\"Cemetery\",\"Cemetery\",\"Terminal\",\"Park\",\"Hamilton\",\"Park\",\"Cemetery\",\"Park\",\"Field\",\"Park\",\"Track\",\"Cemetery\",\"Park\",\"Park\",\"Park\",\"nan\",\"Cemetery\",\"Cemetery\",\"Cemetery\",\"Cemetery\",\"Park\",\"Cemetery\",\"Cemetery\",\"Corona\",\"Cemetery\",\"nan\",\"Park\",\"Totten\",\"Park\",\"Park\",\"Park\",\"Park\",\"Schuyler\",\"Cemetery\",\"Cemetery\",\"Cemetery\",\"Park\",\"Tilden\",\"Island\",\"Island\",\"Harbor\",\"Park\",\"Park\",\"Wadsworth\",\"Field\",\"Park\",\"Cemetery\",\"Park\",\"Park\",\"Park\",\"Park\",\"Loretto\",\"Park\",\"Golf\",\"Kills\",\"Beach\",\"International Airport\",\"nan\",\"Wildlife Refuge\",\"Park\",\"Park\",\"Park\",\"Cemetery\",\"Park\",\"nan\",\"Park\",\"Park\"],\"color\":[\"Park\",\"Cemetery\",\"Park\",\"Park\",\"Garden\",\"Park\",\"Cemetery\",\"Park\",\"Park\",\"Park\",\"Park\",\"Island\",\"Park\",\"Hill Park\",\"Park\",\"Island\",\"Park\",\"Park\",\"Park\",\"Park\",\"Circle\",\"Square\",\"Square\",\"Square\",\"Island\",\"Park\",\"Park\",\"Garden\",\"Park\",\"Cemetery\",\"Cemetery\",\"Terminal\",\"Park\",\"Hamilton\",\"Park\",\"Cemetery\",\"Park\",\"Field\",\"Park\",\"Track\",\"Cemetery\",\"Park\",\"Park\",\"Park\",\"nan\",\"Cemetery\",\"Cemetery\",\"Cemetery\",\"Cemetery\",\"Park\",\"Cemetery\",\"Cemetery\",\"Corona\",\"Cemetery\",\"nan\",\"Park\",\"Totten\",\"Park\",\"Park\",\"Park\",\"Park\",\"Schuyler\",\"Cemetery\",\"Cemetery\",\"Cemetery\",\"Park\",\"Tilden\",\"Island\",\"Island\",\"Harbor\",\"Park\",\"Park\",\"Wadsworth\",\"Field\",\"Park\",\"Cemetery\",\"Park\",\"Park\",\"Park\",\"Park\",\"Loretto\",\"Park\",\"Golf\",\"Kills\",\"Beach\",\"International Airport\",\"nan\",\"Wildlife Refuge\",\"Park\",\"Park\",\"Park\",\"Cemetery\",\"Park\",\"nan\",\"Park\",\"Park\"]},\"selected\":{\"id\":\"1448\"},\"selection_policy\":{\"id\":\"1460\"}},\"id\":\"1447\",\"type\":\"ColumnDataSource\"},{\"attributes\":{\"match_aspect\":true,\"overlay\":{\"id\":\"1405\"}},\"id\":\"1403\",\"type\":\"BoxZoomTool\"},{\"attributes\":{\"dimension\":\"lon\"},\"id\":\"1415\",\"type\":\"MercatorTicker\"},{\"attributes\":{},\"id\":\"1421\",\"type\":\"AllLabels\"},{\"attributes\":{\"below\":[{\"id\":\"1392\"}],\"center\":[{\"id\":\"1395\"},{\"id\":\"1399\"}],\"frame_height\":500,\"frame_width\":700,\"height\":null,\"left\":[{\"id\":\"1396\"}],\"margin\":[5,5,5,5],\"match_aspect\":true,\"min_border_bottom\":10,\"min_border_left\":10,\"min_border_right\":10,\"min_border_top\":10,\"renderers\":[{\"id\":\"1444\"},{\"id\":\"1455\"}],\"right\":[{\"id\":\"1463\"}],\"sizing_mode\":\"fixed\",\"title\":{\"id\":\"1384\"},\"toolbar\":{\"id\":\"1406\"},\"width\":null,\"x_range\":{\"id\":\"1376\"},\"x_scale\":{\"id\":\"1388\"},\"y_range\":{\"id\":\"1377\"},\"y_scale\":{\"id\":\"1390\"}},\"id\":\"1383\",\"subtype\":\"Figure\",\"type\":\"Plot\"},{\"attributes\":{\"attribution\":\"&copy; <a href=\\\"https://www.openstreetmap.org/copyright\\\">OpenStreetMap</a> contributors\",\"url\":\"https://c.tile.openstreetmap.org/{Z}/{X}/{Y}.png\"},\"id\":\"1441\",\"type\":\"WMTSTileSource\"},{\"attributes\":{\"fill_alpha\":{\"value\":0.8},\"fill_color\":{\"field\":\"color\",\"transform\":{\"id\":\"1446\"}},\"hatch_alpha\":{\"value\":0.8},\"hatch_color\":{\"field\":\"color\",\"transform\":{\"id\":\"1446\"}},\"line_alpha\":{\"value\":0.8},\"line_color\":{\"field\":\"color\",\"transform\":{\"id\":\"1446\"}},\"size\":{\"value\":5.477225575051661},\"x\":{\"field\":\"Longitude\"},\"y\":{\"field\":\"Latitude\"}},\"id\":\"1450\",\"type\":\"Scatter\"},{\"attributes\":{\"fill_alpha\":{\"value\":0.8},\"fill_color\":{\"field\":\"color\",\"transform\":{\"id\":\"1446\"}},\"hatch_alpha\":{\"value\":0.8},\"hatch_color\":{\"field\":\"color\",\"transform\":{\"id\":\"1446\"}},\"line_alpha\":{\"value\":0.8},\"line_color\":{\"field\":\"color\",\"transform\":{\"id\":\"1446\"}},\"size\":{\"value\":5.477225575051661},\"x\":{\"field\":\"Longitude\"},\"y\":{\"field\":\"Latitude\"}},\"id\":\"1453\",\"type\":\"Scatter\"},{\"attributes\":{\"margin\":[5,5,5,5],\"name\":\"HSpacer03968\",\"sizing_mode\":\"stretch_width\"},\"id\":\"1371\",\"type\":\"Spacer\"},{\"attributes\":{\"fill_alpha\":{\"value\":0.2},\"fill_color\":{\"field\":\"color\",\"transform\":{\"id\":\"1446\"}},\"hatch_alpha\":{\"value\":0.2},\"hatch_color\":{\"field\":\"color\",\"transform\":{\"id\":\"1446\"}},\"line_alpha\":{\"value\":0.2},\"line_color\":{\"field\":\"color\",\"transform\":{\"id\":\"1446\"}},\"size\":{\"value\":5.477225575051661},\"x\":{\"field\":\"Longitude\"},\"y\":{\"field\":\"Latitude\"}},\"id\":\"1454\",\"type\":\"Scatter\"},{\"attributes\":{\"tools\":[{\"id\":\"1380\"},{\"id\":\"1400\"},{\"id\":\"1401\"},{\"id\":\"1402\"},{\"id\":\"1403\"},{\"id\":\"1404\"}]},\"id\":\"1406\",\"type\":\"Toolbar\"},{\"attributes\":{\"fill_alpha\":{\"value\":0.8},\"fill_color\":{\"field\":\"color\",\"transform\":{\"id\":\"1446\"}},\"hatch_alpha\":{\"value\":0.8},\"hatch_color\":{\"field\":\"color\",\"transform\":{\"id\":\"1446\"}},\"line_alpha\":{\"value\":0.8},\"line_color\":{\"field\":\"color\",\"transform\":{\"id\":\"1446\"}},\"size\":{\"value\":5.477225575051661},\"x\":{\"field\":\"Longitude\"},\"y\":{\"field\":\"Latitude\"}},\"id\":\"1452\",\"type\":\"Scatter\"},{\"attributes\":{},\"id\":\"1388\",\"type\":\"LinearScale\"},{\"attributes\":{\"code\":\"\\n        var projections = Bokeh.require(\\\"core/util/projections\\\");\\n        var x = special_vars.data_x\\n        var y = special_vars.data_y\\n        if (projections.wgs84_mercator.invert == null) {\\n          var coords = projections.wgs84_mercator.inverse([x, y])\\n        } else {\\n          var coords = projections.wgs84_mercator.invert(x, y)\\n        }\\n        return \\\"\\\" + (coords[0]).toFixed(4)\\n    \"},\"id\":\"1465\",\"type\":\"CustomJSHover\"},{\"attributes\":{\"children\":[{\"id\":\"1371\"},{\"id\":\"1383\"},{\"id\":\"1521\"}],\"margin\":[0,0,0,0],\"name\":\"Row03964\",\"tags\":[\"embedded\"]},\"id\":\"1370\",\"type\":\"Row\"},{\"attributes\":{\"dimension\":\"lat\"},\"id\":\"1418\",\"type\":\"MercatorTickFormatter\"},{\"attributes\":{\"label\":{\"field\":\"color\"},\"renderers\":[{\"id\":\"1455\"}]},\"id\":\"1464\",\"type\":\"LegendItem\"},{\"attributes\":{},\"id\":\"1390\",\"type\":\"LinearScale\"},{\"attributes\":{\"margin\":[5,5,5,5],\"name\":\"HSpacer03969\",\"sizing_mode\":\"stretch_width\"},\"id\":\"1521\",\"type\":\"Spacer\"},{\"attributes\":{},\"id\":\"1401\",\"type\":\"PanTool\"},{\"attributes\":{},\"id\":\"1460\",\"type\":\"UnionRenderers\"},{\"attributes\":{\"coordinates\":null,\"data_source\":{\"id\":\"1447\"},\"glyph\":{\"id\":\"1450\"},\"group\":null,\"hover_glyph\":{\"id\":\"1453\"},\"muted_glyph\":{\"id\":\"1454\"},\"nonselection_glyph\":{\"id\":\"1451\"},\"selection_glyph\":{\"id\":\"1452\"},\"view\":{\"id\":\"1456\"}},\"id\":\"1455\",\"type\":\"GlyphRenderer\"},{\"attributes\":{\"fill_alpha\":{\"value\":0.8},\"fill_color\":{\"field\":\"color\",\"transform\":{\"id\":\"1446\"}},\"hatch_alpha\":{\"value\":0.1},\"hatch_color\":{\"field\":\"color\",\"transform\":{\"id\":\"1446\"}},\"line_alpha\":{\"value\":0.8},\"line_color\":{\"field\":\"color\",\"transform\":{\"id\":\"1446\"}},\"size\":{\"value\":5.477225575051661},\"x\":{\"field\":\"Longitude\"},\"y\":{\"field\":\"Latitude\"}},\"id\":\"1451\",\"type\":\"Scatter\"},{\"attributes\":{\"axis\":{\"id\":\"1392\"},\"coordinates\":null,\"grid_line_color\":null,\"group\":null,\"ticker\":null},\"id\":\"1395\",\"type\":\"Grid\"},{\"attributes\":{\"coordinates\":null,\"group\":null,\"text_color\":\"black\",\"text_font_size\":\"12pt\"},\"id\":\"1384\",\"type\":\"Title\"},{\"attributes\":{\"dimension\":\"lon\"},\"id\":\"1416\",\"type\":\"MercatorTickFormatter\"},{\"attributes\":{\"code\":\"\\n        var projections = Bokeh.require(\\\"core/util/projections\\\");\\n        var x = special_vars.data_x\\n        var y = special_vars.data_y\\n        if (projections.wgs84_mercator.invert == null) {\\n          var coords = projections.wgs84_mercator.inverse([x, y])\\n        } else {\\n          var coords = projections.wgs84_mercator.invert(x, y)\\n        }\\n        return \\\"\\\" + (coords[1]).toFixed(4)\\n    \"},\"id\":\"1466\",\"type\":\"CustomJSHover\"},{\"attributes\":{\"source\":{\"id\":\"1447\"}},\"id\":\"1456\",\"type\":\"CDSView\"},{\"attributes\":{\"dimension\":\"lat\"},\"id\":\"1417\",\"type\":\"MercatorTicker\"},{\"attributes\":{\"axis_label\":\"y\",\"coordinates\":null,\"formatter\":{\"id\":\"1418\"},\"group\":null,\"major_label_policy\":{\"id\":\"1428\"},\"ticker\":{\"id\":\"1417\"}},\"id\":\"1396\",\"type\":\"LinearAxis\"},{\"attributes\":{},\"id\":\"1448\",\"type\":\"Selection\"},{\"attributes\":{},\"id\":\"1400\",\"type\":\"SaveTool\"},{\"attributes\":{\"click_policy\":\"mute\",\"coordinates\":null,\"group\":null,\"items\":[{\"id\":\"1464\"}],\"location\":[0,0]},\"id\":\"1463\",\"type\":\"Legend\"}],\"root_ids\":[\"1370\"]},\"title\":\"Bokeh Application\",\"version\":\"2.4.2\"}};\n",
       "    var render_items = [{\"docid\":\"45462faf-4f9f-498b-bcae-7ab819a02314\",\"root_ids\":[\"1370\"],\"roots\":{\"1370\":\"097467f4-ceb2-46e5-8100-013ee59a6009\"}}];\n",
       "    root.Bokeh.embed.embed_items_notebook(docs_json, render_items);\n",
       "  }\n",
       "  if (root.Bokeh !== undefined && root.Bokeh.Panel !== undefined) {\n",
       "    embed_document(root);\n",
       "  } else {\n",
       "    var attempts = 0;\n",
       "    var timer = setInterval(function(root) {\n",
       "      if (root.Bokeh !== undefined && root.Bokeh.Panel !== undefined) {\n",
       "        clearInterval(timer);\n",
       "        embed_document(root);\n",
       "      } else if (document.readyState == \"complete\") {\n",
       "        attempts++;\n",
       "        if (attempts > 200) {\n",
       "          clearInterval(timer);\n",
       "          console.log(\"Bokeh: ERROR: Unable to run BokehJS code because BokehJS library is missing\");\n",
       "        }\n",
       "      }\n",
       "    }, 25, root)\n",
       "  }\n",
       "})(window);</script>"
      ],
      "text/plain": [
       ":Overlay\n",
       "   .Tiles.I  :Tiles   [x,y]\n",
       "   .Points.I :Points   [Longitude,Latitude]   (PlaceType)"
      ]
     },
     "execution_count": 13,
     "metadata": {
      "application/vnd.holoviews_exec.v0+json": {
       "id": "1370"
      }
     },
     "output_type": "execute_result"
    }
   ],
   "source": [
    "# Plot all of the NYC places of interest\n",
    "# Set the color parameter to PlaceType\n",
    "# Keep all other parameters the same as the previous plot\n",
    "\n",
    "places_of_interest_by_type = places_of_interest.hvplot.points(\n",
    "    x='Longitude', \n",
    "    y='Latitude', \n",
    "    geo=True, \n",
    "    color='PlaceType',\n",
    "    alpha= .8,\n",
    "    tiles='OSM',\n",
    "    frame_width=700,\n",
    "    frame_height=500\n",
    "    )\n",
    "\n",
    "places_of_interest_by_type\n",
    "# Show the plot\n",
    "# YOUR CODE HERE"
   ]
  },
  {
   "cell_type": "markdown",
   "metadata": {},
   "source": [
    "### Step 4: Plot All Places of Interest by Borough"
   ]
  },
  {
   "cell_type": "code",
   "execution_count": 15,
   "metadata": {},
   "outputs": [
    {
     "data": {},
     "metadata": {},
     "output_type": "display_data"
    },
    {
     "data": {
      "application/vnd.holoviews_exec.v0+json": "",
      "text/html": [
       "<div id='1736'>\n",
       "\n",
       "\n",
       "\n",
       "\n",
       "\n",
       "  <div class=\"bk-root\" id=\"1e3668f9-6662-4245-9462-3088a852becb\" data-root-id=\"1736\"></div>\n",
       "</div>\n",
       "<script type=\"application/javascript\">(function(root) {\n",
       "  function embed_document(root) {\n",
       "    var docs_json = {\"918f7575-b376-4267-bef4-644c26d9062c\":{\"defs\":[{\"extends\":null,\"module\":null,\"name\":\"ReactiveHTML1\",\"overrides\":[],\"properties\":[]},{\"extends\":null,\"module\":null,\"name\":\"FlexBox1\",\"overrides\":[],\"properties\":[{\"default\":\"flex-start\",\"kind\":null,\"name\":\"align_content\"},{\"default\":\"flex-start\",\"kind\":null,\"name\":\"align_items\"},{\"default\":\"row\",\"kind\":null,\"name\":\"flex_direction\"},{\"default\":\"wrap\",\"kind\":null,\"name\":\"flex_wrap\"},{\"default\":\"flex-start\",\"kind\":null,\"name\":\"justify_content\"}]},{\"extends\":null,\"module\":null,\"name\":\"TemplateActions1\",\"overrides\":[],\"properties\":[{\"default\":0,\"kind\":null,\"name\":\"open_modal\"},{\"default\":0,\"kind\":null,\"name\":\"close_modal\"}]},{\"extends\":null,\"module\":null,\"name\":\"MaterialTemplateActions1\",\"overrides\":[],\"properties\":[{\"default\":0,\"kind\":null,\"name\":\"open_modal\"},{\"default\":0,\"kind\":null,\"name\":\"close_modal\"}]}],\"roots\":{\"references\":[{\"attributes\":{},\"id\":\"1766\",\"type\":\"SaveTool\"},{\"attributes\":{\"fill_alpha\":{\"value\":0.8},\"fill_color\":{\"field\":\"color\",\"transform\":{\"id\":\"1812\"}},\"hatch_alpha\":{\"value\":0.8},\"hatch_color\":{\"field\":\"color\",\"transform\":{\"id\":\"1812\"}},\"line_alpha\":{\"value\":0.8},\"line_color\":{\"field\":\"color\",\"transform\":{\"id\":\"1812\"}},\"size\":{\"value\":5.477225575051661},\"x\":{\"field\":\"Longitude\"},\"y\":{\"field\":\"Latitude\"}},\"id\":\"1816\",\"type\":\"Scatter\"},{\"attributes\":{},\"id\":\"1814\",\"type\":\"Selection\"},{\"attributes\":{\"axis_label\":\"x\",\"coordinates\":null,\"formatter\":{\"id\":\"1782\"},\"group\":null,\"major_label_policy\":{\"id\":\"1787\"},\"ticker\":{\"id\":\"1781\"}},\"id\":\"1758\",\"type\":\"LinearAxis\"},{\"attributes\":{\"source\":{\"id\":\"1813\"}},\"id\":\"1822\",\"type\":\"CDSView\"},{\"attributes\":{\"code\":\"\\n        var projections = Bokeh.require(\\\"core/util/projections\\\");\\n        var x = special_vars.data_x\\n        var y = special_vars.data_y\\n        if (projections.wgs84_mercator.invert == null) {\\n          var coords = projections.wgs84_mercator.inverse([x, y])\\n        } else {\\n          var coords = projections.wgs84_mercator.invert(x, y)\\n        }\\n        return \\\"\\\" + (coords[0]).toFixed(4)\\n    \"},\"id\":\"1831\",\"type\":\"CustomJSHover\"},{\"attributes\":{\"dimension\":\"lon\"},\"id\":\"1782\",\"type\":\"MercatorTickFormatter\"},{\"attributes\":{\"end\":-8187655.96828672,\"min_interval\":5,\"reset_end\":-8187655.96828672,\"reset_start\":-8285497.081206661,\"start\":-8285497.081206661,\"tags\":[[[\"Longitude\",\"Longitude\",null]]]},\"id\":\"1742\",\"type\":\"Range1d\"},{\"attributes\":{\"dimension\":\"lat\"},\"id\":\"1783\",\"type\":\"MercatorTicker\"},{\"attributes\":{},\"id\":\"1756\",\"type\":\"LinearScale\"},{\"attributes\":{\"coordinates\":null,\"data_source\":{\"id\":\"1813\"},\"glyph\":{\"id\":\"1816\"},\"group\":null,\"hover_glyph\":{\"id\":\"1819\"},\"muted_glyph\":{\"id\":\"1820\"},\"nonselection_glyph\":{\"id\":\"1817\"},\"selection_glyph\":{\"id\":\"1818\"},\"view\":{\"id\":\"1822\"}},\"id\":\"1821\",\"type\":\"GlyphRenderer\"},{\"attributes\":{\"axis_label\":\"y\",\"coordinates\":null,\"formatter\":{\"id\":\"1784\"},\"group\":null,\"major_label_policy\":{\"id\":\"1794\"},\"ticker\":{\"id\":\"1783\"}},\"id\":\"1762\",\"type\":\"LinearAxis\"},{\"attributes\":{\"fill_alpha\":{\"value\":0.2},\"fill_color\":{\"field\":\"color\",\"transform\":{\"id\":\"1812\"}},\"hatch_alpha\":{\"value\":0.2},\"hatch_color\":{\"field\":\"color\",\"transform\":{\"id\":\"1812\"}},\"line_alpha\":{\"value\":0.2},\"line_color\":{\"field\":\"color\",\"transform\":{\"id\":\"1812\"}},\"size\":{\"value\":5.477225575051661},\"x\":{\"field\":\"Longitude\"},\"y\":{\"field\":\"Latitude\"}},\"id\":\"1820\",\"type\":\"Scatter\"},{\"attributes\":{},\"id\":\"1754\",\"type\":\"LinearScale\"},{\"attributes\":{\"bottom_units\":\"screen\",\"coordinates\":null,\"fill_alpha\":0.5,\"fill_color\":\"lightgrey\",\"group\":null,\"left_units\":\"screen\",\"level\":\"overlay\",\"line_alpha\":1.0,\"line_color\":\"black\",\"line_dash\":[4,4],\"line_width\":2,\"right_units\":\"screen\",\"syncable\":false,\"top_units\":\"screen\"},\"id\":\"1771\",\"type\":\"BoxAnnotation\"},{\"attributes\":{},\"id\":\"1767\",\"type\":\"PanTool\"},{\"attributes\":{\"axis\":{\"id\":\"1762\"},\"coordinates\":null,\"dimension\":1,\"grid_line_color\":null,\"group\":null,\"ticker\":null},\"id\":\"1765\",\"type\":\"Grid\"},{\"attributes\":{\"factors\":[\"Bronx\",\"Manhattan\",\"Queens\",\"Brooklyn\",\"Staten Island\"],\"palette\":[\"#1f77b3\",\"#ff7e0e\",\"#2ba02b\",\"#d62628\",\"#9367bc\"]},\"id\":\"1812\",\"type\":\"CategoricalColorMapper\"},{\"attributes\":{\"axis\":{\"id\":\"1758\"},\"coordinates\":null,\"grid_line_color\":null,\"group\":null,\"ticker\":null},\"id\":\"1761\",\"type\":\"Grid\"},{\"attributes\":{\"fill_alpha\":{\"value\":0.8},\"fill_color\":{\"field\":\"color\",\"transform\":{\"id\":\"1812\"}},\"hatch_alpha\":{\"value\":0.1},\"hatch_color\":{\"field\":\"color\",\"transform\":{\"id\":\"1812\"}},\"line_alpha\":{\"value\":0.8},\"line_color\":{\"field\":\"color\",\"transform\":{\"id\":\"1812\"}},\"size\":{\"value\":5.477225575051661},\"x\":{\"field\":\"Longitude\"},\"y\":{\"field\":\"Latitude\"}},\"id\":\"1817\",\"type\":\"Scatter\"},{\"attributes\":{\"callback\":null,\"formatters\":{\"$x\":{\"id\":\"1831\"},\"$y\":{\"id\":\"1832\"}},\"renderers\":[{\"id\":\"1821\"}],\"tags\":[\"hv_created\"],\"tooltips\":[[\"Longitude\",\"$x{custom}\"],[\"Latitude\",\"$y{custom}\"],[\"Borough\",\"@{Borough}\"]]},\"id\":\"1746\",\"type\":\"HoverTool\"},{\"attributes\":{\"click_policy\":\"mute\",\"coordinates\":null,\"group\":null,\"items\":[{\"id\":\"1830\"}],\"location\":[0,0]},\"id\":\"1829\",\"type\":\"Legend\"},{\"attributes\":{\"data\":{\"Borough\":[\"Bronx\",\"Bronx\",\"Bronx\",\"Bronx\",\"Bronx\",\"Bronx\",\"Bronx\",\"Bronx\",\"Bronx\",\"Bronx\",\"Bronx\",\"Bronx\",\"Bronx\",\"Manhattan\",\"Manhattan\",\"Queens\",\"Manhattan\",\"Manhattan\",\"Manhattan\",\"Manhattan\",\"Manhattan\",\"Manhattan\",\"Manhattan\",\"Manhattan\",\"Manhattan\",\"Brooklyn\",\"Queens\",\"Brooklyn\",\"Brooklyn\",\"Brooklyn\",\"Brooklyn\",\"Brooklyn\",\"Brooklyn\",\"Brooklyn\",\"Brooklyn\",\"Brooklyn\",\"Brooklyn\",\"Brooklyn\",\"Brooklyn\",\"Queens\",\"Queens\",\"Queens\",\"Queens\",\"Queens\",\"Queens\",\"Queens\",\"Queens\",\"Queens\",\"Queens\",\"Queens\",\"Queens\",\"Queens\",\"Queens\",\"Queens\",\"Queens\",\"Queens\",\"Queens\",\"Queens\",\"Queens\",\"Queens\",\"Queens\",\"Bronx\",\"Queens\",\"Queens\",\"Queens\",\"Queens\",\"Queens\",\"Manhattan\",\"Manhattan\",\"Staten Island\",\"Staten Island\",\"Staten Island\",\"Staten Island\",\"Staten Island\",\"Staten Island\",\"Staten Island\",\"Staten Island\",\"Staten Island\",\"Staten Island\",\"Staten Island\",\"Staten Island\",\"Staten Island\",\"Staten Island\",\"Staten Island\",\"Brooklyn\",\"Queens\",\"Queens\",\"Brooklyn\",\"Brooklyn\",\"Staten Island\",\"Brooklyn\",\"Queens\",\"Bronx\",\"Queens\",\"Brooklyn\",\"Queens\"],\"Latitude\":{\"__ndarray__\":\"1cxBK+0PU0EFkxUdBA9TQcMRDNWYDlNBXEPLS04NU0Fj/NYvWwtTQWcWH6ATClNBhHQWn3IFU0Gw21nzKARTQe/w925RBFNBHT83h6AHU0HEPWjhIwlTQU5VGKx6CVNBIQmrgr8DU0FUgp4ceQxTQdiHhXImC1NBVR+zxfIAU0E2n8zEmAJTQWQ2bGSDAVNBNgXi4df/UkFG10dTpP9SQRcytaaD/VJBzRE1xxL8UkE3tSfizPlSQZpHk1zo+FJBpyJdeTvyUkFyx/lLv/ZSQRIB5IfE/lJBPJgPq3DvUkEGDhf6Me5SQWCzB1bg7FJB4fjBHSLsUkHbdt/IT+1SQQSrS/ck61JB+RezdHrmUkGlbd0gEOdSQQ15ZjdR6FJB/Rk/I+flUkFBoIoDLeRSQRnpizkS6VJBtCupfsPvUkFIEKZefvBSQfOrjj/b7FJBzBzON+rvUkFrxoU9BPJSQaedhvlD9FJBNC8wVifzUkF7uaSy7PVSQUFakBRB9VJBkJXlI732UkG5rCM5q/ZSQQheUTKB9VJBSfFpQrjxUkGNe8lDM/lSQXVLmcqj+FJB+AQR/iT6UkF2Wbv56fdSQfPcn04HAVNBRiKYmJn/UkGK0c35+/1SQRgb0XNy+1JB2jwSeij7UkG8Hlou6QJTQdk20LOJ+FJBPUxXNBH5UkErzkwSWfhSQewpz+/S4FJBBMYy6+3fUkHNCCTvUPJSQUlrjmyi81JBABEW5XrrUkEwHls8VOlSQbV1qMkD6FJB4w0CngzmUkGL3Nkx2OBSQaYAgPMK3lJBtTMravLiUkFC4KPq3eJSQa5wHZ+C5VJB5WLTYpXbUkGMYLAQOdpSQWiz2Ah/2FJBK3H4Zw3XUkFgPElCb95SQaYL8y214VJBo0XGBQTjUkFnaLheTuxSQYiKYu+R/lJBTmCtk7LoUkH4MYvrSONSQX2nd1IN5FJBrgdEGb7vUkHWHNvv/vxSQa60sW1dD1NBZylGtKvzUkEv0DQ6/OtSQRmBvh8O7FJB\",\"dtype\":\"float64\",\"order\":\"little\",\"shape\":[96]},\"Longitude\":{\"__ndarray__\":\"MMxcTIBgX8Gg8uiknl5fwZEnBwEIW1/BhZa9Z+VXX8GuyW7mV19fwc1/1e0eX1/BJUQxHKtaX8G1PV23ZlpfwTbGXiytXl/Bkhwb/xJhX8GtiwZ1Al9fwUos9vOKU1/BfFpV0vpiX8EONZozjGRfwalqsXArZV/B9ePZ39NfX8EfPlliV2ZfwV6DY3wPZF/B9xEPw/VkX8Flx03K1mhfwYW4t+qaal/BbRQ255dqX8G03bp5RmtfwUDg7NuGa1/BW8o2WZJuX8E8ovo5WmdfwY368P5WZF/ByFS+1uNoX8HCEcpDNmlfwRgcX4+Ia1/B30+0VstlX8Fwpf6Jl25fwXmkv7gVcF/BWqK21rNvX8G9Le31sm5fwfIHQtvmaV/BvroF6FFkX8EipVn0n2BfwaOD+/F+YV/BcpOS2ihaX8GvmzoLz1xfwSK8dmynUV/BGVO3emhVX8EetycLylNfwb4ogozQW1/B8z2YnhtfX8HQkxTQHF5fwQLDWFk4Y1/BujBU0UJhX8ELwEPCfF9fwe1JNEpXYF/BUWbDAH9QX8GYd68vVVtfwfzQ5ucgWl/BJ/abxEZXX8FOW3y5dlNfwS+hwJ5VVF/B4HXbr55VX8G3jQDWdVNfwYgvybHFUF/BHpUQKXhPX8EBS5QgFVZfwVlFaE/6ZF/BDGWLeyFjX8F/wrTKj2JfwTgK3MacXl/BHp8JrCVhX8HEVozHfnFfwRO1BpvwcF/BiUXayMl3X8E+96Fg23ZfwR+hPlGbeF/BPOLHfPdyX8Fg6vj9UHdfwcisvyk6el/BCwpgoFR5X8HwGwNxEHxfwWNVeo/GfV/Bw5t0q6J/X8FgB3jcfYFfwXz+ZUVHhF/BIlEaGpiHX8GFY0y53IJfwRntScDEgV/Br3P7bVhjX8HIC5n1TlVfwZcJWtXnXl/B6QdxObBZX8EDahsf42tfwQmJh8wQeV/B8qGHHC1tX8E63SQRiWFfwR7Zw/GHY1/BQmKV7KVdX8Emb1oW5l1fwWuBNv+iW1/B\",\"dtype\":\"float64\",\"order\":\"little\",\"shape\":[96]},\"color\":[\"Bronx\",\"Bronx\",\"Bronx\",\"Bronx\",\"Bronx\",\"Bronx\",\"Bronx\",\"Bronx\",\"Bronx\",\"Bronx\",\"Bronx\",\"Bronx\",\"Bronx\",\"Manhattan\",\"Manhattan\",\"Queens\",\"Manhattan\",\"Manhattan\",\"Manhattan\",\"Manhattan\",\"Manhattan\",\"Manhattan\",\"Manhattan\",\"Manhattan\",\"Manhattan\",\"Brooklyn\",\"Queens\",\"Brooklyn\",\"Brooklyn\",\"Brooklyn\",\"Brooklyn\",\"Brooklyn\",\"Brooklyn\",\"Brooklyn\",\"Brooklyn\",\"Brooklyn\",\"Brooklyn\",\"Brooklyn\",\"Brooklyn\",\"Queens\",\"Queens\",\"Queens\",\"Queens\",\"Queens\",\"Queens\",\"Queens\",\"Queens\",\"Queens\",\"Queens\",\"Queens\",\"Queens\",\"Queens\",\"Queens\",\"Queens\",\"Queens\",\"Queens\",\"Queens\",\"Queens\",\"Queens\",\"Queens\",\"Queens\",\"Bronx\",\"Queens\",\"Queens\",\"Queens\",\"Queens\",\"Queens\",\"Manhattan\",\"Manhattan\",\"Staten Island\",\"Staten Island\",\"Staten Island\",\"Staten Island\",\"Staten Island\",\"Staten Island\",\"Staten Island\",\"Staten Island\",\"Staten Island\",\"Staten Island\",\"Staten Island\",\"Staten Island\",\"Staten Island\",\"Staten Island\",\"Staten Island\",\"Brooklyn\",\"Queens\",\"Queens\",\"Brooklyn\",\"Brooklyn\",\"Staten Island\",\"Brooklyn\",\"Queens\",\"Bronx\",\"Queens\",\"Brooklyn\",\"Queens\"]},\"selected\":{\"id\":\"1814\"},\"selection_policy\":{\"id\":\"1826\"}},\"id\":\"1813\",\"type\":\"ColumnDataSource\"},{\"attributes\":{\"fill_alpha\":{\"value\":0.8},\"fill_color\":{\"field\":\"color\",\"transform\":{\"id\":\"1812\"}},\"hatch_alpha\":{\"value\":0.8},\"hatch_color\":{\"field\":\"color\",\"transform\":{\"id\":\"1812\"}},\"line_alpha\":{\"value\":0.8},\"line_color\":{\"field\":\"color\",\"transform\":{\"id\":\"1812\"}},\"size\":{\"value\":5.477225575051661},\"x\":{\"field\":\"Longitude\"},\"y\":{\"field\":\"Latitude\"}},\"id\":\"1819\",\"type\":\"Scatter\"},{\"attributes\":{\"dimension\":\"lat\"},\"id\":\"1784\",\"type\":\"MercatorTickFormatter\"},{\"attributes\":{\"end\":5002868.404392054,\"min_interval\":5,\"reset_end\":5002868.404392054,\"reset_start\":4932981.895163525,\"start\":4932981.895163525,\"tags\":[[[\"Latitude\",\"Latitude\",null]]]},\"id\":\"1743\",\"type\":\"Range1d\"},{\"attributes\":{\"coordinates\":null,\"group\":null,\"text_color\":\"black\",\"text_font_size\":\"12pt\"},\"id\":\"1750\",\"type\":\"Title\"},{\"attributes\":{},\"id\":\"1770\",\"type\":\"ResetTool\"},{\"attributes\":{\"zoom_on_axis\":false},\"id\":\"1768\",\"type\":\"WheelZoomTool\"},{\"attributes\":{\"attribution\":\"&copy; <a href=\\\"https://www.openstreetmap.org/copyright\\\">OpenStreetMap</a> contributors\",\"url\":\"https://c.tile.openstreetmap.org/{Z}/{X}/{Y}.png\"},\"id\":\"1807\",\"type\":\"WMTSTileSource\"},{\"attributes\":{\"label\":{\"field\":\"color\"},\"renderers\":[{\"id\":\"1821\"}]},\"id\":\"1830\",\"type\":\"LegendItem\"},{\"attributes\":{\"dimension\":\"lon\"},\"id\":\"1781\",\"type\":\"MercatorTicker\"},{\"attributes\":{\"below\":[{\"id\":\"1758\"}],\"center\":[{\"id\":\"1761\"},{\"id\":\"1765\"}],\"frame_height\":500,\"frame_width\":700,\"height\":null,\"left\":[{\"id\":\"1762\"}],\"margin\":[5,5,5,5],\"match_aspect\":true,\"min_border_bottom\":10,\"min_border_left\":10,\"min_border_right\":10,\"min_border_top\":10,\"renderers\":[{\"id\":\"1810\"},{\"id\":\"1821\"}],\"right\":[{\"id\":\"1829\"}],\"sizing_mode\":\"fixed\",\"title\":{\"id\":\"1750\"},\"toolbar\":{\"id\":\"1772\"},\"width\":null,\"x_range\":{\"id\":\"1742\"},\"x_scale\":{\"id\":\"1754\"},\"y_range\":{\"id\":\"1743\"},\"y_scale\":{\"id\":\"1756\"}},\"id\":\"1749\",\"subtype\":\"Figure\",\"type\":\"Plot\"},{\"attributes\":{\"code\":\"\\n        var projections = Bokeh.require(\\\"core/util/projections\\\");\\n        var x = special_vars.data_x\\n        var y = special_vars.data_y\\n        if (projections.wgs84_mercator.invert == null) {\\n          var coords = projections.wgs84_mercator.inverse([x, y])\\n        } else {\\n          var coords = projections.wgs84_mercator.invert(x, y)\\n        }\\n        return \\\"\\\" + (coords[1]).toFixed(4)\\n    \"},\"id\":\"1832\",\"type\":\"CustomJSHover\"},{\"attributes\":{\"margin\":[5,5,5,5],\"name\":\"HSpacer04718\",\"sizing_mode\":\"stretch_width\"},\"id\":\"1737\",\"type\":\"Spacer\"},{\"attributes\":{},\"id\":\"1794\",\"type\":\"AllLabels\"},{\"attributes\":{},\"id\":\"1787\",\"type\":\"AllLabels\"},{\"attributes\":{},\"id\":\"1826\",\"type\":\"UnionRenderers\"},{\"attributes\":{\"children\":[{\"id\":\"1737\"},{\"id\":\"1749\"},{\"id\":\"1887\"}],\"margin\":[0,0,0,0],\"name\":\"Row04714\",\"tags\":[\"embedded\"]},\"id\":\"1736\",\"type\":\"Row\"},{\"attributes\":{\"match_aspect\":true,\"overlay\":{\"id\":\"1771\"}},\"id\":\"1769\",\"type\":\"BoxZoomTool\"},{\"attributes\":{\"margin\":[5,5,5,5],\"name\":\"HSpacer04719\",\"sizing_mode\":\"stretch_width\"},\"id\":\"1887\",\"type\":\"Spacer\"},{\"attributes\":{\"coordinates\":null,\"group\":null,\"level\":\"glyph\",\"tile_source\":{\"id\":\"1807\"}},\"id\":\"1810\",\"type\":\"TileRenderer\"},{\"attributes\":{\"fill_alpha\":{\"value\":0.8},\"fill_color\":{\"field\":\"color\",\"transform\":{\"id\":\"1812\"}},\"hatch_alpha\":{\"value\":0.8},\"hatch_color\":{\"field\":\"color\",\"transform\":{\"id\":\"1812\"}},\"line_alpha\":{\"value\":0.8},\"line_color\":{\"field\":\"color\",\"transform\":{\"id\":\"1812\"}},\"size\":{\"value\":5.477225575051661},\"x\":{\"field\":\"Longitude\"},\"y\":{\"field\":\"Latitude\"}},\"id\":\"1818\",\"type\":\"Scatter\"},{\"attributes\":{\"tools\":[{\"id\":\"1746\"},{\"id\":\"1766\"},{\"id\":\"1767\"},{\"id\":\"1768\"},{\"id\":\"1769\"},{\"id\":\"1770\"}]},\"id\":\"1772\",\"type\":\"Toolbar\"}],\"root_ids\":[\"1736\"]},\"title\":\"Bokeh Application\",\"version\":\"2.4.2\"}};\n",
       "    var render_items = [{\"docid\":\"918f7575-b376-4267-bef4-644c26d9062c\",\"root_ids\":[\"1736\"],\"roots\":{\"1736\":\"1e3668f9-6662-4245-9462-3088a852becb\"}}];\n",
       "    root.Bokeh.embed.embed_items_notebook(docs_json, render_items);\n",
       "  }\n",
       "  if (root.Bokeh !== undefined && root.Bokeh.Panel !== undefined) {\n",
       "    embed_document(root);\n",
       "  } else {\n",
       "    var attempts = 0;\n",
       "    var timer = setInterval(function(root) {\n",
       "      if (root.Bokeh !== undefined && root.Bokeh.Panel !== undefined) {\n",
       "        clearInterval(timer);\n",
       "        embed_document(root);\n",
       "      } else if (document.readyState == \"complete\") {\n",
       "        attempts++;\n",
       "        if (attempts > 200) {\n",
       "          clearInterval(timer);\n",
       "          console.log(\"Bokeh: ERROR: Unable to run BokehJS code because BokehJS library is missing\");\n",
       "        }\n",
       "      }\n",
       "    }, 25, root)\n",
       "  }\n",
       "})(window);</script>"
      ],
      "text/plain": [
       ":Overlay\n",
       "   .Tiles.I  :Tiles   [x,y]\n",
       "   .Points.I :Points   [Longitude,Latitude]   (Borough)"
      ]
     },
     "execution_count": 15,
     "metadata": {
      "application/vnd.holoviews_exec.v0+json": {
       "id": "1736"
      }
     },
     "output_type": "execute_result"
    }
   ],
   "source": [
    "# Plot all of the NYC places of interest\n",
    "# Set the color parameter to Borough\n",
    "# Keep all other parameters the same as the previous plot\n",
    "\n",
    "places_of_interest_by_borough = places_of_interest.hvplot.points(\n",
    "    x='Longitude', \n",
    "    y='Latitude', \n",
    "    geo=True, \n",
    "    color='Borough',\n",
    "    alpha= .8,\n",
    "    tiles='OSM',\n",
    "    frame_width=700,\n",
    "    frame_height=500\n",
    "    )\n",
    "\n",
    "places_of_interest_by_borough\n",
    "\n",
    "# Show the plot\n",
    "# YOUR CODE HERE"
   ]
  },
  {
   "cell_type": "markdown",
   "metadata": {},
   "source": [
    "### Step 5: Plot Parks of Interest"
   ]
  },
  {
   "cell_type": "code",
   "execution_count": 55,
   "metadata": {},
   "outputs": [
    {
     "data": {},
     "metadata": {},
     "output_type": "display_data"
    },
    {
     "data": {
      "application/vnd.holoviews_exec.v0+json": "",
      "text/html": [
       "<div id='5000'>\n",
       "\n",
       "\n",
       "\n",
       "\n",
       "\n",
       "  <div class=\"bk-root\" id=\"0a44fe31-6d06-4651-8ee8-43f559c60d73\" data-root-id=\"5000\"></div>\n",
       "</div>\n",
       "<script type=\"application/javascript\">(function(root) {\n",
       "  function embed_document(root) {\n",
       "    var docs_json = {\"7a1ee18d-370c-4822-8906-aa5417761d21\":{\"defs\":[{\"extends\":null,\"module\":null,\"name\":\"ReactiveHTML1\",\"overrides\":[],\"properties\":[]},{\"extends\":null,\"module\":null,\"name\":\"FlexBox1\",\"overrides\":[],\"properties\":[{\"default\":\"flex-start\",\"kind\":null,\"name\":\"align_content\"},{\"default\":\"flex-start\",\"kind\":null,\"name\":\"align_items\"},{\"default\":\"row\",\"kind\":null,\"name\":\"flex_direction\"},{\"default\":\"wrap\",\"kind\":null,\"name\":\"flex_wrap\"},{\"default\":\"flex-start\",\"kind\":null,\"name\":\"justify_content\"}]},{\"extends\":null,\"module\":null,\"name\":\"TemplateActions1\",\"overrides\":[],\"properties\":[{\"default\":0,\"kind\":null,\"name\":\"open_modal\"},{\"default\":0,\"kind\":null,\"name\":\"close_modal\"}]},{\"extends\":null,\"module\":null,\"name\":\"MaterialTemplateActions1\",\"overrides\":[],\"properties\":[{\"default\":0,\"kind\":null,\"name\":\"open_modal\"},{\"default\":0,\"kind\":null,\"name\":\"close_modal\"}]}],\"roots\":{\"references\":[{\"attributes\":{},\"id\":\"5058\",\"type\":\"AllLabels\"},{\"attributes\":{},\"id\":\"5051\",\"type\":\"AllLabels\"},{\"attributes\":{\"zoom_on_axis\":false},\"id\":\"5032\",\"type\":\"WheelZoomTool\"},{\"attributes\":{},\"id\":\"5090\",\"type\":\"UnionRenderers\"},{\"attributes\":{},\"id\":\"5031\",\"type\":\"PanTool\"},{\"attributes\":{\"coordinates\":null,\"data_source\":{\"id\":\"5077\"},\"glyph\":{\"id\":\"5080\"},\"group\":null,\"hover_glyph\":{\"id\":\"5083\"},\"muted_glyph\":{\"id\":\"5084\"},\"nonselection_glyph\":{\"id\":\"5081\"},\"selection_glyph\":{\"id\":\"5082\"},\"view\":{\"id\":\"5086\"}},\"id\":\"5085\",\"type\":\"GlyphRenderer\"},{\"attributes\":{\"data\":{\"Latitude\":{\"__ndarray__\":\"1cxBK+0PU0HDEQzVmA5TQVxDy0tODVNBZxYfoBMKU0Gw21nzKARTQe/w925RBFNBHT83h6AHU0HEPWjhIwlTQSEJq4K/A1NB2IeFciYLU0E2n8zEmAJTQWQ2bGSDAVNBNgXi4df/UkFG10dTpP9SQXLH+Uu/9lJBEgHkh8T+UkEGDhf6Me5SQQSrS/ck61JBpW3dIBDnUkH9GT8j5+VSQRnpizkS6VJB86uOP9vsUkHMHM436u9SQWvGhT0E8lJBuawjOav2UkF2Wbv56fdSQUYimJiZ/1JBitHN+fv9UkEYG9FzcvtSQdo8Enoo+1JB7CnP79LgUkEwHls8VOlSQbV1qMkD6FJBpgCA8wreUkFC4KPq3eJSQa5wHZ+C5VJB5WLTYpXbUkGMYLAQOdpSQStx+GcN11JB+DGL60jjUkF9p3dSDeRSQa4HRBm+71JBrrSxbV0PU0Ev0DQ6/OtSQRmBvh8O7FJB\",\"dtype\":\"float64\",\"order\":\"little\",\"shape\":[45]},\"Longitude\":{\"__ndarray__\":\"MMxcTIBgX8GRJwcBCFtfwYWWvWflV1/BzX/V7R5fX8G1PV23ZlpfwTbGXiytXl/Bkhwb/xJhX8GtiwZ1Al9fwXxaVdL6Yl/BqWqxcCtlX8EfPlliV2ZfwV6DY3wPZF/B9xEPw/VkX8Flx03K1mhfwTyi+jlaZ1/Bjfrw/lZkX8HCEcpDNmlfwXmkv7gVcF/BvS3t9bJuX8G+ugXoUWRfwaOD+/F+YV/BIrx2bKdRX8EZU7d6aFVfwR63JwvKU1/BC8BDwnxfX8FOW3y5dlNfweB126+eVV/Bt40A1nVTX8GIL8mxxVBfwR6VECl4T1/BOArcxpxeX8E+96Fg23ZfwR+hPlGbeF/ByKy/KTp6X8HwGwNxEHxfwWNVeo/GfV/Bw5t0q6J/X8FgB3jcfYFfwSJRGhqYh1/BA2obH+NrX8EJiYfMEHlfwfKhhxwtbV/BHtnD8YdjX8Emb1oW5l1fwWuBNv+iW1/B\",\"dtype\":\"float64\",\"order\":\"little\",\"shape\":[45]},\"Name\":[\"Van Cortlandt Park\",\"Seton Falls Park\",\"Pelham Bay Park\",\"Bronx Park\",\"Ferry Point Park\",\"Sound View Park\",\"Crotona Park\",\"Zoo/Wildlife Conser. Park\",\"Saint Mary's Park\",\"Fort Tryon Park\",\"Marcus Garvey Park\",\"Randall's Island Park\",\"Ward's Island Park\",\"Central Park\",\"McCarren Park\",\"Astoria Park\",\"Prospect Park\",\"Owls Head Park\",\"Dyker Beach Park\",\"Marine Park\",\"Canarsie Beach Park\",\"Brookville Park\",\"Baisley Pond Park\",\"Roy Wilkins Park\",\"Juniper Valley Park\",\"Cunningham Park\",\"Clearview Park\",\"Crocheron Park\",\"Alley Pond Park\",\"Douglaston Park\",\"Jacob Riis Park\",\"Silver Lake Park\",\"Clove Lakes Park\",\"Great Kills Park\",\"LaTourette Park\",\"Willowbrook Park\",\"Blue Heron Park\",\"Wolfe's Pond Park\",\"Conference House Park\",\"Calvert Vaux\",\"High Rock Park\",\"Red Hook Park\",\"Riverdale Park\",\"Spring Creek Park Preserve No Access\",\"Spring Creek Park Gateway National Recreation Area\"],\"color\":[\"Van Cortlandt Park\",\"Seton Falls Park\",\"Pelham Bay Park\",\"Bronx Park\",\"Ferry Point Park\",\"Sound View Park\",\"Crotona Park\",\"Zoo/Wildlife Conser. Park\",\"Saint Mary's Park\",\"Fort Tryon Park\",\"Marcus Garvey Park\",\"Randall's Island Park\",\"Ward's Island Park\",\"Central Park\",\"McCarren Park\",\"Astoria Park\",\"Prospect Park\",\"Owls Head Park\",\"Dyker Beach Park\",\"Marine Park\",\"Canarsie Beach Park\",\"Brookville Park\",\"Baisley Pond Park\",\"Roy Wilkins Park\",\"Juniper Valley Park\",\"Cunningham Park\",\"Clearview Park\",\"Crocheron Park\",\"Alley Pond Park\",\"Douglaston Park\",\"Jacob Riis Park\",\"Silver Lake Park\",\"Clove Lakes Park\",\"Great Kills Park\",\"LaTourette Park\",\"Willowbrook Park\",\"Blue Heron Park\",\"Wolfe's Pond Park\",\"Conference House Park\",\"Calvert Vaux\",\"High Rock Park\",\"Red Hook Park\",\"Riverdale Park\",\"Spring Creek Park Preserve No Access\",\"Spring Creek Park Gateway National Recreation Area\"]},\"selected\":{\"id\":\"5078\"},\"selection_policy\":{\"id\":\"5090\"}},\"id\":\"5077\",\"type\":\"ColumnDataSource\"},{\"attributes\":{\"factors\":[\"Van Cortlandt Park\",\"Seton Falls Park\",\"Pelham Bay Park\",\"Bronx Park\",\"Ferry Point Park\",\"Sound View Park\",\"Crotona Park\",\"Zoo/Wildlife Conser. Park\",\"Saint Mary's Park\",\"Fort Tryon Park\",\"Marcus Garvey Park\",\"Randall's Island Park\",\"Ward's Island Park\",\"Central Park\",\"McCarren Park\",\"Astoria Park\",\"Prospect Park\",\"Owls Head Park\",\"Dyker Beach Park\",\"Marine Park\",\"Canarsie Beach Park\",\"Brookville Park\",\"Baisley Pond Park\",\"Roy Wilkins Park\",\"Juniper Valley Park\",\"Cunningham Park\",\"Clearview Park\",\"Crocheron Park\",\"Alley Pond Park\",\"Douglaston Park\",\"Jacob Riis Park\",\"Silver Lake Park\",\"Clove Lakes Park\",\"Great Kills Park\",\"LaTourette Park\",\"Willowbrook Park\",\"Blue Heron Park\",\"Wolfe's Pond Park\",\"Conference House Park\",\"Calvert Vaux\",\"High Rock Park\",\"Red Hook Park\",\"Riverdale Park\",\"Spring Creek Park Preserve No Access\",\"Spring Creek Park Gateway National Recreation Area\"],\"palette\":[\"#1f77b3\",\"#ff7e0e\",\"#2ba02b\",\"#d62628\",\"#9367bc\",\"#8c564b\",\"#e277c1\",\"#7e7e7e\",\"#bcbc21\",\"#16bdcf\",\"#3a0182\",\"#004201\",\"#0fffa8\",\"#5d003f\",\"#bcbcff\",\"#d8afa1\",\"#b80080\",\"#004d52\",\"#6b6400\",\"#7c0100\",\"#6026ff\",\"#ffff9a\",\"#564964\",\"#8cb893\",\"#93fbff\",\"#018267\",\"#90ff00\",\"#8200a0\",\"#ac8944\",\"#5b3400\",\"#ffbff2\",\"#ff6e75\",\"#798cff\",\"#dd00ff\",\"#505646\",\"#004489\",\"#ffbf60\",\"#ff018c\",\"#bdc8cf\",\"#af97b5\",\"#b65600\",\"#017000\",\"#cd87ff\",\"#1cd646\",\"#bfebc3\"]},\"id\":\"5076\",\"type\":\"CategoricalColorMapper\"},{\"attributes\":{\"bottom_units\":\"screen\",\"coordinates\":null,\"fill_alpha\":0.5,\"fill_color\":\"lightgrey\",\"group\":null,\"left_units\":\"screen\",\"level\":\"overlay\",\"line_alpha\":1.0,\"line_color\":\"black\",\"line_dash\":[4,4],\"line_width\":2,\"right_units\":\"screen\",\"syncable\":false,\"top_units\":\"screen\"},\"id\":\"5035\",\"type\":\"BoxAnnotation\"},{\"attributes\":{\"attribution\":\"&copy; <a href=\\\"https://www.openstreetmap.org/copyright\\\">OpenStreetMap</a> contributors\",\"url\":\"https://c.tile.openstreetmap.org/{Z}/{X}/{Y}.png\"},\"id\":\"5071\",\"type\":\"WMTSTileSource\"},{\"attributes\":{\"dimension\":\"lon\"},\"id\":\"5045\",\"type\":\"MercatorTicker\"},{\"attributes\":{\"coordinates\":null,\"group\":null,\"level\":\"glyph\",\"tile_source\":{\"id\":\"5071\"}},\"id\":\"5074\",\"type\":\"TileRenderer\"},{\"attributes\":{\"end\":-8187655.96828672,\"min_interval\":5,\"reset_end\":-8187655.96828672,\"reset_start\":-8285497.081206661,\"start\":-8285497.081206661,\"tags\":[[[\"Longitude\",\"Longitude\",null]]]},\"id\":\"5006\",\"type\":\"Range1d\"},{\"attributes\":{\"source\":{\"id\":\"5077\"}},\"id\":\"5086\",\"type\":\"CDSView\"},{\"attributes\":{\"axis_label\":\"x\",\"coordinates\":null,\"formatter\":{\"id\":\"5046\"},\"group\":null,\"major_label_policy\":{\"id\":\"5051\"},\"ticker\":{\"id\":\"5045\"}},\"id\":\"5022\",\"type\":\"LinearAxis\"},{\"attributes\":{},\"id\":\"5020\",\"type\":\"LinearScale\"},{\"attributes\":{\"fill_alpha\":{\"value\":0.2},\"fill_color\":{\"field\":\"color\",\"transform\":{\"id\":\"5076\"}},\"hatch_alpha\":{\"value\":0.2},\"hatch_color\":{\"field\":\"color\",\"transform\":{\"id\":\"5076\"}},\"line_alpha\":{\"value\":0.2},\"line_color\":{\"field\":\"color\",\"transform\":{\"id\":\"5076\"}},\"marker\":{\"value\":\"triangle\"},\"size\":{\"value\":5.477225575051661},\"x\":{\"field\":\"Longitude\"},\"y\":{\"field\":\"Latitude\"}},\"id\":\"5084\",\"type\":\"Scatter\"},{\"attributes\":{},\"id\":\"5030\",\"type\":\"SaveTool\"},{\"attributes\":{\"axis\":{\"id\":\"5026\"},\"coordinates\":null,\"dimension\":1,\"grid_line_color\":null,\"group\":null,\"ticker\":null},\"id\":\"5029\",\"type\":\"Grid\"},{\"attributes\":{\"fill_alpha\":{\"value\":0.8},\"fill_color\":{\"field\":\"color\",\"transform\":{\"id\":\"5076\"}},\"hatch_alpha\":{\"value\":0.8},\"hatch_color\":{\"field\":\"color\",\"transform\":{\"id\":\"5076\"}},\"line_alpha\":{\"value\":0.8},\"line_color\":{\"field\":\"color\",\"transform\":{\"id\":\"5076\"}},\"marker\":{\"value\":\"triangle\"},\"size\":{\"value\":5.477225575051661},\"x\":{\"field\":\"Longitude\"},\"y\":{\"field\":\"Latitude\"}},\"id\":\"5080\",\"type\":\"Scatter\"},{\"attributes\":{\"match_aspect\":true,\"overlay\":{\"id\":\"5035\"}},\"id\":\"5033\",\"type\":\"BoxZoomTool\"},{\"attributes\":{\"label\":{\"field\":\"color\"},\"renderers\":[{\"id\":\"5085\"}]},\"id\":\"5094\",\"type\":\"LegendItem\"},{\"attributes\":{\"margin\":[5,5,5,5],\"name\":\"HSpacer11610\",\"sizing_mode\":\"stretch_width\"},\"id\":\"5151\",\"type\":\"Spacer\"},{\"attributes\":{\"dimension\":\"lon\"},\"id\":\"5046\",\"type\":\"MercatorTickFormatter\"},{\"attributes\":{\"code\":\"\\n        var projections = Bokeh.require(\\\"core/util/projections\\\");\\n        var x = special_vars.data_x\\n        var y = special_vars.data_y\\n        if (projections.wgs84_mercator.invert == null) {\\n          var coords = projections.wgs84_mercator.inverse([x, y])\\n        } else {\\n          var coords = projections.wgs84_mercator.invert(x, y)\\n        }\\n        return \\\"\\\" + (coords[0]).toFixed(4)\\n    \"},\"id\":\"5095\",\"type\":\"CustomJSHover\"},{\"attributes\":{\"code\":\"\\n        var projections = Bokeh.require(\\\"core/util/projections\\\");\\n        var x = special_vars.data_x\\n        var y = special_vars.data_y\\n        if (projections.wgs84_mercator.invert == null) {\\n          var coords = projections.wgs84_mercator.inverse([x, y])\\n        } else {\\n          var coords = projections.wgs84_mercator.invert(x, y)\\n        }\\n        return \\\"\\\" + (coords[1]).toFixed(4)\\n    \"},\"id\":\"5096\",\"type\":\"CustomJSHover\"},{\"attributes\":{},\"id\":\"5078\",\"type\":\"Selection\"},{\"attributes\":{\"children\":[{\"id\":\"5001\"},{\"id\":\"5013\"},{\"id\":\"5151\"}],\"margin\":[0,0,0,0],\"name\":\"Row11605\",\"tags\":[\"embedded\"]},\"id\":\"5000\",\"type\":\"Row\"},{\"attributes\":{\"callback\":null,\"formatters\":{\"$x\":{\"id\":\"5095\"},\"$y\":{\"id\":\"5096\"}},\"renderers\":[{\"id\":\"5085\"}],\"tags\":[\"hv_created\"],\"tooltips\":[[\"Longitude\",\"$x{custom}\"],[\"Latitude\",\"$y{custom}\"],[\"Name\",\"@{Name}\"]]},\"id\":\"5010\",\"type\":\"HoverTool\"},{\"attributes\":{\"coordinates\":null,\"group\":null,\"text_color\":\"black\",\"text_font_size\":\"12pt\"},\"id\":\"5014\",\"type\":\"Title\"},{\"attributes\":{\"axis_label\":\"y\",\"coordinates\":null,\"formatter\":{\"id\":\"5048\"},\"group\":null,\"major_label_policy\":{\"id\":\"5058\"},\"ticker\":{\"id\":\"5047\"}},\"id\":\"5026\",\"type\":\"LinearAxis\"},{\"attributes\":{\"click_policy\":\"mute\",\"coordinates\":null,\"group\":null,\"items\":[{\"id\":\"5094\"}],\"location\":[0,0]},\"id\":\"5093\",\"type\":\"Legend\"},{\"attributes\":{\"margin\":[5,5,5,5],\"name\":\"HSpacer11609\",\"sizing_mode\":\"stretch_width\"},\"id\":\"5001\",\"type\":\"Spacer\"},{\"attributes\":{\"fill_alpha\":{\"value\":0.8},\"fill_color\":{\"field\":\"color\",\"transform\":{\"id\":\"5076\"}},\"hatch_alpha\":{\"value\":0.8},\"hatch_color\":{\"field\":\"color\",\"transform\":{\"id\":\"5076\"}},\"line_alpha\":{\"value\":0.8},\"line_color\":{\"field\":\"color\",\"transform\":{\"id\":\"5076\"}},\"marker\":{\"value\":\"triangle\"},\"size\":{\"value\":5.477225575051661},\"x\":{\"field\":\"Longitude\"},\"y\":{\"field\":\"Latitude\"}},\"id\":\"5083\",\"type\":\"Scatter\"},{\"attributes\":{\"dimension\":\"lat\"},\"id\":\"5047\",\"type\":\"MercatorTicker\"},{\"attributes\":{\"dimension\":\"lat\"},\"id\":\"5048\",\"type\":\"MercatorTickFormatter\"},{\"attributes\":{\"tools\":[{\"id\":\"5010\"},{\"id\":\"5030\"},{\"id\":\"5031\"},{\"id\":\"5032\"},{\"id\":\"5033\"},{\"id\":\"5034\"}]},\"id\":\"5036\",\"type\":\"Toolbar\"},{\"attributes\":{},\"id\":\"5034\",\"type\":\"ResetTool\"},{\"attributes\":{\"below\":[{\"id\":\"5022\"}],\"center\":[{\"id\":\"5025\"},{\"id\":\"5029\"}],\"frame_height\":500,\"frame_width\":700,\"height\":null,\"left\":[{\"id\":\"5026\"}],\"margin\":[5,5,5,5],\"match_aspect\":true,\"min_border_bottom\":10,\"min_border_left\":10,\"min_border_right\":10,\"min_border_top\":10,\"renderers\":[{\"id\":\"5074\"},{\"id\":\"5085\"}],\"right\":[{\"id\":\"5093\"}],\"sizing_mode\":\"fixed\",\"title\":{\"id\":\"5014\"},\"toolbar\":{\"id\":\"5036\"},\"width\":null,\"x_range\":{\"id\":\"5006\"},\"x_scale\":{\"id\":\"5018\"},\"y_range\":{\"id\":\"5007\"},\"y_scale\":{\"id\":\"5020\"}},\"id\":\"5013\",\"subtype\":\"Figure\",\"type\":\"Plot\"},{\"attributes\":{},\"id\":\"5018\",\"type\":\"LinearScale\"},{\"attributes\":{\"end\":5002868.404392054,\"min_interval\":5,\"reset_end\":5002868.404392054,\"reset_start\":4932981.895163525,\"start\":4932981.895163525,\"tags\":[[[\"Latitude\",\"Latitude\",null]]]},\"id\":\"5007\",\"type\":\"Range1d\"},{\"attributes\":{\"fill_alpha\":{\"value\":0.8},\"fill_color\":{\"field\":\"color\",\"transform\":{\"id\":\"5076\"}},\"hatch_alpha\":{\"value\":0.1},\"hatch_color\":{\"field\":\"color\",\"transform\":{\"id\":\"5076\"}},\"line_alpha\":{\"value\":0.8},\"line_color\":{\"field\":\"color\",\"transform\":{\"id\":\"5076\"}},\"marker\":{\"value\":\"triangle\"},\"size\":{\"value\":5.477225575051661},\"x\":{\"field\":\"Longitude\"},\"y\":{\"field\":\"Latitude\"}},\"id\":\"5081\",\"type\":\"Scatter\"},{\"attributes\":{\"fill_alpha\":{\"value\":0.8},\"fill_color\":{\"field\":\"color\",\"transform\":{\"id\":\"5076\"}},\"hatch_alpha\":{\"value\":0.8},\"hatch_color\":{\"field\":\"color\",\"transform\":{\"id\":\"5076\"}},\"line_alpha\":{\"value\":0.8},\"line_color\":{\"field\":\"color\",\"transform\":{\"id\":\"5076\"}},\"marker\":{\"value\":\"triangle\"},\"size\":{\"value\":5.477225575051661},\"x\":{\"field\":\"Longitude\"},\"y\":{\"field\":\"Latitude\"}},\"id\":\"5082\",\"type\":\"Scatter\"},{\"attributes\":{\"axis\":{\"id\":\"5022\"},\"coordinates\":null,\"grid_line_color\":null,\"group\":null,\"ticker\":null},\"id\":\"5025\",\"type\":\"Grid\"}],\"root_ids\":[\"5000\"]},\"title\":\"Bokeh Application\",\"version\":\"2.4.2\"}};\n",
       "    var render_items = [{\"docid\":\"7a1ee18d-370c-4822-8906-aa5417761d21\",\"root_ids\":[\"5000\"],\"roots\":{\"5000\":\"0a44fe31-6d06-4651-8ee8-43f559c60d73\"}}];\n",
       "    root.Bokeh.embed.embed_items_notebook(docs_json, render_items);\n",
       "  }\n",
       "  if (root.Bokeh !== undefined && root.Bokeh.Panel !== undefined) {\n",
       "    embed_document(root);\n",
       "  } else {\n",
       "    var attempts = 0;\n",
       "    var timer = setInterval(function(root) {\n",
       "      if (root.Bokeh !== undefined && root.Bokeh.Panel !== undefined) {\n",
       "        clearInterval(timer);\n",
       "        embed_document(root);\n",
       "      } else if (document.readyState == \"complete\") {\n",
       "        attempts++;\n",
       "        if (attempts > 200) {\n",
       "          clearInterval(timer);\n",
       "          console.log(\"Bokeh: ERROR: Unable to run BokehJS code because BokehJS library is missing\");\n",
       "        }\n",
       "      }\n",
       "    }, 25, root)\n",
       "  }\n",
       "})(window);</script>"
      ],
      "text/plain": [
       ":Overlay\n",
       "   .Tiles.I  :Tiles   [x,y]\n",
       "   .Points.I :Points   [Longitude,Latitude]   (Name)"
      ]
     },
     "execution_count": 55,
     "metadata": {
      "application/vnd.holoviews_exec.v0+json": {
       "id": "5000"
      }
     },
     "output_type": "execute_result"
    }
   ],
   "source": [
    "# Create a DataFrame that slices the places_of_intereset DataFrame to include only parks\n",
    "parks = places_of_interest[places_of_interest[\"PlaceType\"] == \"Park\"]\n",
    "\n",
    "# Plot all of the parks in NYC\n",
    "# What column should color be set equal to?\n",
    "\n",
    "# Keep all other parameters the same as the previous plot\n",
    "parks_of_interest = parks.hvplot.points(\n",
    "    x='Longitude', \n",
    "    y='Latitude', \n",
    "    geo=True, \n",
    "    color=\"Name\",\n",
    "    alpha= .8,\n",
    "    tiles='OSM',\n",
    "    frame_width=700,\n",
    "    frame_height=500,\n",
    "    marker = \"triangle\"\n",
    "    )\n",
    "\n",
    "parks_of_interest\n",
    "# Show the plot\n",
    "# YOUR CODE HERE"
   ]
  },
  {
   "cell_type": "markdown",
   "metadata": {},
   "source": [
    "### Step 6: Plot Gardens of Interest"
   ]
  },
  {
   "cell_type": "code",
   "execution_count": 50,
   "metadata": {},
   "outputs": [
    {
     "data": {},
     "metadata": {},
     "output_type": "display_data"
    },
    {
     "data": {
      "application/vnd.holoviews_exec.v0+json": "",
      "text/html": [
       "<div id='4268'>\n",
       "\n",
       "\n",
       "\n",
       "\n",
       "\n",
       "  <div class=\"bk-root\" id=\"068595e0-0fc1-4932-bf3e-ad4d0c6f777f\" data-root-id=\"4268\"></div>\n",
       "</div>\n",
       "<script type=\"application/javascript\">(function(root) {\n",
       "  function embed_document(root) {\n",
       "    var docs_json = {\"ed0606fa-f44c-4d3d-a2ae-a66570e52bb9\":{\"defs\":[{\"extends\":null,\"module\":null,\"name\":\"ReactiveHTML1\",\"overrides\":[],\"properties\":[]},{\"extends\":null,\"module\":null,\"name\":\"FlexBox1\",\"overrides\":[],\"properties\":[{\"default\":\"flex-start\",\"kind\":null,\"name\":\"align_content\"},{\"default\":\"flex-start\",\"kind\":null,\"name\":\"align_items\"},{\"default\":\"row\",\"kind\":null,\"name\":\"flex_direction\"},{\"default\":\"wrap\",\"kind\":null,\"name\":\"flex_wrap\"},{\"default\":\"flex-start\",\"kind\":null,\"name\":\"justify_content\"}]},{\"extends\":null,\"module\":null,\"name\":\"TemplateActions1\",\"overrides\":[],\"properties\":[{\"default\":0,\"kind\":null,\"name\":\"open_modal\"},{\"default\":0,\"kind\":null,\"name\":\"close_modal\"}]},{\"extends\":null,\"module\":null,\"name\":\"MaterialTemplateActions1\",\"overrides\":[],\"properties\":[{\"default\":0,\"kind\":null,\"name\":\"open_modal\"},{\"default\":0,\"kind\":null,\"name\":\"close_modal\"}]}],\"roots\":{\"references\":[{\"attributes\":{\"code\":\"\\n        var projections = Bokeh.require(\\\"core/util/projections\\\");\\n        var x = special_vars.data_x\\n        var y = special_vars.data_y\\n        if (projections.wgs84_mercator.invert == null) {\\n          var coords = projections.wgs84_mercator.inverse([x, y])\\n        } else {\\n          var coords = projections.wgs84_mercator.invert(x, y)\\n        }\\n        return \\\"\\\" + (coords[1]).toFixed(4)\\n    \"},\"id\":\"4364\",\"type\":\"CustomJSHover\"},{\"attributes\":{\"click_policy\":\"mute\",\"coordinates\":null,\"group\":null,\"items\":[{\"id\":\"4362\"}],\"location\":[0,0]},\"id\":\"4361\",\"type\":\"Legend\"},{\"attributes\":{\"dimension\":\"lat\"},\"id\":\"4316\",\"type\":\"MercatorTickFormatter\"},{\"attributes\":{},\"id\":\"4346\",\"type\":\"Selection\"},{\"attributes\":{\"callback\":null,\"formatters\":{\"$x\":{\"id\":\"4363\"},\"$y\":{\"id\":\"4364\"}},\"renderers\":[{\"id\":\"4353\"}],\"tags\":[\"hv_created\"],\"tooltips\":[[\"Longitude\",\"$x{custom}\"],[\"Latitude\",\"$y{custom}\"],[\"Name\",\"@{Name}\"]]},\"id\":\"4278\",\"type\":\"HoverTool\"},{\"attributes\":{\"dimension\":\"lat\"},\"id\":\"4315\",\"type\":\"MercatorTicker\"},{\"attributes\":{\"tools\":[{\"id\":\"4278\"},{\"id\":\"4298\"},{\"id\":\"4299\"},{\"id\":\"4300\"},{\"id\":\"4301\"},{\"id\":\"4302\"}]},\"id\":\"4304\",\"type\":\"Toolbar\"},{\"attributes\":{\"source\":{\"id\":\"4345\"}},\"id\":\"4354\",\"type\":\"CDSView\"},{\"attributes\":{\"bottom_units\":\"screen\",\"coordinates\":null,\"fill_alpha\":0.5,\"fill_color\":\"lightgrey\",\"group\":null,\"left_units\":\"screen\",\"level\":\"overlay\",\"line_alpha\":1.0,\"line_color\":\"black\",\"line_dash\":[4,4],\"line_width\":2,\"right_units\":\"screen\",\"syncable\":false,\"top_units\":\"screen\"},\"id\":\"4303\",\"type\":\"BoxAnnotation\"},{\"attributes\":{\"end\":4995223.178369818,\"min_interval\":5,\"reset_end\":4995223.178369818,\"reset_start\":4960920.241523543,\"start\":4960920.241523543,\"tags\":[[[\"Latitude\",\"Latitude\",null]]]},\"id\":\"4275\",\"type\":\"Range1d\"},{\"attributes\":{\"children\":[{\"id\":\"4269\"},{\"id\":\"4281\"},{\"id\":\"4419\"}],\"margin\":[0,0,0,0],\"name\":\"Row10105\",\"tags\":[\"embedded\"]},\"id\":\"4268\",\"type\":\"Row\"},{\"attributes\":{},\"id\":\"4298\",\"type\":\"SaveTool\"},{\"attributes\":{},\"id\":\"4299\",\"type\":\"PanTool\"},{\"attributes\":{},\"id\":\"4302\",\"type\":\"ResetTool\"},{\"attributes\":{\"zoom_on_axis\":false},\"id\":\"4300\",\"type\":\"WheelZoomTool\"},{\"attributes\":{\"margin\":[5,5,5,5],\"name\":\"HSpacer10110\",\"sizing_mode\":\"stretch_width\"},\"id\":\"4419\",\"type\":\"Spacer\"},{\"attributes\":{},\"id\":\"4326\",\"type\":\"AllLabels\"},{\"attributes\":{\"axis\":{\"id\":\"4290\"},\"coordinates\":null,\"grid_line_color\":null,\"group\":null,\"ticker\":null},\"id\":\"4293\",\"type\":\"Grid\"},{\"attributes\":{\"fill_alpha\":{\"value\":0.8},\"fill_color\":{\"field\":\"color\",\"transform\":{\"id\":\"4344\"}},\"hatch_alpha\":{\"value\":0.1},\"hatch_color\":{\"field\":\"color\",\"transform\":{\"id\":\"4344\"}},\"line_alpha\":{\"value\":0.8},\"line_color\":{\"field\":\"color\",\"transform\":{\"id\":\"4344\"}},\"size\":{\"value\":5.477225575051661},\"x\":{\"field\":\"Longitude\"},\"y\":{\"field\":\"Latitude\"}},\"id\":\"4349\",\"type\":\"Scatter\"},{\"attributes\":{\"match_aspect\":true,\"overlay\":{\"id\":\"4303\"}},\"id\":\"4301\",\"type\":\"BoxZoomTool\"},{\"attributes\":{\"code\":\"\\n        var projections = Bokeh.require(\\\"core/util/projections\\\");\\n        var x = special_vars.data_x\\n        var y = special_vars.data_y\\n        if (projections.wgs84_mercator.invert == null) {\\n          var coords = projections.wgs84_mercator.inverse([x, y])\\n        } else {\\n          var coords = projections.wgs84_mercator.invert(x, y)\\n        }\\n        return \\\"\\\" + (coords[0]).toFixed(4)\\n    \"},\"id\":\"4363\",\"type\":\"CustomJSHover\"},{\"attributes\":{\"below\":[{\"id\":\"4290\"}],\"center\":[{\"id\":\"4293\"},{\"id\":\"4297\"}],\"frame_height\":500,\"frame_width\":700,\"height\":null,\"left\":[{\"id\":\"4294\"}],\"margin\":[5,5,5,5],\"match_aspect\":true,\"min_border_bottom\":10,\"min_border_left\":10,\"min_border_right\":10,\"min_border_top\":10,\"renderers\":[{\"id\":\"4342\"},{\"id\":\"4353\"}],\"right\":[{\"id\":\"4361\"}],\"sizing_mode\":\"fixed\",\"title\":{\"id\":\"4282\"},\"toolbar\":{\"id\":\"4304\"},\"width\":null,\"x_range\":{\"id\":\"4274\"},\"x_scale\":{\"id\":\"4286\"},\"y_range\":{\"id\":\"4275\"},\"y_scale\":{\"id\":\"4288\"}},\"id\":\"4281\",\"subtype\":\"Figure\",\"type\":\"Plot\"},{\"attributes\":{},\"id\":\"4358\",\"type\":\"UnionRenderers\"},{\"attributes\":{\"fill_alpha\":{\"value\":0.8},\"fill_color\":{\"field\":\"color\",\"transform\":{\"id\":\"4344\"}},\"hatch_alpha\":{\"value\":0.8},\"hatch_color\":{\"field\":\"color\",\"transform\":{\"id\":\"4344\"}},\"line_alpha\":{\"value\":0.8},\"line_color\":{\"field\":\"color\",\"transform\":{\"id\":\"4344\"}},\"size\":{\"value\":5.477225575051661},\"x\":{\"field\":\"Longitude\"},\"y\":{\"field\":\"Latitude\"}},\"id\":\"4348\",\"type\":\"Scatter\"},{\"attributes\":{\"fill_alpha\":{\"value\":0.8},\"fill_color\":{\"field\":\"color\",\"transform\":{\"id\":\"4344\"}},\"hatch_alpha\":{\"value\":0.8},\"hatch_color\":{\"field\":\"color\",\"transform\":{\"id\":\"4344\"}},\"line_alpha\":{\"value\":0.8},\"line_color\":{\"field\":\"color\",\"transform\":{\"id\":\"4344\"}},\"size\":{\"value\":5.477225575051661},\"x\":{\"field\":\"Longitude\"},\"y\":{\"field\":\"Latitude\"}},\"id\":\"4351\",\"type\":\"Scatter\"},{\"attributes\":{\"margin\":[5,5,5,5],\"name\":\"HSpacer10109\",\"sizing_mode\":\"stretch_width\"},\"id\":\"4269\",\"type\":\"Spacer\"},{\"attributes\":{\"coordinates\":null,\"data_source\":{\"id\":\"4345\"},\"glyph\":{\"id\":\"4348\"},\"group\":null,\"hover_glyph\":{\"id\":\"4351\"},\"muted_glyph\":{\"id\":\"4352\"},\"nonselection_glyph\":{\"id\":\"4349\"},\"selection_glyph\":{\"id\":\"4350\"},\"view\":{\"id\":\"4354\"}},\"id\":\"4353\",\"type\":\"GlyphRenderer\"},{\"attributes\":{\"dimension\":\"lon\"},\"id\":\"4313\",\"type\":\"MercatorTicker\"},{\"attributes\":{},\"id\":\"4319\",\"type\":\"AllLabels\"},{\"attributes\":{\"coordinates\":null,\"group\":null,\"text_color\":\"black\",\"text_font_size\":\"12pt\"},\"id\":\"4282\",\"type\":\"Title\"},{\"attributes\":{\"coordinates\":null,\"group\":null,\"level\":\"glyph\",\"tile_source\":{\"id\":\"4339\"}},\"id\":\"4342\",\"type\":\"TileRenderer\"},{\"attributes\":{\"attribution\":\"&copy; <a href=\\\"https://www.openstreetmap.org/copyright\\\">OpenStreetMap</a> contributors\",\"url\":\"https://c.tile.openstreetmap.org/{Z}/{X}/{Y}.png\"},\"id\":\"4339\",\"type\":\"WMTSTileSource\"},{\"attributes\":{\"factors\":[\"Botanical Garden\",\"Botanic Garden\"],\"palette\":[\"#1f77b3\",\"#ff7e0e\"]},\"id\":\"4344\",\"type\":\"CategoricalColorMapper\"},{\"attributes\":{},\"id\":\"4288\",\"type\":\"LinearScale\"},{\"attributes\":{},\"id\":\"4286\",\"type\":\"LinearScale\"},{\"attributes\":{\"fill_alpha\":{\"value\":0.2},\"fill_color\":{\"field\":\"color\",\"transform\":{\"id\":\"4344\"}},\"hatch_alpha\":{\"value\":0.2},\"hatch_color\":{\"field\":\"color\",\"transform\":{\"id\":\"4344\"}},\"line_alpha\":{\"value\":0.2},\"line_color\":{\"field\":\"color\",\"transform\":{\"id\":\"4344\"}},\"size\":{\"value\":5.477225575051661},\"x\":{\"field\":\"Longitude\"},\"y\":{\"field\":\"Latitude\"}},\"id\":\"4352\",\"type\":\"Scatter\"},{\"attributes\":{\"axis_label\":\"y\",\"coordinates\":null,\"formatter\":{\"id\":\"4316\"},\"group\":null,\"major_label_policy\":{\"id\":\"4326\"},\"ticker\":{\"id\":\"4315\"}},\"id\":\"4294\",\"type\":\"LinearAxis\"},{\"attributes\":{\"axis_label\":\"x\",\"coordinates\":null,\"formatter\":{\"id\":\"4314\"},\"group\":null,\"major_label_policy\":{\"id\":\"4319\"},\"ticker\":{\"id\":\"4313\"}},\"id\":\"4290\",\"type\":\"LinearAxis\"},{\"attributes\":{\"dimension\":\"lon\"},\"id\":\"4314\",\"type\":\"MercatorTickFormatter\"},{\"attributes\":{\"label\":{\"field\":\"color\"},\"renderers\":[{\"id\":\"4353\"}]},\"id\":\"4362\",\"type\":\"LegendItem\"},{\"attributes\":{\"end\":-8204971.422147031,\"min_interval\":5,\"reset_end\":-8204971.422147031,\"reset_start\":-8252995.533731815,\"start\":-8252995.533731815,\"tags\":[[[\"Longitude\",\"Longitude\",null]]]},\"id\":\"4274\",\"type\":\"Range1d\"},{\"attributes\":{\"axis\":{\"id\":\"4294\"},\"coordinates\":null,\"dimension\":1,\"grid_line_color\":null,\"group\":null,\"ticker\":null},\"id\":\"4297\",\"type\":\"Grid\"},{\"attributes\":{\"fill_alpha\":{\"value\":0.8},\"fill_color\":{\"field\":\"color\",\"transform\":{\"id\":\"4344\"}},\"hatch_alpha\":{\"value\":0.8},\"hatch_color\":{\"field\":\"color\",\"transform\":{\"id\":\"4344\"}},\"line_alpha\":{\"value\":0.8},\"line_color\":{\"field\":\"color\",\"transform\":{\"id\":\"4344\"}},\"size\":{\"value\":5.477225575051661},\"x\":{\"field\":\"Longitude\"},\"y\":{\"field\":\"Latitude\"}},\"id\":\"4350\",\"type\":\"Scatter\"},{\"attributes\":{\"data\":{\"Latitude\":{\"__ndarray__\":\"Y/zWL1sLU0E8mA+rcO9SQQ==\",\"dtype\":\"float64\",\"order\":\"little\",\"shape\":[2]},\"Longitude\":{\"__ndarray__\":\"rslu5ldfX8HIVL7W42hfwQ==\",\"dtype\":\"float64\",\"order\":\"little\",\"shape\":[2]},\"Name\":[\"Botanical Garden\",\"Botanic Garden\"],\"color\":[\"Botanical Garden\",\"Botanic Garden\"]},\"selected\":{\"id\":\"4346\"},\"selection_policy\":{\"id\":\"4358\"}},\"id\":\"4345\",\"type\":\"ColumnDataSource\"}],\"root_ids\":[\"4268\"]},\"title\":\"Bokeh Application\",\"version\":\"2.4.2\"}};\n",
       "    var render_items = [{\"docid\":\"ed0606fa-f44c-4d3d-a2ae-a66570e52bb9\",\"root_ids\":[\"4268\"],\"roots\":{\"4268\":\"068595e0-0fc1-4932-bf3e-ad4d0c6f777f\"}}];\n",
       "    root.Bokeh.embed.embed_items_notebook(docs_json, render_items);\n",
       "  }\n",
       "  if (root.Bokeh !== undefined && root.Bokeh.Panel !== undefined) {\n",
       "    embed_document(root);\n",
       "  } else {\n",
       "    var attempts = 0;\n",
       "    var timer = setInterval(function(root) {\n",
       "      if (root.Bokeh !== undefined && root.Bokeh.Panel !== undefined) {\n",
       "        clearInterval(timer);\n",
       "        embed_document(root);\n",
       "      } else if (document.readyState == \"complete\") {\n",
       "        attempts++;\n",
       "        if (attempts > 200) {\n",
       "          clearInterval(timer);\n",
       "          console.log(\"Bokeh: ERROR: Unable to run BokehJS code because BokehJS library is missing\");\n",
       "        }\n",
       "      }\n",
       "    }, 25, root)\n",
       "  }\n",
       "})(window);</script>"
      ],
      "text/plain": [
       ":Overlay\n",
       "   .Tiles.I  :Tiles   [x,y]\n",
       "   .Points.I :Points   [Longitude,Latitude]   (Name)"
      ]
     },
     "execution_count": 50,
     "metadata": {
      "application/vnd.holoviews_exec.v0+json": {
       "id": "4268"
      }
     },
     "output_type": "execute_result"
    }
   ],
   "source": [
    "# Create a DataFrame that slices the places_of_intereset DataFrame to include only gardens\n",
    "gardens = places_of_interest[places_of_interest[\"PlaceType\"] == \"Garden\"]\n",
    "\n",
    "# Plot all of the gardens in NYC\n",
    "# Keep all other parameters the same as the previous plot\n",
    "gardens_of_interest = gardens.hvplot.points(\n",
    "    x='Longitude', \n",
    "    y='Latitude', \n",
    "    geo=True, \n",
    "    color='Name',\n",
    "    alpha= .8,\n",
    "    tiles='OSM',\n",
    "    frame_width=700,\n",
    "    frame_height=500\n",
    "    )\n",
    "\n",
    "# Show the plot\n",
    "gardens_of_interest"
   ]
  },
  {
   "cell_type": "markdown",
   "metadata": {},
   "source": [
    "### Step 7: Plot Squares of Interest"
   ]
  },
  {
   "cell_type": "code",
   "execution_count": 54,
   "metadata": {},
   "outputs": [
    {
     "data": {},
     "metadata": {},
     "output_type": "display_data"
    },
    {
     "data": {
      "application/vnd.holoviews_exec.v0+json": "",
      "text/html": [
       "<div id='4817'>\n",
       "\n",
       "\n",
       "\n",
       "\n",
       "\n",
       "  <div class=\"bk-root\" id=\"d69e37cd-4e4c-463e-831f-446a7955205d\" data-root-id=\"4817\"></div>\n",
       "</div>\n",
       "<script type=\"application/javascript\">(function(root) {\n",
       "  function embed_document(root) {\n",
       "    var docs_json = {\"e638f963-5c3a-48d1-96a0-9f200ad19273\":{\"defs\":[{\"extends\":null,\"module\":null,\"name\":\"ReactiveHTML1\",\"overrides\":[],\"properties\":[]},{\"extends\":null,\"module\":null,\"name\":\"FlexBox1\",\"overrides\":[],\"properties\":[{\"default\":\"flex-start\",\"kind\":null,\"name\":\"align_content\"},{\"default\":\"flex-start\",\"kind\":null,\"name\":\"align_items\"},{\"default\":\"row\",\"kind\":null,\"name\":\"flex_direction\"},{\"default\":\"wrap\",\"kind\":null,\"name\":\"flex_wrap\"},{\"default\":\"flex-start\",\"kind\":null,\"name\":\"justify_content\"}]},{\"extends\":null,\"module\":null,\"name\":\"TemplateActions1\",\"overrides\":[],\"properties\":[{\"default\":0,\"kind\":null,\"name\":\"open_modal\"},{\"default\":0,\"kind\":null,\"name\":\"close_modal\"}]},{\"extends\":null,\"module\":null,\"name\":\"MaterialTemplateActions1\",\"overrides\":[],\"properties\":[{\"default\":0,\"kind\":null,\"name\":\"open_modal\"},{\"default\":0,\"kind\":null,\"name\":\"close_modal\"}]}],\"roots\":{\"references\":[{\"attributes\":{\"fill_alpha\":{\"value\":0.8},\"fill_color\":{\"field\":\"color\",\"transform\":{\"id\":\"4893\"}},\"hatch_alpha\":{\"value\":0.8},\"hatch_color\":{\"field\":\"color\",\"transform\":{\"id\":\"4893\"}},\"line_alpha\":{\"value\":0.8},\"line_color\":{\"field\":\"color\",\"transform\":{\"id\":\"4893\"}},\"marker\":{\"value\":\"triangle\"},\"size\":{\"value\":5.477225575051661},\"x\":{\"field\":\"Longitude\"},\"y\":{\"field\":\"Latitude\"}},\"id\":\"4897\",\"type\":\"Scatter\"},{\"attributes\":{\"fill_alpha\":{\"value\":0.8},\"fill_color\":{\"field\":\"color\",\"transform\":{\"id\":\"4893\"}},\"hatch_alpha\":{\"value\":0.8},\"hatch_color\":{\"field\":\"color\",\"transform\":{\"id\":\"4893\"}},\"line_alpha\":{\"value\":0.8},\"line_color\":{\"field\":\"color\",\"transform\":{\"id\":\"4893\"}},\"marker\":{\"value\":\"triangle\"},\"size\":{\"value\":5.477225575051661},\"x\":{\"field\":\"Longitude\"},\"y\":{\"field\":\"Latitude\"}},\"id\":\"4899\",\"type\":\"Scatter\"},{\"attributes\":{},\"id\":\"4895\",\"type\":\"Selection\"},{\"attributes\":{\"factors\":[\"Times Square\",\"Madison Square\",\"Union Square\"],\"palette\":[\"#1f77b3\",\"#ff7e0e\",\"#2ba02b\"]},\"id\":\"4893\",\"type\":\"CategoricalColorMapper\"},{\"attributes\":{\"attribution\":\"&copy; <a href=\\\"https://www.openstreetmap.org/copyright\\\">OpenStreetMap</a> contributors\",\"url\":\"https://c.tile.openstreetmap.org/{Z}/{X}/{Y}.png\"},\"id\":\"4888\",\"type\":\"WMTSTileSource\"},{\"attributes\":{\"end\":4977039.102877617,\"min_interval\":5,\"reset_end\":4977039.102877617,\"reset_start\":4973149.456176986,\"start\":4973149.456176986,\"tags\":[[[\"Latitude\",\"Latitude\",null]]]},\"id\":\"4824\",\"type\":\"Range1d\"},{\"attributes\":{\"callback\":null,\"formatters\":{\"$x\":{\"id\":\"4912\"},\"$y\":{\"id\":\"4913\"}},\"renderers\":[{\"id\":\"4902\"}],\"tags\":[\"hv_created\"],\"tooltips\":[[\"Longitude\",\"$x{custom}\"],[\"Latitude\",\"$y{custom}\"],[\"Name\",\"@{Name}\"]]},\"id\":\"4827\",\"type\":\"HoverTool\"},{\"attributes\":{\"dimension\":\"lat\"},\"id\":\"4865\",\"type\":\"MercatorTickFormatter\"},{\"attributes\":{\"dimension\":\"lat\"},\"id\":\"4864\",\"type\":\"MercatorTicker\"},{\"attributes\":{\"dimension\":\"lon\"},\"id\":\"4862\",\"type\":\"MercatorTicker\"},{\"attributes\":{\"tools\":[{\"id\":\"4827\"},{\"id\":\"4847\"},{\"id\":\"4848\"},{\"id\":\"4849\"},{\"id\":\"4850\"},{\"id\":\"4851\"}]},\"id\":\"4853\",\"type\":\"Toolbar\"},{\"attributes\":{\"bottom_units\":\"screen\",\"coordinates\":null,\"fill_alpha\":0.5,\"fill_color\":\"lightgrey\",\"group\":null,\"left_units\":\"screen\",\"level\":\"overlay\",\"line_alpha\":1.0,\"line_color\":\"black\",\"line_dash\":[4,4],\"line_width\":2,\"right_units\":\"screen\",\"syncable\":false,\"top_units\":\"screen\"},\"id\":\"4852\",\"type\":\"BoxAnnotation\"},{\"attributes\":{},\"id\":\"4847\",\"type\":\"SaveTool\"},{\"attributes\":{\"dimension\":\"lon\"},\"id\":\"4863\",\"type\":\"MercatorTickFormatter\"},{\"attributes\":{},\"id\":\"4848\",\"type\":\"PanTool\"},{\"attributes\":{\"end\":-8233370.771813825,\"min_interval\":5,\"reset_end\":-8233370.771813825,\"reset_start\":-8238816.277194709,\"start\":-8238816.277194709,\"tags\":[[[\"Longitude\",\"Longitude\",null]]]},\"id\":\"4823\",\"type\":\"Range1d\"},{\"attributes\":{\"fill_alpha\":{\"value\":0.8},\"fill_color\":{\"field\":\"color\",\"transform\":{\"id\":\"4893\"}},\"hatch_alpha\":{\"value\":0.8},\"hatch_color\":{\"field\":\"color\",\"transform\":{\"id\":\"4893\"}},\"line_alpha\":{\"value\":0.8},\"line_color\":{\"field\":\"color\",\"transform\":{\"id\":\"4893\"}},\"marker\":{\"value\":\"triangle\"},\"size\":{\"value\":5.477225575051661},\"x\":{\"field\":\"Longitude\"},\"y\":{\"field\":\"Latitude\"}},\"id\":\"4900\",\"type\":\"Scatter\"},{\"attributes\":{},\"id\":\"4851\",\"type\":\"ResetTool\"},{\"attributes\":{\"below\":[{\"id\":\"4839\"}],\"center\":[{\"id\":\"4842\"},{\"id\":\"4846\"}],\"frame_height\":500,\"frame_width\":700,\"height\":null,\"left\":[{\"id\":\"4843\"}],\"margin\":[5,5,5,5],\"match_aspect\":true,\"min_border_bottom\":10,\"min_border_left\":10,\"min_border_right\":10,\"min_border_top\":10,\"renderers\":[{\"id\":\"4891\"},{\"id\":\"4902\"}],\"right\":[{\"id\":\"4910\"}],\"sizing_mode\":\"fixed\",\"title\":{\"id\":\"4831\"},\"toolbar\":{\"id\":\"4853\"},\"width\":null,\"x_range\":{\"id\":\"4823\"},\"x_scale\":{\"id\":\"4835\"},\"y_range\":{\"id\":\"4824\"},\"y_scale\":{\"id\":\"4837\"}},\"id\":\"4830\",\"subtype\":\"Figure\",\"type\":\"Plot\"},{\"attributes\":{\"zoom_on_axis\":false},\"id\":\"4849\",\"type\":\"WheelZoomTool\"},{\"attributes\":{\"axis\":{\"id\":\"4839\"},\"coordinates\":null,\"grid_line_color\":null,\"group\":null,\"ticker\":null},\"id\":\"4842\",\"type\":\"Grid\"},{\"attributes\":{\"match_aspect\":true,\"overlay\":{\"id\":\"4852\"}},\"id\":\"4850\",\"type\":\"BoxZoomTool\"},{\"attributes\":{},\"id\":\"4868\",\"type\":\"AllLabels\"},{\"attributes\":{\"code\":\"\\n        var projections = Bokeh.require(\\\"core/util/projections\\\");\\n        var x = special_vars.data_x\\n        var y = special_vars.data_y\\n        if (projections.wgs84_mercator.invert == null) {\\n          var coords = projections.wgs84_mercator.inverse([x, y])\\n        } else {\\n          var coords = projections.wgs84_mercator.invert(x, y)\\n        }\\n        return \\\"\\\" + (coords[0]).toFixed(4)\\n    \"},\"id\":\"4912\",\"type\":\"CustomJSHover\"},{\"attributes\":{\"margin\":[5,5,5,5],\"name\":\"HSpacer11234\",\"sizing_mode\":\"stretch_width\"},\"id\":\"4818\",\"type\":\"Spacer\"},{\"attributes\":{\"fill_alpha\":{\"value\":0.8},\"fill_color\":{\"field\":\"color\",\"transform\":{\"id\":\"4893\"}},\"hatch_alpha\":{\"value\":0.1},\"hatch_color\":{\"field\":\"color\",\"transform\":{\"id\":\"4893\"}},\"line_alpha\":{\"value\":0.8},\"line_color\":{\"field\":\"color\",\"transform\":{\"id\":\"4893\"}},\"marker\":{\"value\":\"triangle\"},\"size\":{\"value\":5.477225575051661},\"x\":{\"field\":\"Longitude\"},\"y\":{\"field\":\"Latitude\"}},\"id\":\"4898\",\"type\":\"Scatter\"},{\"attributes\":{\"click_policy\":\"mute\",\"coordinates\":null,\"group\":null,\"items\":[{\"id\":\"4911\"}],\"location\":[0,0]},\"id\":\"4910\",\"type\":\"Legend\"},{\"attributes\":{\"coordinates\":null,\"group\":null,\"text_color\":\"black\",\"text_font_size\":\"12pt\"},\"id\":\"4831\",\"type\":\"Title\"},{\"attributes\":{\"coordinates\":null,\"group\":null,\"level\":\"glyph\",\"tile_source\":{\"id\":\"4888\"}},\"id\":\"4891\",\"type\":\"TileRenderer\"},{\"attributes\":{\"fill_alpha\":{\"value\":0.2},\"fill_color\":{\"field\":\"color\",\"transform\":{\"id\":\"4893\"}},\"hatch_alpha\":{\"value\":0.2},\"hatch_color\":{\"field\":\"color\",\"transform\":{\"id\":\"4893\"}},\"line_alpha\":{\"value\":0.2},\"line_color\":{\"field\":\"color\",\"transform\":{\"id\":\"4893\"}},\"marker\":{\"value\":\"triangle\"},\"size\":{\"value\":5.477225575051661},\"x\":{\"field\":\"Longitude\"},\"y\":{\"field\":\"Latitude\"}},\"id\":\"4901\",\"type\":\"Scatter\"},{\"attributes\":{},\"id\":\"4835\",\"type\":\"LinearScale\"},{\"attributes\":{\"code\":\"\\n        var projections = Bokeh.require(\\\"core/util/projections\\\");\\n        var x = special_vars.data_x\\n        var y = special_vars.data_y\\n        if (projections.wgs84_mercator.invert == null) {\\n          var coords = projections.wgs84_mercator.inverse([x, y])\\n        } else {\\n          var coords = projections.wgs84_mercator.invert(x, y)\\n        }\\n        return \\\"\\\" + (coords[1]).toFixed(4)\\n    \"},\"id\":\"4913\",\"type\":\"CustomJSHover\"},{\"attributes\":{},\"id\":\"4837\",\"type\":\"LinearScale\"},{\"attributes\":{\"axis_label\":\"y\",\"coordinates\":null,\"formatter\":{\"id\":\"4865\"},\"group\":null,\"major_label_policy\":{\"id\":\"4875\"},\"ticker\":{\"id\":\"4864\"}},\"id\":\"4843\",\"type\":\"LinearAxis\"},{\"attributes\":{\"margin\":[5,5,5,5],\"name\":\"HSpacer11235\",\"sizing_mode\":\"stretch_width\"},\"id\":\"4968\",\"type\":\"Spacer\"},{\"attributes\":{\"axis_label\":\"x\",\"coordinates\":null,\"formatter\":{\"id\":\"4863\"},\"group\":null,\"major_label_policy\":{\"id\":\"4868\"},\"ticker\":{\"id\":\"4862\"}},\"id\":\"4839\",\"type\":\"LinearAxis\"},{\"attributes\":{\"source\":{\"id\":\"4894\"}},\"id\":\"4903\",\"type\":\"CDSView\"},{\"attributes\":{\"data\":{\"Latitude\":{\"__ndarray__\":\"zRE1xxL8UkE3tSfizPlSQZpHk1zo+FJB\",\"dtype\":\"float64\",\"order\":\"little\",\"shape\":[3]},\"Longitude\":{\"__ndarray__\":\"bRQ255dqX8G03bp5RmtfwUDg7NuGa1/B\",\"dtype\":\"float64\",\"order\":\"little\",\"shape\":[3]},\"Name\":[\"Times Square\",\"Madison Square\",\"Union Square\"],\"color\":[\"Times Square\",\"Madison Square\",\"Union Square\"]},\"selected\":{\"id\":\"4895\"},\"selection_policy\":{\"id\":\"4907\"}},\"id\":\"4894\",\"type\":\"ColumnDataSource\"},{\"attributes\":{},\"id\":\"4875\",\"type\":\"AllLabels\"},{\"attributes\":{\"coordinates\":null,\"data_source\":{\"id\":\"4894\"},\"glyph\":{\"id\":\"4897\"},\"group\":null,\"hover_glyph\":{\"id\":\"4900\"},\"muted_glyph\":{\"id\":\"4901\"},\"nonselection_glyph\":{\"id\":\"4898\"},\"selection_glyph\":{\"id\":\"4899\"},\"view\":{\"id\":\"4903\"}},\"id\":\"4902\",\"type\":\"GlyphRenderer\"},{\"attributes\":{\"label\":{\"field\":\"color\"},\"renderers\":[{\"id\":\"4902\"}]},\"id\":\"4911\",\"type\":\"LegendItem\"},{\"attributes\":{},\"id\":\"4907\",\"type\":\"UnionRenderers\"},{\"attributes\":{\"axis\":{\"id\":\"4843\"},\"coordinates\":null,\"dimension\":1,\"grid_line_color\":null,\"group\":null,\"ticker\":null},\"id\":\"4846\",\"type\":\"Grid\"},{\"attributes\":{\"children\":[{\"id\":\"4818\"},{\"id\":\"4830\"},{\"id\":\"4968\"}],\"margin\":[0,0,0,0],\"name\":\"Row11230\",\"tags\":[\"embedded\"]},\"id\":\"4817\",\"type\":\"Row\"}],\"root_ids\":[\"4817\"]},\"title\":\"Bokeh Application\",\"version\":\"2.4.2\"}};\n",
       "    var render_items = [{\"docid\":\"e638f963-5c3a-48d1-96a0-9f200ad19273\",\"root_ids\":[\"4817\"],\"roots\":{\"4817\":\"d69e37cd-4e4c-463e-831f-446a7955205d\"}}];\n",
       "    root.Bokeh.embed.embed_items_notebook(docs_json, render_items);\n",
       "  }\n",
       "  if (root.Bokeh !== undefined && root.Bokeh.Panel !== undefined) {\n",
       "    embed_document(root);\n",
       "  } else {\n",
       "    var attempts = 0;\n",
       "    var timer = setInterval(function(root) {\n",
       "      if (root.Bokeh !== undefined && root.Bokeh.Panel !== undefined) {\n",
       "        clearInterval(timer);\n",
       "        embed_document(root);\n",
       "      } else if (document.readyState == \"complete\") {\n",
       "        attempts++;\n",
       "        if (attempts > 200) {\n",
       "          clearInterval(timer);\n",
       "          console.log(\"Bokeh: ERROR: Unable to run BokehJS code because BokehJS library is missing\");\n",
       "        }\n",
       "      }\n",
       "    }, 25, root)\n",
       "  }\n",
       "})(window);</script>"
      ],
      "text/plain": [
       ":Overlay\n",
       "   .Tiles.I  :Tiles   [x,y]\n",
       "   .Points.I :Points   [Longitude,Latitude]   (Name)"
      ]
     },
     "execution_count": 54,
     "metadata": {
      "application/vnd.holoviews_exec.v0+json": {
       "id": "4817"
      }
     },
     "output_type": "execute_result"
    }
   ],
   "source": [
    "# Create a DataFrame that slices the places_of_intereset DataFrame to include only squares\n",
    "squares = places_of_interest[places_of_interest[\"PlaceType\"] == \"Square\"]\n",
    "\n",
    "# Plot all of the squares in NYC\n",
    "squares_of_interest = squares.hvplot.points(\n",
    "    x='Longitude', \n",
    "    y='Latitude', \n",
    "    geo=True, \n",
    "    color='Name',\n",
    "    alpha= .8,\n",
    "    tiles='OSM',\n",
    "    frame_width=700,\n",
    "    frame_height=500,\n",
    "    marker = \"triangle\"\n",
    "    )\n",
    "\n",
    "squares_of_interest\n",
    "# Show the plot\n",
    "# YOUR CODE HERE"
   ]
  },
  {
   "cell_type": "markdown",
   "metadata": {},
   "source": [
    "### Step 8: Bonus - Pick two place of interest and plot them both on a the map"
   ]
  },
  {
   "cell_type": "code",
   "execution_count": 49,
   "metadata": {},
   "outputs": [
    {
     "data": {},
     "metadata": {},
     "output_type": "display_data"
    },
    {
     "data": {
      "application/vnd.holoviews_exec.v0+json": "",
      "text/html": [
       "<div id='4085'>\n",
       "\n",
       "\n",
       "\n",
       "\n",
       "\n",
       "  <div class=\"bk-root\" id=\"3e07a9df-7c0f-46f6-bebf-ed36679af19f\" data-root-id=\"4085\"></div>\n",
       "</div>\n",
       "<script type=\"application/javascript\">(function(root) {\n",
       "  function embed_document(root) {\n",
       "    var docs_json = {\"daded58b-4854-421b-aa67-69257b691cee\":{\"defs\":[{\"extends\":null,\"module\":null,\"name\":\"ReactiveHTML1\",\"overrides\":[],\"properties\":[]},{\"extends\":null,\"module\":null,\"name\":\"FlexBox1\",\"overrides\":[],\"properties\":[{\"default\":\"flex-start\",\"kind\":null,\"name\":\"align_content\"},{\"default\":\"flex-start\",\"kind\":null,\"name\":\"align_items\"},{\"default\":\"row\",\"kind\":null,\"name\":\"flex_direction\"},{\"default\":\"wrap\",\"kind\":null,\"name\":\"flex_wrap\"},{\"default\":\"flex-start\",\"kind\":null,\"name\":\"justify_content\"}]},{\"extends\":null,\"module\":null,\"name\":\"TemplateActions1\",\"overrides\":[],\"properties\":[{\"default\":0,\"kind\":null,\"name\":\"open_modal\"},{\"default\":0,\"kind\":null,\"name\":\"close_modal\"}]},{\"extends\":null,\"module\":null,\"name\":\"MaterialTemplateActions1\",\"overrides\":[],\"properties\":[{\"default\":0,\"kind\":null,\"name\":\"open_modal\"},{\"default\":0,\"kind\":null,\"name\":\"close_modal\"}]}],\"roots\":{\"references\":[{\"attributes\":{\"zoom_on_axis\":false},\"id\":\"4117\",\"type\":\"WheelZoomTool\"},{\"attributes\":{\"axis\":{\"id\":\"4107\"},\"coordinates\":null,\"grid_line_color\":null,\"group\":null,\"ticker\":null},\"id\":\"4110\",\"type\":\"Grid\"},{\"attributes\":{\"match_aspect\":true,\"overlay\":{\"id\":\"4120\"}},\"id\":\"4118\",\"type\":\"BoxZoomTool\"},{\"attributes\":{},\"id\":\"4136\",\"type\":\"AllLabels\"},{\"attributes\":{\"fill_alpha\":{\"value\":0.8},\"fill_color\":{\"field\":\"color\",\"transform\":{\"id\":\"4161\"}},\"hatch_alpha\":{\"value\":0.1},\"hatch_color\":{\"field\":\"color\",\"transform\":{\"id\":\"4161\"}},\"line_alpha\":{\"value\":0.8},\"line_color\":{\"field\":\"color\",\"transform\":{\"id\":\"4161\"}},\"size\":{\"value\":5.477225575051661},\"x\":{\"field\":\"Longitude\"},\"y\":{\"field\":\"Latitude\"}},\"id\":\"4166\",\"type\":\"Scatter\"},{\"attributes\":{},\"id\":\"4119\",\"type\":\"ResetTool\"},{\"attributes\":{\"margin\":[5,5,5,5],\"name\":\"HSpacer09734\",\"sizing_mode\":\"stretch_width\"},\"id\":\"4086\",\"type\":\"Spacer\"},{\"attributes\":{},\"id\":\"4143\",\"type\":\"AllLabels\"},{\"attributes\":{\"attribution\":\"&copy; <a href=\\\"https://www.openstreetmap.org/copyright\\\">OpenStreetMap</a> contributors\",\"url\":\"https://c.tile.openstreetmap.org/{Z}/{X}/{Y}.png\"},\"id\":\"4156\",\"type\":\"WMTSTileSource\"},{\"attributes\":{\"data\":{\"Latitude\":{\"__ndarray__\":\"1cxBK+0PU0HDEQzVmA5TQVxDy0tODVNBY/zWL1sLU0FnFh+gEwpTQbDbWfMoBFNB7/D3blEEU0EdPzeHoAdTQcQ9aOEjCVNBIQmrgr8DU0HYh4VyJgtTQTafzMSYAlNBZDZsZIMBU0E2BeLh1/9SQUbXR1Ok/1JBcsf5S7/2UkESAeSHxP5SQTyYD6tw71JBBg4X+jHuUkEEq0v3JOtSQaVt3SAQ51JB/Rk/I+flUkEZ6Ys5EulSQfOrjj/b7FJBzBzON+rvUkFrxoU9BPJSQbmsIzmr9lJBdlm7+en3UkFGIpiYmf9SQYrRzfn7/VJBGBvRc3L7UkHaPBJ6KPtSQewpz+/S4FJBMB5bPFTpUkG1dajJA+hSQaYAgPMK3lJBQuCj6t3iUkGucB2fguVSQeVi02KV21JBjGCwEDnaUkErcfhnDddSQfgxi+tI41JBfad3Ug3kUkGuB0QZvu9SQa60sW1dD1NBL9A0OvzrUkEZgb4fDuxSQQ==\",\"dtype\":\"float64\",\"order\":\"little\",\"shape\":[47]},\"Longitude\":{\"__ndarray__\":\"MMxcTIBgX8GRJwcBCFtfwYWWvWflV1/Brslu5ldfX8HNf9XtHl9fwbU9XbdmWl/BNsZeLK1eX8GSHBv/EmFfwa2LBnUCX1/BfFpV0vpiX8GparFwK2VfwR8+WWJXZl/BXoNjfA9kX8H3EQ/D9WRfwWXHTcrWaF/BPKL6OVpnX8GN+vD+VmRfwchUvtbjaF/BwhHKQzZpX8F5pL+4FXBfwb0t7fWybl/BvroF6FFkX8Gjg/vxfmFfwSK8dmynUV/BGVO3emhVX8EetycLylNfwQvAQ8J8X1/BTlt8uXZTX8HgdduvnlVfwbeNANZ1U1/BiC/JscVQX8EelRApeE9fwTgK3MacXl/BPvehYNt2X8EfoT5Rm3hfwcisvyk6el/B8BsDcRB8X8FjVXqPxn1fwcObdKuif1/BYAd43H2BX8EiURoamIdfwQNqGx/ja1/BCYmHzBB5X8HyoYccLW1fwR7Zw/GHY1/BJm9aFuZdX8FrgTb/oltfwQ==\",\"dtype\":\"float64\",\"order\":\"little\",\"shape\":[47]},\"PlaceType\":[\"Park\",\"Park\",\"Park\",\"Garden\",\"Park\",\"Park\",\"Park\",\"Park\",\"Park\",\"Park\",\"Park\",\"Park\",\"Park\",\"Park\",\"Park\",\"Park\",\"Park\",\"Garden\",\"Park\",\"Park\",\"Park\",\"Park\",\"Park\",\"Park\",\"Park\",\"Park\",\"Park\",\"Park\",\"Park\",\"Park\",\"Park\",\"Park\",\"Park\",\"Park\",\"Park\",\"Park\",\"Park\",\"Park\",\"Park\",\"Park\",\"Park\",\"Park\",\"Park\",\"Park\",\"Park\",\"Park\",\"Park\"],\"color\":[\"Park\",\"Park\",\"Park\",\"Garden\",\"Park\",\"Park\",\"Park\",\"Park\",\"Park\",\"Park\",\"Park\",\"Park\",\"Park\",\"Park\",\"Park\",\"Park\",\"Park\",\"Garden\",\"Park\",\"Park\",\"Park\",\"Park\",\"Park\",\"Park\",\"Park\",\"Park\",\"Park\",\"Park\",\"Park\",\"Park\",\"Park\",\"Park\",\"Park\",\"Park\",\"Park\",\"Park\",\"Park\",\"Park\",\"Park\",\"Park\",\"Park\",\"Park\",\"Park\",\"Park\",\"Park\",\"Park\",\"Park\"]},\"selected\":{\"id\":\"4163\"},\"selection_policy\":{\"id\":\"4175\"}},\"id\":\"4162\",\"type\":\"ColumnDataSource\"},{\"attributes\":{\"coordinates\":null,\"group\":null,\"text_color\":\"black\",\"text_font_size\":\"12pt\"},\"id\":\"4099\",\"type\":\"Title\"},{\"attributes\":{},\"id\":\"4105\",\"type\":\"LinearScale\"},{\"attributes\":{},\"id\":\"4103\",\"type\":\"LinearScale\"},{\"attributes\":{\"axis_label\":\"y\",\"coordinates\":null,\"formatter\":{\"id\":\"4133\"},\"group\":null,\"major_label_policy\":{\"id\":\"4143\"},\"ticker\":{\"id\":\"4132\"}},\"id\":\"4111\",\"type\":\"LinearAxis\"},{\"attributes\":{\"dimension\":\"lon\"},\"id\":\"4131\",\"type\":\"MercatorTickFormatter\"},{\"attributes\":{\"axis_label\":\"x\",\"coordinates\":null,\"formatter\":{\"id\":\"4131\"},\"group\":null,\"major_label_policy\":{\"id\":\"4136\"},\"ticker\":{\"id\":\"4130\"}},\"id\":\"4107\",\"type\":\"LinearAxis\"},{\"attributes\":{\"fill_alpha\":{\"value\":0.8},\"fill_color\":{\"field\":\"color\",\"transform\":{\"id\":\"4161\"}},\"hatch_alpha\":{\"value\":0.8},\"hatch_color\":{\"field\":\"color\",\"transform\":{\"id\":\"4161\"}},\"line_alpha\":{\"value\":0.8},\"line_color\":{\"field\":\"color\",\"transform\":{\"id\":\"4161\"}},\"size\":{\"value\":5.477225575051661},\"x\":{\"field\":\"Longitude\"},\"y\":{\"field\":\"Latitude\"}},\"id\":\"4165\",\"type\":\"Scatter\"},{\"attributes\":{\"dimension\":\"lat\"},\"id\":\"4133\",\"type\":\"MercatorTickFormatter\"},{\"attributes\":{\"fill_alpha\":{\"value\":0.8},\"fill_color\":{\"field\":\"color\",\"transform\":{\"id\":\"4161\"}},\"hatch_alpha\":{\"value\":0.8},\"hatch_color\":{\"field\":\"color\",\"transform\":{\"id\":\"4161\"}},\"line_alpha\":{\"value\":0.8},\"line_color\":{\"field\":\"color\",\"transform\":{\"id\":\"4161\"}},\"size\":{\"value\":5.477225575051661},\"x\":{\"field\":\"Longitude\"},\"y\":{\"field\":\"Latitude\"}},\"id\":\"4167\",\"type\":\"Scatter\"},{\"attributes\":{},\"id\":\"4163\",\"type\":\"Selection\"},{\"attributes\":{\"fill_alpha\":{\"value\":0.8},\"fill_color\":{\"field\":\"color\",\"transform\":{\"id\":\"4161\"}},\"hatch_alpha\":{\"value\":0.8},\"hatch_color\":{\"field\":\"color\",\"transform\":{\"id\":\"4161\"}},\"line_alpha\":{\"value\":0.8},\"line_color\":{\"field\":\"color\",\"transform\":{\"id\":\"4161\"}},\"size\":{\"value\":5.477225575051661},\"x\":{\"field\":\"Longitude\"},\"y\":{\"field\":\"Latitude\"}},\"id\":\"4168\",\"type\":\"Scatter\"},{\"attributes\":{\"code\":\"\\n        var projections = Bokeh.require(\\\"core/util/projections\\\");\\n        var x = special_vars.data_x\\n        var y = special_vars.data_y\\n        if (projections.wgs84_mercator.invert == null) {\\n          var coords = projections.wgs84_mercator.inverse([x, y])\\n        } else {\\n          var coords = projections.wgs84_mercator.invert(x, y)\\n        }\\n        return \\\"\\\" + (coords[0]).toFixed(4)\\n    \"},\"id\":\"4180\",\"type\":\"CustomJSHover\"},{\"attributes\":{\"axis\":{\"id\":\"4111\"},\"coordinates\":null,\"dimension\":1,\"grid_line_color\":null,\"group\":null,\"ticker\":null},\"id\":\"4114\",\"type\":\"Grid\"},{\"attributes\":{\"factors\":[\"Park\",\"Garden\"],\"palette\":[\"#1f77b3\",\"#ff7e0e\"]},\"id\":\"4161\",\"type\":\"CategoricalColorMapper\"},{\"attributes\":{\"end\":-8187655.96828672,\"min_interval\":5,\"reset_end\":-8187655.96828672,\"reset_start\":-8285497.081206661,\"start\":-8285497.081206661,\"tags\":[[[\"Longitude\",\"Longitude\",null]]]},\"id\":\"4091\",\"type\":\"Range1d\"},{\"attributes\":{\"dimension\":\"lon\"},\"id\":\"4130\",\"type\":\"MercatorTicker\"},{\"attributes\":{\"click_policy\":\"mute\",\"coordinates\":null,\"group\":null,\"items\":[{\"id\":\"4179\"}],\"location\":[0,0]},\"id\":\"4178\",\"type\":\"Legend\"},{\"attributes\":{\"source\":{\"id\":\"4162\"}},\"id\":\"4171\",\"type\":\"CDSView\"},{\"attributes\":{\"fill_alpha\":{\"value\":0.2},\"fill_color\":{\"field\":\"color\",\"transform\":{\"id\":\"4161\"}},\"hatch_alpha\":{\"value\":0.2},\"hatch_color\":{\"field\":\"color\",\"transform\":{\"id\":\"4161\"}},\"line_alpha\":{\"value\":0.2},\"line_color\":{\"field\":\"color\",\"transform\":{\"id\":\"4161\"}},\"size\":{\"value\":5.477225575051661},\"x\":{\"field\":\"Longitude\"},\"y\":{\"field\":\"Latitude\"}},\"id\":\"4169\",\"type\":\"Scatter\"},{\"attributes\":{},\"id\":\"4175\",\"type\":\"UnionRenderers\"},{\"attributes\":{\"children\":[{\"id\":\"4086\"},{\"id\":\"4098\"},{\"id\":\"4236\"}],\"margin\":[0,0,0,0],\"name\":\"Row09730\",\"tags\":[\"embedded\"]},\"id\":\"4085\",\"type\":\"Row\"},{\"attributes\":{\"below\":[{\"id\":\"4107\"}],\"center\":[{\"id\":\"4110\"},{\"id\":\"4114\"}],\"frame_height\":500,\"frame_width\":700,\"height\":null,\"left\":[{\"id\":\"4111\"}],\"margin\":[5,5,5,5],\"match_aspect\":true,\"min_border_bottom\":10,\"min_border_left\":10,\"min_border_right\":10,\"min_border_top\":10,\"renderers\":[{\"id\":\"4159\"},{\"id\":\"4170\"}],\"right\":[{\"id\":\"4178\"}],\"sizing_mode\":\"fixed\",\"title\":{\"id\":\"4099\"},\"toolbar\":{\"id\":\"4121\"},\"width\":null,\"x_range\":{\"id\":\"4091\"},\"x_scale\":{\"id\":\"4103\"},\"y_range\":{\"id\":\"4092\"},\"y_scale\":{\"id\":\"4105\"}},\"id\":\"4098\",\"subtype\":\"Figure\",\"type\":\"Plot\"},{\"attributes\":{\"coordinates\":null,\"group\":null,\"level\":\"glyph\",\"tile_source\":{\"id\":\"4156\"}},\"id\":\"4159\",\"type\":\"TileRenderer\"},{\"attributes\":{\"callback\":null,\"formatters\":{\"$x\":{\"id\":\"4180\"},\"$y\":{\"id\":\"4181\"}},\"renderers\":[{\"id\":\"4170\"}],\"tags\":[\"hv_created\"],\"tooltips\":[[\"Longitude\",\"$x{custom}\"],[\"Latitude\",\"$y{custom}\"],[\"PlaceType\",\"@{PlaceType}\"]]},\"id\":\"4095\",\"type\":\"HoverTool\"},{\"attributes\":{\"end\":5002868.404392054,\"min_interval\":5,\"reset_end\":5002868.404392054,\"reset_start\":4932981.895163525,\"start\":4932981.895163525,\"tags\":[[[\"Latitude\",\"Latitude\",null]]]},\"id\":\"4092\",\"type\":\"Range1d\"},{\"attributes\":{\"tools\":[{\"id\":\"4095\"},{\"id\":\"4115\"},{\"id\":\"4116\"},{\"id\":\"4117\"},{\"id\":\"4118\"},{\"id\":\"4119\"}]},\"id\":\"4121\",\"type\":\"Toolbar\"},{\"attributes\":{\"label\":{\"field\":\"color\"},\"renderers\":[{\"id\":\"4170\"}]},\"id\":\"4179\",\"type\":\"LegendItem\"},{\"attributes\":{\"dimension\":\"lat\"},\"id\":\"4132\",\"type\":\"MercatorTicker\"},{\"attributes\":{\"code\":\"\\n        var projections = Bokeh.require(\\\"core/util/projections\\\");\\n        var x = special_vars.data_x\\n        var y = special_vars.data_y\\n        if (projections.wgs84_mercator.invert == null) {\\n          var coords = projections.wgs84_mercator.inverse([x, y])\\n        } else {\\n          var coords = projections.wgs84_mercator.invert(x, y)\\n        }\\n        return \\\"\\\" + (coords[1]).toFixed(4)\\n    \"},\"id\":\"4181\",\"type\":\"CustomJSHover\"},{\"attributes\":{\"bottom_units\":\"screen\",\"coordinates\":null,\"fill_alpha\":0.5,\"fill_color\":\"lightgrey\",\"group\":null,\"left_units\":\"screen\",\"level\":\"overlay\",\"line_alpha\":1.0,\"line_color\":\"black\",\"line_dash\":[4,4],\"line_width\":2,\"right_units\":\"screen\",\"syncable\":false,\"top_units\":\"screen\"},\"id\":\"4120\",\"type\":\"BoxAnnotation\"},{\"attributes\":{\"margin\":[5,5,5,5],\"name\":\"HSpacer09735\",\"sizing_mode\":\"stretch_width\"},\"id\":\"4236\",\"type\":\"Spacer\"},{\"attributes\":{},\"id\":\"4115\",\"type\":\"SaveTool\"},{\"attributes\":{},\"id\":\"4116\",\"type\":\"PanTool\"},{\"attributes\":{\"coordinates\":null,\"data_source\":{\"id\":\"4162\"},\"glyph\":{\"id\":\"4165\"},\"group\":null,\"hover_glyph\":{\"id\":\"4168\"},\"muted_glyph\":{\"id\":\"4169\"},\"nonselection_glyph\":{\"id\":\"4166\"},\"selection_glyph\":{\"id\":\"4167\"},\"view\":{\"id\":\"4171\"}},\"id\":\"4170\",\"type\":\"GlyphRenderer\"}],\"root_ids\":[\"4085\"]},\"title\":\"Bokeh Application\",\"version\":\"2.4.2\"}};\n",
       "    var render_items = [{\"docid\":\"daded58b-4854-421b-aa67-69257b691cee\",\"root_ids\":[\"4085\"],\"roots\":{\"4085\":\"3e07a9df-7c0f-46f6-bebf-ed36679af19f\"}}];\n",
       "    root.Bokeh.embed.embed_items_notebook(docs_json, render_items);\n",
       "  }\n",
       "  if (root.Bokeh !== undefined && root.Bokeh.Panel !== undefined) {\n",
       "    embed_document(root);\n",
       "  } else {\n",
       "    var attempts = 0;\n",
       "    var timer = setInterval(function(root) {\n",
       "      if (root.Bokeh !== undefined && root.Bokeh.Panel !== undefined) {\n",
       "        clearInterval(timer);\n",
       "        embed_document(root);\n",
       "      } else if (document.readyState == \"complete\") {\n",
       "        attempts++;\n",
       "        if (attempts > 200) {\n",
       "          clearInterval(timer);\n",
       "          console.log(\"Bokeh: ERROR: Unable to run BokehJS code because BokehJS library is missing\");\n",
       "        }\n",
       "      }\n",
       "    }, 25, root)\n",
       "  }\n",
       "})(window);</script>"
      ],
      "text/plain": [
       ":Overlay\n",
       "   .Tiles.I  :Tiles   [x,y]\n",
       "   .Points.I :Points   [Longitude,Latitude]   (PlaceType)"
      ]
     },
     "execution_count": 49,
     "metadata": {
      "application/vnd.holoviews_exec.v0+json": {
       "id": "4085"
      }
     },
     "output_type": "execute_result"
    }
   ],
   "source": [
    "# Slice the name of two places from the places_of_interest DataFrame\n",
    "# Use the Pandas isin function to reference the specific name of a location\n",
    "#two_places = places_of_interest.loc(\"PlaceType\") == [\"Park\", \"Garden\"]\n",
    "two_places = places_of_interest.loc[\n",
    "    places_of_interest[\"PlaceType\"].isin([\"Park\", \"Garden\"])\n",
    "]\n",
    "#two_places = places_of_interest.loc[(places_of_interest[\"PlaceType\"] == \"Park\") | (places_of_interest[\"PlaceType\"] == \"Garden\")]\n",
    "# Create the Plot for just the two places\n",
    "two_places_route = two_places.hvplot.points(\n",
    "    x='Longitude', \n",
    "    y='Latitude', \n",
    "    geo=True, \n",
    "    color='PlaceType',\n",
    "    alpha= .8,\n",
    "    tiles='OSM',\n",
    "    frame_width=700,\n",
    "    frame_height=500\n",
    "    )\n",
    "\n",
    "two_places_route\n",
    "# Show the plot\n",
    "# YOUR CODE HERE"
   ]
  },
  {
   "cell_type": "code",
   "execution_count": null,
   "metadata": {},
   "outputs": [],
   "source": []
  }
 ],
 "metadata": {
  "kernelspec": {
   "display_name": "Python 3 (ipykernel)",
   "language": "python",
   "name": "python3"
  },
  "language_info": {
   "codemirror_mode": {
    "name": "ipython",
    "version": 3
   },
   "file_extension": ".py",
   "mimetype": "text/x-python",
   "name": "python",
   "nbconvert_exporter": "python",
   "pygments_lexer": "ipython3",
   "version": "3.7.11"
  }
 },
 "nbformat": 4,
 "nbformat_minor": 4
}
