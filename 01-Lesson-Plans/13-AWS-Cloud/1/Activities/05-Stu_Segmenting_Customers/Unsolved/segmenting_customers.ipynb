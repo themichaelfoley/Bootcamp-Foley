{
 "cells": [
  {
   "cell_type": "markdown",
   "metadata": {},
   "source": [
    "# Segmenting Customers\n",
    "\n",
    "You have been asked to review how the customer ratings data looks when modeled with 3 and 4 clusters.\n",
    "\n",
    "Using the information contained in this notebook, apply the K-means algrothim to the `service_ratings` data using both 3 and 4 clusters to segment the customer information."
   ]
  },
  {
   "cell_type": "code",
   "execution_count": 30,
   "metadata": {},
   "outputs": [],
   "source": [
    "# Import the modules\n",
    "import pandas as pd\n",
    "from pathlib import Path\n",
    "import hvplot.pandas\n",
    "\n",
    "# Import the K-means algorithm\n",
    "from sklearn.cluster import KMeans"
   ]
  },
  {
   "cell_type": "code",
   "execution_count": 31,
   "metadata": {},
   "outputs": [
    {
     "data": {
      "text/html": [
       "<div>\n",
       "<style scoped>\n",
       "    .dataframe tbody tr th:only-of-type {\n",
       "        vertical-align: middle;\n",
       "    }\n",
       "\n",
       "    .dataframe tbody tr th {\n",
       "        vertical-align: top;\n",
       "    }\n",
       "\n",
       "    .dataframe thead th {\n",
       "        text-align: right;\n",
       "    }\n",
       "</style>\n",
       "<table border=\"1\" class=\"dataframe\">\n",
       "  <thead>\n",
       "    <tr style=\"text-align: right;\">\n",
       "      <th></th>\n",
       "      <th>mobile_app_rating</th>\n",
       "      <th>personal_banker_rating</th>\n",
       "    </tr>\n",
       "  </thead>\n",
       "  <tbody>\n",
       "    <tr>\n",
       "      <th>0</th>\n",
       "      <td>3.50</td>\n",
       "      <td>2.40</td>\n",
       "    </tr>\n",
       "    <tr>\n",
       "      <th>1</th>\n",
       "      <td>3.65</td>\n",
       "      <td>3.14</td>\n",
       "    </tr>\n",
       "    <tr>\n",
       "      <th>2</th>\n",
       "      <td>2.90</td>\n",
       "      <td>2.75</td>\n",
       "    </tr>\n",
       "    <tr>\n",
       "      <th>3</th>\n",
       "      <td>2.93</td>\n",
       "      <td>3.36</td>\n",
       "    </tr>\n",
       "    <tr>\n",
       "      <th>4</th>\n",
       "      <td>2.89</td>\n",
       "      <td>2.62</td>\n",
       "    </tr>\n",
       "  </tbody>\n",
       "</table>\n",
       "</div>"
      ],
      "text/plain": [
       "   mobile_app_rating  personal_banker_rating\n",
       "0               3.50                    2.40\n",
       "1               3.65                    3.14\n",
       "2               2.90                    2.75\n",
       "3               2.93                    3.36\n",
       "4               2.89                    2.62"
      ]
     },
     "execution_count": 31,
     "metadata": {},
     "output_type": "execute_result"
    }
   ],
   "source": [
    "# Read in the CSV file as a Pandas DataFrame\n",
    "service_ratings_df = pd.read_csv(\n",
    "    Path(\"../Resources/service_ratings.csv\")\n",
    ")\n",
    "\n",
    "# Review the DataFrame\n",
    "service_ratings_df.head()"
   ]
  },
  {
   "cell_type": "code",
   "execution_count": 32,
   "metadata": {},
   "outputs": [
    {
     "data": {},
     "metadata": {},
     "output_type": "display_data"
    },
    {
     "data": {
      "application/vnd.holoviews_exec.v0+json": "",
      "text/html": [
       "<div id='1984'>\n",
       "\n",
       "\n",
       "\n",
       "\n",
       "\n",
       "  <div class=\"bk-root\" id=\"72c15243-c79b-4843-ad7a-19760191309a\" data-root-id=\"1984\"></div>\n",
       "</div>\n",
       "<script type=\"application/javascript\">(function(root) {\n",
       "  function embed_document(root) {\n",
       "    var docs_json = {\"332e436a-e325-4333-a540-87fbe742d4cf\":{\"defs\":[{\"extends\":null,\"module\":null,\"name\":\"ReactiveHTML1\",\"overrides\":[],\"properties\":[]},{\"extends\":null,\"module\":null,\"name\":\"FlexBox1\",\"overrides\":[],\"properties\":[{\"default\":\"flex-start\",\"kind\":null,\"name\":\"align_content\"},{\"default\":\"flex-start\",\"kind\":null,\"name\":\"align_items\"},{\"default\":\"row\",\"kind\":null,\"name\":\"flex_direction\"},{\"default\":\"wrap\",\"kind\":null,\"name\":\"flex_wrap\"},{\"default\":\"flex-start\",\"kind\":null,\"name\":\"justify_content\"}]},{\"extends\":null,\"module\":null,\"name\":\"TemplateActions1\",\"overrides\":[],\"properties\":[{\"default\":0,\"kind\":null,\"name\":\"open_modal\"},{\"default\":0,\"kind\":null,\"name\":\"close_modal\"}]},{\"extends\":null,\"module\":null,\"name\":\"MaterialTemplateActions1\",\"overrides\":[],\"properties\":[{\"default\":0,\"kind\":null,\"name\":\"open_modal\"},{\"default\":0,\"kind\":null,\"name\":\"close_modal\"}]}],\"roots\":{\"references\":[{\"attributes\":{\"coordinates\":null,\"data_source\":{\"id\":\"2019\"},\"glyph\":{\"id\":\"2022\"},\"group\":null,\"hover_glyph\":null,\"muted_glyph\":{\"id\":\"2024\"},\"nonselection_glyph\":{\"id\":\"2023\"},\"selection_glyph\":{\"id\":\"2027\"},\"view\":{\"id\":\"2026\"}},\"id\":\"2025\",\"type\":\"GlyphRenderer\"},{\"attributes\":{},\"id\":\"2003\",\"type\":\"BasicTicker\"},{\"attributes\":{},\"id\":\"2006\",\"type\":\"SaveTool\"},{\"attributes\":{},\"id\":\"2029\",\"type\":\"BasicTickFormatter\"},{\"attributes\":{},\"id\":\"2007\",\"type\":\"PanTool\"},{\"attributes\":{\"end\":5.263,\"reset_end\":5.263,\"reset_start\":0.06699999999999995,\"start\":0.06699999999999995,\"tags\":[[[\"personal_banker_rating\",\"personal_banker_rating\",null]]]},\"id\":\"1987\",\"type\":\"Range1d\"},{\"attributes\":{},\"id\":\"2010\",\"type\":\"ResetTool\"},{\"attributes\":{},\"id\":\"2008\",\"type\":\"WheelZoomTool\"},{\"attributes\":{\"callback\":null,\"renderers\":[{\"id\":\"2025\"}],\"tags\":[\"hv_created\"],\"tooltips\":[[\"mobile_app_rating\",\"@{mobile_app_rating}\"],[\"personal_banker_rating\",\"@{personal_banker_rating}\"]]},\"id\":\"1988\",\"type\":\"HoverTool\"},{\"attributes\":{\"fill_alpha\":{\"value\":0.2},\"fill_color\":{\"value\":\"#30a2da\"},\"hatch_alpha\":{\"value\":0.2},\"hatch_color\":{\"value\":\"#30a2da\"},\"line_alpha\":{\"value\":0.2},\"line_color\":{\"value\":\"#30a2da\"},\"size\":{\"value\":5.477225575051661},\"x\":{\"field\":\"mobile_app_rating\"},\"y\":{\"field\":\"personal_banker_rating\"}},\"id\":\"2024\",\"type\":\"Scatter\"},{\"attributes\":{\"overlay\":{\"id\":\"2011\"}},\"id\":\"2009\",\"type\":\"BoxZoomTool\"},{\"attributes\":{\"angle\":{\"value\":0.0},\"fill_alpha\":{\"value\":1.0},\"fill_color\":{\"value\":\"#30a2da\"},\"hatch_alpha\":{\"value\":1.0},\"hatch_color\":{\"value\":\"#30a2da\"},\"hatch_scale\":{\"value\":12.0},\"hatch_weight\":{\"value\":1.0},\"line_alpha\":{\"value\":1.0},\"line_cap\":{\"value\":\"butt\"},\"line_color\":{\"value\":\"#30a2da\"},\"line_dash\":{\"value\":[]},\"line_dash_offset\":{\"value\":0},\"line_join\":{\"value\":\"bevel\"},\"line_width\":{\"value\":1},\"marker\":{\"value\":\"circle\"},\"size\":{\"value\":5.477225575051661},\"x\":{\"field\":\"mobile_app_rating\"},\"y\":{\"field\":\"personal_banker_rating\"}},\"id\":\"2027\",\"type\":\"Scatter\"},{\"attributes\":{\"margin\":[5,5,5,5],\"name\":\"HSpacer03382\",\"sizing_mode\":\"stretch_width\"},\"id\":\"2054\",\"type\":\"Spacer\"},{\"attributes\":{\"coordinates\":null,\"group\":null,\"text_color\":\"black\",\"text_font_size\":\"12pt\"},\"id\":\"1990\",\"type\":\"Title\"},{\"attributes\":{},\"id\":\"2041\",\"type\":\"UnionRenderers\"},{\"attributes\":{},\"id\":\"1994\",\"type\":\"LinearScale\"},{\"attributes\":{\"axis\":{\"id\":\"1998\"},\"coordinates\":null,\"grid_line_color\":null,\"group\":null,\"ticker\":null},\"id\":\"2001\",\"type\":\"Grid\"},{\"attributes\":{\"end\":4.832428571428571,\"reset_end\":4.832428571428571,\"reset_start\":0.7175714285714285,\"start\":0.7175714285714285,\"tags\":[[[\"mobile_app_rating\",\"mobile_app_rating\",null]]]},\"id\":\"1986\",\"type\":\"Range1d\"},{\"attributes\":{},\"id\":\"1996\",\"type\":\"LinearScale\"},{\"attributes\":{\"tools\":[{\"id\":\"1988\"},{\"id\":\"2006\"},{\"id\":\"2007\"},{\"id\":\"2008\"},{\"id\":\"2009\"},{\"id\":\"2010\"}]},\"id\":\"2012\",\"type\":\"Toolbar\"},{\"attributes\":{},\"id\":\"2020\",\"type\":\"Selection\"},{\"attributes\":{\"axis_label\":\"personal_banker_rating\",\"coordinates\":null,\"formatter\":{\"id\":\"2032\"},\"group\":null,\"major_label_policy\":{\"id\":\"2033\"},\"ticker\":{\"id\":\"2003\"}},\"id\":\"2002\",\"type\":\"LinearAxis\"},{\"attributes\":{\"axis_label\":\"mobile_app_rating\",\"coordinates\":null,\"formatter\":{\"id\":\"2029\"},\"group\":null,\"major_label_policy\":{\"id\":\"2030\"},\"ticker\":{\"id\":\"1999\"}},\"id\":\"1998\",\"type\":\"LinearAxis\"},{\"attributes\":{\"bottom_units\":\"screen\",\"coordinates\":null,\"fill_alpha\":0.5,\"fill_color\":\"lightgrey\",\"group\":null,\"left_units\":\"screen\",\"level\":\"overlay\",\"line_alpha\":1.0,\"line_color\":\"black\",\"line_dash\":[4,4],\"line_width\":2,\"right_units\":\"screen\",\"syncable\":false,\"top_units\":\"screen\"},\"id\":\"2011\",\"type\":\"BoxAnnotation\"},{\"attributes\":{},\"id\":\"2030\",\"type\":\"AllLabels\"},{\"attributes\":{\"axis\":{\"id\":\"2002\"},\"coordinates\":null,\"dimension\":1,\"grid_line_color\":null,\"group\":null,\"ticker\":null},\"id\":\"2005\",\"type\":\"Grid\"},{\"attributes\":{\"below\":[{\"id\":\"1998\"}],\"center\":[{\"id\":\"2001\"},{\"id\":\"2005\"}],\"height\":300,\"left\":[{\"id\":\"2002\"}],\"margin\":[5,5,5,5],\"min_border_bottom\":10,\"min_border_left\":10,\"min_border_right\":10,\"min_border_top\":10,\"renderers\":[{\"id\":\"2025\"}],\"sizing_mode\":\"fixed\",\"title\":{\"id\":\"1990\"},\"toolbar\":{\"id\":\"2012\"},\"width\":700,\"x_range\":{\"id\":\"1986\"},\"x_scale\":{\"id\":\"1994\"},\"y_range\":{\"id\":\"1987\"},\"y_scale\":{\"id\":\"1996\"}},\"id\":\"1989\",\"subtype\":\"Figure\",\"type\":\"Plot\"},{\"attributes\":{\"margin\":[5,5,5,5],\"name\":\"HSpacer03381\",\"sizing_mode\":\"stretch_width\"},\"id\":\"1985\",\"type\":\"Spacer\"},{\"attributes\":{\"children\":[{\"id\":\"1985\"},{\"id\":\"1989\"},{\"id\":\"2054\"}],\"margin\":[0,0,0,0],\"name\":\"Row03377\",\"tags\":[\"embedded\"]},\"id\":\"1984\",\"type\":\"Row\"},{\"attributes\":{\"fill_alpha\":{\"value\":0.1},\"fill_color\":{\"value\":\"#30a2da\"},\"hatch_alpha\":{\"value\":0.1},\"hatch_color\":{\"value\":\"#30a2da\"},\"line_alpha\":{\"value\":0.1},\"line_color\":{\"value\":\"#30a2da\"},\"size\":{\"value\":5.477225575051661},\"x\":{\"field\":\"mobile_app_rating\"},\"y\":{\"field\":\"personal_banker_rating\"}},\"id\":\"2023\",\"type\":\"Scatter\"},{\"attributes\":{},\"id\":\"1999\",\"type\":\"BasicTicker\"},{\"attributes\":{\"fill_color\":{\"value\":\"#30a2da\"},\"hatch_color\":{\"value\":\"#30a2da\"},\"line_color\":{\"value\":\"#30a2da\"},\"size\":{\"value\":5.477225575051661},\"x\":{\"field\":\"mobile_app_rating\"},\"y\":{\"field\":\"personal_banker_rating\"}},\"id\":\"2022\",\"type\":\"Scatter\"},{\"attributes\":{},\"id\":\"2033\",\"type\":\"AllLabels\"},{\"attributes\":{\"source\":{\"id\":\"2019\"}},\"id\":\"2026\",\"type\":\"CDSView\"},{\"attributes\":{},\"id\":\"2032\",\"type\":\"BasicTickFormatter\"},{\"attributes\":{\"data\":{\"mobile_app_rating\":{\"__ndarray__\":\"AAAAAAAADEAzMzMzMzMNQDMzMzMzMwdAcT0K16NwB0AfhetRuB4HQOF6FK5H4QRAexSuR+F6CkAUrkfhehQOQAAAAAAAAAhAKVyPwvUo7D9mZmZmZmYKQFyPwvUoXAdAAAAAAAAAEUCkcD0K16MKQK5H4XoUrg9AAAAAAAAADkAAAAAAAAAGQEjhehSuRwtAcT0K16NwB0CkcD0K16MCQFK4HoXrURFAXI/C9ShcDUAAAAAAAAAIQHE9CtejcA1A9ihcj8L1BkB7FK5H4XoOQAAAAAAAAARAzczMzMzMCkBcj8L1KFwBQLgehetRuBBAcT0K16NwDUC4HoXrUbgIQOF6FK5H4RBAMzMzMzMzC0AfhetRuB4LQFyPwvUoXANAAAAAAAAACEDNzMzMzMwEQAAAAAAAABJAcT0K16NwB0AfhetRuB4JQD0K16NwPRJAXI/C9ShcEEBSuB6F61EKQB+F61G4Hg9ASOF6FK5HB0AAAAAAAAAIQAAAAAAAABJAMzMzMzMzC0CF61G4HoULQHsUrkfheghA4XoUrkfhDkA9CtejcD0OQHE9CtejcA1AAAAAAAAACkD2KFyPwvUMQDMzMzMzMwdAmpmZmZmZCUAK16NwPQoHQBSuR+F6FApAhetRuB6FA0A9CtejcD0MQKRwPQrXowZAzczMzMzMCkBcj8L1KFwHQD0K16NwPQZAcT0K16NwC0Bcj8L1KFwNQB+F61G4HgNAKVyPwvUoCkAAAAAAAAAQQAAAAAAAAABAXI/C9ShcBUAfhetRuB4NQB+F61G4HgdAAAAAAAAADED2KFyPwvUMQHsUrkfheghASOF6FK5HC0DsUbgehesLQIXrUbgehQtAcT0K16NwEEAAAAAAAAACQJqZmZmZmQ1AAAAAAAAAEECkcD0K16MKQAAAAAAAAPA/rkfhehSuEkAzMzMzMzMPQAAAAAAAAAZAAAAAAAAAEkCkcD0K16MEQFK4HoXrUQpAAAAAAAAADEAAAAAAAAAOQI/C9ShcjxBAAAAAAAAAEEBmZmZmZmYMQPYoXI/C9QRArkfhehSuCUDsUbgehesNQKRwPQrXowhAMzMzMzMzC0DhehSuR+EGQJqZmZmZmQ1ASOF6FK5HD0D2KFyPwvUGQAAAAAAAAABA9ihcj8L1CkAAAAAAAAAOQI/C9ShcjwhA16NwPQrXCUBI4XoUrkcLQGZmZmZmZgxAmpmZmZmZCUCuR+F6FK4PQGZmZmZmZgJASOF6FK5H+T8zMzMzMzMHQFyPwvUoXA9AAAAAAAAADEDD9Shcj8IJQM3MzMzMzAhAUrgehetRCECPwvUoXI8EQOF6FK5H4QZApHA9CtejCkCPwvUoXI8OQKRwPQrXowZAj8L1KFyPBkCkcD0K16MGQFyPwvUoXA1AAAAAAAAADEDD9Shcj8ILQI/C9ShcjwhAH4XrUbgeC0AAAAAAAAAAQB+F61G4HgtAAAAAAAAADEDsUbgehesJQK5H4XoUrgtAKVyPwvUoCEBxPQrXo3AHQLgehetRuApAAAAAAAAADEC4HoXrUbgKQKRwPQrXowJAmpmZmZmZCUDhehSuR+EOQAAAAAAAAAhAAAAAAAAA/D8AAAAAAAAGQBSuR+F6FBFAPQrXo3A9EEAfhetRuB4NQLgehetRuAxAhetRuB6FCUDhehSuR+EKQM3MzMzMzBBAexSuR+F6DkBSuB6F61EIQMP1KFyPwhBArkfhehSuDUB7FK5H4XoIQFyPwvUoXA1AUrgehetRCEBmZmZmZmYGQAAAAAAAAAhASOF6FK5HBUAAAAAAAAAQQFK4HoXrURJAAAAAAAAACEAAAAAAAAAMQAAAAAAAAApACtejcD0KC0AAAAAAAAAAQArXo3A9Cg1ArkfhehSuC0CF61G4HoULQDMzMzMzMwNAAAAAAAAACkAAAAAAAAAMQLgehetRuAxA\",\"dtype\":\"float64\",\"order\":\"little\",\"shape\":[183]},\"personal_banker_rating\":{\"__ndarray__\":\"MzMzMzMzA0AfhetRuB4JQAAAAAAAAAZA4XoUrkfhCkD2KFyPwvUEQBSuR+F6FARA9ihcj8L1CECPwvUoXI8IQFyPwvUoXAlAAAAAAAAACECkcD0K16MGQFyPwvUoXAFAAAAAAAAACECamZmZmZkFQAAAAAAAAABA9ihcj8L1CEAzMzMzMzMFQLgehetRuAhAcT0K16NwC0DD9Shcj8IFQAAAAAAAAARAKVyPwvUoBkAfhetRuB4HQHE9CtejcAdAKVyPwvUoCEAK16NwPQoDQD0K16NwPRBAXI/C9ShcCUAAAAAAAAAIQAAAAAAAAOA/H4XrUbgeCUAAAAAAAAAGQAAAAAAAAAhAAAAAAAAAAEBxPQrXo3AJQNejcD0K1wdAXI/C9ShcBUCPwvUoXI8EQGZmZmZmZgRAuB6F61G4DEApXI/C9SgIQFyPwvUoXAlAAAAAAAAABEAAAAAAAAAIQKRwPQrXowZA7FG4HoXrB0AAAAAAAAAEQAAAAAAAAAhAAAAAAAAACEBcj8L1KFwJQFK4HoXrUQhAAAAAAAAABEAAAAAAAAAIQIXrUbgehQlAXI/C9ShcBUBmZmZmZmYGQLgehetRuAZAAAAAAAAAAECkcD0K16MKQMP1KFyPwgdAMzMzMzMzB0DNzMzMzMwGQAAAAAAAAAhApHA9CtejBkCPwvUoXI8IQAAAAAAAAAhAAAAAAAAA8D8AAAAAAAAAQLgehetRuARAPQrXo3A9CEAAAAAAAAAAQAAAAAAAAA5AAAAAAAAABkAAAAAAAAAIQGZmZmZmZg5AAAAAAAAACEAAAAAAAAAAQM3MzMzMzAZACtejcD0KBUCF61G4HoUJQAAAAAAAAAhAAAAAAAAAAEAAAAAAAAAKQAAAAAAAAAhApHA9CtejBkAAAAAAAAAEQAAAAAAAABJAMzMzMzMzB0AAAAAAAADgP9ejcD0K1xBAXI/C9ShcCUAAAAAAAAAEQM3MzMzMzAZApHA9CtejBkD2KFyPwvX4P83MzMzMzAZAAAAAAAAAAEBmZmZmZmYGQAAAAAAAAAhA9ihcj8L1BEAzMzMzMzMDQMP1KFyPwgNApHA9CtejCECuR+F6FK4DQAAAAAAAAARAAAAAAAAABEBcj8L1KFwNQHsUrkfhegxAhetRuB6FCUAAAAAAAAAIQHE9CtejcAVAAAAAAAAABEAzMzMzMzMHQAAAAAAAAAhAXI/C9ShcAUAAAAAAAAAIQAAAAAAAAAxA4XoUrkfhBkAAAAAAAAAEQArXo3A9CglApHA9CtejAkC4HoXrUbgGQOF6FK5H4QZA4XoUrkfhCEBmZmZmZmYAQMP1KFyPwgVAXI/C9ShcB0AAAAAAAAAIQHE9CtejcAVAFK5H4XoUBkAK16NwPQoDQAAAAAAAAAhAAAAAAAAACEBcj8L1KFwFQHE9CtejcAdA9ihcj8L1/D9cj8L1KFwFQDMzMzMzMwdAXI/C9ShcCUDNzMzMzMwIQAAAAAAAAAZAzczMzMzMCEBmZmZmZmYKQClcj8L1KAhAH4XrUbgeB0B7FK5H4XoGQAAAAAAAAAhApHA9CtejAkAAAAAAAAAIQI/C9ShcjwRAAAAAAAAAEEBcj8L1KFwJQAAAAAAAAABASOF6FK5HBUBcj8L1KFwFQAAAAAAAAAhASOF6FK5H/T+PwvUoXI8IQFyPwvUoXAlAuB6F61G4CEBcj8L1KFwFQDMzMzMzMwdAXI/C9ShcAUDNzMzMzMwEQAAAAAAAAAhACtejcD0KB0CF61G4HoUFQFK4HoXrUQZAXI/C9ShcC0AzMzMzMzMDQFyPwvUoXAlAZmZmZmZmBkBmZmZmZmYCQK5H4XoUrgVArkfhehSuBUBSuB6F61ETQKRwPQrXowRAmpmZmZmZA0AAAAAAAAAIQGZmZmZmZgZACtejcD0KB0AzMzMzMzMDQGZmZmZmZg5A\",\"dtype\":\"float64\",\"order\":\"little\",\"shape\":[183]}},\"selected\":{\"id\":\"2020\"},\"selection_policy\":{\"id\":\"2041\"}},\"id\":\"2019\",\"type\":\"ColumnDataSource\"}],\"root_ids\":[\"1984\"]},\"title\":\"Bokeh Application\",\"version\":\"2.4.2\"}};\n",
       "    var render_items = [{\"docid\":\"332e436a-e325-4333-a540-87fbe742d4cf\",\"root_ids\":[\"1984\"],\"roots\":{\"1984\":\"72c15243-c79b-4843-ad7a-19760191309a\"}}];\n",
       "    root.Bokeh.embed.embed_items_notebook(docs_json, render_items);\n",
       "  }\n",
       "  if (root.Bokeh !== undefined && root.Bokeh.Panel !== undefined) {\n",
       "    embed_document(root);\n",
       "  } else {\n",
       "    var attempts = 0;\n",
       "    var timer = setInterval(function(root) {\n",
       "      if (root.Bokeh !== undefined && root.Bokeh.Panel !== undefined) {\n",
       "        clearInterval(timer);\n",
       "        embed_document(root);\n",
       "      } else if (document.readyState == \"complete\") {\n",
       "        attempts++;\n",
       "        if (attempts > 200) {\n",
       "          clearInterval(timer);\n",
       "          console.log(\"Bokeh: ERROR: Unable to run BokehJS code because BokehJS library is missing\");\n",
       "        }\n",
       "      }\n",
       "    }, 25, root)\n",
       "  }\n",
       "})(window);</script>"
      ],
      "text/plain": [
       ":Scatter   [mobile_app_rating]   (personal_banker_rating)"
      ]
     },
     "execution_count": 32,
     "metadata": {
      "application/vnd.holoviews_exec.v0+json": {
       "id": "1984"
      }
     },
     "output_type": "execute_result"
    }
   ],
   "source": [
    "# Visualize a scatter plot of the data\n",
    "service_ratings_df.hvplot.scatter(\n",
    "    x=\"mobile_app_rating\", \n",
    "    y=\"personal_banker_rating\"\n",
    ")"
   ]
  },
  {
   "cell_type": "markdown",
   "metadata": {},
   "source": [
    "## Run the k-means model with 3 clusters"
   ]
  },
  {
   "cell_type": "code",
   "execution_count": 33,
   "metadata": {},
   "outputs": [
    {
     "data": {
      "text/plain": [
       "KMeans(n_clusters=3, random_state=1)"
      ]
     },
     "execution_count": 33,
     "metadata": {},
     "output_type": "execute_result"
    }
   ],
   "source": [
    "# Create and initialize the K-means model instance for 3 clusters\n",
    "# Set the random_state variable to 1\n",
    "# YOUR CODE HERE\n",
    "from sklearn.cluster import KMeans\n",
    "model = KMeans(n_clusters=3, random_state=1)\n",
    "# Print the model\n",
    "# YOUR CODE HERE\n",
    "model"
   ]
  },
  {
   "cell_type": "code",
   "execution_count": 34,
   "metadata": {},
   "outputs": [
    {
     "data": {
      "text/plain": [
       "KMeans(n_clusters=3, random_state=1)"
      ]
     },
     "execution_count": 34,
     "metadata": {},
     "output_type": "execute_result"
    }
   ],
   "source": [
    "# Fit the data to the instance of the model\n",
    "# YOUR CODE HERE\n",
    "model.fit(service_ratings_df)"
   ]
  },
  {
   "cell_type": "code",
   "execution_count": 35,
   "metadata": {},
   "outputs": [
    {
     "name": "stdout",
     "output_type": "stream",
     "text": [
      "[0 1 2 2 2 2 1 1 2 2 1 0 1 1 0 1 2 1 2 2 1 1 2 1 2 0 2 1 2 0 1 2 1 0 1 2 2\n",
      " 2 1 2 2 1 1 1 1 2 2 1 1 1 2 1 1 1 1 1 2 0 2 1 2 1 2 1 2 2 0 0 2 1 0 2 2 1\n",
      " 2 1 0 2 1 1 1 0 2 1 1 1 2 1 0 2 1 2 1 1 0 1 0 1 2 1 0 2 1 2 1 1 2 2 1 1 2\n",
      " 1 1 1 0 1 2 2 2 1 0 1 2 2 2 2 1 1 2 2 2 1 1 1 2 0 2 1 1 1 1 2 2 1 1 1 2 0\n",
      " 1 2 2 2 0 1 1 1 0 1 1 1 2 1 0 2 1 2 2 2 2 0 1 2 0 1 1 2 1 1 1 2 1 0 1]\n"
     ]
    }
   ],
   "source": [
    "# Make predictions about the data clusters by using the trained model\n",
    "# YOUR CODE HERE\n",
    "customer_ratings = model.predict(service_ratings_df)\n",
    "# Print the predictions\n",
    "# YOUR CODE HERE\n",
    "print(customer_ratings)"
   ]
  },
  {
   "cell_type": "code",
   "execution_count": 36,
   "metadata": {},
   "outputs": [
    {
     "data": {
      "text/html": [
       "<div>\n",
       "<style scoped>\n",
       "    .dataframe tbody tr th:only-of-type {\n",
       "        vertical-align: middle;\n",
       "    }\n",
       "\n",
       "    .dataframe tbody tr th {\n",
       "        vertical-align: top;\n",
       "    }\n",
       "\n",
       "    .dataframe thead th {\n",
       "        text-align: right;\n",
       "    }\n",
       "</style>\n",
       "<table border=\"1\" class=\"dataframe\">\n",
       "  <thead>\n",
       "    <tr style=\"text-align: right;\">\n",
       "      <th></th>\n",
       "      <th>mobile_app_rating</th>\n",
       "      <th>personal_banker_rating</th>\n",
       "      <th>customer segment information</th>\n",
       "    </tr>\n",
       "  </thead>\n",
       "  <tbody>\n",
       "    <tr>\n",
       "      <th>0</th>\n",
       "      <td>3.50</td>\n",
       "      <td>2.40</td>\n",
       "      <td>0</td>\n",
       "    </tr>\n",
       "    <tr>\n",
       "      <th>1</th>\n",
       "      <td>3.65</td>\n",
       "      <td>3.14</td>\n",
       "      <td>1</td>\n",
       "    </tr>\n",
       "    <tr>\n",
       "      <th>2</th>\n",
       "      <td>2.90</td>\n",
       "      <td>2.75</td>\n",
       "      <td>2</td>\n",
       "    </tr>\n",
       "    <tr>\n",
       "      <th>3</th>\n",
       "      <td>2.93</td>\n",
       "      <td>3.36</td>\n",
       "      <td>2</td>\n",
       "    </tr>\n",
       "    <tr>\n",
       "      <th>4</th>\n",
       "      <td>2.89</td>\n",
       "      <td>2.62</td>\n",
       "      <td>2</td>\n",
       "    </tr>\n",
       "  </tbody>\n",
       "</table>\n",
       "</div>"
      ],
      "text/plain": [
       "   mobile_app_rating  personal_banker_rating  customer segment information\n",
       "0               3.50                    2.40                             0\n",
       "1               3.65                    3.14                             1\n",
       "2               2.90                    2.75                             2\n",
       "3               2.93                    3.36                             2\n",
       "4               2.89                    2.62                             2"
      ]
     },
     "execution_count": 36,
     "metadata": {},
     "output_type": "execute_result"
    }
   ],
   "source": [
    "# Create a copy of the DataFrame and name it as service_ratings_predictions_df\n",
    "# YOUR CODE HERE\n",
    "service_rating_predictions_df = service_ratings_df.copy()\n",
    "\n",
    "# Add a column to the DataFrame that contains the customer_segment information\n",
    "# YOUR CODE HERE\n",
    "service_rating_predictions_df['customer segment information'] = customer_ratings\n",
    "\n",
    "# Review the DataFrame\n",
    "# YOUR CODE HERE\n",
    "service_rating_predictions_df.head()"
   ]
  },
  {
   "cell_type": "code",
   "execution_count": 37,
   "metadata": {},
   "outputs": [
    {
     "data": {},
     "metadata": {},
     "output_type": "display_data"
    },
    {
     "data": {
      "application/vnd.holoviews_exec.v0+json": "",
      "text/html": [
       "<div id='2106'>\n",
       "\n",
       "\n",
       "\n",
       "\n",
       "\n",
       "  <div class=\"bk-root\" id=\"8651503a-a8e0-42d5-b295-897bae66a571\" data-root-id=\"2106\"></div>\n",
       "</div>\n",
       "<script type=\"application/javascript\">(function(root) {\n",
       "  function embed_document(root) {\n",
       "    var docs_json = {\"56322566-50c0-493a-b5d1-b4ae2b384b19\":{\"defs\":[{\"extends\":null,\"module\":null,\"name\":\"ReactiveHTML1\",\"overrides\":[],\"properties\":[]},{\"extends\":null,\"module\":null,\"name\":\"FlexBox1\",\"overrides\":[],\"properties\":[{\"default\":\"flex-start\",\"kind\":null,\"name\":\"align_content\"},{\"default\":\"flex-start\",\"kind\":null,\"name\":\"align_items\"},{\"default\":\"row\",\"kind\":null,\"name\":\"flex_direction\"},{\"default\":\"wrap\",\"kind\":null,\"name\":\"flex_wrap\"},{\"default\":\"flex-start\",\"kind\":null,\"name\":\"justify_content\"}]},{\"extends\":null,\"module\":null,\"name\":\"TemplateActions1\",\"overrides\":[],\"properties\":[{\"default\":0,\"kind\":null,\"name\":\"open_modal\"},{\"default\":0,\"kind\":null,\"name\":\"close_modal\"}]},{\"extends\":null,\"module\":null,\"name\":\"MaterialTemplateActions1\",\"overrides\":[],\"properties\":[{\"default\":0,\"kind\":null,\"name\":\"open_modal\"},{\"default\":0,\"kind\":null,\"name\":\"close_modal\"}]}],\"roots\":{\"references\":[{\"attributes\":{},\"id\":\"2118\",\"type\":\"LinearScale\"},{\"attributes\":{},\"id\":\"2132\",\"type\":\"WheelZoomTool\"},{\"attributes\":{\"angle\":{\"value\":0.0},\"fill_alpha\":{\"value\":1.0},\"fill_color\":{\"value\":\"#30a2da\"},\"hatch_alpha\":{\"value\":1.0},\"hatch_color\":{\"value\":\"#30a2da\"},\"hatch_scale\":{\"value\":12.0},\"hatch_weight\":{\"value\":1.0},\"line_alpha\":{\"value\":1.0},\"line_cap\":{\"value\":\"butt\"},\"line_color\":{\"value\":\"#30a2da\"},\"line_dash\":{\"value\":[]},\"line_dash_offset\":{\"value\":0},\"line_join\":{\"value\":\"bevel\"},\"line_width\":{\"value\":1},\"marker\":{\"value\":\"circle\"},\"size\":{\"value\":5.477225575051661},\"x\":{\"field\":\"mobile_app_rating\"},\"y\":{\"field\":\"personal_banker_rating\"}},\"id\":\"2169\",\"type\":\"Scatter\"},{\"attributes\":{\"overlay\":{\"id\":\"2135\"}},\"id\":\"2133\",\"type\":\"BoxZoomTool\"},{\"attributes\":{},\"id\":\"2150\",\"type\":\"Selection\"},{\"attributes\":{\"coordinates\":null,\"data_source\":{\"id\":\"2149\"},\"glyph\":{\"id\":\"2152\"},\"group\":null,\"hover_glyph\":null,\"muted_glyph\":{\"id\":\"2154\"},\"nonselection_glyph\":{\"id\":\"2153\"},\"selection_glyph\":{\"id\":\"2169\"},\"view\":{\"id\":\"2156\"}},\"id\":\"2155\",\"type\":\"GlyphRenderer\"},{\"attributes\":{\"fill_alpha\":{\"value\":0.2},\"fill_color\":{\"value\":\"#30a2da\"},\"hatch_alpha\":{\"value\":0.2},\"hatch_color\":{\"value\":\"#30a2da\"},\"line_alpha\":{\"value\":0.2},\"line_color\":{\"value\":\"#30a2da\"},\"size\":{\"value\":5.477225575051661},\"x\":{\"field\":\"mobile_app_rating\"},\"y\":{\"field\":\"personal_banker_rating\"}},\"id\":\"2154\",\"type\":\"Scatter\"},{\"attributes\":{},\"id\":\"2134\",\"type\":\"ResetTool\"},{\"attributes\":{\"end\":5.263,\"reset_end\":5.263,\"reset_start\":0.06699999999999995,\"start\":0.06699999999999995,\"tags\":[[[\"personal_banker_rating\",\"personal_banker_rating\",null]]]},\"id\":\"2109\",\"type\":\"Range1d\"},{\"attributes\":{\"coordinates\":null,\"group\":null,\"text_color\":\"black\",\"text_font_size\":\"12pt\"},\"id\":\"2114\",\"type\":\"Title\"},{\"attributes\":{},\"id\":\"2187\",\"type\":\"UnionRenderers\"},{\"attributes\":{\"margin\":[5,5,5,5],\"name\":\"HSpacer03611\",\"sizing_mode\":\"stretch_width\"},\"id\":\"2107\",\"type\":\"Spacer\"},{\"attributes\":{},\"id\":\"2123\",\"type\":\"BasicTicker\"},{\"attributes\":{\"margin\":[5,5,5,5],\"name\":\"HSpacer03612\",\"sizing_mode\":\"stretch_width\"},\"id\":\"2342\",\"type\":\"Spacer\"},{\"attributes\":{\"axis\":{\"id\":\"2122\"},\"coordinates\":null,\"grid_line_color\":null,\"group\":null,\"ticker\":null},\"id\":\"2125\",\"type\":\"Grid\"},{\"attributes\":{},\"id\":\"2127\",\"type\":\"BasicTicker\"},{\"attributes\":{\"coordinates\":null,\"data_source\":{\"id\":\"2192\"},\"glyph\":{\"id\":\"2195\"},\"group\":null,\"hover_glyph\":null,\"muted_glyph\":{\"id\":\"2197\"},\"nonselection_glyph\":{\"id\":\"2196\"},\"selection_glyph\":{\"id\":\"2215\"},\"view\":{\"id\":\"2199\"}},\"id\":\"2198\",\"type\":\"GlyphRenderer\"},{\"attributes\":{\"fill_alpha\":{\"value\":0.1},\"fill_color\":{\"value\":\"#e5ae38\"},\"hatch_alpha\":{\"value\":0.1},\"hatch_color\":{\"value\":\"#e5ae38\"},\"line_alpha\":{\"value\":0.1},\"line_color\":{\"value\":\"#e5ae38\"},\"size\":{\"value\":5.477225575051661},\"x\":{\"field\":\"mobile_app_rating\"},\"y\":{\"field\":\"personal_banker_rating\"}},\"id\":\"2196\",\"type\":\"Scatter\"},{\"attributes\":{},\"id\":\"2120\",\"type\":\"LinearScale\"},{\"attributes\":{\"tools\":[{\"id\":\"2110\"},{\"id\":\"2130\"},{\"id\":\"2131\"},{\"id\":\"2132\"},{\"id\":\"2133\"},{\"id\":\"2134\"}]},\"id\":\"2136\",\"type\":\"Toolbar\"},{\"attributes\":{\"fill_alpha\":{\"value\":0.1},\"fill_color\":{\"value\":\"#fc4f30\"},\"hatch_alpha\":{\"value\":0.1},\"hatch_color\":{\"value\":\"#fc4f30\"},\"line_alpha\":{\"value\":0.1},\"line_color\":{\"value\":\"#fc4f30\"},\"size\":{\"value\":5.477225575051661},\"x\":{\"field\":\"mobile_app_rating\"},\"y\":{\"field\":\"personal_banker_rating\"}},\"id\":\"2174\",\"type\":\"Scatter\"},{\"attributes\":{\"fill_color\":{\"value\":\"#e5ae38\"},\"hatch_color\":{\"value\":\"#e5ae38\"},\"line_color\":{\"value\":\"#e5ae38\"},\"size\":{\"value\":5.477225575051661},\"x\":{\"field\":\"mobile_app_rating\"},\"y\":{\"field\":\"personal_banker_rating\"}},\"id\":\"2195\",\"type\":\"Scatter\"},{\"attributes\":{\"axis_label\":\"personal_banker_rating\",\"coordinates\":null,\"formatter\":{\"id\":\"2147\"},\"group\":null,\"major_label_policy\":{\"id\":\"2148\"},\"ticker\":{\"id\":\"2127\"}},\"id\":\"2126\",\"type\":\"LinearAxis\"},{\"attributes\":{},\"id\":\"2148\",\"type\":\"AllLabels\"},{\"attributes\":{\"label\":{\"value\":\"0\"},\"renderers\":[{\"id\":\"2155\"}]},\"id\":\"2168\",\"type\":\"LegendItem\"},{\"attributes\":{\"axis_label\":\"mobile_app_rating\",\"coordinates\":null,\"formatter\":{\"id\":\"2144\"},\"group\":null,\"major_label_policy\":{\"id\":\"2145\"},\"ticker\":{\"id\":\"2123\"}},\"id\":\"2122\",\"type\":\"LinearAxis\"},{\"attributes\":{\"source\":{\"id\":\"2149\"}},\"id\":\"2156\",\"type\":\"CDSView\"},{\"attributes\":{\"bottom_units\":\"screen\",\"coordinates\":null,\"fill_alpha\":0.5,\"fill_color\":\"lightgrey\",\"group\":null,\"left_units\":\"screen\",\"level\":\"overlay\",\"line_alpha\":1.0,\"line_color\":\"black\",\"line_dash\":[4,4],\"line_width\":2,\"right_units\":\"screen\",\"syncable\":false,\"top_units\":\"screen\"},\"id\":\"2135\",\"type\":\"BoxAnnotation\"},{\"attributes\":{},\"id\":\"2131\",\"type\":\"PanTool\"},{\"attributes\":{\"below\":[{\"id\":\"2122\"}],\"center\":[{\"id\":\"2125\"},{\"id\":\"2129\"}],\"height\":300,\"left\":[{\"id\":\"2126\"}],\"margin\":[5,5,5,5],\"min_border_bottom\":10,\"min_border_left\":10,\"min_border_right\":10,\"min_border_top\":10,\"renderers\":[{\"id\":\"2155\"},{\"id\":\"2176\"},{\"id\":\"2198\"}],\"right\":[{\"id\":\"2167\"}],\"sizing_mode\":\"fixed\",\"title\":{\"id\":\"2114\"},\"toolbar\":{\"id\":\"2136\"},\"width\":700,\"x_range\":{\"id\":\"2108\"},\"x_scale\":{\"id\":\"2118\"},\"y_range\":{\"id\":\"2109\"},\"y_scale\":{\"id\":\"2120\"}},\"id\":\"2113\",\"subtype\":\"Figure\",\"type\":\"Plot\"},{\"attributes\":{\"axis\":{\"id\":\"2126\"},\"coordinates\":null,\"dimension\":1,\"grid_line_color\":null,\"group\":null,\"ticker\":null},\"id\":\"2129\",\"type\":\"Grid\"},{\"attributes\":{\"fill_alpha\":{\"value\":0.1},\"fill_color\":{\"value\":\"#30a2da\"},\"hatch_alpha\":{\"value\":0.1},\"hatch_color\":{\"value\":\"#30a2da\"},\"line_alpha\":{\"value\":0.1},\"line_color\":{\"value\":\"#30a2da\"},\"size\":{\"value\":5.477225575051661},\"x\":{\"field\":\"mobile_app_rating\"},\"y\":{\"field\":\"personal_banker_rating\"}},\"id\":\"2153\",\"type\":\"Scatter\"},{\"attributes\":{},\"id\":\"2144\",\"type\":\"BasicTickFormatter\"},{\"attributes\":{},\"id\":\"2193\",\"type\":\"Selection\"},{\"attributes\":{},\"id\":\"2164\",\"type\":\"UnionRenderers\"},{\"attributes\":{\"fill_color\":{\"value\":\"#fc4f30\"},\"hatch_color\":{\"value\":\"#fc4f30\"},\"line_color\":{\"value\":\"#fc4f30\"},\"size\":{\"value\":5.477225575051661},\"x\":{\"field\":\"mobile_app_rating\"},\"y\":{\"field\":\"personal_banker_rating\"}},\"id\":\"2173\",\"type\":\"Scatter\"},{\"attributes\":{},\"id\":\"2145\",\"type\":\"AllLabels\"},{\"attributes\":{\"end\":4.832428571428571,\"reset_end\":4.832428571428571,\"reset_start\":0.7175714285714285,\"start\":0.7175714285714285,\"tags\":[[[\"mobile_app_rating\",\"mobile_app_rating\",null]]]},\"id\":\"2108\",\"type\":\"Range1d\"},{\"attributes\":{\"callback\":null,\"renderers\":[{\"id\":\"2155\"},{\"id\":\"2176\"},{\"id\":\"2198\"}],\"tags\":[\"hv_created\"],\"tooltips\":[[\"customer segment information\",\"@{customer_segment_information}\"],[\"mobile_app_rating\",\"@{mobile_app_rating}\"],[\"personal_banker_rating\",\"@{personal_banker_rating}\"]]},\"id\":\"2110\",\"type\":\"HoverTool\"},{\"attributes\":{},\"id\":\"2147\",\"type\":\"BasicTickFormatter\"},{\"attributes\":{\"children\":[{\"id\":\"2107\"},{\"id\":\"2113\"},{\"id\":\"2342\"}],\"margin\":[0,0,0,0],\"name\":\"Row03607\",\"tags\":[\"embedded\"]},\"id\":\"2106\",\"type\":\"Row\"},{\"attributes\":{\"data\":{\"customer_segment_information\":[2,2,2,2,2,2,2,2,2,2,2,2,2,2,2,2,2,2,2,2,2,2,2,2,2,2,2,2,2,2,2,2,2,2,2,2,2,2,2,2,2,2,2,2,2,2,2,2,2,2,2,2,2,2,2,2,2,2,2,2,2,2,2,2,2,2,2,2,2,2],\"mobile_app_rating\":{\"__ndarray__\":\"MzMzMzMzB0BxPQrXo3AHQB+F61G4HgdA4XoUrkfhBEAAAAAAAAAIQClcj8L1KOw/AAAAAAAABkBxPQrXo3AHQKRwPQrXowJAAAAAAAAACED2KFyPwvUGQAAAAAAAAARAXI/C9ShcAUC4HoXrUbgIQFyPwvUoXANAAAAAAAAACEDNzMzMzMwEQHE9CtejcAdAH4XrUbgeCUBI4XoUrkcHQAAAAAAAAAhAexSuR+F6CEAzMzMzMzMHQArXo3A9CgdAhetRuB6FA0CkcD0K16MGQFyPwvUoXAdAPQrXo3A9BkAfhetRuB4DQAAAAAAAAABAXI/C9ShcBUAfhetRuB4HQHsUrkfheghAAAAAAAAAAkAAAAAAAADwPwAAAAAAAAZApHA9CtejBED2KFyPwvUEQKRwPQrXowhA4XoUrkfhBkD2KFyPwvUGQAAAAAAAAABAj8L1KFyPCEBmZmZmZmYCQEjhehSuR/k/MzMzMzMzB0DNzMzMzMwIQFK4HoXrUQhAj8L1KFyPBEDhehSuR+EGQKRwPQrXowZAj8L1KFyPBkCkcD0K16MGQI/C9ShcjwhAAAAAAAAAAEApXI/C9SgIQHE9CtejcAdApHA9CtejAkAAAAAAAAAIQAAAAAAAAPw/AAAAAAAABkBSuB6F61EIQHsUrkfheghAUrgehetRCEBmZmZmZmYGQAAAAAAAAAhASOF6FK5HBUAAAAAAAAAIQAAAAAAAAABAMzMzMzMzA0A=\",\"dtype\":\"float64\",\"order\":\"little\",\"shape\":[70]},\"personal_banker_rating\":{\"__ndarray__\":\"AAAAAAAABkDhehSuR+EKQPYoXI/C9QRAFK5H4XoUBEBcj8L1KFwJQAAAAAAAAAhAMzMzMzMzBUBxPQrXo3ALQMP1KFyPwgVAH4XrUbgeB0ApXI/C9SgIQD0K16NwPRBAAAAAAAAACEAAAAAAAAAGQNejcD0K1wdAXI/C9ShcBUCPwvUoXI8EQLgehetRuAxAKVyPwvUoCEDsUbgehesHQAAAAAAAAARAUrgehetRCEC4HoXrUbgGQKRwPQrXowpAMzMzMzMzB0AAAAAAAAAIQI/C9ShcjwhAAAAAAAAACEC4HoXrUbgEQAAAAAAAAA5AAAAAAAAABkBmZmZmZmYOQM3MzMzMzAZAAAAAAAAACkAAAAAAAAASQNejcD0K1xBAAAAAAAAABEAAAAAAAAAIQMP1KFyPwgNArkfhehSuA0Bcj8L1KFwNQHsUrkfhegxAcT0K16NwBUAAAAAAAAAMQOF6FK5H4QZAAAAAAAAABEDhehSuR+EGQOF6FK5H4QhAZmZmZmZmAEDD9Shcj8IFQHE9CtejcAVAFK5H4XoUBkAK16NwPQoDQHE9CtejcAdAXI/C9ShcBUDNzMzMzMwIQGZmZmZmZgpAAAAAAAAACECPwvUoXI8EQAAAAAAAABBAXI/C9ShcCUBcj8L1KFwFQM3MzMzMzARACtejcD0KB0CF61G4HoUFQFK4HoXrUQZAXI/C9ShcC0BmZmZmZmYGQFK4HoXrURNAZmZmZmZmBkA=\",\"dtype\":\"float64\",\"order\":\"little\",\"shape\":[70]}},\"selected\":{\"id\":\"2193\"},\"selection_policy\":{\"id\":\"2211\"}},\"id\":\"2192\",\"type\":\"ColumnDataSource\"},{\"attributes\":{\"angle\":{\"value\":0.0},\"fill_alpha\":{\"value\":1.0},\"fill_color\":{\"value\":\"#e5ae38\"},\"hatch_alpha\":{\"value\":1.0},\"hatch_color\":{\"value\":\"#e5ae38\"},\"hatch_scale\":{\"value\":12.0},\"hatch_weight\":{\"value\":1.0},\"line_alpha\":{\"value\":1.0},\"line_cap\":{\"value\":\"butt\"},\"line_color\":{\"value\":\"#e5ae38\"},\"line_dash\":{\"value\":[]},\"line_dash_offset\":{\"value\":0},\"line_join\":{\"value\":\"bevel\"},\"line_width\":{\"value\":1},\"marker\":{\"value\":\"circle\"},\"size\":{\"value\":5.477225575051661},\"x\":{\"field\":\"mobile_app_rating\"},\"y\":{\"field\":\"personal_banker_rating\"}},\"id\":\"2215\",\"type\":\"Scatter\"},{\"attributes\":{\"fill_color\":{\"value\":\"#30a2da\"},\"hatch_color\":{\"value\":\"#30a2da\"},\"line_color\":{\"value\":\"#30a2da\"},\"size\":{\"value\":5.477225575051661},\"x\":{\"field\":\"mobile_app_rating\"},\"y\":{\"field\":\"personal_banker_rating\"}},\"id\":\"2152\",\"type\":\"Scatter\"},{\"attributes\":{\"source\":{\"id\":\"2170\"}},\"id\":\"2177\",\"type\":\"CDSView\"},{\"attributes\":{\"coordinates\":null,\"data_source\":{\"id\":\"2170\"},\"glyph\":{\"id\":\"2173\"},\"group\":null,\"hover_glyph\":null,\"muted_glyph\":{\"id\":\"2175\"},\"nonselection_glyph\":{\"id\":\"2174\"},\"selection_glyph\":{\"id\":\"2191\"},\"view\":{\"id\":\"2177\"}},\"id\":\"2176\",\"type\":\"GlyphRenderer\"},{\"attributes\":{},\"id\":\"2171\",\"type\":\"Selection\"},{\"attributes\":{},\"id\":\"2211\",\"type\":\"UnionRenderers\"},{\"attributes\":{\"label\":{\"value\":\"1\"},\"renderers\":[{\"id\":\"2176\"}]},\"id\":\"2190\",\"type\":\"LegendItem\"},{\"attributes\":{\"angle\":{\"value\":0.0},\"fill_alpha\":{\"value\":1.0},\"fill_color\":{\"value\":\"#fc4f30\"},\"hatch_alpha\":{\"value\":1.0},\"hatch_color\":{\"value\":\"#fc4f30\"},\"hatch_scale\":{\"value\":12.0},\"hatch_weight\":{\"value\":1.0},\"line_alpha\":{\"value\":1.0},\"line_cap\":{\"value\":\"butt\"},\"line_color\":{\"value\":\"#fc4f30\"},\"line_dash\":{\"value\":[]},\"line_dash_offset\":{\"value\":0},\"line_join\":{\"value\":\"bevel\"},\"line_width\":{\"value\":1},\"marker\":{\"value\":\"circle\"},\"size\":{\"value\":5.477225575051661},\"x\":{\"field\":\"mobile_app_rating\"},\"y\":{\"field\":\"personal_banker_rating\"}},\"id\":\"2191\",\"type\":\"Scatter\"},{\"attributes\":{\"fill_alpha\":{\"value\":0.2},\"fill_color\":{\"value\":\"#e5ae38\"},\"hatch_alpha\":{\"value\":0.2},\"hatch_color\":{\"value\":\"#e5ae38\"},\"line_alpha\":{\"value\":0.2},\"line_color\":{\"value\":\"#e5ae38\"},\"size\":{\"value\":5.477225575051661},\"x\":{\"field\":\"mobile_app_rating\"},\"y\":{\"field\":\"personal_banker_rating\"}},\"id\":\"2197\",\"type\":\"Scatter\"},{\"attributes\":{\"label\":{\"value\":\"2\"},\"renderers\":[{\"id\":\"2198\"}]},\"id\":\"2214\",\"type\":\"LegendItem\"},{\"attributes\":{\"click_policy\":\"mute\",\"coordinates\":null,\"group\":null,\"items\":[{\"id\":\"2168\"},{\"id\":\"2190\"},{\"id\":\"2214\"}],\"location\":[0,0],\"title\":\"customer segment information\"},\"id\":\"2167\",\"type\":\"Legend\"},{\"attributes\":{\"data\":{\"customer_segment_information\":[0,0,0,0,0,0,0,0,0,0,0,0,0,0,0,0,0,0,0,0,0,0,0,0,0,0],\"mobile_app_rating\":{\"__ndarray__\":\"AAAAAAAADEBcj8L1KFwHQK5H4XoUrg9AexSuR+F6DkC4HoXrUbgQQDMzMzMzMwtAmpmZmZmZCUBxPQrXo3ALQFyPwvUoXA1AAAAAAAAAEED2KFyPwvUMQHE9CtejcBBAMzMzMzMzD0AAAAAAAAAOQAAAAAAAABBA7FG4HoXrDUCamZmZmZkJQAAAAAAAAAxAH4XrUbgeC0CamZmZmZkJQBSuR+F6FBFAhetRuB6FCUCuR+F6FK4NQAAAAAAAABBAAAAAAAAADEAAAAAAAAAMQA==\",\"dtype\":\"float64\",\"order\":\"little\",\"shape\":[26]},\"personal_banker_rating\":{\"__ndarray__\":\"MzMzMzMzA0Bcj8L1KFwBQAAAAAAAAABACtejcD0KA0AAAAAAAADgPwAAAAAAAABAAAAAAAAAAEAAAAAAAADwPwAAAAAAAABAAAAAAAAAAEAAAAAAAAAAQAAAAAAAAABAAAAAAAAA4D/2KFyPwvX4PwAAAAAAAABAMzMzMzMzA0Bcj8L1KFwBQKRwPQrXowJA9ihcj8L1/D+kcD0K16MCQAAAAAAAAABASOF6FK5H/T9cj8L1KFwBQDMzMzMzMwNAZmZmZmZmAkAzMzMzMzMDQA==\",\"dtype\":\"float64\",\"order\":\"little\",\"shape\":[26]}},\"selected\":{\"id\":\"2150\"},\"selection_policy\":{\"id\":\"2164\"}},\"id\":\"2149\",\"type\":\"ColumnDataSource\"},{\"attributes\":{},\"id\":\"2130\",\"type\":\"SaveTool\"},{\"attributes\":{\"fill_alpha\":{\"value\":0.2},\"fill_color\":{\"value\":\"#fc4f30\"},\"hatch_alpha\":{\"value\":0.2},\"hatch_color\":{\"value\":\"#fc4f30\"},\"line_alpha\":{\"value\":0.2},\"line_color\":{\"value\":\"#fc4f30\"},\"size\":{\"value\":5.477225575051661},\"x\":{\"field\":\"mobile_app_rating\"},\"y\":{\"field\":\"personal_banker_rating\"}},\"id\":\"2175\",\"type\":\"Scatter\"},{\"attributes\":{\"data\":{\"customer_segment_information\":[1,1,1,1,1,1,1,1,1,1,1,1,1,1,1,1,1,1,1,1,1,1,1,1,1,1,1,1,1,1,1,1,1,1,1,1,1,1,1,1,1,1,1,1,1,1,1,1,1,1,1,1,1,1,1,1,1,1,1,1,1,1,1,1,1,1,1,1,1,1,1,1,1,1,1,1,1,1,1,1,1,1,1,1,1,1,1],\"mobile_app_rating\":{\"__ndarray__\":\"MzMzMzMzDUB7FK5H4XoKQBSuR+F6FA5AZmZmZmZmCkAAAAAAAAARQKRwPQrXowpAAAAAAAAADkBI4XoUrkcLQFK4HoXrURFAXI/C9ShcDUBxPQrXo3ANQM3MzMzMzApAcT0K16NwDUDhehSuR+EQQB+F61G4HgtAAAAAAAAAEkA9CtejcD0SQFyPwvUoXBBAUrgehetRCkAfhetRuB4PQAAAAAAAABJAMzMzMzMzC0CF61G4HoULQOF6FK5H4Q5APQrXo3A9DkBxPQrXo3ANQAAAAAAAAApA9ihcj8L1DEAUrkfhehQKQD0K16NwPQxAzczMzMzMCkApXI/C9SgKQB+F61G4Hg1AAAAAAAAADEBI4XoUrkcLQOxRuB6F6wtAhetRuB6FC0CamZmZmZkNQAAAAAAAABBApHA9CtejCkCuR+F6FK4SQAAAAAAAABJAUrgehetRCkAAAAAAAAAMQI/C9ShcjxBAZmZmZmZmDECuR+F6FK4JQDMzMzMzMwtAmpmZmZmZDUBI4XoUrkcPQPYoXI/C9QpAAAAAAAAADkDXo3A9CtcJQEjhehSuRwtAZmZmZmZmDECuR+F6FK4PQFyPwvUoXA9Aw/UoXI/CCUCkcD0K16MKQI/C9Shcjw5AXI/C9ShcDUAAAAAAAAAMQMP1KFyPwgtAH4XrUbgeC0AAAAAAAAAMQOxRuB6F6wlArkfhehSuC0C4HoXrUbgKQAAAAAAAAAxAuB6F61G4CkDhehSuR+EOQD0K16NwPRBAH4XrUbgeDUC4HoXrUbgMQOF6FK5H4QpAzczMzMzMEEB7FK5H4XoOQMP1KFyPwhBAXI/C9ShcDUBSuB6F61ESQAAAAAAAAApACtejcD0KC0AK16NwPQoNQK5H4XoUrgtAhetRuB6FC0AAAAAAAAAKQLgehetRuAxA\",\"dtype\":\"float64\",\"order\":\"little\",\"shape\":[87]},\"personal_banker_rating\":{\"__ndarray__\":\"H4XrUbgeCUD2KFyPwvUIQI/C9ShcjwhApHA9CtejBkAAAAAAAAAIQJqZmZmZmQVA9ihcj8L1CEC4HoXrUbgIQAAAAAAAAARAKVyPwvUoBkBxPQrXo3AHQFyPwvUoXAlAH4XrUbgeCUAAAAAAAAAIQHE9CtejcAlAZmZmZmZmBEBcj8L1KFwJQAAAAAAAAARAAAAAAAAACECkcD0K16MGQAAAAAAAAAhAAAAAAAAACEBcj8L1KFwJQAAAAAAAAARAAAAAAAAACECF61G4HoUJQFyPwvUoXAVAZmZmZmZmBkDD9Shcj8IHQM3MzMzMzAZApHA9CtejBkA9CtejcD0IQAAAAAAAAAhAAAAAAAAACEAK16NwPQoFQIXrUbgehQlAAAAAAAAACEAAAAAAAAAIQKRwPQrXowZAAAAAAAAABEAzMzMzMzMHQFyPwvUoXAlAzczMzMzMBkCkcD0K16MGQM3MzMzMzAZAZmZmZmZmBkD2KFyPwvUEQKRwPQrXowhAAAAAAAAABEAAAAAAAAAEQIXrUbgehQlAAAAAAAAACEAAAAAAAAAEQDMzMzMzMwdAAAAAAAAACEAAAAAAAAAIQArXo3A9CglAuB6F61G4BkBcj8L1KFwHQAAAAAAAAAhAAAAAAAAACEAAAAAAAAAIQFyPwvUoXAVAMzMzMzMzB0Bcj8L1KFwJQM3MzMzMzAhAAAAAAAAABkApXI/C9SgIQB+F61G4HgdAexSuR+F6BkAAAAAAAAAIQEjhehSuRwVAXI/C9ShcBUAAAAAAAAAIQI/C9ShcjwhAXI/C9ShcCUC4HoXrUbgIQDMzMzMzMwdAAAAAAAAACEBcj8L1KFwJQK5H4XoUrgVArkfhehSuBUCkcD0K16MEQJqZmZmZmQNAAAAAAAAACEAK16NwPQoHQGZmZmZmZg5A\",\"dtype\":\"float64\",\"order\":\"little\",\"shape\":[87]}},\"selected\":{\"id\":\"2171\"},\"selection_policy\":{\"id\":\"2187\"}},\"id\":\"2170\",\"type\":\"ColumnDataSource\"},{\"attributes\":{\"source\":{\"id\":\"2192\"}},\"id\":\"2199\",\"type\":\"CDSView\"}],\"root_ids\":[\"2106\"]},\"title\":\"Bokeh Application\",\"version\":\"2.4.2\"}};\n",
       "    var render_items = [{\"docid\":\"56322566-50c0-493a-b5d1-b4ae2b384b19\",\"root_ids\":[\"2106\"],\"roots\":{\"2106\":\"8651503a-a8e0-42d5-b295-897bae66a571\"}}];\n",
       "    root.Bokeh.embed.embed_items_notebook(docs_json, render_items);\n",
       "  }\n",
       "  if (root.Bokeh !== undefined && root.Bokeh.Panel !== undefined) {\n",
       "    embed_document(root);\n",
       "  } else {\n",
       "    var attempts = 0;\n",
       "    var timer = setInterval(function(root) {\n",
       "      if (root.Bokeh !== undefined && root.Bokeh.Panel !== undefined) {\n",
       "        clearInterval(timer);\n",
       "        embed_document(root);\n",
       "      } else if (document.readyState == \"complete\") {\n",
       "        attempts++;\n",
       "        if (attempts > 200) {\n",
       "          clearInterval(timer);\n",
       "          console.log(\"Bokeh: ERROR: Unable to run BokehJS code because BokehJS library is missing\");\n",
       "        }\n",
       "      }\n",
       "    }, 25, root)\n",
       "  }\n",
       "})(window);</script>"
      ],
      "text/plain": [
       ":NdOverlay   [customer segment information]\n",
       "   :Scatter   [mobile_app_rating]   (personal_banker_rating)"
      ]
     },
     "execution_count": 37,
     "metadata": {
      "application/vnd.holoviews_exec.v0+json": {
       "id": "2106"
      }
     },
     "output_type": "execute_result"
    }
   ],
   "source": [
    "# Plot the data points based on the customer rating\n",
    "# YOUR CODE HERE\n",
    "service_rating_predictions_df.hvplot.scatter(\n",
    "    x=\"mobile_app_rating\", \n",
    "    y=\"personal_banker_rating\", \n",
    "    by='customer segment information'\n",
    ")"
   ]
  },
  {
   "cell_type": "markdown",
   "metadata": {},
   "source": [
    "## Run the k-means model with 4 clusters"
   ]
  },
  {
   "cell_type": "code",
   "execution_count": 38,
   "metadata": {},
   "outputs": [
    {
     "data": {
      "text/plain": [
       "KMeans(n_clusters=4, random_state=1)"
      ]
     },
     "execution_count": 38,
     "metadata": {},
     "output_type": "execute_result"
    }
   ],
   "source": [
    "# Create and initialize the K-means model instance for 4 clusters\n",
    "# YOUR CODE HERE\n",
    "model4 = KMeans(n_clusters=4, random_state=1)\n",
    "# Print the model\n",
    "# YOUR CODE HERE\n",
    "model4"
   ]
  },
  {
   "cell_type": "code",
   "execution_count": 39,
   "metadata": {},
   "outputs": [
    {
     "data": {
      "text/plain": [
       "KMeans(n_clusters=4, random_state=1)"
      ]
     },
     "execution_count": 39,
     "metadata": {},
     "output_type": "execute_result"
    }
   ],
   "source": [
    "# Fit the data to the instance of the model\n",
    "# YOUR CODE HERE\n",
    "model4.fit(service_ratings_df)"
   ]
  },
  {
   "cell_type": "code",
   "execution_count": 40,
   "metadata": {},
   "outputs": [
    {
     "name": "stdout",
     "output_type": "stream",
     "text": [
      "[3 1 0 0 0 0 0 1 0 2 0 0 1 0 3 1 0 1 0 0 1 1 0 1 0 3 2 1 2 3 1 0 1 3 1 0 0\n",
      " 0 1 0 0 1 1 0 1 0 0 1 1 1 0 1 1 1 0 1 0 3 0 0 0 1 0 0 0 0 3 3 0 0 3 2 0 1\n",
      " 2 1 3 0 1 1 1 3 2 1 1 0 2 1 3 2 1 0 0 1 3 1 3 1 0 0 3 0 1 0 1 1 2 2 1 1 0\n",
      " 0 1 1 3 1 2 2 0 1 3 0 0 0 0 0 0 1 0 0 0 1 1 1 0 3 0 1 1 0 1 0 0 1 1 0 0 0\n",
      " 1 0 2 0 3 1 1 1 3 1 1 1 0 1 3 0 1 0 0 0 2 3 1 0 3 0 0 2 1 3 1 0 0 3 1]\n"
     ]
    }
   ],
   "source": [
    "# Make predictions about the data clusters by using the trained model\n",
    "# YOUR CODE HERE\n",
    "customer_ratings = model4.predict(service_ratings_df)\n",
    "\n",
    "# Print the predictions\n",
    "# YOUR CODE HERE\n",
    "print(customer_ratings)"
   ]
  },
  {
   "cell_type": "code",
   "execution_count": 41,
   "metadata": {},
   "outputs": [],
   "source": [
    "# Add a column to the service_ratings_predictions_df DataFrame that contains the customer_segment information\n",
    "# YOUR CODE HERE\n",
    "service_rating_predictions_df = service_ratings_df.copy()\n",
    "# Review the DataFrame\n",
    "# YOUR CODE HERE\n"
   ]
  },
  {
   "cell_type": "code",
   "execution_count": 42,
   "metadata": {},
   "outputs": [],
   "source": [
    "# Plot the data points based on the customer rating\n",
    "# YOUR CODE HERE"
   ]
  },
  {
   "cell_type": "markdown",
   "metadata": {},
   "source": [
    "## Answer the following question:"
   ]
  },
  {
   "cell_type": "markdown",
   "metadata": {},
   "source": [
    "**Question:** Can any additional information be gleaned from the customer segmentation data when clusters of 3 and 4 are applied?\n",
    "\n",
    "**Answer:** # YOUR ANSWER HERE "
   ]
  },
  {
   "cell_type": "code",
   "execution_count": null,
   "metadata": {},
   "outputs": [],
   "source": []
  }
 ],
 "metadata": {
  "interpreter": {
   "hash": "2803b3c07b64a7b986e21828569605b043ff1dba15e47aab897e816beaee656d"
  },
  "kernelspec": {
   "display_name": "Python 3.7.11 ('dev')",
   "language": "python",
   "name": "python3"
  },
  "language_info": {
   "codemirror_mode": {
    "name": "ipython",
    "version": 3
   },
   "file_extension": ".py",
   "mimetype": "text/x-python",
   "name": "python",
   "nbconvert_exporter": "python",
   "pygments_lexer": "ipython3",
   "version": "3.7.11"
  }
 },
 "nbformat": 4,
 "nbformat_minor": 4
}
