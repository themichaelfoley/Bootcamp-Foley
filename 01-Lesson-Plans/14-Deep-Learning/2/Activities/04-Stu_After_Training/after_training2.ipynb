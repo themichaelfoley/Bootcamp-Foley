{
 "cells": [
  {
   "cell_type": "markdown",
   "metadata": {},
   "source": [
    "# After Training\n",
    "\n",
    "In this exercise, you will create a deep learning model, save it, and load it to evaluate its performance on unseen data."
   ]
  },
  {
   "cell_type": "code",
   "execution_count": 13,
   "metadata": {},
   "outputs": [],
   "source": [
    "# Initial imports\n",
    "from tensorflow.keras.models import Sequential\n",
    "from tensorflow.keras.layers import Dense, Dropout\n",
    "from pathlib import Path\n",
    "import pandas as pd\n",
    "import matplotlib.pyplot as plt"
   ]
  },
  {
   "cell_type": "code",
   "execution_count": 2,
   "metadata": {},
   "outputs": [
    {
     "data": {
      "text/html": [
       "<div>\n",
       "<style scoped>\n",
       "    .dataframe tbody tr th:only-of-type {\n",
       "        vertical-align: middle;\n",
       "    }\n",
       "\n",
       "    .dataframe tbody tr th {\n",
       "        vertical-align: top;\n",
       "    }\n",
       "\n",
       "    .dataframe thead th {\n",
       "        text-align: right;\n",
       "    }\n",
       "</style>\n",
       "<table border=\"1\" class=\"dataframe\">\n",
       "  <thead>\n",
       "    <tr style=\"text-align: right;\">\n",
       "      <th></th>\n",
       "      <th>0</th>\n",
       "      <th>1</th>\n",
       "      <th>2</th>\n",
       "      <th>3</th>\n",
       "      <th>4</th>\n",
       "      <th>5</th>\n",
       "      <th>6</th>\n",
       "      <th>7</th>\n",
       "      <th>8</th>\n",
       "      <th>9</th>\n",
       "      <th>...</th>\n",
       "      <th>60</th>\n",
       "      <th>61</th>\n",
       "      <th>62</th>\n",
       "      <th>63</th>\n",
       "      <th>64</th>\n",
       "      <th>65</th>\n",
       "      <th>66</th>\n",
       "      <th>67</th>\n",
       "      <th>68</th>\n",
       "      <th>69</th>\n",
       "    </tr>\n",
       "  </thead>\n",
       "  <tbody>\n",
       "    <tr>\n",
       "      <th>0</th>\n",
       "      <td>7.161286</td>\n",
       "      <td>7.835325</td>\n",
       "      <td>2.911583</td>\n",
       "      <td>0.984049</td>\n",
       "      <td>-1.499546</td>\n",
       "      <td>-2.094097</td>\n",
       "      <td>0.576000</td>\n",
       "      <td>-1.205671</td>\n",
       "      <td>1.849122</td>\n",
       "      <td>-0.425598</td>\n",
       "      <td>...</td>\n",
       "      <td>-1.504263</td>\n",
       "      <td>0.351267</td>\n",
       "      <td>-1.018726</td>\n",
       "      <td>-0.174878</td>\n",
       "      <td>-1.089543</td>\n",
       "      <td>-0.668840</td>\n",
       "      <td>-0.914772</td>\n",
       "      <td>-0.836250</td>\n",
       "      <td>-15.75</td>\n",
       "      <td>-47.95</td>\n",
       "    </tr>\n",
       "    <tr>\n",
       "      <th>1</th>\n",
       "      <td>0.225763</td>\n",
       "      <td>-0.094169</td>\n",
       "      <td>-0.603646</td>\n",
       "      <td>0.497745</td>\n",
       "      <td>0.874036</td>\n",
       "      <td>0.290280</td>\n",
       "      <td>-0.077659</td>\n",
       "      <td>-0.887385</td>\n",
       "      <td>0.432062</td>\n",
       "      <td>-0.093963</td>\n",
       "      <td>...</td>\n",
       "      <td>-0.495712</td>\n",
       "      <td>-0.465077</td>\n",
       "      <td>-0.157861</td>\n",
       "      <td>-0.157189</td>\n",
       "      <td>0.380951</td>\n",
       "      <td>1.088478</td>\n",
       "      <td>-0.123595</td>\n",
       "      <td>1.391141</td>\n",
       "      <td>14.91</td>\n",
       "      <td>-23.51</td>\n",
       "    </tr>\n",
       "    <tr>\n",
       "      <th>2</th>\n",
       "      <td>-0.692525</td>\n",
       "      <td>-0.517801</td>\n",
       "      <td>-0.788035</td>\n",
       "      <td>1.214351</td>\n",
       "      <td>-0.907214</td>\n",
       "      <td>0.880213</td>\n",
       "      <td>0.406899</td>\n",
       "      <td>-0.694895</td>\n",
       "      <td>-0.901869</td>\n",
       "      <td>-1.701574</td>\n",
       "      <td>...</td>\n",
       "      <td>-0.637167</td>\n",
       "      <td>0.147260</td>\n",
       "      <td>0.217914</td>\n",
       "      <td>2.718442</td>\n",
       "      <td>0.972919</td>\n",
       "      <td>2.081069</td>\n",
       "      <td>1.375763</td>\n",
       "      <td>1.063847</td>\n",
       "      <td>12.65</td>\n",
       "      <td>-8.00</td>\n",
       "    </tr>\n",
       "    <tr>\n",
       "      <th>3</th>\n",
       "      <td>-0.735562</td>\n",
       "      <td>-0.684055</td>\n",
       "      <td>2.058215</td>\n",
       "      <td>0.716328</td>\n",
       "      <td>-0.011393</td>\n",
       "      <td>0.805396</td>\n",
       "      <td>1.497982</td>\n",
       "      <td>0.114752</td>\n",
       "      <td>0.692847</td>\n",
       "      <td>0.052377</td>\n",
       "      <td>...</td>\n",
       "      <td>-0.178325</td>\n",
       "      <td>-0.065059</td>\n",
       "      <td>-0.724247</td>\n",
       "      <td>-1.020687</td>\n",
       "      <td>-0.751380</td>\n",
       "      <td>-0.385005</td>\n",
       "      <td>-0.012326</td>\n",
       "      <td>-0.392197</td>\n",
       "      <td>9.03</td>\n",
       "      <td>38.74</td>\n",
       "    </tr>\n",
       "    <tr>\n",
       "      <th>4</th>\n",
       "      <td>0.570272</td>\n",
       "      <td>0.273157</td>\n",
       "      <td>-0.279214</td>\n",
       "      <td>0.083456</td>\n",
       "      <td>1.049331</td>\n",
       "      <td>-0.869295</td>\n",
       "      <td>-0.265858</td>\n",
       "      <td>-0.401676</td>\n",
       "      <td>-0.872639</td>\n",
       "      <td>1.147483</td>\n",
       "      <td>...</td>\n",
       "      <td>-0.919463</td>\n",
       "      <td>-0.667912</td>\n",
       "      <td>-0.820172</td>\n",
       "      <td>-0.190488</td>\n",
       "      <td>0.306974</td>\n",
       "      <td>0.119658</td>\n",
       "      <td>0.271838</td>\n",
       "      <td>1.289783</td>\n",
       "      <td>34.03</td>\n",
       "      <td>-6.85</td>\n",
       "    </tr>\n",
       "  </tbody>\n",
       "</table>\n",
       "<p>5 rows × 70 columns</p>\n",
       "</div>"
      ],
      "text/plain": [
       "         0         1         2         3         4         5         6   \\\n",
       "0  7.161286  7.835325  2.911583  0.984049 -1.499546 -2.094097  0.576000   \n",
       "1  0.225763 -0.094169 -0.603646  0.497745  0.874036  0.290280 -0.077659   \n",
       "2 -0.692525 -0.517801 -0.788035  1.214351 -0.907214  0.880213  0.406899   \n",
       "3 -0.735562 -0.684055  2.058215  0.716328 -0.011393  0.805396  1.497982   \n",
       "4  0.570272  0.273157 -0.279214  0.083456  1.049331 -0.869295 -0.265858   \n",
       "\n",
       "         7         8         9   ...        60        61        62        63  \\\n",
       "0 -1.205671  1.849122 -0.425598  ... -1.504263  0.351267 -1.018726 -0.174878   \n",
       "1 -0.887385  0.432062 -0.093963  ... -0.495712 -0.465077 -0.157861 -0.157189   \n",
       "2 -0.694895 -0.901869 -1.701574  ... -0.637167  0.147260  0.217914  2.718442   \n",
       "3  0.114752  0.692847  0.052377  ... -0.178325 -0.065059 -0.724247 -1.020687   \n",
       "4 -0.401676 -0.872639  1.147483  ... -0.919463 -0.667912 -0.820172 -0.190488   \n",
       "\n",
       "         64        65        66        67     68     69  \n",
       "0 -1.089543 -0.668840 -0.914772 -0.836250 -15.75 -47.95  \n",
       "1  0.380951  1.088478 -0.123595  1.391141  14.91 -23.51  \n",
       "2  0.972919  2.081069  1.375763  1.063847  12.65  -8.00  \n",
       "3 -0.751380 -0.385005 -0.012326 -0.392197   9.03  38.74  \n",
       "4  0.306974  0.119658  0.271838  1.289783  34.03  -6.85  \n",
       "\n",
       "[5 rows x 70 columns]"
      ]
     },
     "execution_count": 2,
     "metadata": {},
     "output_type": "execute_result"
    }
   ],
   "source": [
    "# Read in data\n",
    "data = Path(\"../Resources/music.csv\")\n",
    "df = pd.read_csv(data, header=None)\n",
    "df.head()"
   ]
  },
  {
   "cell_type": "code",
   "execution_count": 4,
   "metadata": {},
   "outputs": [
    {
     "data": {
      "text/plain": [
       "array([[-15.75, -47.95],\n",
       "       [ 14.91, -23.51],\n",
       "       [ 12.65,  -8.  ],\n",
       "       [  9.03,  38.74],\n",
       "       [ 34.03,  -6.85]])"
      ]
     },
     "execution_count": 4,
     "metadata": {},
     "output_type": "execute_result"
    }
   ],
   "source": [
    "# Define the features set 'X', and the target 'y' set.\n",
    "X = df.iloc[:, 0:67].values\n",
    "y = df.iloc[:, 68:70].values\n",
    "y[:5]"
   ]
  },
  {
   "cell_type": "code",
   "execution_count": 5,
   "metadata": {},
   "outputs": [],
   "source": [
    "from sklearn.model_selection import train_test_split\n",
    "\n",
    "X_train, X_test, y_train, y_test = train_test_split(X, y, random_state=42)"
   ]
  },
  {
   "cell_type": "code",
   "execution_count": 6,
   "metadata": {},
   "outputs": [],
   "source": [
    "# Scale the data for the features set X_tain and X_test\n",
    "from sklearn.preprocessing import StandardScaler\n",
    "scaler = StandardScaler().fit(X_train)\n",
    "\n",
    "X_train_scaled = scaler.transform(X_train)\n",
    "X_test_scaled = scaler.transform(X_test)\n",
    "# YOUR CODE HERE!"
   ]
  },
  {
   "cell_type": "code",
   "execution_count": 14,
   "metadata": {},
   "outputs": [],
   "source": [
    "# Create a neural network with 1 hidden layer\n",
    "# YOUR CODE HERE!\n",
    "nn = Sequential()\n",
    "\n",
    "nn.add(Dense(units=8, input_dim=X_train_scaled.shape[1], activation=\"relu\"))\n",
    "nn.add(Dropout(0.1)) # this will \"drop\" 10% of the data (make it 0)\n",
    "nn.add(Dense(units=8, activation=\"relu\"))\n",
    "nn.add(Dense(units=2, activation=\"linear\"))"
   ]
  },
  {
   "cell_type": "code",
   "execution_count": 15,
   "metadata": {},
   "outputs": [],
   "source": [
    "# Compile model\n",
    "# YOUR CODE HERE!\n",
    "nn.compile(loss=\"mean_squared_error\", optimizer=\"adam\", metrics=[\"mse\"])\n",
    "\n",
    "# Fit the model\n",
    "# YOUR CODE HERE!\n",
    "model_1 = nn.fit(X_train_scaled, y_train, epochs=300, verbose=0, validation_split=0.1)"
   ]
  },
  {
   "cell_type": "code",
   "execution_count": 16,
   "metadata": {},
   "outputs": [
    {
     "data": {
      "image/png": "[encoded data removed]",
      "image/svg+xml": "<?xml version=\"1.0\" encoding=\"utf-8\" standalone=\"no\"?>\n<!DOCTYPE svg PUBLIC \"-//W3C//DTD SVG 1.1//EN\"\n  \"http://www.w3.org/Graphics/SVG/1.1/DTD/svg11.dtd\">\n<svg xmlns:xlink=\"http://www.w3.org/1999/xlink\" width=\"381.65pt\" height=\"263.63625pt\" viewBox=\"0 0 381.65 263.63625\" xmlns=\"http://www.w3.org/2000/svg\" version=\"1.1\">\n <metadata>\n  <rdf:RDF xmlns:dc=\"http://purl.org/dc/elements/1.1/\" xmlns:cc=\"http://creativecommons.org/ns#\" xmlns:rdf=\"http://www.w3.org/1999/02/22-rdf-syntax-ns#\">\n   <cc:Work>\n    <dc:type rdf:resource=\"http://purl.org/dc/dcmitype/StillImage\"/>\n    <dc:date>2022-06-13T17:37:05.220268</dc:date>\n    <dc:format>image/svg+xml</dc:format>\n    <dc:creator>\n     <cc:Agent>\n      <dc:title>Matplotlib v3.5.1, https://matplotlib.org/</dc:title>\n     </cc:Agent>\n    </dc:creator>\n   </cc:Work>\n  </rdf:RDF>\n </metadata>\n <defs>\n  <style type=\"text/css\">*{stroke-linejoin: round; stroke-linecap: butt}</style>\n </defs>\n <g id=\"figure_1\">\n  <g id=\"patch_1\">\n   <path d=\"M -0 263.63625 \nL 381.65 263.63625 \nL 381.65 0 \nL -0 0 \nL -0 263.63625 \nz\n\" style=\"fill: none\"/>\n  </g>\n  <g id=\"axes_1\">\n   <g id=\"patch_2\">\n    <path d=\"M 39.65 239.758125 \nL 374.45 239.758125 \nL 374.45 22.318125 \nL 39.65 22.318125 \nz\n\" style=\"fill: #ffffff\"/>\n   </g>\n   <g id=\"matplotlib.axis_1\">\n    <g id=\"xtick_1\">\n     <g id=\"line2d_1\">\n      <defs>\n       <path id=\"m5be345ef02\" d=\"M 0 0 \nL 0 3.5 \n\" style=\"stroke: #000000; stroke-width: 0.8\"/>\n      </defs>\n      <g>\n       <use xlink:href=\"#m5be345ef02\" x=\"54.868182\" y=\"239.758125\" style=\"stroke: #000000; stroke-width: 0.8\"/>\n      </g>\n     </g>\n     <g id=\"text_1\">\n      <!-- 0 -->\n      <g transform=\"translate(51.686932 254.356563)scale(0.1 -0.1)\">\n       <defs>\n        <path id=\"DejaVuSans-30\" d=\"M 2034 4250 \nQ 1547 4250 1301 3770 \nQ 1056 3291 1056 2328 \nQ 1056 1369 1301 889 \nQ 1547 409 2034 409 \nQ 2525 409 2770 889 \nQ 3016 1369 3016 2328 \nQ 3016 3291 2770 3770 \nQ 2525 4250 2034 4250 \nz\nM 2034 4750 \nQ 2819 4750 3233 4129 \nQ 3647 3509 3647 2328 \nQ 3647 1150 3233 529 \nQ 2819 -91 2034 -91 \nQ 1250 -91 836 529 \nQ 422 1150 422 2328 \nQ 422 3509 836 4129 \nQ 1250 4750 2034 4750 \nz\n\" transform=\"scale(0.015625)\"/>\n       </defs>\n       <use xlink:href=\"#DejaVuSans-30\"/>\n      </g>\n     </g>\n    </g>\n    <g id=\"xtick_2\">\n     <g id=\"line2d_2\">\n      <g>\n       <use xlink:href=\"#m5be345ef02\" x=\"105.765111\" y=\"239.758125\" style=\"stroke: #000000; stroke-width: 0.8\"/>\n      </g>\n     </g>\n     <g id=\"text_2\">\n      <!-- 50 -->\n      <g transform=\"translate(99.402611 254.356563)scale(0.1 -0.1)\">\n       <defs>\n        <path id=\"DejaVuSans-35\" d=\"M 691 4666 \nL 3169 4666 \nL 3169 4134 \nL 1269 4134 \nL 1269 2991 \nQ 1406 3038 1543 3061 \nQ 1681 3084 1819 3084 \nQ 2600 3084 3056 2656 \nQ 3513 2228 3513 1497 \nQ 3513 744 3044 326 \nQ 2575 -91 1722 -91 \nQ 1428 -91 1123 -41 \nQ 819 9 494 109 \nL 494 744 \nQ 775 591 1075 516 \nQ 1375 441 1709 441 \nQ 2250 441 2565 725 \nQ 2881 1009 2881 1497 \nQ 2881 1984 2565 2268 \nQ 2250 2553 1709 2553 \nQ 1456 2553 1204 2497 \nQ 953 2441 691 2322 \nL 691 4666 \nz\n\" transform=\"scale(0.015625)\"/>\n       </defs>\n       <use xlink:href=\"#DejaVuSans-35\"/>\n       <use xlink:href=\"#DejaVuSans-30\" x=\"63.623047\"/>\n      </g>\n     </g>\n    </g>\n    <g id=\"xtick_3\">\n     <g id=\"line2d_3\">\n      <g>\n       <use xlink:href=\"#m5be345ef02\" x=\"156.66204\" y=\"239.758125\" style=\"stroke: #000000; stroke-width: 0.8\"/>\n      </g>\n     </g>\n     <g id=\"text_3\">\n      <!-- 100 -->\n      <g transform=\"translate(147.11829 254.356563)scale(0.1 -0.1)\">\n       <defs>\n        <path id=\"DejaVuSans-31\" d=\"M 794 531 \nL 1825 531 \nL 1825 4091 \nL 703 3866 \nL 703 4441 \nL 1819 4666 \nL 2450 4666 \nL 2450 531 \nL 3481 531 \nL 3481 0 \nL 794 0 \nL 794 531 \nz\n\" transform=\"scale(0.015625)\"/>\n       </defs>\n       <use xlink:href=\"#DejaVuSans-31\"/>\n       <use xlink:href=\"#DejaVuSans-30\" x=\"63.623047\"/>\n       <use xlink:href=\"#DejaVuSans-30\" x=\"127.246094\"/>\n      </g>\n     </g>\n    </g>\n    <g id=\"xtick_4\">\n     <g id=\"line2d_4\">\n      <g>\n       <use xlink:href=\"#m5be345ef02\" x=\"207.558969\" y=\"239.758125\" style=\"stroke: #000000; stroke-width: 0.8\"/>\n      </g>\n     </g>\n     <g id=\"text_4\">\n      <!-- 150 -->\n      <g transform=\"translate(198.015219 254.356563)scale(0.1 -0.1)\">\n       <use xlink:href=\"#DejaVuSans-31\"/>\n       <use xlink:href=\"#DejaVuSans-35\" x=\"63.623047\"/>\n       <use xlink:href=\"#DejaVuSans-30\" x=\"127.246094\"/>\n      </g>\n     </g>\n    </g>\n    <g id=\"xtick_5\">\n     <g id=\"line2d_5\">\n      <g>\n       <use xlink:href=\"#m5be345ef02\" x=\"258.455898\" y=\"239.758125\" style=\"stroke: #000000; stroke-width: 0.8\"/>\n      </g>\n     </g>\n     <g id=\"text_5\">\n      <!-- 200 -->\n      <g transform=\"translate(248.912148 254.356563)scale(0.1 -0.1)\">\n       <defs>\n        <path id=\"DejaVuSans-32\" d=\"M 1228 531 \nL 3431 531 \nL 3431 0 \nL 469 0 \nL 469 531 \nQ 828 903 1448 1529 \nQ 2069 2156 2228 2338 \nQ 2531 2678 2651 2914 \nQ 2772 3150 2772 3378 \nQ 2772 3750 2511 3984 \nQ 2250 4219 1831 4219 \nQ 1534 4219 1204 4116 \nQ 875 4013 500 3803 \nL 500 4441 \nQ 881 4594 1212 4672 \nQ 1544 4750 1819 4750 \nQ 2544 4750 2975 4387 \nQ 3406 4025 3406 3419 \nQ 3406 3131 3298 2873 \nQ 3191 2616 2906 2266 \nQ 2828 2175 2409 1742 \nQ 1991 1309 1228 531 \nz\n\" transform=\"scale(0.015625)\"/>\n       </defs>\n       <use xlink:href=\"#DejaVuSans-32\"/>\n       <use xlink:href=\"#DejaVuSans-30\" x=\"63.623047\"/>\n       <use xlink:href=\"#DejaVuSans-30\" x=\"127.246094\"/>\n      </g>\n     </g>\n    </g>\n    <g id=\"xtick_6\">\n     <g id=\"line2d_6\">\n      <g>\n       <use xlink:href=\"#m5be345ef02\" x=\"309.352828\" y=\"239.758125\" style=\"stroke: #000000; stroke-width: 0.8\"/>\n      </g>\n     </g>\n     <g id=\"text_6\">\n      <!-- 250 -->\n      <g transform=\"translate(299.809078 254.356563)scale(0.1 -0.1)\">\n       <use xlink:href=\"#DejaVuSans-32\"/>\n       <use xlink:href=\"#DejaVuSans-35\" x=\"63.623047\"/>\n       <use xlink:href=\"#DejaVuSans-30\" x=\"127.246094\"/>\n      </g>\n     </g>\n    </g>\n    <g id=\"xtick_7\">\n     <g id=\"line2d_7\">\n      <g>\n       <use xlink:href=\"#m5be345ef02\" x=\"360.249757\" y=\"239.758125\" style=\"stroke: #000000; stroke-width: 0.8\"/>\n      </g>\n     </g>\n     <g id=\"text_7\">\n      <!-- 300 -->\n      <g transform=\"translate(350.706007 254.356563)scale(0.1 -0.1)\">\n       <defs>\n        <path id=\"DejaVuSans-33\" d=\"M 2597 2516 \nQ 3050 2419 3304 2112 \nQ 3559 1806 3559 1356 \nQ 3559 666 3084 287 \nQ 2609 -91 1734 -91 \nQ 1441 -91 1130 -33 \nQ 819 25 488 141 \nL 488 750 \nQ 750 597 1062 519 \nQ 1375 441 1716 441 \nQ 2309 441 2620 675 \nQ 2931 909 2931 1356 \nQ 2931 1769 2642 2001 \nQ 2353 2234 1838 2234 \nL 1294 2234 \nL 1294 2753 \nL 1863 2753 \nQ 2328 2753 2575 2939 \nQ 2822 3125 2822 3475 \nQ 2822 3834 2567 4026 \nQ 2313 4219 1838 4219 \nQ 1578 4219 1281 4162 \nQ 984 4106 628 3988 \nL 628 4550 \nQ 988 4650 1302 4700 \nQ 1616 4750 1894 4750 \nQ 2613 4750 3031 4423 \nQ 3450 4097 3450 3541 \nQ 3450 3153 3228 2886 \nQ 3006 2619 2597 2516 \nz\n\" transform=\"scale(0.015625)\"/>\n       </defs>\n       <use xlink:href=\"#DejaVuSans-33\"/>\n       <use xlink:href=\"#DejaVuSans-30\" x=\"63.623047\"/>\n       <use xlink:href=\"#DejaVuSans-30\" x=\"127.246094\"/>\n      </g>\n     </g>\n    </g>\n   </g>\n   <g id=\"matplotlib.axis_2\">\n    <g id=\"ytick_1\">\n     <g id=\"line2d_8\">\n      <defs>\n       <path id=\"m9f262b7908\" d=\"M 0 0 \nL -3.5 0 \n\" style=\"stroke: #000000; stroke-width: 0.8\"/>\n      </defs>\n      <g>\n       <use xlink:href=\"#m9f262b7908\" x=\"39.65\" y=\"226.323585\" style=\"stroke: #000000; stroke-width: 0.8\"/>\n      </g>\n     </g>\n     <g id=\"text_8\">\n      <!-- 750 -->\n      <g transform=\"translate(13.5625 230.122804)scale(0.1 -0.1)\">\n       <defs>\n        <path id=\"DejaVuSans-37\" d=\"M 525 4666 \nL 3525 4666 \nL 3525 4397 \nL 1831 0 \nL 1172 0 \nL 2766 4134 \nL 525 4134 \nL 525 4666 \nz\n\" transform=\"scale(0.015625)\"/>\n       </defs>\n       <use xlink:href=\"#DejaVuSans-37\"/>\n       <use xlink:href=\"#DejaVuSans-35\" x=\"63.623047\"/>\n       <use xlink:href=\"#DejaVuSans-30\" x=\"127.246094\"/>\n      </g>\n     </g>\n    </g>\n    <g id=\"ytick_2\">\n     <g id=\"line2d_9\">\n      <g>\n       <use xlink:href=\"#m9f262b7908\" x=\"39.65\" y=\"198.582731\" style=\"stroke: #000000; stroke-width: 0.8\"/>\n      </g>\n     </g>\n     <g id=\"text_9\">\n      <!-- 1000 -->\n      <g transform=\"translate(7.2 202.38195)scale(0.1 -0.1)\">\n       <use xlink:href=\"#DejaVuSans-31\"/>\n       <use xlink:href=\"#DejaVuSans-30\" x=\"63.623047\"/>\n       <use xlink:href=\"#DejaVuSans-30\" x=\"127.246094\"/>\n       <use xlink:href=\"#DejaVuSans-30\" x=\"190.869141\"/>\n      </g>\n     </g>\n    </g>\n    <g id=\"ytick_3\">\n     <g id=\"line2d_10\">\n      <g>\n       <use xlink:href=\"#m9f262b7908\" x=\"39.65\" y=\"170.841878\" style=\"stroke: #000000; stroke-width: 0.8\"/>\n      </g>\n     </g>\n     <g id=\"text_10\">\n      <!-- 1250 -->\n      <g transform=\"translate(7.2 174.641097)scale(0.1 -0.1)\">\n       <use xlink:href=\"#DejaVuSans-31\"/>\n       <use xlink:href=\"#DejaVuSans-32\" x=\"63.623047\"/>\n       <use xlink:href=\"#DejaVuSans-35\" x=\"127.246094\"/>\n       <use xlink:href=\"#DejaVuSans-30\" x=\"190.869141\"/>\n      </g>\n     </g>\n    </g>\n    <g id=\"ytick_4\">\n     <g id=\"line2d_11\">\n      <g>\n       <use xlink:href=\"#m9f262b7908\" x=\"39.65\" y=\"143.101024\" style=\"stroke: #000000; stroke-width: 0.8\"/>\n      </g>\n     </g>\n     <g id=\"text_11\">\n      <!-- 1500 -->\n      <g transform=\"translate(7.2 146.900243)scale(0.1 -0.1)\">\n       <use xlink:href=\"#DejaVuSans-31\"/>\n       <use xlink:href=\"#DejaVuSans-35\" x=\"63.623047\"/>\n       <use xlink:href=\"#DejaVuSans-30\" x=\"127.246094\"/>\n       <use xlink:href=\"#DejaVuSans-30\" x=\"190.869141\"/>\n      </g>\n     </g>\n    </g>\n    <g id=\"ytick_5\">\n     <g id=\"line2d_12\">\n      <g>\n       <use xlink:href=\"#m9f262b7908\" x=\"39.65\" y=\"115.360171\" style=\"stroke: #000000; stroke-width: 0.8\"/>\n      </g>\n     </g>\n     <g id=\"text_12\">\n      <!-- 1750 -->\n      <g transform=\"translate(7.2 119.15939)scale(0.1 -0.1)\">\n       <use xlink:href=\"#DejaVuSans-31\"/>\n       <use xlink:href=\"#DejaVuSans-37\" x=\"63.623047\"/>\n       <use xlink:href=\"#DejaVuSans-35\" x=\"127.246094\"/>\n       <use xlink:href=\"#DejaVuSans-30\" x=\"190.869141\"/>\n      </g>\n     </g>\n    </g>\n    <g id=\"ytick_6\">\n     <g id=\"line2d_13\">\n      <g>\n       <use xlink:href=\"#m9f262b7908\" x=\"39.65\" y=\"87.619318\" style=\"stroke: #000000; stroke-width: 0.8\"/>\n      </g>\n     </g>\n     <g id=\"text_13\">\n      <!-- 2000 -->\n      <g transform=\"translate(7.2 91.418536)scale(0.1 -0.1)\">\n       <use xlink:href=\"#DejaVuSans-32\"/>\n       <use xlink:href=\"#DejaVuSans-30\" x=\"63.623047\"/>\n       <use xlink:href=\"#DejaVuSans-30\" x=\"127.246094\"/>\n       <use xlink:href=\"#DejaVuSans-30\" x=\"190.869141\"/>\n      </g>\n     </g>\n    </g>\n    <g id=\"ytick_7\">\n     <g id=\"line2d_14\">\n      <g>\n       <use xlink:href=\"#m9f262b7908\" x=\"39.65\" y=\"59.878464\" style=\"stroke: #000000; stroke-width: 0.8\"/>\n      </g>\n     </g>\n     <g id=\"text_14\">\n      <!-- 2250 -->\n      <g transform=\"translate(7.2 63.677683)scale(0.1 -0.1)\">\n       <use xlink:href=\"#DejaVuSans-32\"/>\n       <use xlink:href=\"#DejaVuSans-32\" x=\"63.623047\"/>\n       <use xlink:href=\"#DejaVuSans-35\" x=\"127.246094\"/>\n       <use xlink:href=\"#DejaVuSans-30\" x=\"190.869141\"/>\n      </g>\n     </g>\n    </g>\n    <g id=\"ytick_8\">\n     <g id=\"line2d_15\">\n      <g>\n       <use xlink:href=\"#m9f262b7908\" x=\"39.65\" y=\"32.137611\" style=\"stroke: #000000; stroke-width: 0.8\"/>\n      </g>\n     </g>\n     <g id=\"text_15\">\n      <!-- 2500 -->\n      <g transform=\"translate(7.2 35.936829)scale(0.1 -0.1)\">\n       <use xlink:href=\"#DejaVuSans-32\"/>\n       <use xlink:href=\"#DejaVuSans-35\" x=\"63.623047\"/>\n       <use xlink:href=\"#DejaVuSans-30\" x=\"127.246094\"/>\n       <use xlink:href=\"#DejaVuSans-30\" x=\"190.869141\"/>\n      </g>\n     </g>\n    </g>\n   </g>\n   <g id=\"line2d_16\">\n    <path d=\"M 54.868182 32.201761 \nL 55.88612 34.560357 \nL 56.904059 37.444105 \nL 57.921998 41.009401 \nL 58.939936 45.694544 \nL 59.957875 52.496878 \nL 60.975813 62.022041 \nL 61.993752 73.681543 \nL 65.047568 119.466982 \nL 66.065506 131.564771 \nL 68.101383 149.896924 \nL 69.119322 151.288464 \nL 70.137261 156.0362 \nL 72.173138 162.263114 \nL 73.191076 162.093743 \nL 74.209015 165.204443 \nL 75.226953 165.9833 \nL 76.244892 170.145404 \nL 77.262831 171.716094 \nL 78.280769 171.324444 \nL 79.298708 172.235287 \nL 80.316646 173.683609 \nL 81.334585 175.45072 \nL 82.352524 175.859938 \nL 83.370462 179.489764 \nL 84.388401 178.932319 \nL 86.424278 181.831983 \nL 87.442216 179.325987 \nL 88.460155 181.868962 \nL 89.478094 181.755967 \nL 90.496032 184.282972 \nL 91.513971 185.984713 \nL 93.549848 184.412614 \nL 94.567787 186.419546 \nL 95.585725 186.12037 \nL 96.603664 186.441394 \nL 97.621602 188.712758 \nL 98.639541 185.429259 \nL 99.657479 186.706111 \nL 100.675418 188.656436 \nL 101.693357 188.591121 \nL 102.711295 186.776411 \nL 103.729234 189.47406 \nL 104.747172 189.365684 \nL 105.765111 190.521142 \nL 106.78305 189.811109 \nL 107.800988 191.115037 \nL 108.818927 188.484004 \nL 109.836865 191.897998 \nL 110.854804 192.968134 \nL 111.872742 191.304821 \nL 113.90862 193.679346 \nL 114.926558 193.541536 \nL 115.944497 193.246261 \nL 116.962435 193.342947 \nL 117.980374 195.546124 \nL 118.998313 193.758315 \nL 120.016251 194.454139 \nL 121.03419 192.056628 \nL 122.052128 193.096896 \nL 123.070067 195.203982 \nL 124.088005 193.865838 \nL 125.105944 196.04529 \nL 126.123883 197.11273 \nL 127.141821 194.307836 \nL 128.15976 194.99793 \nL 129.177698 193.273487 \nL 130.195637 196.411387 \nL 131.213576 196.273021 \nL 132.231514 194.838705 \nL 133.249453 198.374113 \nL 134.267391 196.458524 \nL 135.28533 196.378302 \nL 136.303268 197.874642 \nL 137.321207 197.017459 \nL 138.339146 199.102737 \nL 139.357084 196.699062 \nL 140.375023 199.007771 \nL 141.392961 197.400115 \nL 142.4109 199.36509 \nL 143.428839 199.331572 \nL 144.446777 199.458275 \nL 145.464716 200.65422 \nL 146.482654 200.620282 \nL 147.500593 198.330551 \nL 148.518531 200.0698 \nL 149.53647 202.636323 \nL 150.554409 198.525455 \nL 152.590286 202.783635 \nL 153.608224 201.32124 \nL 154.626163 202.321082 \nL 155.644102 200.105431 \nL 156.66204 203.340606 \nL 157.679979 202.075769 \nL 158.697917 201.717062 \nL 159.715856 202.159608 \nL 160.733794 202.929607 \nL 161.751733 203.842217 \nL 162.769672 204.264893 \nL 163.78761 203.769919 \nL 164.805549 204.329477 \nL 165.823487 203.015674 \nL 166.841426 202.196154 \nL 167.859365 202.394376 \nL 168.877303 201.9985 \nL 169.895242 203.872105 \nL 170.91318 207.631837 \nL 171.931119 205.757941 \nL 172.949057 205.914126 \nL 173.966996 205.680069 \nL 174.984935 206.461222 \nL 176.002873 206.262471 \nL 177.020812 207.346843 \nL 178.03875 204.478889 \nL 179.056689 206.489498 \nL 180.074628 206.856123 \nL 181.092566 206.787888 \nL 182.110505 207.971784 \nL 183.128443 204.775477 \nL 184.146382 206.502677 \nL 185.16432 206.59377 \nL 186.182259 207.281954 \nL 188.218136 205.218776 \nL 189.236075 207.665673 \nL 190.254013 209.155505 \nL 191.271952 206.775765 \nL 192.289891 208.523716 \nL 193.307829 207.642328 \nL 194.325768 209.67249 \nL 195.343706 206.966077 \nL 196.361645 208.1189 \nL 197.379583 209.078621 \nL 198.397522 208.100255 \nL 199.415461 212.159976 \nL 200.433399 211.079756 \nL 201.451338 208.895055 \nL 202.469276 210.378832 \nL 203.487215 211.047145 \nL 204.505154 209.769962 \nL 205.523092 210.257581 \nL 206.541031 209.745513 \nL 207.558969 209.449466 \nL 208.576908 209.540727 \nL 209.594846 208.458631 \nL 210.612785 212.81234 \nL 211.630724 210.797268 \nL 212.648662 210.216714 \nL 213.666601 211.837516 \nL 214.684539 210.292616 \nL 215.702478 209.340405 \nL 216.720417 209.00417 \nL 217.738355 210.253842 \nL 218.756294 210.194493 \nL 219.774232 211.431447 \nL 220.792171 210.929253 \nL 221.810109 209.692679 \nL 222.828048 211.742861 \nL 223.845987 208.838503 \nL 224.863925 211.273454 \nL 225.881864 214.401554 \nL 226.899802 213.132701 \nL 227.917741 212.895088 \nL 228.93568 210.286439 \nL 229.953618 210.946117 \nL 230.971557 212.162577 \nL 231.989495 211.066007 \nL 233.007434 208.871703 \nL 234.025372 213.573446 \nL 235.043311 211.6052 \nL 236.06125 213.658206 \nL 237.079188 210.6473 \nL 238.097127 214.935694 \nL 239.115065 211.990565 \nL 240.133004 213.244843 \nL 241.150943 212.48222 \nL 242.168881 212.97401 \nL 243.18682 214.776502 \nL 244.204758 215.199428 \nL 245.222697 214.00882 \nL 246.240635 213.723548 \nL 247.258574 214.134676 \nL 248.276513 216.82518 \nL 249.294451 215.056105 \nL 250.31239 213.938161 \nL 251.330328 215.585233 \nL 252.348267 214.40645 \nL 253.366206 214.604334 \nL 254.384144 216.142428 \nL 255.402083 213.682208 \nL 256.420021 213.896827 \nL 257.43796 214.430412 \nL 258.455898 215.895902 \nL 259.473837 216.801015 \nL 260.491776 218.124835 \nL 261.509714 216.683144 \nL 262.527653 213.309217 \nL 263.545591 218.383389 \nL 264.56353 214.093174 \nL 265.581469 217.355318 \nL 266.599407 217.560435 \nL 267.617346 216.819634 \nL 268.635284 216.557287 \nL 269.653223 217.400403 \nL 270.671161 216.189071 \nL 271.6891 215.243444 \nL 272.707039 218.296793 \nL 274.742916 217.79991 \nL 275.760854 218.685077 \nL 276.778793 217.95518 \nL 277.796732 218.770751 \nL 278.81467 215.894494 \nL 279.832609 220.350422 \nL 280.850547 217.702316 \nL 281.868486 218.426233 \nL 282.886424 218.463462 \nL 283.904363 217.83063 \nL 284.922302 219.617369 \nL 285.94024 220.598031 \nL 286.958179 218.372275 \nL 287.976117 216.581181 \nL 290.011995 222.955211 \nL 291.029933 217.863593 \nL 292.047872 221.176377 \nL 293.06581 218.685741 \nL 294.083749 219.475617 \nL 295.101687 221.067472 \nL 296.119626 221.233111 \nL 297.137565 222.161387 \nL 298.155503 217.882028 \nL 299.173442 220.730687 \nL 300.19138 220.363534 \nL 301.209319 221.278684 \nL 302.227258 217.564031 \nL 304.263135 222.192616 \nL 305.281073 222.339969 \nL 306.299012 221.048617 \nL 307.31695 221.58697 \nL 308.334889 221.002326 \nL 309.352828 225.106814 \nL 310.370766 222.803429 \nL 311.388705 224.558079 \nL 312.406643 222.715798 \nL 313.424582 222.415152 \nL 314.442521 222.868602 \nL 315.460459 222.649805 \nL 316.478398 221.423315 \nL 317.496336 225.22306 \nL 318.514275 222.129819 \nL 319.532213 219.884578 \nL 320.550152 222.604875 \nL 321.568091 223.199739 \nL 322.586029 224.404258 \nL 323.603968 225.98913 \nL 324.621906 224.14947 \nL 325.639845 223.538589 \nL 326.657784 223.682122 \nL 328.693661 223.129255 \nL 329.711599 224.510833 \nL 330.729538 223.021387 \nL 331.747476 224.824664 \nL 332.765415 223.140789 \nL 333.783354 226.165836 \nL 334.801292 226.547273 \nL 335.819231 222.237261 \nL 336.837169 224.240583 \nL 337.855108 224.850367 \nL 338.873047 225.867513 \nL 340.908924 225.591737 \nL 341.926862 221.907154 \nL 342.944801 226.292708 \nL 343.962739 225.841066 \nL 344.980678 223.548822 \nL 345.998617 225.427554 \nL 347.016555 226.32435 \nL 348.034494 229.874489 \nL 349.052432 226.070632 \nL 350.070371 226.640729 \nL 351.08831 225.049165 \nL 352.106248 225.112625 \nL 353.124187 227.586471 \nL 354.142125 227.441719 \nL 355.160064 226.8604 \nL 356.178002 228.407359 \nL 357.195941 225.410954 \nL 358.21388 227.718416 \nL 359.231818 227.843196 \nL 359.231818 227.843196 \n\" clip-path=\"url(#p20539b558d)\" style=\"fill: none; stroke: #1f77b4; stroke-width: 1.5; stroke-linecap: square\"/>\n   </g>\n   <g id=\"line2d_17\">\n    <path d=\"M 54.868182 61.557978 \nL 55.88612 63.69126 \nL 56.904059 66.648858 \nL 57.921998 70.297809 \nL 58.939936 75.568355 \nL 59.957875 82.814366 \nL 60.975813 92.350366 \nL 61.993752 104.684453 \nL 65.047568 146.872196 \nL 66.065506 157.824943 \nL 67.083445 163.675825 \nL 68.101383 168.461664 \nL 69.119322 170.850588 \nL 71.155199 173.610369 \nL 73.191076 176.098472 \nL 74.209015 176.437484 \nL 75.226953 176.658206 \nL 76.244892 177.374497 \nL 77.262831 178.303219 \nL 78.280769 178.89232 \nL 79.298708 179.225901 \nL 80.316646 179.294305 \nL 81.334585 179.949547 \nL 83.370462 180.554929 \nL 84.388401 180.431896 \nL 85.406339 181.243181 \nL 86.424278 181.530342 \nL 87.442216 181.685152 \nL 88.460155 181.67865 \nL 89.478094 181.909571 \nL 90.496032 181.696137 \nL 91.513971 181.230001 \nL 92.531909 181.673015 \nL 93.549848 181.667922 \nL 94.567787 181.948934 \nL 95.585725 181.735229 \nL 96.603664 181.271206 \nL 97.621602 181.284183 \nL 98.639541 181.508182 \nL 99.657479 181.550782 \nL 100.675418 181.847831 \nL 101.693357 181.523339 \nL 102.711295 181.614919 \nL 103.729234 181.505595 \nL 104.747172 181.592949 \nL 105.765111 181.796454 \nL 107.800988 181.161543 \nL 108.818927 181.409748 \nL 109.836865 181.148878 \nL 110.854804 181.358804 \nL 111.872742 181.317802 \nL 114.926558 180.669725 \nL 118.998313 180.555769 \nL 120.016251 180.473372 \nL 122.052128 180.770733 \nL 123.070067 180.656221 \nL 124.088005 180.974645 \nL 125.105944 180.835873 \nL 127.141821 180.08519 \nL 128.15976 180.478452 \nL 129.177698 180.659688 \nL 130.195637 180.367312 \nL 131.213576 180.20256 \nL 132.231514 180.60189 \nL 133.249453 180.130756 \nL 134.267391 180.550567 \nL 136.303268 180.256213 \nL 137.321207 180.176093 \nL 138.339146 180.358101 \nL 140.375023 180.117821 \nL 141.392961 180.193607 \nL 142.4109 179.874316 \nL 143.428839 180.211812 \nL 144.446777 180.164728 \nL 145.464716 179.824239 \nL 147.500593 179.992567 \nL 149.53647 179.124135 \nL 150.554409 179.503391 \nL 151.572347 179.462714 \nL 152.590286 179.10895 \nL 153.608224 179.274989 \nL 154.626163 179.264654 \nL 155.644102 179.423879 \nL 157.679979 179.073299 \nL 158.697917 179.287464 \nL 160.733794 179.364321 \nL 161.751733 179.367883 \nL 162.769672 179.204743 \nL 163.78761 179.484495 \nL 164.805549 179.210039 \nL 167.859365 179.161777 \nL 168.877303 179.395705 \nL 169.895242 179.236981 \nL 170.91318 178.776168 \nL 171.931119 179.207994 \nL 172.949057 179.440378 \nL 174.984935 179.624974 \nL 179.056689 179.34063 \nL 180.074628 179.57915 \nL 181.092566 179.411418 \nL 182.110505 179.711081 \nL 183.128443 179.375942 \nL 184.146382 179.486906 \nL 185.16432 179.302391 \nL 186.182259 179.59772 \nL 187.200198 179.647269 \nL 188.218136 179.428282 \nL 189.236075 179.80663 \nL 190.254013 179.583714 \nL 191.271952 179.896327 \nL 192.289891 180.001886 \nL 193.307829 180.628805 \nL 194.325768 180.737168 \nL 195.343706 180.492146 \nL 196.361645 180.513886 \nL 197.379583 180.186347 \nL 198.397522 180.668831 \nL 199.415461 180.29861 \nL 200.433399 180.519724 \nL 201.451338 180.151738 \nL 202.469276 180.270124 \nL 203.487215 179.592248 \nL 204.505154 180.00003 \nL 205.523092 179.900933 \nL 207.558969 180.402178 \nL 208.576908 179.865485 \nL 209.594846 180.034639 \nL 210.612785 179.965273 \nL 211.630724 180.404643 \nL 212.648662 180.2745 \nL 213.666601 180.278821 \nL 214.684539 180.557584 \nL 215.702478 180.602988 \nL 217.738355 180.203779 \nL 219.774232 180.826391 \nL 220.792171 180.331905 \nL 221.810109 181.06827 \nL 222.828048 180.358345 \nL 223.845987 180.673193 \nL 224.863925 181.124185 \nL 226.899802 180.983219 \nL 227.917741 180.549348 \nL 228.93568 180.735651 \nL 229.953618 181.146359 \nL 230.971557 181.800328 \nL 231.989495 181.49251 \nL 233.007434 181.308564 \nL 234.025372 181.940034 \nL 235.043311 182.066548 \nL 236.06125 181.947457 \nL 237.079188 181.124172 \nL 238.097127 181.267698 \nL 240.133004 181.891854 \nL 241.150943 181.994825 \nL 242.168881 181.93104 \nL 243.18682 182.112656 \nL 244.204758 182.088803 \nL 245.222697 182.635303 \nL 248.276513 182.296507 \nL 249.294451 181.809268 \nL 250.31239 182.465512 \nL 251.330328 182.26962 \nL 252.348267 182.258716 \nL 253.366206 182.108295 \nL 254.384144 182.184501 \nL 255.402083 182.0912 \nL 256.420021 182.518366 \nL 258.455898 182.891147 \nL 259.473837 183.374703 \nL 260.491776 183.388139 \nL 263.545591 182.050402 \nL 265.581469 182.440061 \nL 266.599407 182.323977 \nL 267.617346 182.914242 \nL 268.635284 182.710453 \nL 269.653223 182.702055 \nL 270.671161 182.897013 \nL 273.724977 182.797752 \nL 274.742916 182.258756 \nL 275.760854 182.604162 \nL 276.778793 183.575146 \nL 277.796732 183.417777 \nL 279.832609 184.469058 \nL 280.850547 183.530338 \nL 281.868486 183.646043 \nL 282.886424 183.885281 \nL 283.904363 184.290692 \nL 284.922302 184.430589 \nL 285.94024 184.249271 \nL 286.958179 184.284787 \nL 287.976117 183.889832 \nL 288.994056 184.113885 \nL 290.011995 183.729333 \nL 291.029933 184.620169 \nL 292.047872 184.569266 \nL 293.06581 184.79164 \nL 294.083749 184.141057 \nL 295.101687 184.138172 \nL 296.119626 184.71924 \nL 297.137565 184.994549 \nL 298.155503 184.380932 \nL 299.173442 184.779625 \nL 300.19138 184.73074 \nL 301.209319 184.232339 \nL 304.263135 184.790055 \nL 305.281073 184.150403 \nL 306.299012 184.667145 \nL 307.31695 184.41791 \nL 308.334889 184.035065 \nL 310.370766 183.542218 \nL 311.388705 184.017551 \nL 313.424582 183.965713 \nL 315.460459 184.663907 \nL 316.478398 185.103481 \nL 318.514275 184.870839 \nL 319.532213 184.736429 \nL 320.550152 184.332683 \nL 321.568091 184.98779 \nL 323.603968 184.929233 \nL 326.657784 184.352987 \nL 328.693661 184.81468 \nL 329.711599 184.659126 \nL 330.729538 184.817444 \nL 331.747476 184.808016 \nL 332.765415 184.386282 \nL 333.783354 184.46498 \nL 335.819231 185.009611 \nL 336.837169 184.953344 \nL 337.855108 185.175149 \nL 338.873047 184.790421 \nL 341.926862 184.96693 \nL 342.944801 184.668269 \nL 343.962739 184.88001 \nL 344.980678 184.469274 \nL 345.998617 184.881283 \nL 347.016555 184.588175 \nL 348.034494 184.61853 \nL 349.052432 184.475952 \nL 351.08831 184.87432 \nL 352.106248 184.337776 \nL 353.124187 184.308925 \nL 354.142125 184.585087 \nL 355.160064 184.379956 \nL 356.178002 184.607017 \nL 357.195941 184.451936 \nL 358.21388 183.808099 \nL 359.231818 184.005699 \nL 359.231818 184.005699 \n\" clip-path=\"url(#p20539b558d)\" style=\"fill: none; stroke: #ff7f0e; stroke-width: 1.5; stroke-linecap: square\"/>\n   </g>\n   <g id=\"patch_3\">\n    <path d=\"M 39.65 239.758125 \nL 39.65 22.318125 \n\" style=\"fill: none; stroke: #000000; stroke-width: 0.8; stroke-linejoin: miter; stroke-linecap: square\"/>\n   </g>\n   <g id=\"patch_4\">\n    <path d=\"M 374.45 239.758125 \nL 374.45 22.318125 \n\" style=\"fill: none; stroke: #000000; stroke-width: 0.8; stroke-linejoin: miter; stroke-linecap: square\"/>\n   </g>\n   <g id=\"patch_5\">\n    <path d=\"M 39.65 239.758125 \nL 374.45 239.758125 \n\" style=\"fill: none; stroke: #000000; stroke-width: 0.8; stroke-linejoin: miter; stroke-linecap: square\"/>\n   </g>\n   <g id=\"patch_6\">\n    <path d=\"M 39.65 22.318125 \nL 374.45 22.318125 \n\" style=\"fill: none; stroke: #000000; stroke-width: 0.8; stroke-linejoin: miter; stroke-linecap: square\"/>\n   </g>\n   <g id=\"text_16\">\n    <!-- loss_function - training -->\n    <g transform=\"translate(138.729688 16.318125)scale(0.12 -0.12)\">\n     <defs>\n      <path id=\"DejaVuSans-6c\" d=\"M 603 4863 \nL 1178 4863 \nL 1178 0 \nL 603 0 \nL 603 4863 \nz\n\" transform=\"scale(0.015625)\"/>\n      <path id=\"DejaVuSans-6f\" d=\"M 1959 3097 \nQ 1497 3097 1228 2736 \nQ 959 2375 959 1747 \nQ 959 1119 1226 758 \nQ 1494 397 1959 397 \nQ 2419 397 2687 759 \nQ 2956 1122 2956 1747 \nQ 2956 2369 2687 2733 \nQ 2419 3097 1959 3097 \nz\nM 1959 3584 \nQ 2709 3584 3137 3096 \nQ 3566 2609 3566 1747 \nQ 3566 888 3137 398 \nQ 2709 -91 1959 -91 \nQ 1206 -91 779 398 \nQ 353 888 353 1747 \nQ 353 2609 779 3096 \nQ 1206 3584 1959 3584 \nz\n\" transform=\"scale(0.015625)\"/>\n      <path id=\"DejaVuSans-73\" d=\"M 2834 3397 \nL 2834 2853 \nQ 2591 2978 2328 3040 \nQ 2066 3103 1784 3103 \nQ 1356 3103 1142 2972 \nQ 928 2841 928 2578 \nQ 928 2378 1081 2264 \nQ 1234 2150 1697 2047 \nL 1894 2003 \nQ 2506 1872 2764 1633 \nQ 3022 1394 3022 966 \nQ 3022 478 2636 193 \nQ 2250 -91 1575 -91 \nQ 1294 -91 989 -36 \nQ 684 19 347 128 \nL 347 722 \nQ 666 556 975 473 \nQ 1284 391 1588 391 \nQ 1994 391 2212 530 \nQ 2431 669 2431 922 \nQ 2431 1156 2273 1281 \nQ 2116 1406 1581 1522 \nL 1381 1569 \nQ 847 1681 609 1914 \nQ 372 2147 372 2553 \nQ 372 3047 722 3315 \nQ 1072 3584 1716 3584 \nQ 2034 3584 2315 3537 \nQ 2597 3491 2834 3397 \nz\n\" transform=\"scale(0.015625)\"/>\n      <path id=\"DejaVuSans-5f\" d=\"M 3263 -1063 \nL 3263 -1509 \nL -63 -1509 \nL -63 -1063 \nL 3263 -1063 \nz\n\" transform=\"scale(0.015625)\"/>\n      <path id=\"DejaVuSans-66\" d=\"M 2375 4863 \nL 2375 4384 \nL 1825 4384 \nQ 1516 4384 1395 4259 \nQ 1275 4134 1275 3809 \nL 1275 3500 \nL 2222 3500 \nL 2222 3053 \nL 1275 3053 \nL 1275 0 \nL 697 0 \nL 697 3053 \nL 147 3053 \nL 147 3500 \nL 697 3500 \nL 697 3744 \nQ 697 4328 969 4595 \nQ 1241 4863 1831 4863 \nL 2375 4863 \nz\n\" transform=\"scale(0.015625)\"/>\n      <path id=\"DejaVuSans-75\" d=\"M 544 1381 \nL 544 3500 \nL 1119 3500 \nL 1119 1403 \nQ 1119 906 1312 657 \nQ 1506 409 1894 409 \nQ 2359 409 2629 706 \nQ 2900 1003 2900 1516 \nL 2900 3500 \nL 3475 3500 \nL 3475 0 \nL 2900 0 \nL 2900 538 \nQ 2691 219 2414 64 \nQ 2138 -91 1772 -91 \nQ 1169 -91 856 284 \nQ 544 659 544 1381 \nz\nM 1991 3584 \nL 1991 3584 \nz\n\" transform=\"scale(0.015625)\"/>\n      <path id=\"DejaVuSans-6e\" d=\"M 3513 2113 \nL 3513 0 \nL 2938 0 \nL 2938 2094 \nQ 2938 2591 2744 2837 \nQ 2550 3084 2163 3084 \nQ 1697 3084 1428 2787 \nQ 1159 2491 1159 1978 \nL 1159 0 \nL 581 0 \nL 581 3500 \nL 1159 3500 \nL 1159 2956 \nQ 1366 3272 1645 3428 \nQ 1925 3584 2291 3584 \nQ 2894 3584 3203 3211 \nQ 3513 2838 3513 2113 \nz\n\" transform=\"scale(0.015625)\"/>\n      <path id=\"DejaVuSans-63\" d=\"M 3122 3366 \nL 3122 2828 \nQ 2878 2963 2633 3030 \nQ 2388 3097 2138 3097 \nQ 1578 3097 1268 2742 \nQ 959 2388 959 1747 \nQ 959 1106 1268 751 \nQ 1578 397 2138 397 \nQ 2388 397 2633 464 \nQ 2878 531 3122 666 \nL 3122 134 \nQ 2881 22 2623 -34 \nQ 2366 -91 2075 -91 \nQ 1284 -91 818 406 \nQ 353 903 353 1747 \nQ 353 2603 823 3093 \nQ 1294 3584 2113 3584 \nQ 2378 3584 2631 3529 \nQ 2884 3475 3122 3366 \nz\n\" transform=\"scale(0.015625)\"/>\n      <path id=\"DejaVuSans-74\" d=\"M 1172 4494 \nL 1172 3500 \nL 2356 3500 \nL 2356 3053 \nL 1172 3053 \nL 1172 1153 \nQ 1172 725 1289 603 \nQ 1406 481 1766 481 \nL 2356 481 \nL 2356 0 \nL 1766 0 \nQ 1100 0 847 248 \nQ 594 497 594 1153 \nL 594 3053 \nL 172 3053 \nL 172 3500 \nL 594 3500 \nL 594 4494 \nL 1172 4494 \nz\n\" transform=\"scale(0.015625)\"/>\n      <path id=\"DejaVuSans-69\" d=\"M 603 3500 \nL 1178 3500 \nL 1178 0 \nL 603 0 \nL 603 3500 \nz\nM 603 4863 \nL 1178 4863 \nL 1178 4134 \nL 603 4134 \nL 603 4863 \nz\n\" transform=\"scale(0.015625)\"/>\n      <path id=\"DejaVuSans-20\" transform=\"scale(0.015625)\"/>\n      <path id=\"DejaVuSans-2d\" d=\"M 313 2009 \nL 1997 2009 \nL 1997 1497 \nL 313 1497 \nL 313 2009 \nz\n\" transform=\"scale(0.015625)\"/>\n      <path id=\"DejaVuSans-72\" d=\"M 2631 2963 \nQ 2534 3019 2420 3045 \nQ 2306 3072 2169 3072 \nQ 1681 3072 1420 2755 \nQ 1159 2438 1159 1844 \nL 1159 0 \nL 581 0 \nL 581 3500 \nL 1159 3500 \nL 1159 2956 \nQ 1341 3275 1631 3429 \nQ 1922 3584 2338 3584 \nQ 2397 3584 2469 3576 \nQ 2541 3569 2628 3553 \nL 2631 2963 \nz\n\" transform=\"scale(0.015625)\"/>\n      <path id=\"DejaVuSans-61\" d=\"M 2194 1759 \nQ 1497 1759 1228 1600 \nQ 959 1441 959 1056 \nQ 959 750 1161 570 \nQ 1363 391 1709 391 \nQ 2188 391 2477 730 \nQ 2766 1069 2766 1631 \nL 2766 1759 \nL 2194 1759 \nz\nM 3341 1997 \nL 3341 0 \nL 2766 0 \nL 2766 531 \nQ 2569 213 2275 61 \nQ 1981 -91 1556 -91 \nQ 1019 -91 701 211 \nQ 384 513 384 1019 \nQ 384 1609 779 1909 \nQ 1175 2209 1959 2209 \nL 2766 2209 \nL 2766 2266 \nQ 2766 2663 2505 2880 \nQ 2244 3097 1772 3097 \nQ 1472 3097 1187 3025 \nQ 903 2953 641 2809 \nL 641 3341 \nQ 956 3463 1253 3523 \nQ 1550 3584 1831 3584 \nQ 2591 3584 2966 3190 \nQ 3341 2797 3341 1997 \nz\n\" transform=\"scale(0.015625)\"/>\n      <path id=\"DejaVuSans-67\" d=\"M 2906 1791 \nQ 2906 2416 2648 2759 \nQ 2391 3103 1925 3103 \nQ 1463 3103 1205 2759 \nQ 947 2416 947 1791 \nQ 947 1169 1205 825 \nQ 1463 481 1925 481 \nQ 2391 481 2648 825 \nQ 2906 1169 2906 1791 \nz\nM 3481 434 \nQ 3481 -459 3084 -895 \nQ 2688 -1331 1869 -1331 \nQ 1566 -1331 1297 -1286 \nQ 1028 -1241 775 -1147 \nL 775 -588 \nQ 1028 -725 1275 -790 \nQ 1522 -856 1778 -856 \nQ 2344 -856 2625 -561 \nQ 2906 -266 2906 331 \nL 2906 616 \nQ 2728 306 2450 153 \nQ 2172 0 1784 0 \nQ 1141 0 747 490 \nQ 353 981 353 1791 \nQ 353 2603 747 3093 \nQ 1141 3584 1784 3584 \nQ 2172 3584 2450 3431 \nQ 2728 3278 2906 2969 \nL 2906 3500 \nL 3481 3500 \nL 3481 434 \nz\n\" transform=\"scale(0.015625)\"/>\n     </defs>\n     <use xlink:href=\"#DejaVuSans-6c\"/>\n     <use xlink:href=\"#DejaVuSans-6f\" x=\"27.783203\"/>\n     <use xlink:href=\"#DejaVuSans-73\" x=\"88.964844\"/>\n     <use xlink:href=\"#DejaVuSans-73\" x=\"141.064453\"/>\n     <use xlink:href=\"#DejaVuSans-5f\" x=\"193.164062\"/>\n     <use xlink:href=\"#DejaVuSans-66\" x=\"243.164062\"/>\n     <use xlink:href=\"#DejaVuSans-75\" x=\"278.369141\"/>\n     <use xlink:href=\"#DejaVuSans-6e\" x=\"341.748047\"/>\n     <use xlink:href=\"#DejaVuSans-63\" x=\"405.126953\"/>\n     <use xlink:href=\"#DejaVuSans-74\" x=\"460.107422\"/>\n     <use xlink:href=\"#DejaVuSans-69\" x=\"499.316406\"/>\n     <use xlink:href=\"#DejaVuSans-6f\" x=\"527.099609\"/>\n     <use xlink:href=\"#DejaVuSans-6e\" x=\"588.28125\"/>\n     <use xlink:href=\"#DejaVuSans-20\" x=\"651.660156\"/>\n     <use xlink:href=\"#DejaVuSans-2d\" x=\"683.447266\"/>\n     <use xlink:href=\"#DejaVuSans-20\" x=\"719.53125\"/>\n     <use xlink:href=\"#DejaVuSans-74\" x=\"751.318359\"/>\n     <use xlink:href=\"#DejaVuSans-72\" x=\"790.527344\"/>\n     <use xlink:href=\"#DejaVuSans-61\" x=\"831.640625\"/>\n     <use xlink:href=\"#DejaVuSans-69\" x=\"892.919922\"/>\n     <use xlink:href=\"#DejaVuSans-6e\" x=\"920.703125\"/>\n     <use xlink:href=\"#DejaVuSans-69\" x=\"984.082031\"/>\n     <use xlink:href=\"#DejaVuSans-6e\" x=\"1011.865234\"/>\n     <use xlink:href=\"#DejaVuSans-67\" x=\"1075.244141\"/>\n    </g>\n   </g>\n   <g id=\"legend_1\">\n    <g id=\"patch_7\">\n     <path d=\"M 286.215625 59.674375 \nL 367.45 59.674375 \nQ 369.45 59.674375 369.45 57.674375 \nL 369.45 29.318125 \nQ 369.45 27.318125 367.45 27.318125 \nL 286.215625 27.318125 \nQ 284.215625 27.318125 284.215625 29.318125 \nL 284.215625 57.674375 \nQ 284.215625 59.674375 286.215625 59.674375 \nz\n\" style=\"fill: #ffffff; opacity: 0.8; stroke: #cccccc; stroke-linejoin: miter\"/>\n    </g>\n    <g id=\"line2d_18\">\n     <path d=\"M 288.215625 35.416562 \nL 298.215625 35.416562 \nL 308.215625 35.416562 \n\" style=\"fill: none; stroke: #1f77b4; stroke-width: 1.5; stroke-linecap: square\"/>\n    </g>\n    <g id=\"text_17\">\n     <!-- loss -->\n     <g transform=\"translate(316.215625 38.916562)scale(0.1 -0.1)\">\n      <use xlink:href=\"#DejaVuSans-6c\"/>\n      <use xlink:href=\"#DejaVuSans-6f\" x=\"27.783203\"/>\n      <use xlink:href=\"#DejaVuSans-73\" x=\"88.964844\"/>\n      <use xlink:href=\"#DejaVuSans-73\" x=\"141.064453\"/>\n     </g>\n    </g>\n    <g id=\"line2d_19\">\n     <path d=\"M 288.215625 50.094687 \nL 298.215625 50.094687 \nL 308.215625 50.094687 \n\" style=\"fill: none; stroke: #ff7f0e; stroke-width: 1.5; stroke-linecap: square\"/>\n    </g>\n    <g id=\"text_18\">\n     <!-- validation -->\n     <g transform=\"translate(316.215625 53.594687)scale(0.1 -0.1)\">\n      <defs>\n       <path id=\"DejaVuSans-76\" d=\"M 191 3500 \nL 800 3500 \nL 1894 563 \nL 2988 3500 \nL 3597 3500 \nL 2284 0 \nL 1503 0 \nL 191 3500 \nz\n\" transform=\"scale(0.015625)\"/>\n       <path id=\"DejaVuSans-64\" d=\"M 2906 2969 \nL 2906 4863 \nL 3481 4863 \nL 3481 0 \nL 2906 0 \nL 2906 525 \nQ 2725 213 2448 61 \nQ 2172 -91 1784 -91 \nQ 1150 -91 751 415 \nQ 353 922 353 1747 \nQ 353 2572 751 3078 \nQ 1150 3584 1784 3584 \nQ 2172 3584 2448 3432 \nQ 2725 3281 2906 2969 \nz\nM 947 1747 \nQ 947 1113 1208 752 \nQ 1469 391 1925 391 \nQ 2381 391 2643 752 \nQ 2906 1113 2906 1747 \nQ 2906 2381 2643 2742 \nQ 2381 3103 1925 3103 \nQ 1469 3103 1208 2742 \nQ 947 2381 947 1747 \nz\n\" transform=\"scale(0.015625)\"/>\n      </defs>\n      <use xlink:href=\"#DejaVuSans-76\"/>\n      <use xlink:href=\"#DejaVuSans-61\" x=\"59.179688\"/>\n      <use xlink:href=\"#DejaVuSans-6c\" x=\"120.458984\"/>\n      <use xlink:href=\"#DejaVuSans-69\" x=\"148.242188\"/>\n      <use xlink:href=\"#DejaVuSans-64\" x=\"176.025391\"/>\n      <use xlink:href=\"#DejaVuSans-61\" x=\"239.501953\"/>\n      <use xlink:href=\"#DejaVuSans-74\" x=\"300.78125\"/>\n      <use xlink:href=\"#DejaVuSans-69\" x=\"339.990234\"/>\n      <use xlink:href=\"#DejaVuSans-6f\" x=\"367.773438\"/>\n      <use xlink:href=\"#DejaVuSans-6e\" x=\"428.955078\"/>\n     </g>\n    </g>\n   </g>\n  </g>\n </g>\n <defs>\n  <clipPath id=\"p20539b558d\">\n   <rect x=\"39.65\" y=\"22.318125\" width=\"334.8\" height=\"217.44\"/>\n  </clipPath>\n </defs>\n</svg>\n",
      "text/plain": [
       "<Figure size 432x288 with 1 Axes>"
      ]
     },
     "metadata": {
      "needs_background": "light"
     },
     "output_type": "display_data"
    }
   ],
   "source": [
    "# Plot the train function\n",
    "import matplotlib.pyplot as plt\n",
    "\n",
    "%matplotlib inline\n",
    "\n",
    "plt.plot(model_1.history[\"loss\"])\n",
    "plt.plot(model_1.history[\"val_loss\"])\n",
    "plt.title(\"loss_function - training\")\n",
    "plt.legend([\"loss\", \"validation\"])\n",
    "plt.show()"
   ]
  },
  {
   "cell_type": "code",
   "execution_count": 18,
   "metadata": {},
   "outputs": [],
   "source": [
    "# Save model as JSON\n",
    "# YOUR CODE HERE!\n",
    "nn_json = nn.to_json()\n",
    "with open(Path(\"model.json\"), \"w\") as json_file:\n",
    "    json_file.write(nn_json)\n",
    "\n",
    "nn.save_weights(Path(\"model.h5\"))\n",
    "\n"
   ]
  },
  {
   "cell_type": "code",
   "execution_count": 19,
   "metadata": {},
   "outputs": [],
   "source": [
    "from tensorflow.keras.models import model_from_json\n",
    "\n",
    "with open(\"model.json\", \"r\") as json_file:\n",
    "    model_json = json_file.read()\n",
    "loaded_model = model_from_json(model_json)\n",
    "\n",
    "loaded_model.load_weights(\"model.h5\")"
   ]
  },
  {
   "cell_type": "code",
   "execution_count": 23,
   "metadata": {},
   "outputs": [],
   "source": [
    "import pickle\n",
    "pickle.dump(scaler, open('scaler.pkl','wb'))\n",
    "\n",
    "sc = pickle.load(open('scaler.pkl','rb'))"
   ]
  },
  {
   "cell_type": "code",
   "execution_count": 30,
   "metadata": {},
   "outputs": [
    {
     "name": "stdout",
     "output_type": "stream",
     "text": [
      "9/9 [==============================] - 0s 1ms/step\n"
     ]
    }
   ],
   "source": [
    "# Predict values using the testing data\n",
    "# YOUR CODE HERE!\n",
    "X_test_new_scaled = sc.transform(X_test) # proving a point!\n",
    "y_pred = loaded_model.predict(X_test_new_scaled)"
   ]
  },
  {
   "cell_type": "code",
   "execution_count": 31,
   "metadata": {},
   "outputs": [
    {
     "data": {
      "text/plain": [
       "array([[ 20.367527,  12.461972],\n",
       "       [ 29.462957, 106.06586 ],\n",
       "       [ 33.32164 ,  42.65229 ],\n",
       "       [ 19.77502 ,  16.219387],\n",
       "       [ 22.545069,   9.88701 ]], dtype=float32)"
      ]
     },
     "execution_count": 31,
     "metadata": {},
     "output_type": "execute_result"
    }
   ],
   "source": [
    "y_pred[:5]"
   ]
  },
  {
   "cell_type": "code",
   "execution_count": 32,
   "metadata": {},
   "outputs": [
    {
     "data": {
      "text/plain": [
       "1107.617054563518"
      ]
     },
     "execution_count": 32,
     "metadata": {},
     "output_type": "execute_result"
    }
   ],
   "source": [
    "from sklearn.metrics import mean_squared_error\n",
    "# YOUR CODE HERE!\n",
    "mean_squared_error(y_test, y_pred)"
   ]
  },
  {
   "cell_type": "code",
   "execution_count": null,
   "metadata": {},
   "outputs": [],
   "source": []
  }
 ],
 "metadata": {
  "file_extension": ".py",
  "interpreter": {
   "hash": "efce775488143baae4b13c57a0317062a69e5409e04d775491ed3a8d8130c636"
  },
  "kernelspec": {
   "display_name": "Python 3.7.7 ('dev3')",
   "language": "python",
   "name": "python3"
  },
  "language_info": {
   "codemirror_mode": {
    "name": "ipython",
    "version": 3
   },
   "file_extension": ".py",
   "mimetype": "text/x-python",
   "name": "python",
   "nbconvert_exporter": "python",
   "pygments_lexer": "ipython3",
   "version": "3.7.7"
  },
  "mimetype": "text/x-python",
  "name": "python",
  "npconvert_exporter": "python",
  "pygments_lexer": "ipython3",
  "version": 3
 },
 "nbformat": 4,
 "nbformat_minor": 4
}
