{
 "cells": [
  {
   "cell_type": "markdown",
   "metadata": {},
   "source": [
    "# Neural Network Smartphone Activity Detector\n",
    "\n",
    "In this activity, you will train a neural network to use smartphone data to predict the activity of the user. \n",
    "\n",
    "This dataset has already been separated into input features and target activities. Additional information on the dataset can be found here. \n",
    "\n",
    "http://archive.ics.uci.edu/ml/datasets/Smartphone-Based+Recognition+of+Human+Activities+and+Postural+Transitions"
   ]
  },
  {
   "cell_type": "markdown",
   "metadata": {},
   "source": [
    "### Data Pre-Processing\n",
    "\n",
    "Prepare the data for the neural network. This includes splitting the data into a training and testing dataset, Scaling the data, and encoding the categorical target values"
   ]
  },
  {
   "cell_type": "code",
   "execution_count": 13,
   "metadata": {},
   "outputs": [],
   "source": [
    "from pathlib import Path\n",
    "\n",
    "import numpy as np\n",
    "import pandas as pd\n",
    "\n",
    "from sklearn.model_selection import train_test_split\n",
    "from sklearn.preprocessing import StandardScaler, OneHotEncoder\n",
    "\n",
    "import tensorflow as tf\n",
    "from tensorflow.keras.models import Sequential\n",
    "from tensorflow.keras.layers import Dense"
   ]
  },
  {
   "cell_type": "code",
   "execution_count": 14,
   "metadata": {},
   "outputs": [
    {
     "data": {
      "text/html": [
       "<div>\n",
       "<style scoped>\n",
       "    .dataframe tbody tr th:only-of-type {\n",
       "        vertical-align: middle;\n",
       "    }\n",
       "\n",
       "    .dataframe tbody tr th {\n",
       "        vertical-align: top;\n",
       "    }\n",
       "\n",
       "    .dataframe thead th {\n",
       "        text-align: right;\n",
       "    }\n",
       "</style>\n",
       "<table border=\"1\" class=\"dataframe\">\n",
       "  <thead>\n",
       "    <tr style=\"text-align: right;\">\n",
       "      <th></th>\n",
       "      <th>tBodyAcc-Mean-1</th>\n",
       "      <th>tBodyAcc-Mean-2</th>\n",
       "      <th>tBodyAcc-Mean-3</th>\n",
       "      <th>tBodyAcc-STD-1</th>\n",
       "      <th>tBodyAcc-STD-2</th>\n",
       "      <th>tBodyAcc-STD-3</th>\n",
       "      <th>tBodyAcc-Mad-1</th>\n",
       "      <th>tBodyAcc-Mad-2</th>\n",
       "      <th>tBodyAcc-Mad-3</th>\n",
       "      <th>tBodyAcc-Max-1</th>\n",
       "      <th>...</th>\n",
       "      <th>fBodyGyroJerkMag-MeanFreq-1</th>\n",
       "      <th>fBodyGyroJerkMag-Skewness-1</th>\n",
       "      <th>fBodyGyroJerkMag-Kurtosis-1</th>\n",
       "      <th>tBodyAcc-AngleWRTGravity-1</th>\n",
       "      <th>tBodyAccJerk-AngleWRTGravity-1</th>\n",
       "      <th>tBodyGyro-AngleWRTGravity-1</th>\n",
       "      <th>tBodyGyroJerk-AngleWRTGravity-1</th>\n",
       "      <th>tXAxisAcc-AngleWRTGravity-1</th>\n",
       "      <th>tYAxisAcc-AngleWRTGravity-1</th>\n",
       "      <th>tZAxisAcc-AngleWRTGravity-1</th>\n",
       "    </tr>\n",
       "  </thead>\n",
       "  <tbody>\n",
       "    <tr>\n",
       "      <th>0</th>\n",
       "      <td>0.043580</td>\n",
       "      <td>-0.005970</td>\n",
       "      <td>-0.035054</td>\n",
       "      <td>-0.995381</td>\n",
       "      <td>-0.988366</td>\n",
       "      <td>-0.937382</td>\n",
       "      <td>-0.995007</td>\n",
       "      <td>-0.988816</td>\n",
       "      <td>-0.953325</td>\n",
       "      <td>-0.794796</td>\n",
       "      <td>...</td>\n",
       "      <td>-0.012236</td>\n",
       "      <td>-0.314848</td>\n",
       "      <td>-0.713308</td>\n",
       "      <td>-0.112754</td>\n",
       "      <td>0.030400</td>\n",
       "      <td>-0.464761</td>\n",
       "      <td>-0.018446</td>\n",
       "      <td>-0.841559</td>\n",
       "      <td>0.179913</td>\n",
       "      <td>-0.051718</td>\n",
       "    </tr>\n",
       "    <tr>\n",
       "      <th>1</th>\n",
       "      <td>0.039480</td>\n",
       "      <td>-0.002131</td>\n",
       "      <td>-0.029067</td>\n",
       "      <td>-0.998348</td>\n",
       "      <td>-0.982945</td>\n",
       "      <td>-0.971273</td>\n",
       "      <td>-0.998702</td>\n",
       "      <td>-0.983315</td>\n",
       "      <td>-0.974000</td>\n",
       "      <td>-0.802537</td>\n",
       "      <td>...</td>\n",
       "      <td>0.202804</td>\n",
       "      <td>-0.603199</td>\n",
       "      <td>-0.860677</td>\n",
       "      <td>0.053477</td>\n",
       "      <td>-0.007435</td>\n",
       "      <td>-0.732626</td>\n",
       "      <td>0.703511</td>\n",
       "      <td>-0.845092</td>\n",
       "      <td>0.180261</td>\n",
       "      <td>-0.047436</td>\n",
       "    </tr>\n",
       "    <tr>\n",
       "      <th>2</th>\n",
       "      <td>0.039978</td>\n",
       "      <td>-0.005153</td>\n",
       "      <td>-0.022651</td>\n",
       "      <td>-0.995482</td>\n",
       "      <td>-0.977314</td>\n",
       "      <td>-0.984760</td>\n",
       "      <td>-0.996415</td>\n",
       "      <td>-0.975835</td>\n",
       "      <td>-0.985973</td>\n",
       "      <td>-0.798477</td>\n",
       "      <td>...</td>\n",
       "      <td>0.440079</td>\n",
       "      <td>-0.404427</td>\n",
       "      <td>-0.761847</td>\n",
       "      <td>-0.118559</td>\n",
       "      <td>0.177899</td>\n",
       "      <td>0.100699</td>\n",
       "      <td>0.808529</td>\n",
       "      <td>-0.849230</td>\n",
       "      <td>0.180610</td>\n",
       "      <td>-0.042271</td>\n",
       "    </tr>\n",
       "    <tr>\n",
       "      <th>3</th>\n",
       "      <td>0.039785</td>\n",
       "      <td>-0.011809</td>\n",
       "      <td>-0.028916</td>\n",
       "      <td>-0.996194</td>\n",
       "      <td>-0.988569</td>\n",
       "      <td>-0.993256</td>\n",
       "      <td>-0.996994</td>\n",
       "      <td>-0.988526</td>\n",
       "      <td>-0.993135</td>\n",
       "      <td>-0.798477</td>\n",
       "      <td>...</td>\n",
       "      <td>0.430891</td>\n",
       "      <td>-0.138373</td>\n",
       "      <td>-0.491604</td>\n",
       "      <td>-0.036788</td>\n",
       "      <td>-0.012892</td>\n",
       "      <td>0.640011</td>\n",
       "      <td>-0.485366</td>\n",
       "      <td>-0.848947</td>\n",
       "      <td>0.181907</td>\n",
       "      <td>-0.040826</td>\n",
       "    </tr>\n",
       "    <tr>\n",
       "      <th>4</th>\n",
       "      <td>0.038758</td>\n",
       "      <td>-0.002289</td>\n",
       "      <td>-0.023863</td>\n",
       "      <td>-0.998241</td>\n",
       "      <td>-0.986774</td>\n",
       "      <td>-0.993115</td>\n",
       "      <td>-0.998216</td>\n",
       "      <td>-0.986479</td>\n",
       "      <td>-0.993825</td>\n",
       "      <td>-0.801982</td>\n",
       "      <td>...</td>\n",
       "      <td>0.137735</td>\n",
       "      <td>-0.366214</td>\n",
       "      <td>-0.702490</td>\n",
       "      <td>0.123320</td>\n",
       "      <td>0.122542</td>\n",
       "      <td>0.693578</td>\n",
       "      <td>-0.615971</td>\n",
       "      <td>-0.848164</td>\n",
       "      <td>0.185124</td>\n",
       "      <td>-0.037080</td>\n",
       "    </tr>\n",
       "  </tbody>\n",
       "</table>\n",
       "<p>5 rows × 561 columns</p>\n",
       "</div>"
      ],
      "text/plain": [
       "   tBodyAcc-Mean-1  tBodyAcc-Mean-2  tBodyAcc-Mean-3  tBodyAcc-STD-1  \\\n",
       "0         0.043580        -0.005970        -0.035054       -0.995381   \n",
       "1         0.039480        -0.002131        -0.029067       -0.998348   \n",
       "2         0.039978        -0.005153        -0.022651       -0.995482   \n",
       "3         0.039785        -0.011809        -0.028916       -0.996194   \n",
       "4         0.038758        -0.002289        -0.023863       -0.998241   \n",
       "\n",
       "   tBodyAcc-STD-2  tBodyAcc-STD-3  tBodyAcc-Mad-1  tBodyAcc-Mad-2  \\\n",
       "0       -0.988366       -0.937382       -0.995007       -0.988816   \n",
       "1       -0.982945       -0.971273       -0.998702       -0.983315   \n",
       "2       -0.977314       -0.984760       -0.996415       -0.975835   \n",
       "3       -0.988569       -0.993256       -0.996994       -0.988526   \n",
       "4       -0.986774       -0.993115       -0.998216       -0.986479   \n",
       "\n",
       "   tBodyAcc-Mad-3  tBodyAcc-Max-1  ...  fBodyGyroJerkMag-MeanFreq-1  \\\n",
       "0       -0.953325       -0.794796  ...                    -0.012236   \n",
       "1       -0.974000       -0.802537  ...                     0.202804   \n",
       "2       -0.985973       -0.798477  ...                     0.440079   \n",
       "3       -0.993135       -0.798477  ...                     0.430891   \n",
       "4       -0.993825       -0.801982  ...                     0.137735   \n",
       "\n",
       "   fBodyGyroJerkMag-Skewness-1  fBodyGyroJerkMag-Kurtosis-1  \\\n",
       "0                    -0.314848                    -0.713308   \n",
       "1                    -0.603199                    -0.860677   \n",
       "2                    -0.404427                    -0.761847   \n",
       "3                    -0.138373                    -0.491604   \n",
       "4                    -0.366214                    -0.702490   \n",
       "\n",
       "   tBodyAcc-AngleWRTGravity-1  tBodyAccJerk-AngleWRTGravity-1  \\\n",
       "0                   -0.112754                        0.030400   \n",
       "1                    0.053477                       -0.007435   \n",
       "2                   -0.118559                        0.177899   \n",
       "3                   -0.036788                       -0.012892   \n",
       "4                    0.123320                        0.122542   \n",
       "\n",
       "   tBodyGyro-AngleWRTGravity-1  tBodyGyroJerk-AngleWRTGravity-1  \\\n",
       "0                    -0.464761                        -0.018446   \n",
       "1                    -0.732626                         0.703511   \n",
       "2                     0.100699                         0.808529   \n",
       "3                     0.640011                        -0.485366   \n",
       "4                     0.693578                        -0.615971   \n",
       "\n",
       "   tXAxisAcc-AngleWRTGravity-1  tYAxisAcc-AngleWRTGravity-1  \\\n",
       "0                    -0.841559                     0.179913   \n",
       "1                    -0.845092                     0.180261   \n",
       "2                    -0.849230                     0.180610   \n",
       "3                    -0.848947                     0.181907   \n",
       "4                    -0.848164                     0.185124   \n",
       "\n",
       "   tZAxisAcc-AngleWRTGravity-1  \n",
       "0                    -0.051718  \n",
       "1                    -0.047436  \n",
       "2                    -0.042271  \n",
       "3                    -0.040826  \n",
       "4                    -0.037080  \n",
       "\n",
       "[5 rows x 561 columns]"
      ]
     },
     "execution_count": 14,
     "metadata": {},
     "output_type": "execute_result"
    }
   ],
   "source": [
    "# Read the input features into `X`\n",
    "X = pd.read_csv(Path(\"../Resources/features.csv\"))\n",
    "X.head()"
   ]
  },
  {
   "cell_type": "code",
   "execution_count": 15,
   "metadata": {},
   "outputs": [
    {
     "data": {
      "text/html": [
       "<div>\n",
       "<style scoped>\n",
       "    .dataframe tbody tr th:only-of-type {\n",
       "        vertical-align: middle;\n",
       "    }\n",
       "\n",
       "    .dataframe tbody tr th {\n",
       "        vertical-align: top;\n",
       "    }\n",
       "\n",
       "    .dataframe thead th {\n",
       "        text-align: right;\n",
       "    }\n",
       "</style>\n",
       "<table border=\"1\" class=\"dataframe\">\n",
       "  <thead>\n",
       "    <tr style=\"text-align: right;\">\n",
       "      <th></th>\n",
       "      <th>activity</th>\n",
       "    </tr>\n",
       "  </thead>\n",
       "  <tbody>\n",
       "    <tr>\n",
       "      <th>0</th>\n",
       "      <td>standing</td>\n",
       "    </tr>\n",
       "    <tr>\n",
       "      <th>1</th>\n",
       "      <td>standing</td>\n",
       "    </tr>\n",
       "    <tr>\n",
       "      <th>2</th>\n",
       "      <td>standing</td>\n",
       "    </tr>\n",
       "    <tr>\n",
       "      <th>3</th>\n",
       "      <td>standing</td>\n",
       "    </tr>\n",
       "    <tr>\n",
       "      <th>4</th>\n",
       "      <td>standing</td>\n",
       "    </tr>\n",
       "  </tbody>\n",
       "</table>\n",
       "</div>"
      ],
      "text/plain": [
       "   activity\n",
       "0  standing\n",
       "1  standing\n",
       "2  standing\n",
       "3  standing\n",
       "4  standing"
      ]
     },
     "execution_count": 15,
     "metadata": {},
     "output_type": "execute_result"
    }
   ],
   "source": [
    "# Read the target values into `y`\n",
    "y = pd.read_csv(Path(\"../Resources/target.csv\"))\n",
    "y.head()"
   ]
  },
  {
   "cell_type": "code",
   "execution_count": 16,
   "metadata": {},
   "outputs": [
    {
     "data": {
      "text/plain": [
       "standing              1423\n",
       "laying                1413\n",
       "sitting               1293\n",
       "walking               1226\n",
       "walking_upstairs      1073\n",
       "walking_downstairs     987\n",
       "stand_to_lie            90\n",
       "sit_to_lie              75\n",
       "lie_to_sit              60\n",
       "lie_to_stand            57\n",
       "stand_to_sit            47\n",
       "sit_to_stand            23\n",
       "Name: activity, dtype: int64"
      ]
     },
     "execution_count": 16,
     "metadata": {},
     "output_type": "execute_result"
    }
   ],
   "source": [
    "y.activity.value_counts()"
   ]
  },
  {
   "cell_type": "code",
   "execution_count": 17,
   "metadata": {},
   "outputs": [],
   "source": [
    "# Split the dataset into training and testing data\n",
    "# YOUR CODE HERE!\n",
    "X_train, X_test, y_train, y_test = train_test_split(\n",
    "    X, y, random_state=78\n",
    ")"
   ]
  },
  {
   "cell_type": "code",
   "execution_count": 30,
   "metadata": {},
   "outputs": [],
   "source": [
    "# Scale the training and testing input features using StandardScaler\n",
    "# YOUR CODE HERE!\n",
    "X_scaler = StandardScaler()\n",
    "X_scaler.fit(X_train)\n",
    "X_train_scaled = X_scaler.transform(X_train)\n",
    "X_test_scaled = X_scaler.transform(X_test)\n"
   ]
  },
  {
   "cell_type": "code",
   "execution_count": 32,
   "metadata": {},
   "outputs": [
    {
     "data": {
      "text/plain": [
       "[array(['laying', 'lie_to_sit', 'lie_to_stand', 'sit_to_lie',\n",
       "        'sit_to_stand', 'sitting', 'stand_to_lie', 'stand_to_sit',\n",
       "        'standing', 'walking', 'walking_downstairs', 'walking_upstairs'],\n",
       "       dtype=object)]"
      ]
     },
     "execution_count": 32,
     "metadata": {},
     "output_type": "execute_result"
    }
   ],
   "source": [
    "# Apply One-hot encoding to the target labels\n",
    "# YOUR CODE HERE!\n",
    "enc = OneHotEncoder()\n",
    "class_values = y[\"activity\"].values.reshape(-1, 1)\n",
    "enc.fit(class_values)\n",
    "enc.categories_"
   ]
  },
  {
   "cell_type": "markdown",
   "metadata": {},
   "source": [
    "# Build a Deep Neural Network"
   ]
  },
  {
   "cell_type": "code",
   "execution_count": 34,
   "metadata": {},
   "outputs": [],
   "source": [
    "# Create a sequential model\n",
    "# YOUR CODE HERE!\n",
    "neuron = Sequential()"
   ]
  },
  {
   "cell_type": "code",
   "execution_count": 35,
   "metadata": {},
   "outputs": [],
   "source": [
    "# Add the first layer where the input dimensions are the 561 columns of the training data\n",
    "# YOUR CODE HERE!\n",
    "number_inputs = 561\n",
    "number_hidden_nodes = 100\n",
    "\n",
    "neuron.add(Dense(units=number_hidden_nodes, activation=\"relu\", input_dim=number_inputs))\n"
   ]
  },
  {
   "cell_type": "code",
   "execution_count": 36,
   "metadata": {},
   "outputs": [],
   "source": [
    "# The output layer has 12 columns that are one-hot encoded\n",
    "y_train.activity.value_counts()\n",
    "number_outputs = 12"
   ]
  },
  {
   "cell_type": "code",
   "execution_count": 37,
   "metadata": {},
   "outputs": [],
   "source": [
    "# Add output layer using 12 output nodes. \n",
    "# HINT: Use `softmax` as the activation \n",
    "# YOUR CODE HERE!\n",
    "number_classes = 12\n",
    "\n",
    "neuron.add(Dense(units=number_classes, activation=\"softmax\"))"
   ]
  },
  {
   "cell_type": "code",
   "execution_count": 24,
   "metadata": {},
   "outputs": [],
   "source": [
    "# Compile the model using categorical_crossentropy for the loss function, the adam optimizer,\n",
    "# and add accuracy to the training metrics\n",
    "# YOUR CODE HERE!"
   ]
  },
  {
   "cell_type": "code",
   "execution_count": 25,
   "metadata": {},
   "outputs": [],
   "source": [
    "# Print the model summary\n",
    "# YOUR CODE HERE!"
   ]
  },
  {
   "cell_type": "code",
   "execution_count": 26,
   "metadata": {},
   "outputs": [],
   "source": [
    "# Use the training data to fit (train) the model\n",
    "# @NOTE: Experiment with the number of training epochs to find the minimum iterations required to achieve a good accuracy\n",
    "# YOUR CODE HERE!"
   ]
  },
  {
   "cell_type": "markdown",
   "metadata": {},
   "source": [
    "# Evaluate the Model"
   ]
  },
  {
   "cell_type": "code",
   "execution_count": 27,
   "metadata": {},
   "outputs": [],
   "source": [
    "# Evaluate the model using the testing data\n",
    "# YOUR CODE HERE!"
   ]
  },
  {
   "cell_type": "code",
   "execution_count": 28,
   "metadata": {},
   "outputs": [
    {
     "ename": "NameError",
     "evalue": "name 'model' is not defined",
     "output_type": "error",
     "traceback": [
      "\u001b[1;31m---------------------------------------------------------------------------\u001b[0m",
      "\u001b[1;31mNameError\u001b[0m                                 Traceback (most recent call last)",
      "\u001b[1;32m~\\AppData\\Local\\Temp\\ipykernel_10776\\3700012481.py\u001b[0m in \u001b[0;36m<module>\u001b[1;34m\u001b[0m\n\u001b[0;32m      1\u001b[0m \u001b[1;31m# Make predictions\u001b[0m\u001b[1;33m\u001b[0m\u001b[1;33m\u001b[0m\u001b[1;33m\u001b[0m\u001b[0m\n\u001b[1;32m----> 2\u001b[1;33m \u001b[0mpredicted\u001b[0m \u001b[1;33m=\u001b[0m \u001b[0mmodel\u001b[0m\u001b[1;33m.\u001b[0m\u001b[0mpredict\u001b[0m\u001b[1;33m(\u001b[0m\u001b[0mX_test_scaled\u001b[0m\u001b[1;33m)\u001b[0m\u001b[1;33m\u001b[0m\u001b[1;33m\u001b[0m\u001b[0m\n\u001b[0m\u001b[0;32m      3\u001b[0m \u001b[0mpredicted\u001b[0m \u001b[1;33m=\u001b[0m \u001b[0menc\u001b[0m\u001b[1;33m.\u001b[0m\u001b[0minverse_transform\u001b[0m\u001b[1;33m(\u001b[0m\u001b[0mpredicted\u001b[0m\u001b[1;33m)\u001b[0m\u001b[1;33m.\u001b[0m\u001b[0mflatten\u001b[0m\u001b[1;33m(\u001b[0m\u001b[1;33m)\u001b[0m\u001b[1;33m.\u001b[0m\u001b[0mtolist\u001b[0m\u001b[1;33m(\u001b[0m\u001b[1;33m)\u001b[0m\u001b[1;33m\u001b[0m\u001b[1;33m\u001b[0m\u001b[0m\n\u001b[0;32m      4\u001b[0m results = pd.DataFrame({\n\u001b[0;32m      5\u001b[0m     \u001b[1;34m\"Actual\"\u001b[0m\u001b[1;33m:\u001b[0m \u001b[0my_test\u001b[0m\u001b[1;33m.\u001b[0m\u001b[0mactivity\u001b[0m\u001b[1;33m.\u001b[0m\u001b[0mvalues\u001b[0m\u001b[1;33m,\u001b[0m\u001b[1;33m\u001b[0m\u001b[1;33m\u001b[0m\u001b[0m\n",
      "\u001b[1;31mNameError\u001b[0m: name 'model' is not defined"
     ]
    }
   ],
   "source": [
    "# Make predictions\n",
    "predicted = model.predict(X_test_scaled)\n",
    "predicted = enc.inverse_transform(predicted).flatten().tolist()\n",
    "results = pd.DataFrame({\n",
    "    \"Actual\": y_test.activity.values,\n",
    "    \"Predicted\": predicted\n",
    "})\n",
    "results.head(10)"
   ]
  },
  {
   "cell_type": "code",
   "execution_count": null,
   "metadata": {},
   "outputs": [],
   "source": [
    "# Print the Classification Report\n",
    "from sklearn.metrics import classification_report\n",
    "print(classification_report(results.Actual, results.Predicted))"
   ]
  },
  {
   "cell_type": "code",
   "execution_count": null,
   "metadata": {},
   "outputs": [],
   "source": []
  }
 ],
 "metadata": {
  "anaconda-cloud": {},
  "interpreter": {
   "hash": "2803b3c07b64a7b986e21828569605b043ff1dba15e47aab897e816beaee656d"
  },
  "kernelspec": {
   "display_name": "Python 3.7.11 ('dev')",
   "language": "python",
   "name": "python3"
  },
  "language_info": {
   "codemirror_mode": {
    "name": "ipython",
    "version": 3
   },
   "file_extension": ".py",
   "mimetype": "text/x-python",
   "name": "python",
   "nbconvert_exporter": "python",
   "pygments_lexer": "ipython3",
   "version": "3.7.11"
  },
  "varInspector": {
   "cols": {
    "lenName": 16,
    "lenType": 16,
    "lenVar": 40
   },
   "kernels_config": {
    "python": {
     "delete_cmd_postfix": "",
     "delete_cmd_prefix": "del ",
     "library": "var_list.py",
     "varRefreshCmd": "print(var_dic_list())"
    },
    "r": {
     "delete_cmd_postfix": ") ",
     "delete_cmd_prefix": "rm(",
     "library": "var_list.r",
     "varRefreshCmd": "cat(var_dic_list()) "
    }
   },
   "types_to_exclude": [
    "module",
    "function",
    "builtin_function_or_method",
    "instance",
    "_Feature"
   ],
   "window_display": false
  }
 },
 "nbformat": 4,
 "nbformat_minor": 4
}
