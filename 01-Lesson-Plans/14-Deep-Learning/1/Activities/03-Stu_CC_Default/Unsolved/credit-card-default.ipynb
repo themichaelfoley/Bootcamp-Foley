{
 "cells": [
  {
   "cell_type": "markdown",
   "metadata": {},
   "source": [
    "# Students Do: Preventing credit card defaults with neural networks\n",
    "\n",
    "In this activity, you will train a neural network model to predict whether a credit card holder will default in the next month.\n",
    "\n",
    "The dataset provided contains `30,000` anonymous records of credit default status with `23` features columns and one binary target column entitled _DEFAULT_, where `1` represents a defaulted credit card.\n",
    "\n",
    "The `23` features include demographic info (age, gender, marital status, etc.), credit limit, past payment details, and other relevant information.\n",
    "\n",
    "You are tasked to create a neural network model to predict if a credit card holder will default."
   ]
  },
  {
   "cell_type": "code",
   "execution_count": 60,
   "metadata": {},
   "outputs": [],
   "source": [
    "# Initial imports\n",
    "import pandas as pd\n",
    "from path import Path\n",
    "import tensorflow as tf\n",
    "from tensorflow.keras.layers import Dense\n",
    "from tensorflow.keras.models import Sequential\n",
    "from sklearn.preprocessing import StandardScaler\n",
    "from sklearn.model_selection import train_test_split\n",
    "\n",
    "%matplotlib inline"
   ]
  },
  {
   "cell_type": "code",
   "execution_count": 61,
   "metadata": {},
   "outputs": [],
   "source": [
    "# Set a random seed for TensorFlow to allow reproducible testing results\n",
    "tf.random.set_seed(126)"
   ]
  },
  {
   "cell_type": "markdown",
   "metadata": {},
   "source": [
    "## Instructions\n",
    "\n",
    "1. Load the data in a Pandas DataFrame."
   ]
  },
  {
   "cell_type": "code",
   "execution_count": 62,
   "metadata": {},
   "outputs": [
    {
     "data": {
      "text/html": [
       "<div>\n",
       "<style scoped>\n",
       "    .dataframe tbody tr th:only-of-type {\n",
       "        vertical-align: middle;\n",
       "    }\n",
       "\n",
       "    .dataframe tbody tr th {\n",
       "        vertical-align: top;\n",
       "    }\n",
       "\n",
       "    .dataframe thead th {\n",
       "        text-align: right;\n",
       "    }\n",
       "</style>\n",
       "<table border=\"1\" class=\"dataframe\">\n",
       "  <thead>\n",
       "    <tr style=\"text-align: right;\">\n",
       "      <th></th>\n",
       "      <th>LIMIT_BAL</th>\n",
       "      <th>SEX</th>\n",
       "      <th>EDUCATION</th>\n",
       "      <th>MARRIAGE</th>\n",
       "      <th>AGE</th>\n",
       "      <th>PAY_0</th>\n",
       "      <th>PAY_2</th>\n",
       "      <th>PAY_3</th>\n",
       "      <th>PAY_4</th>\n",
       "      <th>PAY_5</th>\n",
       "      <th>...</th>\n",
       "      <th>\"BILL_AMT4\"</th>\n",
       "      <th>BILL_AMT5</th>\n",
       "      <th>BILL_AMT6</th>\n",
       "      <th>PAY_AMT1</th>\n",
       "      <th>PAY_AMT2</th>\n",
       "      <th>PAY_AMT3</th>\n",
       "      <th>PAY_AMT4</th>\n",
       "      <th>PAY_AMT5</th>\n",
       "      <th>PAY_AMT6</th>\n",
       "      <th>DEFAULT</th>\n",
       "    </tr>\n",
       "  </thead>\n",
       "  <tbody>\n",
       "    <tr>\n",
       "      <th>0</th>\n",
       "      <td>20000</td>\n",
       "      <td>2</td>\n",
       "      <td>2</td>\n",
       "      <td>1</td>\n",
       "      <td>24</td>\n",
       "      <td>2</td>\n",
       "      <td>2</td>\n",
       "      <td>-1</td>\n",
       "      <td>-1</td>\n",
       "      <td>-2</td>\n",
       "      <td>...</td>\n",
       "      <td>0</td>\n",
       "      <td>0</td>\n",
       "      <td>0</td>\n",
       "      <td>0</td>\n",
       "      <td>689</td>\n",
       "      <td>0</td>\n",
       "      <td>0</td>\n",
       "      <td>0</td>\n",
       "      <td>0</td>\n",
       "      <td>1</td>\n",
       "    </tr>\n",
       "    <tr>\n",
       "      <th>1</th>\n",
       "      <td>120000</td>\n",
       "      <td>2</td>\n",
       "      <td>2</td>\n",
       "      <td>2</td>\n",
       "      <td>26</td>\n",
       "      <td>-1</td>\n",
       "      <td>2</td>\n",
       "      <td>0</td>\n",
       "      <td>0</td>\n",
       "      <td>0</td>\n",
       "      <td>...</td>\n",
       "      <td>3272</td>\n",
       "      <td>3455</td>\n",
       "      <td>3261</td>\n",
       "      <td>0</td>\n",
       "      <td>1000</td>\n",
       "      <td>1000</td>\n",
       "      <td>1000</td>\n",
       "      <td>0</td>\n",
       "      <td>2000</td>\n",
       "      <td>1</td>\n",
       "    </tr>\n",
       "    <tr>\n",
       "      <th>2</th>\n",
       "      <td>90000</td>\n",
       "      <td>2</td>\n",
       "      <td>2</td>\n",
       "      <td>2</td>\n",
       "      <td>34</td>\n",
       "      <td>0</td>\n",
       "      <td>0</td>\n",
       "      <td>0</td>\n",
       "      <td>0</td>\n",
       "      <td>0</td>\n",
       "      <td>...</td>\n",
       "      <td>14331</td>\n",
       "      <td>14948</td>\n",
       "      <td>15549</td>\n",
       "      <td>1518</td>\n",
       "      <td>1500</td>\n",
       "      <td>1000</td>\n",
       "      <td>1000</td>\n",
       "      <td>1000</td>\n",
       "      <td>5000</td>\n",
       "      <td>0</td>\n",
       "    </tr>\n",
       "    <tr>\n",
       "      <th>3</th>\n",
       "      <td>50000</td>\n",
       "      <td>2</td>\n",
       "      <td>2</td>\n",
       "      <td>1</td>\n",
       "      <td>37</td>\n",
       "      <td>0</td>\n",
       "      <td>0</td>\n",
       "      <td>0</td>\n",
       "      <td>0</td>\n",
       "      <td>0</td>\n",
       "      <td>...</td>\n",
       "      <td>28314</td>\n",
       "      <td>28959</td>\n",
       "      <td>29547</td>\n",
       "      <td>2000</td>\n",
       "      <td>2019</td>\n",
       "      <td>1200</td>\n",
       "      <td>1100</td>\n",
       "      <td>1069</td>\n",
       "      <td>1000</td>\n",
       "      <td>0</td>\n",
       "    </tr>\n",
       "    <tr>\n",
       "      <th>4</th>\n",
       "      <td>50000</td>\n",
       "      <td>1</td>\n",
       "      <td>2</td>\n",
       "      <td>1</td>\n",
       "      <td>57</td>\n",
       "      <td>-1</td>\n",
       "      <td>0</td>\n",
       "      <td>-1</td>\n",
       "      <td>0</td>\n",
       "      <td>0</td>\n",
       "      <td>...</td>\n",
       "      <td>20940</td>\n",
       "      <td>19146</td>\n",
       "      <td>19131</td>\n",
       "      <td>2000</td>\n",
       "      <td>36681</td>\n",
       "      <td>10000</td>\n",
       "      <td>9000</td>\n",
       "      <td>689</td>\n",
       "      <td>679</td>\n",
       "      <td>0</td>\n",
       "    </tr>\n",
       "  </tbody>\n",
       "</table>\n",
       "<p>5 rows × 24 columns</p>\n",
       "</div>"
      ],
      "text/plain": [
       "   LIMIT_BAL  SEX  EDUCATION  MARRIAGE  AGE  PAY_0  PAY_2  PAY_3  PAY_4  \\\n",
       "0      20000    2          2         1   24      2      2     -1     -1   \n",
       "1     120000    2          2         2   26     -1      2      0      0   \n",
       "2      90000    2          2         2   34      0      0      0      0   \n",
       "3      50000    2          2         1   37      0      0      0      0   \n",
       "4      50000    1          2         1   57     -1      0     -1      0   \n",
       "\n",
       "   PAY_5  ...           \"BILL_AMT4\"  BILL_AMT5  BILL_AMT6  PAY_AMT1  PAY_AMT2  \\\n",
       "0     -2  ...                     0          0          0         0       689   \n",
       "1      0  ...                  3272       3455       3261         0      1000   \n",
       "2      0  ...                 14331      14948      15549      1518      1500   \n",
       "3      0  ...                 28314      28959      29547      2000      2019   \n",
       "4      0  ...                 20940      19146      19131      2000     36681   \n",
       "\n",
       "   PAY_AMT3  PAY_AMT4  PAY_AMT5  PAY_AMT6  DEFAULT  \n",
       "0         0         0         0         0        1  \n",
       "1      1000      1000         0      2000        1  \n",
       "2      1000      1000      1000      5000        0  \n",
       "3      1200      1100      1069      1000        0  \n",
       "4     10000      9000       689       679        0  \n",
       "\n",
       "[5 rows x 24 columns]"
      ]
     },
     "execution_count": 62,
     "metadata": {},
     "output_type": "execute_result"
    }
   ],
   "source": [
    "# Read in data\n",
    "file_path = Path(\"../Resources/cc_default.csv\")\n",
    "cc_df = pd.read_csv(file_path)\n",
    "cc_df.head()\n"
   ]
  },
  {
   "cell_type": "markdown",
   "metadata": {},
   "source": [
    "2. Define the features set `X` by including all the columns of the DataFrame except the `DEFAULT` column."
   ]
  },
  {
   "cell_type": "code",
   "execution_count": 63,
   "metadata": {},
   "outputs": [],
   "source": [
    "# Define features data\n",
    "X = cc_df.drop(columns= [\"DEFAULT\"])\n",
    "\n",
    "\n"
   ]
  },
  {
   "cell_type": "markdown",
   "metadata": {},
   "source": [
    "3. Create the target vector `y` by assigning the values of the `DEFAULT` column of the DataFrame."
   ]
  },
  {
   "cell_type": "code",
   "execution_count": 64,
   "metadata": {},
   "outputs": [],
   "source": [
    "# Define target data\n",
    "y = cc_df[\"DEFAULT\"]\n"
   ]
  },
  {
   "cell_type": "markdown",
   "metadata": {},
   "source": [
    "4. Create the training an testing sets using the `train_test_split` function from `sklearn`."
   ]
  },
  {
   "cell_type": "code",
   "execution_count": 65,
   "metadata": {},
   "outputs": [],
   "source": [
    "# Create training and testing datasets\n",
    "X_train, X_test, y_train, y_test = train_test_split(\n",
    "    X, y, random_state=78\n",
    ")\n"
   ]
  },
  {
   "cell_type": "markdown",
   "metadata": {},
   "source": [
    "5. Scale the features data using the `StandardScaler` from `sklearn`."
   ]
  },
  {
   "cell_type": "code",
   "execution_count": 66,
   "metadata": {},
   "outputs": [],
   "source": [
    "# Create the scaler instance\n",
    "X_scaler = StandardScaler()\n"
   ]
  },
  {
   "cell_type": "code",
   "execution_count": 67,
   "metadata": {},
   "outputs": [
    {
     "data": {
      "text/plain": [
       "StandardScaler()"
      ]
     },
     "execution_count": 67,
     "metadata": {},
     "output_type": "execute_result"
    }
   ],
   "source": [
    "# Fit the scaler\n",
    "X_scaler.fit(X_train)\n"
   ]
  },
  {
   "cell_type": "code",
   "execution_count": 68,
   "metadata": {},
   "outputs": [],
   "source": [
    "# Scale the features data\n",
    "\n",
    "X_train_scaled = X_scaler.transform(X_train)\n",
    "X_test_scaled = X_scaler.transform(X_test)"
   ]
  },
  {
   "cell_type": "markdown",
   "metadata": {},
   "source": [
    "6. Create a neural network model with `23` inputs, one hidden layer with `69` units, and an output layer with a single output. Use the `relu` activation function for the first layer and `sigmoid` for the second layer."
   ]
  },
  {
   "cell_type": "code",
   "execution_count": 69,
   "metadata": {},
   "outputs": [],
   "source": [
    "# Create a sequential model\n",
    "neuron = Sequential()"
   ]
  },
  {
   "cell_type": "code",
   "execution_count": 70,
   "metadata": {},
   "outputs": [],
   "source": [
    "# Define the model\n",
    "number_inputs = 23\n",
    "number_hidden_nodes = 69\n",
    "\n",
    "neuron.add(Dense(units=number_hidden_nodes, activation=\"relu\", input_dim=number_inputs))"
   ]
  },
  {
   "cell_type": "code",
   "execution_count": 71,
   "metadata": {},
   "outputs": [],
   "source": [
    "# Output layer\n",
    "number_classes = 1\n",
    "\n",
    "neuron.add(Dense(units=number_classes, activation=\"sigmoid\"))"
   ]
  },
  {
   "cell_type": "markdown",
   "metadata": {},
   "source": [
    "7. Compile the neural network model using the `binary_crossentropy` loss function, the `adam` optimizer, and `accuracy` as additional metric."
   ]
  },
  {
   "cell_type": "code",
   "execution_count": 72,
   "metadata": {},
   "outputs": [],
   "source": [
    "# Compile model\n",
    "#neuron.compile(loss=\"binary_crossentropy\", optimizer=\"adam\", metrics=[\"accuracy\"])\n",
    "neuron.compile(loss=\"binary_crossentropy\", optimizer=\"Adamax\", metrics=[\"accuracy\"])"
   ]
  },
  {
   "cell_type": "markdown",
   "metadata": {},
   "source": [
    "8. Fit the model with `100` epochs."
   ]
  },
  {
   "cell_type": "code",
   "execution_count": 73,
   "metadata": {},
   "outputs": [
    {
     "name": "stdout",
     "output_type": "stream",
     "text": [
      "Epoch 1/100\n",
      "704/704 [==============================] - 1s 1ms/step - loss: 0.4932 - accuracy: 0.7985\n",
      "Epoch 2/100\n",
      "704/704 [==============================] - 1s 1ms/step - loss: 0.4611 - accuracy: 0.8106\n",
      "Epoch 3/100\n",
      "704/704 [==============================] - 1s 1ms/step - loss: 0.4539 - accuracy: 0.8130\n",
      "Epoch 4/100\n",
      "704/704 [==============================] - 1s 1ms/step - loss: 0.4499 - accuracy: 0.8152\n",
      "Epoch 5/100\n",
      "704/704 [==============================] - 1s 1ms/step - loss: 0.4472 - accuracy: 0.8160\n",
      "Epoch 6/100\n",
      "704/704 [==============================] - 1s 1ms/step - loss: 0.4447 - accuracy: 0.8177\n",
      "Epoch 7/100\n",
      "704/704 [==============================] - 1s 1ms/step - loss: 0.4432 - accuracy: 0.8172\n",
      "Epoch 8/100\n",
      "704/704 [==============================] - 1s 1ms/step - loss: 0.4413 - accuracy: 0.8183\n",
      "Epoch 9/100\n",
      "704/704 [==============================] - 1s 1ms/step - loss: 0.4401 - accuracy: 0.8182\n",
      "Epoch 10/100\n",
      "704/704 [==============================] - 1s 1ms/step - loss: 0.4388 - accuracy: 0.8186\n",
      "Epoch 11/100\n",
      "704/704 [==============================] - 1s 1ms/step - loss: 0.4381 - accuracy: 0.8186\n",
      "Epoch 12/100\n",
      "704/704 [==============================] - 1s 1ms/step - loss: 0.4370 - accuracy: 0.8187\n",
      "Epoch 13/100\n",
      "704/704 [==============================] - 1s 1ms/step - loss: 0.4364 - accuracy: 0.8194\n",
      "Epoch 14/100\n",
      "704/704 [==============================] - 1s 1ms/step - loss: 0.4356 - accuracy: 0.8195\n",
      "Epoch 15/100\n",
      "704/704 [==============================] - 1s 1ms/step - loss: 0.4349 - accuracy: 0.8183\n",
      "Epoch 16/100\n",
      "704/704 [==============================] - 1s 1ms/step - loss: 0.4344 - accuracy: 0.8195\n",
      "Epoch 17/100\n",
      "704/704 [==============================] - 1s 1ms/step - loss: 0.4338 - accuracy: 0.8189\n",
      "Epoch 18/100\n",
      "704/704 [==============================] - 1s 1ms/step - loss: 0.4330 - accuracy: 0.8202\n",
      "Epoch 19/100\n",
      "704/704 [==============================] - 1s 1ms/step - loss: 0.4327 - accuracy: 0.8192\n",
      "Epoch 20/100\n",
      "704/704 [==============================] - 1s 1ms/step - loss: 0.4323 - accuracy: 0.8201\n",
      "Epoch 21/100\n",
      "704/704 [==============================] - 1s 1ms/step - loss: 0.4320 - accuracy: 0.8195\n",
      "Epoch 22/100\n",
      "704/704 [==============================] - 1s 1ms/step - loss: 0.4314 - accuracy: 0.8197\n",
      "Epoch 23/100\n",
      "704/704 [==============================] - 1s 1ms/step - loss: 0.4314 - accuracy: 0.8204\n",
      "Epoch 24/100\n",
      "704/704 [==============================] - 1s 1ms/step - loss: 0.4308 - accuracy: 0.8200\n",
      "Epoch 25/100\n",
      "704/704 [==============================] - 1s 1ms/step - loss: 0.4305 - accuracy: 0.8199\n",
      "Epoch 26/100\n",
      "704/704 [==============================] - 1s 1ms/step - loss: 0.4302 - accuracy: 0.8199\n",
      "Epoch 27/100\n",
      "704/704 [==============================] - 1s 1ms/step - loss: 0.4296 - accuracy: 0.8191\n",
      "Epoch 28/100\n",
      "704/704 [==============================] - 1s 1ms/step - loss: 0.4291 - accuracy: 0.8206\n",
      "Epoch 29/100\n",
      "704/704 [==============================] - 1s 1ms/step - loss: 0.4289 - accuracy: 0.8205\n",
      "Epoch 30/100\n",
      "704/704 [==============================] - 1s 1ms/step - loss: 0.4289 - accuracy: 0.8202\n",
      "Epoch 31/100\n",
      "704/704 [==============================] - 1s 1ms/step - loss: 0.4286 - accuracy: 0.8202\n",
      "Epoch 32/100\n",
      "704/704 [==============================] - 1s 1ms/step - loss: 0.4282 - accuracy: 0.8206\n",
      "Epoch 33/100\n",
      "704/704 [==============================] - 1s 1ms/step - loss: 0.4283 - accuracy: 0.8193\n",
      "Epoch 34/100\n",
      "704/704 [==============================] - 1s 1ms/step - loss: 0.4277 - accuracy: 0.8206\n",
      "Epoch 35/100\n",
      "704/704 [==============================] - 1s 1ms/step - loss: 0.4275 - accuracy: 0.8204\n",
      "Epoch 36/100\n",
      "704/704 [==============================] - 1s 1ms/step - loss: 0.4271 - accuracy: 0.8204\n",
      "Epoch 37/100\n",
      "704/704 [==============================] - 1s 1ms/step - loss: 0.4270 - accuracy: 0.8203\n",
      "Epoch 38/100\n",
      "704/704 [==============================] - 1s 1ms/step - loss: 0.4268 - accuracy: 0.8208\n",
      "Epoch 39/100\n",
      "704/704 [==============================] - 1s 1ms/step - loss: 0.4264 - accuracy: 0.8204\n",
      "Epoch 40/100\n",
      "704/704 [==============================] - 1s 1ms/step - loss: 0.4263 - accuracy: 0.8204\n",
      "Epoch 41/100\n",
      "704/704 [==============================] - 1s 1ms/step - loss: 0.4262 - accuracy: 0.8208\n",
      "Epoch 42/100\n",
      "704/704 [==============================] - 1s 1ms/step - loss: 0.4260 - accuracy: 0.8196\n",
      "Epoch 43/100\n",
      "704/704 [==============================] - 1s 1ms/step - loss: 0.4256 - accuracy: 0.8212\n",
      "Epoch 44/100\n",
      "704/704 [==============================] - 1s 1ms/step - loss: 0.4256 - accuracy: 0.8206\n",
      "Epoch 45/100\n",
      "704/704 [==============================] - 1s 1ms/step - loss: 0.4252 - accuracy: 0.8214\n",
      "Epoch 46/100\n",
      "704/704 [==============================] - 1s 1ms/step - loss: 0.4247 - accuracy: 0.8207\n",
      "Epoch 47/100\n",
      "704/704 [==============================] - 1s 1ms/step - loss: 0.4247 - accuracy: 0.8207\n",
      "Epoch 48/100\n",
      "704/704 [==============================] - 1s 1ms/step - loss: 0.4248 - accuracy: 0.8210\n",
      "Epoch 49/100\n",
      "704/704 [==============================] - 1s 1ms/step - loss: 0.4243 - accuracy: 0.8218\n",
      "Epoch 50/100\n",
      "704/704 [==============================] - 1s 1ms/step - loss: 0.4241 - accuracy: 0.8205\n",
      "Epoch 51/100\n",
      "704/704 [==============================] - 1s 1ms/step - loss: 0.4240 - accuracy: 0.8219\n",
      "Epoch 52/100\n",
      "704/704 [==============================] - 1s 1ms/step - loss: 0.4238 - accuracy: 0.8222\n",
      "Epoch 53/100\n",
      "704/704 [==============================] - 1s 1ms/step - loss: 0.4237 - accuracy: 0.8209\n",
      "Epoch 54/100\n",
      "704/704 [==============================] - 1s 1ms/step - loss: 0.4237 - accuracy: 0.8208\n",
      "Epoch 55/100\n",
      "704/704 [==============================] - 1s 1ms/step - loss: 0.4235 - accuracy: 0.8206\n",
      "Epoch 56/100\n",
      "704/704 [==============================] - 1s 1ms/step - loss: 0.4233 - accuracy: 0.8209\n",
      "Epoch 57/100\n",
      "704/704 [==============================] - 1s 1ms/step - loss: 0.4230 - accuracy: 0.8219\n",
      "Epoch 58/100\n",
      "704/704 [==============================] - 1s 1ms/step - loss: 0.4229 - accuracy: 0.8210\n",
      "Epoch 59/100\n",
      "704/704 [==============================] - 1s 1ms/step - loss: 0.4228 - accuracy: 0.8222\n",
      "Epoch 60/100\n",
      "704/704 [==============================] - 1s 1ms/step - loss: 0.4222 - accuracy: 0.8218\n",
      "Epoch 61/100\n",
      "704/704 [==============================] - 1s 1ms/step - loss: 0.4225 - accuracy: 0.8211\n",
      "Epoch 62/100\n",
      "704/704 [==============================] - 1s 1ms/step - loss: 0.4222 - accuracy: 0.8224\n",
      "Epoch 63/100\n",
      "704/704 [==============================] - 1s 1ms/step - loss: 0.4222 - accuracy: 0.8221\n",
      "Epoch 64/100\n",
      "704/704 [==============================] - 1s 1ms/step - loss: 0.4220 - accuracy: 0.8216\n",
      "Epoch 65/100\n",
      "704/704 [==============================] - 1s 1ms/step - loss: 0.4217 - accuracy: 0.8213\n",
      "Epoch 66/100\n",
      "704/704 [==============================] - 1s 1ms/step - loss: 0.4219 - accuracy: 0.8214\n",
      "Epoch 67/100\n",
      "704/704 [==============================] - 1s 1ms/step - loss: 0.4214 - accuracy: 0.8217\n",
      "Epoch 68/100\n",
      "704/704 [==============================] - 1s 1ms/step - loss: 0.4217 - accuracy: 0.8218\n",
      "Epoch 69/100\n",
      "704/704 [==============================] - 1s 1ms/step - loss: 0.4213 - accuracy: 0.8223\n",
      "Epoch 70/100\n",
      "704/704 [==============================] - 1s 1ms/step - loss: 0.4210 - accuracy: 0.8234\n",
      "Epoch 71/100\n",
      "704/704 [==============================] - 1s 1ms/step - loss: 0.4209 - accuracy: 0.8225\n",
      "Epoch 72/100\n",
      "704/704 [==============================] - 1s 1ms/step - loss: 0.4209 - accuracy: 0.8233\n",
      "Epoch 73/100\n",
      "704/704 [==============================] - 1s 1ms/step - loss: 0.4208 - accuracy: 0.8224\n",
      "Epoch 74/100\n",
      "704/704 [==============================] - 1s 1ms/step - loss: 0.4204 - accuracy: 0.8219\n",
      "Epoch 75/100\n",
      "704/704 [==============================] - 1s 1ms/step - loss: 0.4203 - accuracy: 0.8223\n",
      "Epoch 76/100\n",
      "704/704 [==============================] - 1s 1ms/step - loss: 0.4205 - accuracy: 0.8226\n",
      "Epoch 77/100\n",
      "704/704 [==============================] - 1s 1ms/step - loss: 0.4199 - accuracy: 0.8228\n",
      "Epoch 78/100\n",
      "704/704 [==============================] - 1s 1ms/step - loss: 0.4201 - accuracy: 0.8231\n",
      "Epoch 79/100\n",
      "704/704 [==============================] - 1s 1ms/step - loss: 0.4196 - accuracy: 0.8232\n",
      "Epoch 80/100\n",
      "704/704 [==============================] - 1s 1ms/step - loss: 0.4196 - accuracy: 0.8220\n",
      "Epoch 81/100\n",
      "704/704 [==============================] - 1s 1ms/step - loss: 0.4192 - accuracy: 0.8234\n",
      "Epoch 82/100\n",
      "704/704 [==============================] - 1s 1ms/step - loss: 0.4194 - accuracy: 0.8226\n",
      "Epoch 83/100\n",
      "704/704 [==============================] - 1s 1ms/step - loss: 0.4193 - accuracy: 0.8227\n",
      "Epoch 84/100\n",
      "704/704 [==============================] - 1s 1ms/step - loss: 0.4191 - accuracy: 0.8230\n",
      "Epoch 85/100\n",
      "704/704 [==============================] - 1s 1ms/step - loss: 0.4188 - accuracy: 0.8227\n",
      "Epoch 86/100\n",
      "704/704 [==============================] - 1s 1ms/step - loss: 0.4187 - accuracy: 0.8236\n",
      "Epoch 87/100\n",
      "704/704 [==============================] - 1s 1ms/step - loss: 0.4184 - accuracy: 0.8237\n",
      "Epoch 88/100\n",
      "704/704 [==============================] - 1s 1ms/step - loss: 0.4187 - accuracy: 0.8232\n",
      "Epoch 89/100\n",
      "704/704 [==============================] - 1s 1ms/step - loss: 0.4184 - accuracy: 0.8229\n",
      "Epoch 90/100\n",
      "704/704 [==============================] - 1s 1ms/step - loss: 0.4182 - accuracy: 0.8234\n",
      "Epoch 91/100\n",
      "704/704 [==============================] - 1s 1ms/step - loss: 0.4181 - accuracy: 0.8239\n",
      "Epoch 92/100\n",
      "704/704 [==============================] - 1s 1ms/step - loss: 0.4179 - accuracy: 0.8239\n",
      "Epoch 93/100\n",
      "704/704 [==============================] - 1s 1ms/step - loss: 0.4181 - accuracy: 0.8231\n",
      "Epoch 94/100\n",
      "704/704 [==============================] - 1s 1ms/step - loss: 0.4174 - accuracy: 0.8247\n",
      "Epoch 95/100\n",
      "704/704 [==============================] - 1s 1ms/step - loss: 0.4174 - accuracy: 0.8239\n",
      "Epoch 96/100\n",
      "704/704 [==============================] - 1s 1ms/step - loss: 0.4175 - accuracy: 0.8242\n",
      "Epoch 97/100\n",
      "704/704 [==============================] - 1s 1ms/step - loss: 0.4174 - accuracy: 0.8235\n",
      "Epoch 98/100\n",
      "704/704 [==============================] - 1s 1ms/step - loss: 0.4172 - accuracy: 0.8237\n",
      "Epoch 99/100\n",
      "704/704 [==============================] - 1s 1ms/step - loss: 0.4171 - accuracy: 0.8233\n",
      "Epoch 100/100\n",
      "704/704 [==============================] - 1s 1ms/step - loss: 0.4169 - accuracy: 0.8252\n"
     ]
    }
   ],
   "source": [
    "# Fit the model\n",
    "model = neuron.fit(X_train_scaled, y_train, epochs=100)\n"
   ]
  },
  {
   "cell_type": "markdown",
   "metadata": {},
   "source": [
    "9. Plot the loss function and accuracy."
   ]
  },
  {
   "cell_type": "code",
   "execution_count": 74,
   "metadata": {},
   "outputs": [
    {
     "data": {
      "text/plain": [
       "<AxesSubplot:>"
      ]
     },
     "execution_count": 74,
     "metadata": {},
     "output_type": "execute_result"
    },
    {
     "data": {
      "image/png": "[encoded data removed]",
      "text/plain": [
       "<Figure size 432x288 with 1 Axes>"
      ]
     },
     "metadata": {
      "needs_background": "light"
     },
     "output_type": "display_data"
    }
   ],
   "source": [
    "# Create a DataFrame with the history dictionary\n",
    "df = pd.DataFrame(model.history, index=range(1, len(model.history[\"loss\"]) + 1))\n",
    "\n",
    "# Plot the loss\n",
    "\n",
    "df.plot(y=\"loss\")"
   ]
  },
  {
   "cell_type": "code",
   "execution_count": 75,
   "metadata": {},
   "outputs": [
    {
     "data": {
      "text/plain": [
       "<AxesSubplot:>"
      ]
     },
     "execution_count": 75,
     "metadata": {},
     "output_type": "execute_result"
    },
    {
     "data": {
      "image/png": "[encoded data removed]",
      "text/plain": [
       "<Figure size 432x288 with 1 Axes>"
      ]
     },
     "metadata": {
      "needs_background": "light"
     },
     "output_type": "display_data"
    }
   ],
   "source": [
    "# Plot the accuracy\n",
    "df.plot(y=\"accuracy\")\n"
   ]
  },
  {
   "cell_type": "markdown",
   "metadata": {},
   "source": [
    "10. Evaluate the model using testing data and the `evaluate` method."
   ]
  },
  {
   "cell_type": "code",
   "execution_count": 76,
   "metadata": {},
   "outputs": [
    {
     "name": "stdout",
     "output_type": "stream",
     "text": [
      "235/235 - 0s - loss: 0.4320 - accuracy: 0.8219 - 350ms/epoch - 1ms/step\n",
      "Loss: 0.4320216774940491, Accuracy: 0.8218666911125183\n"
     ]
    }
   ],
   "source": [
    "# Evaluate the model fit with linear dummy data\n",
    "model_loss, model_accuracy = neuron.evaluate(X_test_scaled, y_test, verbose=2)\n",
    "print(f\"Loss: {model_loss}, Accuracy: {model_accuracy}\")\n"
   ]
  },
  {
   "cell_type": "markdown",
   "metadata": {},
   "source": [
    "## Challenge\n",
    "\n",
    "For this challenge section, you have to figure out how the model you created could be modified to improve the accuracy.\n",
    "\n",
    "1. Review the Keras documentation about activation functions, and decide if there is anyone that could be used instead of `sigmoid`.\n",
    "\n",
    "2. Add a second hidden layer with `69` units and use a different activation function than `sigmoid`.\n",
    "\n",
    "3. Change any other parameter that you believe could improve the model's accuracy.\n",
    "\n",
    "4. Evaluate the model's accuracy and loss and write down your conclusions."
   ]
  },
  {
   "cell_type": "code",
   "execution_count": 77,
   "metadata": {},
   "outputs": [],
   "source": [
    "# Define the model\n",
    "\n"
   ]
  },
  {
   "cell_type": "code",
   "execution_count": 78,
   "metadata": {},
   "outputs": [],
   "source": [
    "# Compile model\n",
    "\n"
   ]
  },
  {
   "cell_type": "code",
   "execution_count": 79,
   "metadata": {},
   "outputs": [],
   "source": [
    "# Fit the model\n",
    "\n"
   ]
  },
  {
   "cell_type": "code",
   "execution_count": 80,
   "metadata": {},
   "outputs": [],
   "source": [
    "# Evaluate the model fit with linear dummy data\n",
    "\n"
   ]
  },
  {
   "cell_type": "markdown",
   "metadata": {},
   "source": [
    "### Conclusions\n",
    "\n",
    "**Your Answer Here**"
   ]
  }
 ],
 "metadata": {
  "file_extension": ".py",
  "interpreter": {
   "hash": "2803b3c07b64a7b986e21828569605b043ff1dba15e47aab897e816beaee656d"
  },
  "kernelspec": {
   "display_name": "Python 3.7.11 ('dev')",
   "language": "python",
   "name": "python3"
  },
  "language_info": {
   "codemirror_mode": {
    "name": "ipython",
    "version": 3
   },
   "file_extension": ".py",
   "mimetype": "text/x-python",
   "name": "python",
   "nbconvert_exporter": "python",
   "pygments_lexer": "ipython3",
   "version": "3.7.11"
  },
  "mimetype": "text/x-python",
  "name": "python",
  "npconvert_exporter": "python",
  "pygments_lexer": "ipython3",
  "version": 3
 },
 "nbformat": 4,
 "nbformat_minor": 4
}
