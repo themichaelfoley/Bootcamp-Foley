{
 "cells": [
  {
   "cell_type": "markdown",
   "metadata": {},
   "source": [
    "# The Feelings of the Crisis\n",
    "\n",
    "When you read a news article, normally the headline is the hook to continue reading. However, a negative title could lead you to skip reading an article if you don't want to be in a bad mood. But is this accurate?\n",
    "\n",
    "On this activity you are tasked to corroborate if a news title with a negative sentiment leads or not to a negative content. You will use VADER sentiment to accomplish this work using the news articles that you previously download on _The Voice of the Crisis_ activity."
   ]
  },
  {
   "cell_type": "code",
   "execution_count": 1,
   "metadata": {},
   "outputs": [],
   "source": [
    "# Initial imports\n",
    "import os\n",
    "from pathlib import Path\n",
    "import pandas as pd\n",
    "from newsapi import NewsApiClient\n",
    "import nltk\n",
    "from nltk.sentiment.vader import SentimentIntensityAnalyzer\n",
    "\n",
    "get_ipython().run_line_magic(\"matplotlib\", \"inline\")\n"
   ]
  },
  {
   "cell_type": "markdown",
   "metadata": {},
   "source": [
    "## Instructions\n",
    "\n",
    "Just for convenience download the `vader_lexicon` in order to initialize the VADER sentiment analyzer"
   ]
  },
  {
   "cell_type": "code",
   "execution_count": 2,
   "metadata": {},
   "outputs": [
    {
     "name": "stderr",
     "output_type": "stream",
     "text": [
      "[nltk_data] Downloading package vader_lexicon to\n",
      "[nltk_data]     C:\\Users\\themi\\AppData\\Roaming\\nltk_data...\n",
      "[nltk_data]   Package vader_lexicon is already up-to-date!\n"
     ]
    }
   ],
   "source": [
    "# Download/Update the VADER Lexicon\n",
    "nltk.download(\"vader_lexicon\")\n",
    "\n",
    "# Initialize the VADER sentiment analyzer\n",
    "analyzer = SentimentIntensityAnalyzer()\n"
   ]
  },
  {
   "cell_type": "markdown",
   "metadata": {},
   "source": [
    "### Load the News Articles from the CSV File as a DataFrame\n",
    "\n",
    "Pick the CSV file you created on _The Voice of the Crisis_ activity and load it as a DataFrame, remember to specify the `encoding='utf-8-sig'` parameter."
   ]
  },
  {
   "cell_type": "code",
   "execution_count": 7,
   "metadata": {},
   "outputs": [
    {
     "data": {
      "text/html": [
       "<div>\n",
       "<style scoped>\n",
       "    .dataframe tbody tr th:only-of-type {\n",
       "        vertical-align: middle;\n",
       "    }\n",
       "\n",
       "    .dataframe tbody tr th {\n",
       "        vertical-align: top;\n",
       "    }\n",
       "\n",
       "    .dataframe thead th {\n",
       "        text-align: right;\n",
       "    }\n",
       "</style>\n",
       "<table border=\"1\" class=\"dataframe\">\n",
       "  <thead>\n",
       "    <tr style=\"text-align: right;\">\n",
       "      <th></th>\n",
       "      <th>date</th>\n",
       "      <th>description</th>\n",
       "      <th>language</th>\n",
       "      <th>text</th>\n",
       "      <th>title</th>\n",
       "    </tr>\n",
       "  </thead>\n",
       "  <tbody>\n",
       "    <tr>\n",
       "      <th>0</th>\n",
       "      <td>2019-07-08</td>\n",
       "      <td>Technology has been used to manage regulatory ...</td>\n",
       "      <td>en</td>\n",
       "      <td>Technology has been used to manage regulatory ...</td>\n",
       "      <td>The startups creating the future of RegTech an...</td>\n",
       "    </tr>\n",
       "    <tr>\n",
       "      <th>1</th>\n",
       "      <td>2019-06-15</td>\n",
       "      <td>Who doesn’t love making signs and getting angr...</td>\n",
       "      <td>en</td>\n",
       "      <td>Having never attended my high school prom (I b...</td>\n",
       "      <td>I Don’t Go to Parties. I Go to Protests.</td>\n",
       "    </tr>\n",
       "    <tr>\n",
       "      <th>2</th>\n",
       "      <td>2019-07-09</td>\n",
       "      <td>A probability model used by the New York Fed t...</td>\n",
       "      <td>en</td>\n",
       "      <td>David Karp/AP\\r\\n&lt;ul&gt;&lt;li&gt;A probability model u...</td>\n",
       "      <td>A critical recession indicator used by the Fed...</td>\n",
       "    </tr>\n",
       "    <tr>\n",
       "      <th>3</th>\n",
       "      <td>2019-06-28</td>\n",
       "      <td>What is the G20, and what do they do when they...</td>\n",
       "      <td>en</td>\n",
       "      <td>Image copyrightGetty ImagesImage caption\\r\\n A...</td>\n",
       "      <td>What is the G20 summit, and what do world lead...</td>\n",
       "    </tr>\n",
       "    <tr>\n",
       "      <th>4</th>\n",
       "      <td>2019-07-07</td>\n",
       "      <td>How entrepreneur Andy Scott was able to rebuil...</td>\n",
       "      <td>en</td>\n",
       "      <td>Image copyrightAndy ScottImage caption\\r\\n And...</td>\n",
       "      <td>'I got wiped out, but I was determined to make...</td>\n",
       "    </tr>\n",
       "  </tbody>\n",
       "</table>\n",
       "</div>"
      ],
      "text/plain": [
       "         date                                        description language  \\\n",
       "0  2019-07-08  Technology has been used to manage regulatory ...       en   \n",
       "1  2019-06-15  Who doesn’t love making signs and getting angr...       en   \n",
       "2  2019-07-09  A probability model used by the New York Fed t...       en   \n",
       "3  2019-06-28  What is the G20, and what do they do when they...       en   \n",
       "4  2019-07-07  How entrepreneur Andy Scott was able to rebuil...       en   \n",
       "\n",
       "                                                text  \\\n",
       "0  Technology has been used to manage regulatory ...   \n",
       "1  Having never attended my high school prom (I b...   \n",
       "2  David Karp/AP\\r\\n<ul><li>A probability model u...   \n",
       "3  Image copyrightGetty ImagesImage caption\\r\\n A...   \n",
       "4  Image copyrightAndy ScottImage caption\\r\\n And...   \n",
       "\n",
       "                                               title  \n",
       "0  The startups creating the future of RegTech an...  \n",
       "1           I Don’t Go to Parties. I Go to Protests.  \n",
       "2  A critical recession indicator used by the Fed...  \n",
       "3  What is the G20 summit, and what do world lead...  \n",
       "4  'I got wiped out, but I was determined to make...  "
      ]
     },
     "execution_count": 7,
     "metadata": {},
     "output_type": "execute_result"
    }
   ],
   "source": [
    "# Load news from CSV file\n",
    "file_path = Path(\"../crisis_news_en_es.csv\")\n",
    "df = pd.read_csv(file_path, encoding=\"utf-8-sig\")\n",
    "df.head()\n"
   ]
  },
  {
   "cell_type": "markdown",
   "metadata": {},
   "source": [
    "The VADER sentiment module is only trained to score sentiment on English language, so create a new DataFrame only with news in English. You will learn how to score sentiment in multiple languages later."
   ]
  },
  {
   "cell_type": "code",
   "execution_count": 4,
   "metadata": {},
   "outputs": [],
   "source": [
    "# Fetch only English news\n",
    "\n"
   ]
  },
  {
   "cell_type": "markdown",
   "metadata": {},
   "source": [
    "### Calculating VADER Sentiment Score for News Titles and Text\n",
    "\n",
    "As you know the `compound` score could be used to get a normalized score for a sentiment, in this section you have to create a function called `get_sentiment(score)` that will return a normalized value of sentiment for the `score` parameter based on the rules you learn. This function should return `1` for positive sentiment, `-1` for negative sentiment, and `0` for neutral sentiment."
   ]
  },
  {
   "cell_type": "code",
   "execution_count": 5,
   "metadata": {},
   "outputs": [],
   "source": [
    "# Sentiment calculation based on compound score\n",
    "def get_sentiment(score):\n",
    "    \"\"\"\n",
    "    Calculates the sentiment based on the compound score.\n",
    "    \"\"\"\n",
    "\n"
   ]
  },
  {
   "cell_type": "code",
   "execution_count": null,
   "metadata": {},
   "outputs": [],
   "source": []
  },
  {
   "cell_type": "markdown",
   "metadata": {},
   "source": [
    "Use the the VADER sentiment module from `NLTK` to score the sentiment of every news article title and text in english; you should append ten new columns to the English news DataFrame to store the results as follows.\n",
    "\n",
    "* Title's compound score\n",
    "* Title's positive score\n",
    "* Title's neutral score\n",
    "* Title's negative score\n",
    "* Title's normalized score (using the `get_sentiment()` function)\n",
    "* Text's compound score\n",
    "* Text's positive score\n",
    "* Text's neutral score\n",
    "* Text's negative score\n",
    "* Text's normalized score (using the `get_sentiment()` function)"
   ]
  },
  {
   "cell_type": "code",
   "execution_count": null,
   "metadata": {},
   "outputs": [],
   "source": [
    "\n"
   ]
  },
  {
   "cell_type": "markdown",
   "metadata": {},
   "source": [
    "### Analyzing Sentiments Results\n",
    "\n",
    "How the sentiment of the title and the text differs on news articles?\n",
    "\n",
    "To answer this question, on this section you will create a bar chart contrasting the normalized sentiment for the title and the text of each news article. Use the build-in `plot()` method of the Pandas DataFrame to create a bar chart like the one bellow. Be aware that you chart might differ from this one due to is made from a different news DataFrame."
   ]
  },
  {
   "cell_type": "code",
   "execution_count": null,
   "metadata": {},
   "outputs": [],
   "source": [
    "\n"
   ]
  },
  {
   "cell_type": "markdown",
   "metadata": {},
   "source": [
    "Finally get the descriptive statistics from the English news DataFrame and discuss the analysis results with your partners."
   ]
  },
  {
   "cell_type": "code",
   "execution_count": null,
   "metadata": {},
   "outputs": [],
   "source": [
    "\n"
   ]
  }
 ],
 "metadata": {
  "file_extension": ".py",
  "interpreter": {
   "hash": "2803b3c07b64a7b986e21828569605b043ff1dba15e47aab897e816beaee656d"
  },
  "kernelspec": {
   "display_name": "Python 3.7.11 ('dev')",
   "language": "python",
   "name": "python3"
  },
  "language_info": {
   "codemirror_mode": {
    "name": "ipython",
    "version": 3
   },
   "file_extension": ".py",
   "mimetype": "text/x-python",
   "name": "python",
   "nbconvert_exporter": "python",
   "pygments_lexer": "ipython3",
   "version": "3.7.11"
  },
  "mimetype": "text/x-python",
  "name": "python",
  "npconvert_exporter": "python",
  "pygments_lexer": "ipython3",
  "version": 3
 },
 "nbformat": 4,
 "nbformat_minor": 2
}
