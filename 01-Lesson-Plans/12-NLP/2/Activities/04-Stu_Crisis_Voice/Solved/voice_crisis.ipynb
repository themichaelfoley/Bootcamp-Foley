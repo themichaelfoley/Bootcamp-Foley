{
 "cells": [
  {
   "cell_type": "markdown",
   "metadata": {},
   "source": [
    "# The Voice of the Crisis\n",
    "\n",
    "Despite it happening over a decade ago, the financial crisis of 2008 is still on the news due to its effects in global economy. On this activity you will retrieve news articles about this historical economic fact in English and French to capture the voice of the crisis in two different languages."
   ]
  },
  {
   "cell_type": "code",
   "execution_count": 1,
   "metadata": {},
   "outputs": [
    {
     "data": {
      "text/plain": [
       "True"
      ]
     },
     "execution_count": 1,
     "metadata": {},
     "output_type": "execute_result"
    }
   ],
   "source": [
    "# Initial imports\n",
    "import os\n",
    "import pandas as pd\n",
    "from pathlib import Path\n",
    "from newsapi import NewsApiClient\n",
    "from dotenv import load_dotenv\n",
    "load_dotenv()\n"
   ]
  },
  {
   "cell_type": "code",
   "execution_count": 2,
   "metadata": {},
   "outputs": [],
   "source": [
    "# Retrieve the News API key\n",
    "api_key = os.getenv(\"news_api\")\n",
    "\n"
   ]
  },
  {
   "cell_type": "code",
   "execution_count": 3,
   "metadata": {},
   "outputs": [],
   "source": [
    "# Create the newsapi client\n",
    "newsapi = NewsApiClient(api_key=api_key)\n",
    "\n"
   ]
  },
  {
   "cell_type": "markdown",
   "metadata": {},
   "source": [
    "## Getting News Articles in English\n",
    "\n",
    "In this section you have to fetch all the news articles using the News API with the keywords `financial`, `crisis`, and `2008` in English.\n",
    "\n"
   ]
  },
  {
   "cell_type": "code",
   "execution_count": 4,
   "metadata": {},
   "outputs": [
    {
     "data": {
      "text/plain": [
       "1596"
      ]
     },
     "execution_count": 4,
     "metadata": {},
     "output_type": "execute_result"
    }
   ],
   "source": [
    "# Fetch news about the financial crisis on 2008 in English\n",
    "crisis_news_en = newsapi.get_everything(\n",
    "    q=\"financial AND crisis AND 2008\",\n",
    "    language=\"en\"\n",
    ")\n",
    "\n",
    "# Show the total number of news\n",
    "crisis_news_en[\"totalResults\"]\n",
    "\n"
   ]
  },
  {
   "cell_type": "markdown",
   "metadata": {},
   "source": [
    "## Gettig News Articles in French\n",
    "\n",
    "Fetching news on French will require keywords on this language, so retrieve all the news articles using the News API using the keywords `crise`, `financière`, and `2008`."
   ]
  },
  {
   "cell_type": "code",
   "execution_count": 5,
   "metadata": {},
   "outputs": [
    {
     "data": {
      "text/plain": [
       "110"
      ]
     },
     "execution_count": 5,
     "metadata": {},
     "output_type": "execute_result"
    }
   ],
   "source": [
    "# Fetch news about the financial crisis on 2008 in French\n",
    "crisis_news_fr = newsapi.get_everything(\n",
    "    q=\"crise AND financière  AND 2008\",\n",
    "    language=\"fr\"\n",
    ")\n",
    "\n",
    "# Show the total number of news\n",
    "crisis_news_fr[\"totalResults\"]\n",
    "\n"
   ]
  },
  {
   "cell_type": "markdown",
   "metadata": {},
   "source": [
    "## Create a DataFrame with All the Results\n",
    "\n",
    "The first task on this section is to create a function called `create_df(news, language)` that will transform the `articles` list in a DataFrame. This function will receive two parameters: `news` is the articles' list and `language` is a string to specify the language of the news articles.\n",
    "\n",
    "The resulting DataFrame should have the following columns:\n",
    "\n",
    "* Title: The article's title\n",
    "* Description: The article's description\n",
    "* Text: The article's content\n",
    "* Date: The date when the article was published on the format `YYY-MM-DD` (eg. 2019-07-11)\n",
    "* Language: A string specifying the news language (`en` for English, `fr` for French)"
   ]
  },
  {
   "cell_type": "code",
   "execution_count": 6,
   "metadata": {},
   "outputs": [],
   "source": [
    "def create_df(news, language):\n",
    "    articles = []\n",
    "    for article in news:\n",
    "        try:\n",
    "            title = article[\"title\"]\n",
    "            description = article[\"description\"]\n",
    "            text = article[\"content\"]\n",
    "            date = article[\"publishedAt\"][:10]\n",
    "\n",
    "            articles.append({\n",
    "                \"title\": title,\n",
    "                \"description\": description,\n",
    "                \"text\": text,\n",
    "                \"date\": date,\n",
    "                \"language\": language\n",
    "            })\n",
    "        except AttributeError:\n",
    "            pass\n",
    "\n",
    "    return pd.DataFrame(articles)\n",
    "\n"
   ]
  },
  {
   "cell_type": "markdown",
   "metadata": {},
   "source": [
    "Use the create_df() function to create a DataFrame for the English news and another for the French news."
   ]
  },
  {
   "cell_type": "code",
   "execution_count": 7,
   "metadata": {},
   "outputs": [],
   "source": [
    "# Create a DataFrame with the news in English\n",
    "crisis_en_df = create_df(crisis_news_en[\"articles\"], \"en\")\n",
    "\n",
    "# Create a DataFrame with the news in French\n",
    "crisis_fr_df = create_df(crisis_news_fr[\"articles\"], \"fr\")\n",
    "\n"
   ]
  },
  {
   "cell_type": "markdown",
   "metadata": {},
   "source": [
    "Concatenate both DataFrames having the English news at the top and the French news at the bottom."
   ]
  },
  {
   "cell_type": "code",
   "execution_count": 8,
   "metadata": {},
   "outputs": [],
   "source": [
    "crisis_df = pd.concat([crisis_en_df, crisis_fr_df])\n",
    "\n"
   ]
  },
  {
   "cell_type": "code",
   "execution_count": 9,
   "metadata": {},
   "outputs": [
    {
     "data": {
      "text/html": [
       "<div>\n",
       "<style scoped>\n",
       "    .dataframe tbody tr th:only-of-type {\n",
       "        vertical-align: middle;\n",
       "    }\n",
       "\n",
       "    .dataframe tbody tr th {\n",
       "        vertical-align: top;\n",
       "    }\n",
       "\n",
       "    .dataframe thead th {\n",
       "        text-align: right;\n",
       "    }\n",
       "</style>\n",
       "<table border=\"1\" class=\"dataframe\">\n",
       "  <thead>\n",
       "    <tr style=\"text-align: right;\">\n",
       "      <th></th>\n",
       "      <th>title</th>\n",
       "      <th>description</th>\n",
       "      <th>text</th>\n",
       "      <th>date</th>\n",
       "      <th>language</th>\n",
       "    </tr>\n",
       "  </thead>\n",
       "  <tbody>\n",
       "    <tr>\n",
       "      <th>0</th>\n",
       "      <td>Column: U.S. gas prices soar as Europe and Asi...</td>\n",
       "      <td>U.S. gas prices have surged to the highest lev...</td>\n",
       "      <td>LONDON, May 6 (Reuters) - U.S. gas prices have...</td>\n",
       "      <td>2022-05-06</td>\n",
       "      <td>en</td>\n",
       "    </tr>\n",
       "    <tr>\n",
       "      <th>1</th>\n",
       "      <td>Spain's May jobless falls 3.29% from April to ...</td>\n",
       "      <td>The number of people registering as jobless in...</td>\n",
       "      <td>June 2 (Reuters) - The number of people regist...</td>\n",
       "      <td>2022-06-02</td>\n",
       "      <td>en</td>\n",
       "    </tr>\n",
       "    <tr>\n",
       "      <th>2</th>\n",
       "      <td>‘Stardew Valley’ has sold more than 20 million...</td>\n",
       "      <td>Six years after its initial release, Stardew V...</td>\n",
       "      <td>Six years after its initial release, Stardew V...</td>\n",
       "      <td>2022-05-14</td>\n",
       "      <td>en</td>\n",
       "    </tr>\n",
       "    <tr>\n",
       "      <th>3</th>\n",
       "      <td>Column: Crypto warnings invoke U.S. subprime b...</td>\n",
       "      <td>Regulators comparing the crypto craze to the U...</td>\n",
       "      <td>ORLANDO, Fla., May 5 (Reuters) - Regulators co...</td>\n",
       "      <td>2022-05-05</td>\n",
       "      <td>en</td>\n",
       "    </tr>\n",
       "    <tr>\n",
       "      <th>4</th>\n",
       "      <td>The banks collapsed in 2008 – and our food sys...</td>\n",
       "      <td>Massive food producers hold too much power – a...</td>\n",
       "      <td>For the past few years, scientists have been f...</td>\n",
       "      <td>2022-05-19</td>\n",
       "      <td>en</td>\n",
       "    </tr>\n",
       "  </tbody>\n",
       "</table>\n",
       "</div>"
      ],
      "text/plain": [
       "                                               title  \\\n",
       "0  Column: U.S. gas prices soar as Europe and Asi...   \n",
       "1  Spain's May jobless falls 3.29% from April to ...   \n",
       "2  ‘Stardew Valley’ has sold more than 20 million...   \n",
       "3  Column: Crypto warnings invoke U.S. subprime b...   \n",
       "4  The banks collapsed in 2008 – and our food sys...   \n",
       "\n",
       "                                         description  \\\n",
       "0  U.S. gas prices have surged to the highest lev...   \n",
       "1  The number of people registering as jobless in...   \n",
       "2  Six years after its initial release, Stardew V...   \n",
       "3  Regulators comparing the crypto craze to the U...   \n",
       "4  Massive food producers hold too much power – a...   \n",
       "\n",
       "                                                text        date language  \n",
       "0  LONDON, May 6 (Reuters) - U.S. gas prices have...  2022-05-06       en  \n",
       "1  June 2 (Reuters) - The number of people regist...  2022-06-02       en  \n",
       "2  Six years after its initial release, Stardew V...  2022-05-14       en  \n",
       "3  ORLANDO, Fla., May 5 (Reuters) - Regulators co...  2022-05-05       en  \n",
       "4  For the past few years, scientists have been f...  2022-05-19       en  "
      ]
     },
     "execution_count": 9,
     "metadata": {},
     "output_type": "execute_result"
    }
   ],
   "source": [
    "# Show the head articles (they are in English)\n",
    "crisis_df.head()\n",
    "\n"
   ]
  },
  {
   "cell_type": "code",
   "execution_count": 10,
   "metadata": {},
   "outputs": [
    {
     "data": {
      "text/html": [
       "<div>\n",
       "<style scoped>\n",
       "    .dataframe tbody tr th:only-of-type {\n",
       "        vertical-align: middle;\n",
       "    }\n",
       "\n",
       "    .dataframe tbody tr th {\n",
       "        vertical-align: top;\n",
       "    }\n",
       "\n",
       "    .dataframe thead th {\n",
       "        text-align: right;\n",
       "    }\n",
       "</style>\n",
       "<table border=\"1\" class=\"dataframe\">\n",
       "  <thead>\n",
       "    <tr style=\"text-align: right;\">\n",
       "      <th></th>\n",
       "      <th>title</th>\n",
       "      <th>description</th>\n",
       "      <th>text</th>\n",
       "      <th>date</th>\n",
       "      <th>language</th>\n",
       "    </tr>\n",
       "  </thead>\n",
       "  <tbody>\n",
       "    <tr>\n",
       "      <th>15</th>\n",
       "      <td>Guillaume Klossa : \"L'Europe doit mener une gu...</td>\n",
       "      <td>Le fondateur du think tank EuropaNova publie F...</td>\n",
       "      <td>Fondateur du think tank EuropaNova et du mouve...</td>\n",
       "      <td>2022-05-08</td>\n",
       "      <td>fr</td>\n",
       "    </tr>\n",
       "    <tr>\n",
       "      <th>16</th>\n",
       "      <td>Aux Etats-Unis, Buffalo entre deuil et colère ...</td>\n",
       "      <td>L’auteur de l’attaque, Payton Gendron, 18 ans,...</td>\n",
       "      <td>Une personne se recueille devant le supermarch...</td>\n",
       "      <td>2022-05-16</td>\n",
       "      <td>fr</td>\n",
       "    </tr>\n",
       "    <tr>\n",
       "      <th>17</th>\n",
       "      <td>Vers une petite « mondialisation entre amis » ?</td>\n",
       "      <td>[Le nouveau désordre mondial] La pandémie et l...</td>\n",
       "      <td>Après une crise financière, une pandémie et un...</td>\n",
       "      <td>2022-05-05</td>\n",
       "      <td>fr</td>\n",
       "    </tr>\n",
       "    <tr>\n",
       "      <th>18</th>\n",
       "      <td>Après dix années de crise, le mea culpa du pré...</td>\n",
       "      <td>A l’heure de quitter ses fonctions de présiden...</td>\n",
       "      <td>Il nest pas si fréquent que les dirigeants de ...</td>\n",
       "      <td>2022-05-19</td>\n",
       "      <td>fr</td>\n",
       "    </tr>\n",
       "    <tr>\n",
       "      <th>19</th>\n",
       "      <td>Pourquoi l’Allemagne est en partie responsable...</td>\n",
       "      <td>Sans coordination, une relance de la demande e...</td>\n",
       "      <td>Les mesures de lutte contre linflation ont suc...</td>\n",
       "      <td>2022-05-13</td>\n",
       "      <td>fr</td>\n",
       "    </tr>\n",
       "  </tbody>\n",
       "</table>\n",
       "</div>"
      ],
      "text/plain": [
       "                                                title  \\\n",
       "15  Guillaume Klossa : \"L'Europe doit mener une gu...   \n",
       "16  Aux Etats-Unis, Buffalo entre deuil et colère ...   \n",
       "17    Vers une petite « mondialisation entre amis » ?   \n",
       "18  Après dix années de crise, le mea culpa du pré...   \n",
       "19  Pourquoi l’Allemagne est en partie responsable...   \n",
       "\n",
       "                                          description  \\\n",
       "15  Le fondateur du think tank EuropaNova publie F...   \n",
       "16  L’auteur de l’attaque, Payton Gendron, 18 ans,...   \n",
       "17  [Le nouveau désordre mondial] La pandémie et l...   \n",
       "18  A l’heure de quitter ses fonctions de présiden...   \n",
       "19  Sans coordination, une relance de la demande e...   \n",
       "\n",
       "                                                 text        date language  \n",
       "15  Fondateur du think tank EuropaNova et du mouve...  2022-05-08       fr  \n",
       "16  Une personne se recueille devant le supermarch...  2022-05-16       fr  \n",
       "17  Après une crise financière, une pandémie et un...  2022-05-05       fr  \n",
       "18  Il nest pas si fréquent que les dirigeants de ...  2022-05-19       fr  \n",
       "19  Les mesures de lutte contre linflation ont suc...  2022-05-13       fr  "
      ]
     },
     "execution_count": 10,
     "metadata": {},
     "output_type": "execute_result"
    }
   ],
   "source": [
    "# Show the tail articles (they are in French)\n",
    "crisis_df.tail()\n",
    "\n"
   ]
  },
  {
   "cell_type": "markdown",
   "metadata": {},
   "source": [
    "Save tha final DataFrame as a CSV file for further analysis in the forthcoming activities."
   ]
  },
  {
   "cell_type": "code",
   "execution_count": 11,
   "metadata": {},
   "outputs": [],
   "source": [
    "file_path = Path(\"Data/crisis_news_en_fr.csv\")\n",
    "crisis_df.to_csv(file_path, index=False, encoding='utf-8-sig')\n",
    "\n"
   ]
  }
 ],
 "metadata": {
  "file_extension": ".py",
  "interpreter": {
   "hash": "2803b3c07b64a7b986e21828569605b043ff1dba15e47aab897e816beaee656d"
  },
  "kernelspec": {
   "display_name": "Python 3.7.11 ('dev')",
   "language": "python",
   "name": "python3"
  },
  "language_info": {
   "codemirror_mode": {
    "name": "ipython",
    "version": 3
   },
   "file_extension": ".py",
   "mimetype": "text/x-python",
   "name": "python",
   "nbconvert_exporter": "python",
   "pygments_lexer": "ipython3",
   "version": "3.7.11"
  },
  "mimetype": "text/x-python",
  "name": "python",
  "npconvert_exporter": "python",
  "pygments_lexer": "ipython3",
  "version": 3
 },
 "nbformat": 4,
 "nbformat_minor": 2
}
