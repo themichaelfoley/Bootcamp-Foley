{
 "cells": [
  {
   "cell_type": "markdown",
   "metadata": {},
   "source": [
    "# Students Do: Crude Stopwords\n",
    "For this activity, create a function that takes in an article and outputs a list of words that is free of stopwords and any non-letter characters. After looking at the results, define your own list of stopwords to add to the NLTK default set. "
   ]
  },
  {
   "cell_type": "code",
   "execution_count": 19,
   "metadata": {},
   "outputs": [
    {
     "name": "stderr",
     "output_type": "stream",
     "text": [
      "[nltk_data] Downloading package reuters to\n",
      "[nltk_data]     C:\\Users\\themi\\AppData\\Roaming\\nltk_data...\n",
      "[nltk_data]   Package reuters is already up-to-date!\n",
      "[nltk_data] Downloading package punkt to\n",
      "[nltk_data]     C:\\Users\\themi\\AppData\\Roaming\\nltk_data...\n",
      "[nltk_data]   Package punkt is already up-to-date!\n",
      "[nltk_data] Downloading package stopwords to\n",
      "[nltk_data]     C:\\Users\\themi\\AppData\\Roaming\\nltk_data...\n",
      "[nltk_data]   Package stopwords is already up-to-date!\n"
     ]
    },
    {
     "data": {
      "text/plain": [
       "True"
      ]
     },
     "execution_count": 19,
     "metadata": {},
     "output_type": "execute_result"
    }
   ],
   "source": [
    "# Imports\n",
    "from nltk.corpus import reuters, stopwords\n",
    "from nltk.tokenize import word_tokenize\n",
    "import re\n",
    "\n",
    "# Code to download corpora\n",
    "import nltk\n",
    "nltk.download('reuters')\n",
    "nltk.download('punkt')\n",
    "nltk.download('stopwords')"
   ]
  },
  {
   "cell_type": "code",
   "execution_count": 20,
   "metadata": {},
   "outputs": [],
   "source": [
    "# Store an article to work with\n",
    "crude_article = reuters.raw(fileids=reuters.fileids(categories='crude')[2])"
   ]
  },
  {
   "cell_type": "code",
   "execution_count": 21,
   "metadata": {},
   "outputs": [
    {
     "name": "stdout",
     "output_type": "stream",
     "text": [
      "TURKEY CALLS FOR DIALOGUE TO SOLVE DISPUTE\n",
      "  Turkey said today its disputes with\n",
      "  Greece, including rights on the continental shelf in the Aegean\n",
      "  Sea, should be solved through negotiations.\n",
      "      A Foreign Ministry statement said the latest crisis between\n",
      "  the two NATO members stemmed from the continental shelf dispute\n",
      "  and an agreement on this issue would effect the security,\n",
      "  economy and other rights of both countries.\n",
      "      \"As the issue is basicly political, a solution can only be\n",
      "  found by bilateral negotiations,\" the statement said. Greece has\n",
      "  repeatedly said the issue was legal and could be solved at the\n",
      "  International Court of Justice.\n",
      "      The two countries approached armed confrontation last month\n",
      "  after Greece announced it planned oil exploration work in the\n",
      "  Aegean and Turkey said it would also search for oil.\n",
      "      A face-off was averted when Turkey confined its research to\n",
      "  territorrial waters. \"The latest crises created an historic\n",
      "  opportunity to solve the disputes between the two countries,\"\n",
      "  the Foreign Ministry statement said.\n",
      "      Turkey's ambassador in Athens, Nazmi Akiman, was due to\n",
      "  meet Prime Minister Andreas Papandreou today for the Greek\n",
      "  reply to a message sent last week by Turkish Prime Minister\n",
      "  Turgut Ozal. The contents of the message were not disclosed.\n",
      "  \n",
      "\n",
      "\n"
     ]
    }
   ],
   "source": [
    "# Print the stored article\n",
    "print(crude_article)"
   ]
  },
  {
   "cell_type": "code",
   "execution_count": 22,
   "metadata": {},
   "outputs": [],
   "source": [
    "# Complete the `clean_text` function\n",
    "def clean_text(article):\n",
    "    \n",
    "    # Define a set of stopwords using `stopwords.words()`\n",
    "    sw = set(stopwords.words('english'))\n",
    "    # Define the regex parameters\n",
    "    regex = re.compile(\"[^a-zA-Z ]\")\n",
    "    # Apply regex parameters to article\n",
    "    re_clean = regex.sub('', article)\n",
    "    # Apply `word_tokenize` to the regex scrubbed text\n",
    "    re_words = word_tokenize(re_clean)\n",
    "    # Create list of lower-case words that are not in the stopword set\n",
    "    output = [word.lower() for word in re_words if word.lower() not in sw]   \n",
    "    # Return the final list\n",
    "    return output"
   ]
  },
  {
   "cell_type": "code",
   "execution_count": 23,
   "metadata": {},
   "outputs": [],
   "source": [
    "# Pass article into `clean_text` and store the result\n",
    "clean_result = clean_text(crude_article)"
   ]
  },
  {
   "cell_type": "code",
   "execution_count": 26,
   "metadata": {},
   "outputs": [
    {
     "name": "stdout",
     "output_type": "stream",
     "text": [
      "['turkey', 'calls', 'dialogue', 'solve', 'dispute', 'turkey', 'said', 'today', 'disputes', 'greece', 'including', 'rights', 'continental', 'shelf', 'aegean', 'sea', 'solved', 'negotiations', 'foreign', 'ministry', 'statement', 'said', 'latest', 'crisis', 'two', 'nato', 'members', 'stemmed', 'continental', 'shelf', 'dispute', 'agreement', 'issue', 'would', 'effect', 'security', 'economy', 'rights', 'countries', 'issue', 'basicly', 'political', 'solution', 'found', 'bilateral', 'negotiations', 'statement', 'said', 'greece', 'repeatedly', 'said', 'issue', 'legal', 'could', 'solved', 'international', 'court', 'justice', 'two', 'countries', 'approached', 'armed', 'confrontation', 'last', 'month', 'greece', 'announced', 'planned', 'oil', 'exploration', 'work', 'aegean', 'turkey', 'said', 'would', 'also', 'search', 'oil', 'faceoff', 'averted', 'turkey', 'confined', 'research', 'territorrial', 'waters', 'latest', 'crises', 'created', 'historic', 'opportunity', 'solve', 'disputes', 'two', 'countries', 'foreign', 'ministry', 'statement', 'said', 'turkeys', 'ambassador', 'athens', 'nazmi', 'akiman', 'due', 'meet', 'prime', 'minister', 'andreas', 'papandreou', 'today', 'greek', 'reply', 'message', 'sent', 'last', 'week', 'turkish', 'prime', 'minister', 'turgut', 'ozal', 'contents', 'message', 'disclosed']\n"
     ]
    }
   ],
   "source": [
    "# Print the unique words using the `set` function\n",
    "print(clean_result)"
   ]
  },
  {
   "cell_type": "code",
   "execution_count": 27,
   "metadata": {},
   "outputs": [],
   "source": [
    "# Second iteration, with custom stopwords\n",
    "def clean_text(article, cust_stopwords={}):\n",
    "    \n",
    "   # Define a set of stopwords using `stopwords.words()`\n",
    "    sw = set(stopwords.words('english'))\n",
    "    sw = sw.union(cust_stopwords)\n",
    "    # Define the regex parameters\n",
    "    regex = re.compile(\"[^a-zA-Z ]\")\n",
    "    # Apply regex parameters to article\n",
    "    re_clean = regex.sub('', article)\n",
    "    # Apply `word_tokenize` to the regex scrubbed text\n",
    "    re_words = word_tokenize(re_clean)\n",
    "    # Create list of lower-case words that are not in the stopword set\n",
    "    output = [word.lower() for word in re_words if word.lower() not in sw]   \n",
    "    # Return the final list\n",
    "    return output"
   ]
  },
  {
   "cell_type": "code",
   "execution_count": 29,
   "metadata": {},
   "outputs": [
    {
     "data": {
      "text/plain": [
       "['calls',\n",
       " 'dialogue',\n",
       " 'solve',\n",
       " 'dispute',\n",
       " 'said',\n",
       " 'today',\n",
       " 'disputes',\n",
       " 'greece',\n",
       " 'including',\n",
       " 'rights',\n",
       " 'continental',\n",
       " 'shelf',\n",
       " 'aegean',\n",
       " 'sea',\n",
       " 'solved',\n",
       " 'negotiations',\n",
       " 'foreign',\n",
       " 'ministry',\n",
       " 'statement',\n",
       " 'said',\n",
       " 'latest',\n",
       " 'crisis',\n",
       " 'two',\n",
       " 'nato',\n",
       " 'members',\n",
       " 'stemmed',\n",
       " 'continental',\n",
       " 'shelf',\n",
       " 'dispute',\n",
       " 'agreement',\n",
       " 'issue',\n",
       " 'would',\n",
       " 'effect',\n",
       " 'security',\n",
       " 'economy',\n",
       " 'rights',\n",
       " 'countries',\n",
       " 'issue',\n",
       " 'basicly',\n",
       " 'political',\n",
       " 'solution',\n",
       " 'found',\n",
       " 'bilateral',\n",
       " 'negotiations',\n",
       " 'statement',\n",
       " 'said',\n",
       " 'greece',\n",
       " 'repeatedly',\n",
       " 'said',\n",
       " 'issue',\n",
       " 'legal',\n",
       " 'could',\n",
       " 'solved',\n",
       " 'international',\n",
       " 'court',\n",
       " 'justice',\n",
       " 'two',\n",
       " 'countries',\n",
       " 'approached',\n",
       " 'armed',\n",
       " 'confrontation',\n",
       " 'last',\n",
       " 'month',\n",
       " 'greece',\n",
       " 'announced',\n",
       " 'planned',\n",
       " 'oil',\n",
       " 'exploration',\n",
       " 'work',\n",
       " 'aegean',\n",
       " 'said',\n",
       " 'would',\n",
       " 'also',\n",
       " 'search',\n",
       " 'oil',\n",
       " 'faceoff',\n",
       " 'averted',\n",
       " 'confined',\n",
       " 'research',\n",
       " 'territorrial',\n",
       " 'waters',\n",
       " 'latest',\n",
       " 'crises',\n",
       " 'created',\n",
       " 'historic',\n",
       " 'opportunity',\n",
       " 'solve',\n",
       " 'disputes',\n",
       " 'two',\n",
       " 'countries',\n",
       " 'foreign',\n",
       " 'ministry',\n",
       " 'statement',\n",
       " 'said',\n",
       " 'turkeys',\n",
       " 'ambassador',\n",
       " 'athens',\n",
       " 'nazmi',\n",
       " 'akiman',\n",
       " 'due',\n",
       " 'meet',\n",
       " 'prime',\n",
       " 'minister',\n",
       " 'andreas',\n",
       " 'papandreou',\n",
       " 'today',\n",
       " 'greek',\n",
       " 'reply',\n",
       " 'message',\n",
       " 'sent',\n",
       " 'last',\n",
       " 'week',\n",
       " 'turkish',\n",
       " 'prime',\n",
       " 'minister',\n",
       " 'turgut',\n",
       " 'ozal',\n",
       " 'contents',\n",
       " 'message',\n",
       " 'disclosed']"
      ]
     },
     "execution_count": 29,
     "metadata": {},
     "output_type": "execute_result"
    }
   ],
   "source": [
    "# Pass article into `clean_text` and examine new results\n",
    "clean_text(crude_article, {\"turkey\"})"
   ]
  }
 ],
 "metadata": {
  "interpreter": {
   "hash": "2803b3c07b64a7b986e21828569605b043ff1dba15e47aab897e816beaee656d"
  },
  "kernelspec": {
   "display_name": "Python 3.7.11 ('dev')",
   "language": "python",
   "name": "python3"
  },
  "language_info": {
   "codemirror_mode": {
    "name": "ipython",
    "version": 3
   },
   "file_extension": ".py",
   "mimetype": "text/x-python",
   "name": "python",
   "nbconvert_exporter": "python",
   "pygments_lexer": "ipython3",
   "version": "3.7.11"
  }
 },
 "nbformat": 4,
 "nbformat_minor": 4
}
