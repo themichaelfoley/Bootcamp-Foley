{
 "cells": [
  {
   "cell_type": "markdown",
   "metadata": {},
   "source": [
    "# Students Do: Lemmatize\n",
    "In this activity, create a function that performs stopwording, regex cleaning of non-letter characters, word tokenizing, and lemmatization on each word in the article"
   ]
  },
  {
   "cell_type": "code",
   "execution_count": 19,
   "metadata": {},
   "outputs": [
    {
     "name": "stderr",
     "output_type": "stream",
     "text": [
      "[nltk_data] Downloading package reuters to\n",
      "[nltk_data]     C:\\Users\\themi\\AppData\\Roaming\\nltk_data...\n",
      "[nltk_data]   Package reuters is already up-to-date!\n",
      "[nltk_data] Downloading package stopwords to\n",
      "[nltk_data]     C:\\Users\\themi\\AppData\\Roaming\\nltk_data...\n",
      "[nltk_data]   Package stopwords is already up-to-date!\n",
      "[nltk_data] Downloading package punkt to\n",
      "[nltk_data]     C:\\Users\\themi\\AppData\\Roaming\\nltk_data...\n",
      "[nltk_data]   Package punkt is already up-to-date!\n",
      "[nltk_data] Downloading package wordnet to\n",
      "[nltk_data]     C:\\Users\\themi\\AppData\\Roaming\\nltk_data...\n",
      "[nltk_data]   Package wordnet is already up-to-date!\n"
     ]
    },
    {
     "data": {
      "text/plain": [
       "True"
      ]
     },
     "execution_count": 19,
     "metadata": {},
     "output_type": "execute_result"
    }
   ],
   "source": [
    "from nltk.stem import WordNetLemmatizer \n",
    "from nltk.tokenize import word_tokenize\n",
    "from nltk.corpus import reuters, stopwords\n",
    "import re\n",
    "\n",
    "# Code to download corpora\n",
    "import nltk\n",
    "nltk.download('reuters')\n",
    "nltk.download('stopwords')\n",
    "nltk.download('punkt')\n",
    "nltk.download('wordnet')"
   ]
  },
  {
   "cell_type": "code",
   "execution_count": 20,
   "metadata": {},
   "outputs": [],
   "source": [
    "# Instantiate the lemmatizer\n",
    "lemmatizer = WordNetLemmatizer()"
   ]
  },
  {
   "cell_type": "code",
   "execution_count": 21,
   "metadata": {},
   "outputs": [
    {
     "name": "stdout",
     "output_type": "stream",
     "text": [
      "HUNGARY RAISES PRICES IN EFFORT TO CURB DEFICIT\n",
      "  Hungary has announced sharp price\n",
      "  increases for a range of food and consumer products as part of\n",
      "  its efforts to curb a soaring budget deficit.\n",
      "      The official MTI news agency said the government decided\n",
      "  consumer price subsidies had to be cut to reduce state\n",
      "  spending. From today the price of meat will rise by an average\n",
      "  18 pct and that of beer and spirits by 10 pct, MTI said.\n",
      "      MTI said consumer goods will also become more expensive,\n",
      "  with the price of refrigerators rising some five pct. It also\n",
      "  announced a number of measures to ease hardship, including\n",
      "  higher pensions and family allowances.\n",
      "      Statistics indicate the budget deficit tripled in 1986 to\n",
      "  47 billion forints. Central banker Janos Fekete has said the\n",
      "  Finance Ministry is trying to cut the 1987 shortfall to between\n",
      "  30 and 35 billion from a planned 43.8 billion.\n",
      "      A major tax reform, including the introduction of a\n",
      "  Western-style valued added tax, is planned for January 1988 in\n",
      "  an effort to cure problems in state spending.\n",
      "      But diplomats said the latest announcement shows the\n",
      "  authorities were forced to act quickly to keep this year's\n",
      "  deficit under control.\n",
      "      The measures are also aimed at cooling an overheated\n",
      "  economy, and could help dampen Hungarians' appetite for\n",
      "  imported Western goods which consume increasingly expensive\n",
      "  hard currency, the diplomats said.\n",
      "      The diplomats also said, however, that they did not expect\n",
      "  the kind of social unrest that followed sharp price rises in\n",
      "  other East Bloc states, notably Poland.\n",
      "  \n",
      "\n",
      "\n"
     ]
    }
   ],
   "source": [
    "article = reuters.raw(fileids=reuters.fileids(categories='cpi')[2])\n",
    "print(article)"
   ]
  },
  {
   "cell_type": "code",
   "execution_count": 22,
   "metadata": {},
   "outputs": [],
   "source": [
    "# Define function\n",
    "def process_text(article):\n",
    "    sw = set(stopwords.words('english'))\n",
    "    regex = re.compile(\"[^a-zA-Z ]\")\n",
    "    re_clean = regex.sub('', article)\n",
    "    words = word_tokenize(re_clean)\n",
    "    lem = [lemmatizer.lemmatize(word) for word in words]\n",
    "    output = [word.lower() for word in lem if word.lower() not in sw]\n",
    "    return output"
   ]
  },
  {
   "cell_type": "code",
   "execution_count": 23,
   "metadata": {},
   "outputs": [
    {
     "name": "stdout",
     "output_type": "stream",
     "text": [
      "['hungary', 'raises', 'prices', 'effort', 'curb', 'deficit', 'hungary', 'ha', 'announced', 'sharp', 'price', 'increase', 'range', 'food', 'consumer', 'product', 'part', 'effort', 'curb', 'soaring', 'budget', 'deficit', 'official', 'mti', 'news', 'agency', 'said', 'government', 'decided', 'consumer', 'price', 'subsidy', 'cut', 'reduce', 'state', 'spending', 'today', 'price', 'meat', 'rise', 'average', 'pct', 'beer', 'spirit', 'pct', 'mti', 'said', 'mti', 'said', 'consumer', 'good', 'also', 'become', 'expensive', 'price', 'refrigerator', 'rising', 'five', 'pct', 'also', 'announced', 'number', 'measure', 'ease', 'hardship', 'including', 'higher', 'pension', 'family', 'allowance', 'statistics', 'indicate', 'budget', 'deficit', 'tripled', 'billion', 'forint', 'central', 'banker', 'janos', 'fekete', 'ha', 'said', 'finance', 'ministry', 'trying', 'cut', 'shortfall', 'billion', 'planned', 'billion', 'major', 'tax', 'reform', 'including', 'introduction', 'westernstyle', 'valued', 'added', 'tax', 'planned', 'january', 'effort', 'cure', 'problem', 'state', 'spending', 'diplomat', 'said', 'latest', 'announcement', 'show', 'authority', 'forced', 'act', 'quickly', 'keep', 'year', 'deficit', 'control', 'measure', 'also', 'aimed', 'cooling', 'overheated', 'economy', 'could', 'help', 'dampen', 'hungarians', 'appetite', 'imported', 'western', 'good', 'consume', 'increasingly', 'expensive', 'hard', 'currency', 'diplomat', 'said', 'diplomat', 'also', 'said', 'however', 'expect', 'kind', 'social', 'unrest', 'followed', 'sharp', 'price', 'rise', 'east', 'bloc', 'state', 'notably', 'poland']\n"
     ]
    }
   ],
   "source": [
    "lem_processed = process_text(article)\n",
    "print(lem_processed)"
   ]
  },
  {
   "cell_type": "code",
   "execution_count": 34,
   "metadata": {},
   "outputs": [],
   "source": [
    "# Define function with lemmatizer pos argument\n",
    "def process_text(article):\n",
    "    sw = set(stopwords.words('english'))\n",
    "    regex = re.compile(\"[^a-zA-Z ]\")\n",
    "    re_clean = regex.sub('', article)\n",
    "    words = word_tokenize(re_clean)\n",
    "    lem = [lemmatizer.lemmatize(word,pos=\"a\") for word in words]\n",
    "    output = [word.lower() for word in lem if word.lower() not in sw]\n",
    "    return output"
   ]
  },
  {
   "cell_type": "code",
   "execution_count": 35,
   "metadata": {},
   "outputs": [
    {
     "name": "stdout",
     "output_type": "stream",
     "text": [
      "['hungary', 'raises', 'prices', 'effort', 'curb', 'deficit', 'hungary', 'announced', 'sharp', 'price', 'increases', 'range', 'food', 'consumer', 'products', 'part', 'efforts', 'curb', 'soaring', 'budget', 'deficit', 'official', 'mti', 'news', 'agency', 'said', 'government', 'decided', 'consumer', 'price', 'subsidies', 'cut', 'reduce', 'state', 'spending', 'today', 'price', 'meat', 'rise', 'average', 'pct', 'beer', 'spirits', 'pct', 'mti', 'said', 'mti', 'said', 'consumer', 'goods', 'also', 'become', 'expensive', 'price', 'refrigerators', 'rising', 'five', 'pct', 'also', 'announced', 'number', 'measures', 'ease', 'hardship', 'including', 'high', 'pensions', 'family', 'allowances', 'statistics', 'indicate', 'budget', 'deficit', 'tripled', 'billion', 'forints', 'central', 'banker', 'janos', 'fekete', 'said', 'finance', 'ministry', 'trying', 'cut', 'shortfall', 'billion', 'planned', 'billion', 'major', 'tax', 'reform', 'including', 'introduction', 'westernstyle', 'valued', 'added', 'tax', 'planned', 'january', 'effort', 'cure', 'problems', 'state', 'spending', 'diplomats', 'said', 'late', 'announcement', 'shows', 'authorities', 'forced', 'act', 'quickly', 'keep', 'years', 'deficit', 'control', 'measures', 'also', 'aimed', 'cooling', 'overheated', 'economy', 'could', 'help', 'dampen', 'hungarians', 'appetite', 'imported', 'western', 'goods', 'consume', 'increasingly', 'expensive', 'hard', 'currency', 'diplomats', 'said', 'diplomats', 'also', 'said', 'however', 'expect', 'kind', 'social', 'unrest', 'followed', 'sharp', 'price', 'rises', 'east', 'bloc', 'states', 'notably', 'poland']\n"
     ]
    }
   ],
   "source": [
    "lem2 = process_text(article)\n",
    "print(lem2)"
   ]
  }
 ],
 "metadata": {
  "interpreter": {
   "hash": "2803b3c07b64a7b986e21828569605b043ff1dba15e47aab897e816beaee656d"
  },
  "kernelspec": {
   "display_name": "Python 3.7.11 ('dev')",
   "language": "python",
   "name": "python3"
  },
  "language_info": {
   "codemirror_mode": {
    "name": "ipython",
    "version": 3
   },
   "file_extension": ".py",
   "mimetype": "text/x-python",
   "name": "python",
   "nbconvert_exporter": "python",
   "pygments_lexer": "ipython3",
   "version": "3.7.11"
  }
 },
 "nbformat": 4,
 "nbformat_minor": 2
}
