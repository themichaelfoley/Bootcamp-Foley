{
 "cells": [
  {
   "cell_type": "markdown",
   "metadata": {},
   "source": [
    "# Student Activity: Tokenizing Reuters"
   ]
  },
  {
   "cell_type": "code",
   "execution_count": 6,
   "metadata": {},
   "outputs": [
    {
     "name": "stderr",
     "output_type": "stream",
     "text": [
      "[nltk_data] Downloading package reuters to\n",
      "[nltk_data]     C:\\Users\\themi\\AppData\\Roaming\\nltk_data...\n",
      "[nltk_data]   Package reuters is already up-to-date!\n",
      "[nltk_data] Downloading package punkt to\n",
      "[nltk_data]     C:\\Users\\themi\\AppData\\Roaming\\nltk_data...\n",
      "[nltk_data]   Package punkt is already up-to-date!\n"
     ]
    },
    {
     "data": {
      "text/plain": [
       "True"
      ]
     },
     "execution_count": 6,
     "metadata": {},
     "output_type": "execute_result"
    }
   ],
   "source": [
    "from nltk.corpus import reuters\n",
    "from nltk.tokenize import sent_tokenize, word_tokenize\n",
    "import pandas as pd\n",
    "\n",
    "# Code to download corpora\n",
    "import nltk\n",
    "nltk.download('reuters')\n",
    "nltk.download('punkt')"
   ]
  },
  {
   "cell_type": "code",
   "execution_count": 7,
   "metadata": {},
   "outputs": [
    {
     "name": "stdout",
     "output_type": "stream",
     "text": [
      "['acq', 'alum', 'barley', 'bop', 'carcass', 'castor-oil', 'cocoa', 'coconut', 'coconut-oil', 'coffee', 'copper', 'copra-cake', 'corn', 'cotton', 'cotton-oil', 'cpi', 'cpu', 'crude', 'dfl', 'dlr', 'dmk', 'earn', 'fuel', 'gas', 'gnp', 'gold', 'grain', 'groundnut', 'groundnut-oil', 'heat', 'hog', 'housing', 'income', 'instal-debt', 'interest', 'ipi', 'iron-steel', 'jet', 'jobs', 'l-cattle', 'lead', 'lei', 'lin-oil', 'livestock', 'lumber', 'meal-feed', 'money-fx', 'money-supply', 'naphtha', 'nat-gas', 'nickel', 'nkr', 'nzdlr', 'oat', 'oilseed', 'orange', 'palladium', 'palm-oil', 'palmkernel', 'pet-chem', 'platinum', 'potato', 'propane', 'rand', 'rape-oil', 'rapeseed', 'reserves', 'retail', 'rice', 'rubber', 'rye', 'ship', 'silver', 'sorghum', 'soy-meal', 'soy-oil', 'soybean', 'strategic-metal', 'sugar', 'sun-meal', 'sun-oil', 'sunseed', 'tea', 'tin', 'trade', 'veg-oil', 'wheat', 'wpi', 'yen', 'zinc']\n"
     ]
    }
   ],
   "source": [
    "# Search through all categories\n",
    "print(reuters.categories())"
   ]
  },
  {
   "cell_type": "code",
   "execution_count": 8,
   "metadata": {},
   "outputs": [],
   "source": [
    "# Get all fileids associated with cpi\n",
    "#reuters.fileids(categories = 'cpi')[0]\n",
    "id = reuters.fileids(categories = 'cpi')[0]"
   ]
  },
  {
   "cell_type": "code",
   "execution_count": 9,
   "metadata": {},
   "outputs": [
    {
     "name": "stdout",
     "output_type": "stream",
     "text": [
      "ECONOMIC SPOTLIGHT - KUWAITI ECONOMY\n",
      "  Kuwait's oil-reliant and debt-ridden\n",
      "  economy has started to pull out of a nosedive but oil prices\n",
      "  will determine the pace of recovery, bankers and economists\n",
      "  say.\n",
      "      Crucial will be the ability of the 13-member OPEC to hold\n",
      "  oil prices around a new benchmark of 18 dlrs a barrel in the\n",
      "  northern hemisphere summer when demand usually slackens.\n",
      "      Bankers estimate the economy, measured in terms of gross\n",
      "  domestic product (gdp), shrank 19 pct in real terms last year\n",
      "  after contracting 8.1 pct the year before.\n",
      "      This was after taking into account inflation in consumer\n",
      "  prices of 1.5 pct in 1985, slowing to 1.0 pct in 1986.\n",
      "      Factors depressing economic activity include the\n",
      "  6-1/2-year-old Iran-Iraq war on Kuwait's doorstep, which\n",
      "  threatens the emirate's vital oil export lifeline through the\n",
      "  Gulf and has sapped business confidence.\n",
      "      But sentiment received a much-needed boost in September\n",
      "  when, after a series of piecemeal steps to combat a debt crisis\n",
      "  caused by the 1982 crash of local stock market, a comprehensive\n",
      "  new debt settlement program was introduced.\n",
      "      The share crash, result of a speculative spree in forward\n",
      "  trading, left 95 billion dlrs of post-dated cheques in default.\n",
      "      The cheques were also used as collateral for consumer\n",
      "  spending, thus generating an informal credit system.\n",
      "      Much of the debt has been watered down but big sums are\n",
      "  still owed by individuals and companies.\n",
      "      There was some 4.4 billion dinars (about 15.7 billion dlrs)\n",
      "  in outstanding bank credit at the end of 1986, of which\n",
      "  one-quarter to one-third was estimated by bankers to rank as\n",
      "  bad or doubtful debt. But the government has repeatedly said it\n",
      "  will not allow any banks to go under.\n",
      "      The new debt settlement scheme entails a rescheduling of\n",
      "  problem credit over 10 to 15 years, depending on whether\n",
      "  debtors have regular cash flows or not.\n",
      "      Banks' shareholders and depositors will have their rights\n",
      "  guaranteed by the government -- an edict of vital significance\n",
      "  in a country of only 1.7 mln people where the financial sector\n",
      "  is the biggest after oil.\n",
      "      Kuwait is better placed than any other OPEC country to ride\n",
      "  out the oil glut, bankers and economists say.\n",
      "      Kuwait has an OPEC quota of 948,000 barrels per day (bpd)\n",
      "  compared with production capacity of 4.0 mln bpd mentioned last\n",
      "  year by Oil Minister Sheikh Ali al-Khalifa al-Sabah.\n",
      "      But strategic diversification into downstream operations in\n",
      "  Europe several years ago and a hefty refining investment at\n",
      "  home gives it guaranteed markets abroad and enables it to sell\n",
      "  over one-half of its output as high-grade refined oil products.\n",
      "      Oil industry sources say Kuwait is able to get an average\n",
      "  2.00 dlrs a barrel more by selling oil in the form of processed\n",
      "  product such as gas oil, kerosene and naphtha, rather than as\n",
      "  crude.\n",
      "      Bankers say the rebound in oil prices is the major reason\n",
      "  for cautious optimism. Other reasons are low domestic\n",
      "  inflation, a bottoming out of the fall in imports in recent\n",
      "  years and signs government spending on productive sectors will\n",
      "  remain steady.\n",
      "      External accounts are in good shape, with an estimated 1.8\n",
      "  billion dinar current account surplus in 1986, 16 pct below\n",
      "  that for 1985, but still an achievement in the recession-hit\n",
      "  Gulf.\n",
      "      Kuwait's petrodollar reserves in mid-1986 were put\n",
      "  officially at over 80 billion dlrs, earning investment income\n",
      "  of the equivalent of about 3.65 billion dlrs a year.\n",
      "      But for the first time since the end of the oil boom, these\n",
      "  reserves may not be enough to prevent a \"real\" budget deficit for\n",
      "  the 1986/87 fiscal year ending June 30, bankers say.\n",
      "      In a budget portrayed by bankers as mildly contractionary,\n",
      "  revenues for 1986/87 were cut 38.6 pct and spending 11 pct,\n",
      "  doubling the nominal deficit to 1.33 billion dinars.\n",
      "      This left out income from state reserves, usually excluded\n",
      "  in official budget accounting, which are forecast by bankers at\n",
      "  up to 1.0 billion dinars in 1986/87, resulting in some\n",
      "  shortfall.\n",
      "      Bankers say it is too early to venture a forecast for\n",
      "  economic growth this year or next.\n",
      "      \"It depends on oil prices,\" one said. \"This summer is\n",
      "  important.\"\n",
      "      Cabinet Affairs Minister Rashid al-Rashid said last Sunday\n",
      "  the cabinet has ratified recommendations to rationalise state\n",
      "  spending in favour of productive sectors and reactivate the\n",
      "  economy.\n",
      "      He gave no details but bankers say these are expected to be\n",
      "  spelled out in the 1987/88 budget, possibly in June.\n",
      "  \n",
      "\n",
      "\n"
     ]
    }
   ],
   "source": [
    "#article = reuters.raw('test/14891')\n",
    "article = reuters.raw(id)\n",
    "print(article)"
   ]
  },
  {
   "cell_type": "markdown",
   "metadata": {},
   "source": [
    "Get count of stories "
   ]
  },
  {
   "cell_type": "code",
   "execution_count": 14,
   "metadata": {},
   "outputs": [],
   "source": [
    "cpi_ids = reuters.fileids(categories= \"cpi\")"
   ]
  },
  {
   "cell_type": "code",
   "execution_count": 15,
   "metadata": {},
   "outputs": [
    {
     "data": {
      "text/plain": [
       "97"
      ]
     },
     "execution_count": 15,
     "metadata": {},
     "output_type": "execute_result"
    }
   ],
   "source": [
    "raw_stories = [reuters.raw(id) for id in cpi_ids]\n",
    "len(raw_stories)"
   ]
  },
  {
   "cell_type": "code",
   "execution_count": 10,
   "metadata": {},
   "outputs": [
    {
     "data": {
      "text/plain": [
       "[\"ECONOMIC SPOTLIGHT - KUWAITI ECONOMY\\n  Kuwait's oil-reliant and debt-ridden\\n  economy has started to pull out of a nosedive but oil prices\\n  will determine the pace of recovery, bankers and economists\\n  say\",\n",
       " '\\n      Crucial will be the ability of the 13-member OPEC to hold\\n  oil prices around a new benchmark of 18 dlrs a barrel in the\\n  northern hemisphere summer when demand usually slackens',\n",
       " '\\n      Bankers estimate the economy, measured in terms of gross\\n  domestic product (gdp), shrank 19 pct in real terms last year\\n  after contracting 8',\n",
       " '1 pct the year before',\n",
       " '\\n      This was after taking into account inflation in consumer\\n  prices of 1',\n",
       " '5 pct in 1985, slowing to 1',\n",
       " '0 pct in 1986',\n",
       " \"\\n      Factors depressing economic activity include the\\n  6-1/2-year-old Iran-Iraq war on Kuwait's doorstep, which\\n  threatens the emirate's vital oil export lifeline through the\\n  Gulf and has sapped business confidence\",\n",
       " '\\n      But sentiment received a much-needed boost in September\\n  when, after a series of piecemeal steps to combat a debt crisis\\n  caused by the 1982 crash of local stock market, a comprehensive\\n  new debt settlement program was introduced',\n",
       " '\\n      The share crash, result of a speculative spree in forward\\n  trading, left 95 billion dlrs of post-dated cheques in default',\n",
       " '\\n      The cheques were also used as collateral for consumer\\n  spending, thus generating an informal credit system',\n",
       " '\\n      Much of the debt has been watered down but big sums are\\n  still owed by individuals and companies',\n",
       " '\\n      There was some 4',\n",
       " '4 billion dinars (about 15',\n",
       " '7 billion dlrs)\\n  in outstanding bank credit at the end of 1986, of which\\n  one-quarter to one-third was estimated by bankers to rank as\\n  bad or doubtful debt',\n",
       " ' But the government has repeatedly said it\\n  will not allow any banks to go under',\n",
       " '\\n      The new debt settlement scheme entails a rescheduling of\\n  problem credit over 10 to 15 years, depending on whether\\n  debtors have regular cash flows or not',\n",
       " \"\\n      Banks' shareholders and depositors will have their rights\\n  guaranteed by the government -- an edict of vital significance\\n  in a country of only 1\",\n",
       " '7 mln people where the financial sector\\n  is the biggest after oil',\n",
       " '\\n      Kuwait is better placed than any other OPEC country to ride\\n  out the oil glut, bankers and economists say',\n",
       " '\\n      Kuwait has an OPEC quota of 948,000 barrels per day (bpd)\\n  compared with production capacity of 4',\n",
       " '0 mln bpd mentioned last\\n  year by Oil Minister Sheikh Ali al-Khalifa al-Sabah',\n",
       " '\\n      But strategic diversification into downstream operations in\\n  Europe several years ago and a hefty refining investment at\\n  home gives it guaranteed markets abroad and enables it to sell\\n  over one-half of its output as high-grade refined oil products',\n",
       " '\\n      Oil industry sources say Kuwait is able to get an average\\n  2',\n",
       " '00 dlrs a barrel more by selling oil in the form of processed\\n  product such as gas oil, kerosene and naphtha, rather than as\\n  crude',\n",
       " '\\n      Bankers say the rebound in oil prices is the major reason\\n  for cautious optimism',\n",
       " ' Other reasons are low domestic\\n  inflation, a bottoming out of the fall in imports in recent\\n  years and signs government spending on productive sectors will\\n  remain steady',\n",
       " '\\n      External accounts are in good shape, with an estimated 1',\n",
       " '8\\n  billion dinar current account surplus in 1986, 16 pct below\\n  that for 1985, but still an achievement in the recession-hit\\n  Gulf',\n",
       " \"\\n      Kuwait's petrodollar reserves in mid-1986 were put\\n  officially at over 80 billion dlrs, earning investment income\\n  of the equivalent of about 3\",\n",
       " '65 billion dlrs a year',\n",
       " '\\n      But for the first time since the end of the oil boom, these\\n  reserves may not be enough to prevent a \"real\" budget deficit for\\n  the 1986/87 fiscal year ending June 30, bankers say',\n",
       " '\\n      In a budget portrayed by bankers as mildly contractionary,\\n  revenues for 1986/87 were cut 38',\n",
       " '6 pct and spending 11 pct,\\n  doubling the nominal deficit to 1',\n",
       " '33 billion dinars',\n",
       " '\\n      This left out income from state reserves, usually excluded\\n  in official budget accounting, which are forecast by bankers at\\n  up to 1',\n",
       " '0 billion dinars in 1986/87, resulting in some\\n  shortfall',\n",
       " '\\n      Bankers say it is too early to venture a forecast for\\n  economic growth this year or next',\n",
       " '\\n      \"It depends on oil prices,\" one said',\n",
       " ' \"This summer is\\n  important',\n",
       " '\"\\n      Cabinet Affairs Minister Rashid al-Rashid said last Sunday\\n  the cabinet has ratified recommendations to rationalise state\\n  spending in favour of productive sectors and reactivate the\\n  economy',\n",
       " '\\n      He gave no details but bankers say these are expected to be\\n  spelled out in the 1987/88 budget, possibly in June',\n",
       " '\\n  \\n\\n']"
      ]
     },
     "execution_count": 10,
     "metadata": {},
     "output_type": "execute_result"
    }
   ],
   "source": [
    "# Simple sentence tokenizing with string split\n",
    "article.split('.')"
   ]
  },
  {
   "cell_type": "code",
   "execution_count": 11,
   "metadata": {},
   "outputs": [
    {
     "name": "stdout",
     "output_type": "stream",
     "text": [
      "['ECONOMIC', 'SPOTLIGHT', '-', 'KUWAITI', 'ECONOMY\\n', '', \"Kuwait's\", 'oil-reliant', 'and', 'debt-ridden\\n', '', 'economy', 'has', 'started', 'to', 'pull', 'out', 'of', 'a', 'nosedive', 'but', 'oil', 'prices\\n', '', 'will', 'determine', 'the', 'pace', 'of', 'recovery,', 'bankers', 'and', 'economists\\n', '', 'say']\n"
     ]
    }
   ],
   "source": [
    "sent = article.split('.')[0]\n",
    "print(sent.split(' '))"
   ]
  },
  {
   "cell_type": "code",
   "execution_count": 12,
   "metadata": {},
   "outputs": [
    {
     "data": {
      "text/plain": [
       "[\"ECONOMIC SPOTLIGHT - KUWAITI ECONOMY\\n  Kuwait's oil-reliant and debt-ridden\\n  economy has started to pull out of a nosedive but oil prices\\n  will determine the pace of recovery, bankers and economists\\n  say.\",\n",
       " 'Crucial will be the ability of the 13-member OPEC to hold\\n  oil prices around a new benchmark of 18 dlrs a barrel in the\\n  northern hemisphere summer when demand usually slackens.',\n",
       " 'Bankers estimate the economy, measured in terms of gross\\n  domestic product (gdp), shrank 19 pct in real terms last year\\n  after contracting 8.1 pct the year before.',\n",
       " 'This was after taking into account inflation in consumer\\n  prices of 1.5 pct in 1985, slowing to 1.0 pct in 1986.',\n",
       " \"Factors depressing economic activity include the\\n  6-1/2-year-old Iran-Iraq war on Kuwait's doorstep, which\\n  threatens the emirate's vital oil export lifeline through the\\n  Gulf and has sapped business confidence.\",\n",
       " 'But sentiment received a much-needed boost in September\\n  when, after a series of piecemeal steps to combat a debt crisis\\n  caused by the 1982 crash of local stock market, a comprehensive\\n  new debt settlement program was introduced.',\n",
       " 'The share crash, result of a speculative spree in forward\\n  trading, left 95 billion dlrs of post-dated cheques in default.',\n",
       " 'The cheques were also used as collateral for consumer\\n  spending, thus generating an informal credit system.',\n",
       " 'Much of the debt has been watered down but big sums are\\n  still owed by individuals and companies.',\n",
       " 'There was some 4.4 billion dinars (about 15.7 billion dlrs)\\n  in outstanding bank credit at the end of 1986, of which\\n  one-quarter to one-third was estimated by bankers to rank as\\n  bad or doubtful debt.',\n",
       " 'But the government has repeatedly said it\\n  will not allow any banks to go under.',\n",
       " 'The new debt settlement scheme entails a rescheduling of\\n  problem credit over 10 to 15 years, depending on whether\\n  debtors have regular cash flows or not.',\n",
       " \"Banks' shareholders and depositors will have their rights\\n  guaranteed by the government -- an edict of vital significance\\n  in a country of only 1.7 mln people where the financial sector\\n  is the biggest after oil.\",\n",
       " 'Kuwait is better placed than any other OPEC country to ride\\n  out the oil glut, bankers and economists say.',\n",
       " 'Kuwait has an OPEC quota of 948,000 barrels per day (bpd)\\n  compared with production capacity of 4.0 mln bpd mentioned last\\n  year by Oil Minister Sheikh Ali al-Khalifa al-Sabah.',\n",
       " 'But strategic diversification into downstream operations in\\n  Europe several years ago and a hefty refining investment at\\n  home gives it guaranteed markets abroad and enables it to sell\\n  over one-half of its output as high-grade refined oil products.',\n",
       " 'Oil industry sources say Kuwait is able to get an average\\n  2.00 dlrs a barrel more by selling oil in the form of processed\\n  product such as gas oil, kerosene and naphtha, rather than as\\n  crude.',\n",
       " 'Bankers say the rebound in oil prices is the major reason\\n  for cautious optimism.',\n",
       " 'Other reasons are low domestic\\n  inflation, a bottoming out of the fall in imports in recent\\n  years and signs government spending on productive sectors will\\n  remain steady.',\n",
       " 'External accounts are in good shape, with an estimated 1.8\\n  billion dinar current account surplus in 1986, 16 pct below\\n  that for 1985, but still an achievement in the recession-hit\\n  Gulf.',\n",
       " \"Kuwait's petrodollar reserves in mid-1986 were put\\n  officially at over 80 billion dlrs, earning investment income\\n  of the equivalent of about 3.65 billion dlrs a year.\",\n",
       " 'But for the first time since the end of the oil boom, these\\n  reserves may not be enough to prevent a \"real\" budget deficit for\\n  the 1986/87 fiscal year ending June 30, bankers say.',\n",
       " 'In a budget portrayed by bankers as mildly contractionary,\\n  revenues for 1986/87 were cut 38.6 pct and spending 11 pct,\\n  doubling the nominal deficit to 1.33 billion dinars.',\n",
       " 'This left out income from state reserves, usually excluded\\n  in official budget accounting, which are forecast by bankers at\\n  up to 1.0 billion dinars in 1986/87, resulting in some\\n  shortfall.',\n",
       " 'Bankers say it is too early to venture a forecast for\\n  economic growth this year or next.',\n",
       " '\"It depends on oil prices,\" one said.',\n",
       " '\"This summer is\\n  important.\"',\n",
       " 'Cabinet Affairs Minister Rashid al-Rashid said last Sunday\\n  the cabinet has ratified recommendations to rationalise state\\n  spending in favour of productive sectors and reactivate the\\n  economy.',\n",
       " 'He gave no details but bankers say these are expected to be\\n  spelled out in the 1987/88 budget, possibly in June.']"
      ]
     },
     "execution_count": 12,
     "metadata": {},
     "output_type": "execute_result"
    }
   ],
   "source": [
    "# Now using NLTK's sent_tokenize function\n",
    "sent_tokenize(article)"
   ]
  },
  {
   "cell_type": "code",
   "execution_count": 13,
   "metadata": {},
   "outputs": [
    {
     "name": "stdout",
     "output_type": "stream",
     "text": [
      "['ECONOMIC', 'SPOTLIGHT', '-', 'KUWAITI', 'ECONOMY', 'Kuwait', \"'s\", 'oil-reliant', 'and', 'debt-ridden', 'economy', 'has', 'started', 'to', 'pull', 'out', 'of', 'a', 'nosedive', 'but', 'oil', 'prices', 'will', 'determine', 'the', 'pace', 'of', 'recovery', ',', 'bankers', 'and', 'economists', 'say']\n"
     ]
    }
   ],
   "source": [
    "#...and word_tokenize function\n",
    "print(word_tokenize(sent))"
   ]
  }
 ],
 "metadata": {
  "interpreter": {
   "hash": "2803b3c07b64a7b986e21828569605b043ff1dba15e47aab897e816beaee656d"
  },
  "kernelspec": {
   "display_name": "Python 3.7.11 ('dev')",
   "language": "python",
   "name": "python3"
  },
  "language_info": {
   "codemirror_mode": {
    "name": "ipython",
    "version": 3
   },
   "file_extension": ".py",
   "mimetype": "text/x-python",
   "name": "python",
   "nbconvert_exporter": "python",
   "pygments_lexer": "ipython3",
   "version": "3.7.11"
  }
 },
 "nbformat": 4,
 "nbformat_minor": 2
}
