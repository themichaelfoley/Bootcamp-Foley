{
 "cells": [
  {
   "cell_type": "markdown",
   "metadata": {},
   "source": [
    "# Going Live with Algo Trading"
   ]
  },
  {
   "cell_type": "code",
   "execution_count": 1,
   "metadata": {},
   "outputs": [
    {
     "data": {
      "text/plain": [
       "True"
      ]
     },
     "execution_count": 1,
     "metadata": {},
     "output_type": "execute_result"
    }
   ],
   "source": [
    "# Initial imports\n",
    "import os\n",
    "import pandas as pd\n",
    "from pathlib import Path\n",
    "from dotenv import load_dotenv\n",
    "\n",
    "# Load .env environment variables\n",
    "load_dotenv()"
   ]
  },
  {
   "cell_type": "markdown",
   "metadata": {},
   "source": [
    "## Alpaca Example\n",
    "**Note**: You'll need to use your own API and Secret key here to run this code. (You can do so for free at the [Alpaca Trading](https://alpaca.markets/) website)."
   ]
  },
  {
   "cell_type": "markdown",
   "metadata": {},
   "source": [
    "[alpaca-trade-api ](https://github.com/alpacahq/alpaca-trade-api-python) is a python package that can be used to trade algorithmically through [Alpaca](https://alpaca.markets/), a U.S. equities broker."
   ]
  },
  {
   "cell_type": "code",
   "execution_count": 2,
   "metadata": {},
   "outputs": [],
   "source": [
    "import alpaca_trade_api as tradeapi\n",
    "from datetime import timedelta, datetime\n",
    "\n",
    "API_KEY = os.getenv(\"ALPACA_API_KEY\")\n",
    "API_SECRET = os.getenv(\"ALPACA_SECRET_KEY\")\n",
    "\n",
    "ALPACA_API_BASE_URL = \"https://paper-api.alpaca.markets\""
   ]
  },
  {
   "cell_type": "code",
   "execution_count": 3,
   "metadata": {},
   "outputs": [],
   "source": [
    "# Create a connection to the API \n"
   ]
  },
  {
   "cell_type": "code",
   "execution_count": 4,
   "metadata": {},
   "outputs": [],
   "source": [
    "# Set signal variable\n"
   ]
  },
  {
   "cell_type": "code",
   "execution_count": 5,
   "metadata": {},
   "outputs": [],
   "source": [
    "# Create buy signal, num shares and ticker\n"
   ]
  },
  {
   "cell_type": "code",
   "execution_count": 6,
   "metadata": {},
   "outputs": [],
   "source": [
    "# Set the ticket symbol and the number of shares to buy\n"
   ]
  },
  {
   "cell_type": "code",
   "execution_count": 7,
   "metadata": {},
   "outputs": [],
   "source": [
    "# Get final closing price\n"
   ]
  },
  {
   "cell_type": "code",
   "execution_count": 8,
   "metadata": {},
   "outputs": [
    {
     "data": {
      "text/plain": [
       "Order({   'asset_class': 'us_equity',\n",
       "    'asset_id': '8ccae427-5dd0-45b3-b5fe-7ba5e422c766',\n",
       "    'canceled_at': None,\n",
       "    'client_order_id': '68eb0aff-4cae-477a-8907-6d2e25d68f05',\n",
       "    'created_at': '2021-05-18T10:47:33.939429Z',\n",
       "    'expired_at': None,\n",
       "    'extended_hours': False,\n",
       "    'failed_at': None,\n",
       "    'filled_at': None,\n",
       "    'filled_avg_price': None,\n",
       "    'filled_qty': '0',\n",
       "    'hwm': None,\n",
       "    'id': 'bb05c112-7873-4ea1-ac40-d8536afa3f4a',\n",
       "    'legs': None,\n",
       "    'limit_price': '576.74',\n",
       "    'notional': None,\n",
       "    'order_class': '',\n",
       "    'order_type': 'limit',\n",
       "    'qty': '1',\n",
       "    'replaced_at': None,\n",
       "    'replaced_by': None,\n",
       "    'replaces': None,\n",
       "    'side': 'buy',\n",
       "    'status': 'accepted',\n",
       "    'stop_price': None,\n",
       "    'submitted_at': '2021-05-18T10:47:33.934397Z',\n",
       "    'symbol': 'TSLA',\n",
       "    'time_in_force': 'gtc',\n",
       "    'trail_percent': None,\n",
       "    'trail_price': None,\n",
       "    'type': 'limit',\n",
       "    'updated_at': '2021-05-18T10:47:33.939429Z'})"
      ]
     },
     "execution_count": 8,
     "metadata": {},
     "output_type": "execute_result"
    }
   ],
   "source": [
    "# Submit order\n"
   ]
  },
  {
   "cell_type": "code",
   "execution_count": null,
   "metadata": {},
   "outputs": [],
   "source": []
  }
 ],
 "metadata": {
  "kernelspec": {
   "display_name": "Python 3",
   "language": "python",
   "name": "python3"
  },
  "language_info": {
   "codemirror_mode": {
    "name": "ipython",
    "version": 3
   },
   "file_extension": ".py",
   "mimetype": "text/x-python",
   "name": "python",
   "nbconvert_exporter": "python",
   "pygments_lexer": "ipython3",
   "version": "3.7.3"
  }
 },
 "nbformat": 4,
 "nbformat_minor": 4
}
