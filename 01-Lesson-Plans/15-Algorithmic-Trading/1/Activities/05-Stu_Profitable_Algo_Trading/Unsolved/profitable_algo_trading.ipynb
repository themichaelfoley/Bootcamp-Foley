{
 "cells": [
  {
   "cell_type": "markdown",
   "metadata": {},
   "source": [
    "# Profitable Algorithmic Trading\n",
    "\n",
    "In this activity, you’ll write a trading algorithm that buys 100 shares of AMD stock on the days when the price decreases and that sells the accumulated shares on the last day of the trading period.\n",
    "\n",
    "## Background\n",
    "\n",
    "After a successful presentation of your trading algorithm to the Board of Directors, they asked you to meet with the Trading Strategies Team to modify your current algorithm to include metrics that can aid customers in evaluating the profitability of the algorithmic trading strategy.\n",
    "\n",
    "After meeting with the Trading Strategies Team, you were asked to include costs, proceeds, and return on investments metrics to assess the profitability of your trading algorithm.\n",
    "\n",
    "## Instructions\n",
    "\n",
    "1. Open the starter code provided. Run the cells of the \"Data Loading\" section to create the DataFrame with the AMD stock closing data.\n",
    "\n",
    "2. Using the starter code provided, change the algorithm by modifying the loop to include the cost and proceeds metrics for buys of 100 shares. Make sure that the algorithm checks the following conditions and executes the strategy for each one:\n",
    "\n",
    "    * If `previous_price = 0`, use the `loc` function to set the “trade_type” column for the current index to “buy”. Set the “cost/proceeds” column to the current share price multiplied by a `share_size` value of 100. Make sure to take the negative value of the expression so that the cost reflects money leaving an account. Finally, make sure to add the bought shares to an `accumulated_shares` variable.\n",
    "\n",
    "    * Otherwise, if the price of the current day is less than that of the previous day, set the “trade_type” column of the current index to “buy”. Set the “cost/proceeds” column to the current share price multiplied by a `share_size` value of 100. Make sure to take the negative value of the expression so that the cost reflects money leaving an account. Finally, make sure to add the bought shares to an `accumulated_shares` variable.\n",
    "\n",
    "    * You will not modify the algorithm for instances where the current day’s price is greater than the previous day’s price or when it is equal to the previous day’s price.\n",
    "\n",
    "    * If the current index is equal to the last index of the DataFrame, set the “trade_type” column for the current index to “sell”. (Use the `index` function to check the current index.) In this case, also set the “cost/proceeds” column to the total number in the `accumulated_shares` variable multiplied by the price of the last day.\n",
    "\n",
    "3. Run the updated algorithm. Then review the “cost/proceeds” column in the resulting DataFrame to confirm two results. First, the dates that have a “trade_type” of “buy” should have cost values in this column. Second, the final date should have a proceeds value in this column.\n",
    "\n",
    "4. Calculate the total profit or loss for the trading algorithm by summing the values in the \"cost/proceeds\" column. Print the value of the total profit or loss from the trades.\n",
    "\n",
    "    > **Hint** Use the `sum` and `round` functions to sum the values in the “cost/proceeds” column.\n",
    "\n",
    "5. Calculate the ROI for the trades. To do so, first calculate the invested capital (the total cost of all the buys). Then divide the total profit or loss by the cost of all the buys to determine the ROI. Finally, print the value of the ROI.\n",
    "\n",
    "## References:\n",
    "\n",
    "* [Pandas `sum` function documentation](https://pandas.pydata.org/docs/reference/api/pandas.DataFrame.sum.html)\n",
    "\n",
    "* [Pandas `round` function documentation](https://pandas.pydata.org/docs/reference/api/pandas.DataFrame.round.html)\n",
    "\n",
    "* [Pandas `iterrows` function documentation](https://pandas.pydata.org/pandas-docs/stable/reference/api/pandas.DataFrame.iterrows.html)"
   ]
  },
  {
   "cell_type": "markdown",
   "metadata": {},
   "source": [
    "## Data Loading\n",
    "\n",
    "### Step 1: Run the cells of this section to create the DataFrame with the AMD stock closing data."
   ]
  },
  {
   "cell_type": "code",
   "execution_count": 40,
   "metadata": {},
   "outputs": [],
   "source": [
    "# Import the required libraries\n",
    "import pandas as pd\n",
    "import numpy as np"
   ]
  },
  {
   "cell_type": "code",
   "execution_count": 41,
   "metadata": {},
   "outputs": [],
   "source": [
    "# Closing prices for AMD stock\n",
    "amd_data = [28.99, 28.76, 28.31, 28.68, 29.01, 28.93, 28.23, 28.46, 28.38, 29.75,]"
   ]
  },
  {
   "cell_type": "code",
   "execution_count": 42,
   "metadata": {},
   "outputs": [
    {
     "data": {
      "text/html": [
       "<div>\n",
       "<style scoped>\n",
       "    .dataframe tbody tr th:only-of-type {\n",
       "        vertical-align: middle;\n",
       "    }\n",
       "\n",
       "    .dataframe tbody tr th {\n",
       "        vertical-align: top;\n",
       "    }\n",
       "\n",
       "    .dataframe thead th {\n",
       "        text-align: right;\n",
       "    }\n",
       "</style>\n",
       "<table border=\"1\" class=\"dataframe\">\n",
       "  <thead>\n",
       "    <tr style=\"text-align: right;\">\n",
       "      <th></th>\n",
       "      <th>close</th>\n",
       "    </tr>\n",
       "  </thead>\n",
       "  <tbody>\n",
       "    <tr>\n",
       "      <th>2019-09-09</th>\n",
       "      <td>28.99</td>\n",
       "    </tr>\n",
       "    <tr>\n",
       "      <th>2019-09-10</th>\n",
       "      <td>28.76</td>\n",
       "    </tr>\n",
       "    <tr>\n",
       "      <th>2019-09-11</th>\n",
       "      <td>28.31</td>\n",
       "    </tr>\n",
       "    <tr>\n",
       "      <th>2019-09-12</th>\n",
       "      <td>28.68</td>\n",
       "    </tr>\n",
       "    <tr>\n",
       "      <th>2019-09-13</th>\n",
       "      <td>29.01</td>\n",
       "    </tr>\n",
       "    <tr>\n",
       "      <th>2019-09-16</th>\n",
       "      <td>28.93</td>\n",
       "    </tr>\n",
       "    <tr>\n",
       "      <th>2019-09-17</th>\n",
       "      <td>28.23</td>\n",
       "    </tr>\n",
       "    <tr>\n",
       "      <th>2019-09-18</th>\n",
       "      <td>28.46</td>\n",
       "    </tr>\n",
       "    <tr>\n",
       "      <th>2019-09-19</th>\n",
       "      <td>28.38</td>\n",
       "    </tr>\n",
       "    <tr>\n",
       "      <th>2019-09-20</th>\n",
       "      <td>29.75</td>\n",
       "    </tr>\n",
       "  </tbody>\n",
       "</table>\n",
       "</div>"
      ],
      "text/plain": [
       "            close\n",
       "2019-09-09  28.99\n",
       "2019-09-10  28.76\n",
       "2019-09-11  28.31\n",
       "2019-09-12  28.68\n",
       "2019-09-13  29.01\n",
       "2019-09-16  28.93\n",
       "2019-09-17  28.23\n",
       "2019-09-18  28.46\n",
       "2019-09-19  28.38\n",
       "2019-09-20  29.75"
      ]
     },
     "execution_count": 42,
     "metadata": {},
     "output_type": "execute_result"
    }
   ],
   "source": [
    "# Create the Pandas DataFrame using the price information supplied\n",
    "amd_df = pd.DataFrame(\n",
    "    {\"close\": amd_data}\n",
    ")\n",
    "\n",
    "# Set the index as datetime objects starting from 2019-09-09 and onwards (but only business days)\n",
    "amd_df.index = pd.bdate_range(start='2019-09-09', periods=10)\n",
    "\n",
    "# Review the DataFrame\n",
    "amd_df"
   ]
  },
  {
   "cell_type": "code",
   "execution_count": 43,
   "metadata": {},
   "outputs": [
    {
     "data": {
      "text/plain": [
       "<AxesSubplot:>"
      ]
     },
     "execution_count": 43,
     "metadata": {},
     "output_type": "execute_result"
    },
    {
     "data": {
      "image/png": "[encoded data removed]",
      "text/plain": [
       "<Figure size 432x288 with 1 Axes>"
      ]
     },
     "metadata": {
      "needs_background": "light"
     },
     "output_type": "display_data"
    }
   ],
   "source": [
    "# Visualize the DataFrame using the plot function \n",
    "amd_df.plot()"
   ]
  },
  {
   "cell_type": "markdown",
   "metadata": {},
   "source": [
    "## Trading Algorithm Definition\n",
    "\n",
    "### Step 2: Using the starter code provided, change the algorithm by modifying the loop to include the cost and proceeds metrics for buys of 100 shares."
   ]
  },
  {
   "cell_type": "code",
   "execution_count": 44,
   "metadata": {},
   "outputs": [],
   "source": [
    "# Initialize trade_type column for buys and sells\n",
    "amd_df['trade_type'] = np.nan\n",
    "\n",
    "# Initialize variable to hold the previous_price\n",
    "previous_price = 0"
   ]
  },
  {
   "cell_type": "code",
   "execution_count": 45,
   "metadata": {},
   "outputs": [],
   "source": [
    "# Initialize a cost/proceeds column for recording trade metrics\n",
    "# YOUR CODE HERE!\n",
    "amd_df[\"cost/proceeds\"] = np.nan"
   ]
  },
  {
   "cell_type": "code",
   "execution_count": 46,
   "metadata": {},
   "outputs": [],
   "source": [
    "# Initialize share_size equals 100 and accumulated_shares equals 0\n",
    "# YOUR CODE HERE!\n",
    "share_size = 100\n",
    "accumulated_shares = 0"
   ]
  },
  {
   "cell_type": "markdown",
   "metadata": {},
   "source": [
    "### Change the loop to include the new trading rules that buys 100 shares of AMD stock on the days when the price decreases and that sells the accumulated shares on the last day of the trading period.\n",
    "\n",
    "**Important:** Note that the current code includes the rules from the simple trading strategy that you created in the previous activity."
   ]
  },
  {
   "cell_type": "code",
   "execution_count": 47,
   "metadata": {},
   "outputs": [],
   "source": [
    "# Loop through the Pandas DataFrame and code the conditions of the trading strategy \n",
    "for index, row in amd_df.iterrows():\n",
    "    \n",
    "    # buy if the previous price is 0, in other words, buy on the first day\n",
    "    # set the cost/proceeds column equal to the negative value of the row close price\n",
    "    # multiplied by the share_size\n",
    "    # UPDATE THE CODE BELOW\n",
    "    if previous_price == 0:\n",
    "        amd_df.loc[index, \"trade_type\"] = \"buy\"\n",
    "        amd_df.loc[index, \"cost/proceeds\"] = -(row[\"close\"] * share_size)\n",
    "        accumulated_shares += share_size\n",
    "\n",
    "    # buy if the current day price is less than the previous day price\n",
    "    # set the cost/proceeds column equal to the negative value of the row close price\n",
    "    # multiplied by the share_size\n",
    "    # UPDATE THE CODE BELOW\n",
    "    elif row[\"close\"] < previous_price:\n",
    "        amd_df.loc[index, \"trade_type\"] = \"buy\"\n",
    "        amd_df.loc[index, \"cost/proceeds\"] = -(row[\"close\"] * share_size)\n",
    "        accumulated_shares += share_size\n",
    "\n",
    "    # sell if the current day price is greater than the previous day price\n",
    "    elif row[\"close\"] > previous_price:\n",
    "        amd_df.loc[index, \"trade_type\"] = \"sell\"\n",
    "\n",
    "    # else hold if the current day price is equal to the previous day price\n",
    "    else:\n",
    "        amd_df.loc[index, \"trade_type\"] = \"hold\"\n",
    "    \n",
    "    # set the previous_price variable to the close price of the current row\n",
    "    previous_price = row[\"close\"]\n",
    "\n",
    "    # if the index is the last index of the Dataframe, sell\n",
    "    # set the cost/proceeds column equal to the row close price multiplied \n",
    "    # by the accumulated_shares\n",
    "    # UPDATE THE CODE BELOW\n",
    "    if index == amd_df.index[-1]:\n",
    "        amd_df.loc[index, \"trade_type\"] = \"sell\"\n",
    "        amd_df.loc[index, \"cost/proceeds\"] = row[\"close\"] * accumulated_shares"
   ]
  },
  {
   "cell_type": "markdown",
   "metadata": {},
   "source": [
    "## Profitability Assessment\n",
    "\n",
    "### Step 3: Run the updated algorithm. Then review the “cost/proceeds” column in the resulting DataFrame to confirm two results."
   ]
  },
  {
   "cell_type": "code",
   "execution_count": 48,
   "metadata": {},
   "outputs": [
    {
     "data": {
      "text/html": [
       "<div>\n",
       "<style scoped>\n",
       "    .dataframe tbody tr th:only-of-type {\n",
       "        vertical-align: middle;\n",
       "    }\n",
       "\n",
       "    .dataframe tbody tr th {\n",
       "        vertical-align: top;\n",
       "    }\n",
       "\n",
       "    .dataframe thead th {\n",
       "        text-align: right;\n",
       "    }\n",
       "</style>\n",
       "<table border=\"1\" class=\"dataframe\">\n",
       "  <thead>\n",
       "    <tr style=\"text-align: right;\">\n",
       "      <th></th>\n",
       "      <th>close</th>\n",
       "      <th>trade_type</th>\n",
       "      <th>cost/proceeds</th>\n",
       "    </tr>\n",
       "  </thead>\n",
       "  <tbody>\n",
       "    <tr>\n",
       "      <th>2019-09-09</th>\n",
       "      <td>28.99</td>\n",
       "      <td>buy</td>\n",
       "      <td>-2899.0</td>\n",
       "    </tr>\n",
       "    <tr>\n",
       "      <th>2019-09-10</th>\n",
       "      <td>28.76</td>\n",
       "      <td>buy</td>\n",
       "      <td>-2876.0</td>\n",
       "    </tr>\n",
       "    <tr>\n",
       "      <th>2019-09-11</th>\n",
       "      <td>28.31</td>\n",
       "      <td>buy</td>\n",
       "      <td>-2831.0</td>\n",
       "    </tr>\n",
       "    <tr>\n",
       "      <th>2019-09-12</th>\n",
       "      <td>28.68</td>\n",
       "      <td>sell</td>\n",
       "      <td>NaN</td>\n",
       "    </tr>\n",
       "    <tr>\n",
       "      <th>2019-09-13</th>\n",
       "      <td>29.01</td>\n",
       "      <td>sell</td>\n",
       "      <td>NaN</td>\n",
       "    </tr>\n",
       "    <tr>\n",
       "      <th>2019-09-16</th>\n",
       "      <td>28.93</td>\n",
       "      <td>buy</td>\n",
       "      <td>-2893.0</td>\n",
       "    </tr>\n",
       "    <tr>\n",
       "      <th>2019-09-17</th>\n",
       "      <td>28.23</td>\n",
       "      <td>buy</td>\n",
       "      <td>-2823.0</td>\n",
       "    </tr>\n",
       "    <tr>\n",
       "      <th>2019-09-18</th>\n",
       "      <td>28.46</td>\n",
       "      <td>sell</td>\n",
       "      <td>NaN</td>\n",
       "    </tr>\n",
       "    <tr>\n",
       "      <th>2019-09-19</th>\n",
       "      <td>28.38</td>\n",
       "      <td>buy</td>\n",
       "      <td>-2838.0</td>\n",
       "    </tr>\n",
       "    <tr>\n",
       "      <th>2019-09-20</th>\n",
       "      <td>29.75</td>\n",
       "      <td>sell</td>\n",
       "      <td>17850.0</td>\n",
       "    </tr>\n",
       "  </tbody>\n",
       "</table>\n",
       "</div>"
      ],
      "text/plain": [
       "            close trade_type  cost/proceeds\n",
       "2019-09-09  28.99        buy        -2899.0\n",
       "2019-09-10  28.76        buy        -2876.0\n",
       "2019-09-11  28.31        buy        -2831.0\n",
       "2019-09-12  28.68       sell            NaN\n",
       "2019-09-13  29.01       sell            NaN\n",
       "2019-09-16  28.93        buy        -2893.0\n",
       "2019-09-17  28.23        buy        -2823.0\n",
       "2019-09-18  28.46       sell            NaN\n",
       "2019-09-19  28.38        buy        -2838.0\n",
       "2019-09-20  29.75       sell        17850.0"
      ]
     },
     "execution_count": 48,
     "metadata": {},
     "output_type": "execute_result"
    }
   ],
   "source": [
    "# Run the algorithm and review the DataFrame\n",
    "amd_df"
   ]
  },
  {
   "cell_type": "markdown",
   "metadata": {},
   "source": [
    "### Step 4: Calculate the total profit or loss for the trading algorithm by summing the values in the \"cost/proceeds\" column. Print the value of the total profit or loss from the trades."
   ]
  },
  {
   "cell_type": "code",
   "execution_count": 49,
   "metadata": {},
   "outputs": [
    {
     "name": "stdout",
     "output_type": "stream",
     "text": [
      "The total profit/loss of the trading strategy is $690.0.\n"
     ]
    }
   ],
   "source": [
    "# Calculate the total profit/loss for 100 share size orders\n",
    "# YOUR CODE HERE!\n",
    "total_profit_loss = round(amd_df[\"cost/proceeds\"].sum(), 2)\n",
    "# Print the profit/loss metrics\n",
    "# YOUR CODE HERE!\n",
    "print(f\"The total profit/loss of the trading strategy is ${total_profit_loss}.\")"
   ]
  },
  {
   "cell_type": "markdown",
   "metadata": {},
   "source": [
    "### Step 5: Calculate the ROI for the trades."
   ]
  },
  {
   "cell_type": "code",
   "execution_count": 50,
   "metadata": {},
   "outputs": [],
   "source": [
    "# Initialize the variable to hold the value of the invested capital\n",
    "# YOUR CODE HERE!\n",
    "invested_capital = 0"
   ]
  },
  {
   "cell_type": "code",
   "execution_count": 51,
   "metadata": {},
   "outputs": [],
   "source": [
    "# Calculate the invested capital by adding the cost of all buy trades\n",
    "# YOUR CODE HERE!\n",
    "for index, row in amd_df.iterrows():\n",
    "    if row[\"trade_type\"] == \"buy\":\n",
    "        invested_capital = invested_capital + row[\"cost/proceeds\"]"
   ]
  },
  {
   "cell_type": "code",
   "execution_count": 52,
   "metadata": {},
   "outputs": [
    {
     "name": "stdout",
     "output_type": "stream",
     "text": [
      "The trading algorithm resulted in a return on investment of 4.02%\n"
     ]
    }
   ],
   "source": [
    "# Calculate the return on investment (ROI)\n",
    "# YOUR CODE HERE!)\n",
    "roi = round((total_profit_loss / -(invested_capital)) * 100, 2)\n",
    "# Print the ROI\n",
    "# YOUR CODE HERE!\n",
    "print(f\"The trading algorithm resulted in a return on investment of {roi}%\")"
   ]
  },
  {
   "cell_type": "code",
   "execution_count": null,
   "metadata": {},
   "outputs": [],
   "source": []
  }
 ],
 "metadata": {
  "interpreter": {
   "hash": "2803b3c07b64a7b986e21828569605b043ff1dba15e47aab897e816beaee656d"
  },
  "kernelspec": {
   "display_name": "Python 3.7.11 ('dev')",
   "language": "python",
   "name": "python3"
  },
  "language_info": {
   "codemirror_mode": {
    "name": "ipython",
    "version": 3
   },
   "file_extension": ".py",
   "mimetype": "text/x-python",
   "name": "python",
   "nbconvert_exporter": "python",
   "pygments_lexer": "ipython3",
   "version": "3.7.11"
  }
 },
 "nbformat": 4,
 "nbformat_minor": 4
}
