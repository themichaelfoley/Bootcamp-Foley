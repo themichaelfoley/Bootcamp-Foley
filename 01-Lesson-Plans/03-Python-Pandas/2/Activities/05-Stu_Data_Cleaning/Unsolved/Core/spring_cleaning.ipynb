{
 "cells": [
  {
   "cell_type": "markdown",
   "metadata": {},
   "source": [
    "# Spring Cleaning!"
   ]
  },
  {
   "cell_type": "markdown",
   "metadata": {},
   "source": [
    "Harold's stock data is a mess! Help him clean up his data before the auditors arrive!"
   ]
  },
  {
   "cell_type": "code",
   "execution_count": 2,
   "metadata": {},
   "outputs": [],
   "source": [
    "# Import Libraries\n",
    "import pandas as pd\n",
    "from pathlib import Path"
   ]
  },
  {
   "cell_type": "markdown",
   "metadata": {},
   "source": [
    "### Load CSV data into Pandas using `read_csv`"
   ]
  },
  {
   "cell_type": "code",
   "execution_count": 5,
   "metadata": {},
   "outputs": [],
   "source": [
    "csv_path = Path(\"../../Resources/stock_data.csv\")\n",
    "csv_data = pd.read_csv(csv_path)"
   ]
  },
  {
   "cell_type": "markdown",
   "metadata": {},
   "source": [
    "### Identify the number of rows and columns (shape) in the DataFrame."
   ]
  },
  {
   "cell_type": "code",
   "execution_count": 9,
   "metadata": {},
   "outputs": [
    {
     "data": {
      "text/plain": [
       "(504, 14)"
      ]
     },
     "execution_count": 9,
     "metadata": {},
     "output_type": "execute_result"
    }
   ],
   "source": [
    "csv_data.shape"
   ]
  },
  {
   "cell_type": "markdown",
   "metadata": {},
   "source": [
    "### Generate a sample of the data to visually ensure data has been loaded in correctly."
   ]
  },
  {
   "cell_type": "code",
   "execution_count": 10,
   "metadata": {},
   "outputs": [
    {
     "data": {
      "text/html": [
       "<div>\n",
       "<style scoped>\n",
       "    .dataframe tbody tr th:only-of-type {\n",
       "        vertical-align: middle;\n",
       "    }\n",
       "\n",
       "    .dataframe tbody tr th {\n",
       "        vertical-align: top;\n",
       "    }\n",
       "\n",
       "    .dataframe thead th {\n",
       "        text-align: right;\n",
       "    }\n",
       "</style>\n",
       "<table border=\"1\" class=\"dataframe\">\n",
       "  <thead>\n",
       "    <tr style=\"text-align: right;\">\n",
       "      <th></th>\n",
       "      <th>symbol</th>\n",
       "      <th>name</th>\n",
       "      <th>sector</th>\n",
       "      <th>price</th>\n",
       "      <th>price_per_earnings</th>\n",
       "      <th>dividend_yield</th>\n",
       "      <th>earnings_per_share</th>\n",
       "      <th>52_week_low</th>\n",
       "      <th>52_week_high</th>\n",
       "      <th>market_cap</th>\n",
       "      <th>ebitda</th>\n",
       "      <th>price_per_sales</th>\n",
       "      <th>price_per_book</th>\n",
       "      <th>sec_filings</th>\n",
       "    </tr>\n",
       "  </thead>\n",
       "  <tbody>\n",
       "    <tr>\n",
       "      <th>362</th>\n",
       "      <td>PM</td>\n",
       "      <td>Philip Morris International</td>\n",
       "      <td>Consumer Staples</td>\n",
       "      <td>100.39</td>\n",
       "      <td>22.36</td>\n",
       "      <td>4.328479</td>\n",
       "      <td>4.48</td>\n",
       "      <td>123.55</td>\n",
       "      <td>96.66</td>\n",
       "      <td>1.535807e+11</td>\n",
       "      <td>1.180200e+10</td>\n",
       "      <td>2.757468</td>\n",
       "      <td>1318.70</td>\n",
       "      <td>http://www.sec.gov/cgi-bin/browse-edgar?action...</td>\n",
       "    </tr>\n",
       "    <tr>\n",
       "      <th>193</th>\n",
       "      <td>FISV</td>\n",
       "      <td>Fiserv Inc</td>\n",
       "      <td>Information Technology</td>\n",
       "      <td>133.05</td>\n",
       "      <td>27.32</td>\n",
       "      <td>0.000000</td>\n",
       "      <td>4.14</td>\n",
       "      <td>144.20</td>\n",
       "      <td>106.20</td>\n",
       "      <td>2.691895e+10</td>\n",
       "      <td>1.911000e+09</td>\n",
       "      <td>6.518713</td>\n",
       "      <td>11.54</td>\n",
       "      <td>http://www.sec.gov/cgi-bin/browse-edgar?action...</td>\n",
       "    </tr>\n",
       "    <tr>\n",
       "      <th>161</th>\n",
       "      <td>ETN</td>\n",
       "      <td>Eaton Corporation</td>\n",
       "      <td>Industrials</td>\n",
       "      <td>79.41</td>\n",
       "      <td>17.08</td>\n",
       "      <td>2.940456</td>\n",
       "      <td>6.68</td>\n",
       "      <td>89.85</td>\n",
       "      <td>69.45</td>\n",
       "      <td>3.596177e+10</td>\n",
       "      <td>4.253000e+09</td>\n",
       "      <td>1.816174</td>\n",
       "      <td>2.17</td>\n",
       "      <td>http://www.sec.gov/cgi-bin/browse-edgar?action...</td>\n",
       "    </tr>\n",
       "    <tr>\n",
       "      <th>357</th>\n",
       "      <td>PEP</td>\n",
       "      <td>PepsiCo Inc.</td>\n",
       "      <td>Consumer Staples</td>\n",
       "      <td>110.15</td>\n",
       "      <td>21.51</td>\n",
       "      <td>2.837004</td>\n",
       "      <td>4.36</td>\n",
       "      <td>122.51</td>\n",
       "      <td>104.77</td>\n",
       "      <td>1.614133e+11</td>\n",
       "      <td>1.284300e+10</td>\n",
       "      <td>3.670506</td>\n",
       "      <td>NaN</td>\n",
       "      <td>http://www.sec.gov/cgi-bin/browse-edgar?action...</td>\n",
       "    </tr>\n",
       "    <tr>\n",
       "      <th>480</th>\n",
       "      <td>WBA</td>\n",
       "      <td>Walgreens Boots Alliance</td>\n",
       "      <td>Consumer Staples</td>\n",
       "      <td>68.22</td>\n",
       "      <td>13.38</td>\n",
       "      <td>2.236824</td>\n",
       "      <td>3.78</td>\n",
       "      <td>88.00</td>\n",
       "      <td>63.82</td>\n",
       "      <td>7.086254e+10</td>\n",
       "      <td>7.083000e+09</td>\n",
       "      <td>0.590439</td>\n",
       "      <td>3.06</td>\n",
       "      <td>http://www.sec.gov/cgi-bin/browse-edgar?action...</td>\n",
       "    </tr>\n",
       "  </tbody>\n",
       "</table>\n",
       "</div>"
      ],
      "text/plain": [
       "    symbol                         name                  sector   price  \\\n",
       "362     PM  Philip Morris International        Consumer Staples  100.39   \n",
       "193   FISV                   Fiserv Inc  Information Technology  133.05   \n",
       "161    ETN            Eaton Corporation             Industrials   79.41   \n",
       "357    PEP                 PepsiCo Inc.        Consumer Staples  110.15   \n",
       "480    WBA     Walgreens Boots Alliance        Consumer Staples   68.22   \n",
       "\n",
       "     price_per_earnings  dividend_yield earnings_per_share  52_week_low  \\\n",
       "362               22.36        4.328479               4.48       123.55   \n",
       "193               27.32        0.000000               4.14       144.20   \n",
       "161               17.08        2.940456               6.68        89.85   \n",
       "357               21.51        2.837004               4.36       122.51   \n",
       "480               13.38        2.236824               3.78        88.00   \n",
       "\n",
       "     52_week_high    market_cap        ebitda  price_per_sales  \\\n",
       "362         96.66  1.535807e+11  1.180200e+10         2.757468   \n",
       "193        106.20  2.691895e+10  1.911000e+09         6.518713   \n",
       "161         69.45  3.596177e+10  4.253000e+09         1.816174   \n",
       "357        104.77  1.614133e+11  1.284300e+10         3.670506   \n",
       "480         63.82  7.086254e+10  7.083000e+09         0.590439   \n",
       "\n",
       "     price_per_book                                        sec_filings  \n",
       "362         1318.70  http://www.sec.gov/cgi-bin/browse-edgar?action...  \n",
       "193           11.54  http://www.sec.gov/cgi-bin/browse-edgar?action...  \n",
       "161            2.17  http://www.sec.gov/cgi-bin/browse-edgar?action...  \n",
       "357             NaN  http://www.sec.gov/cgi-bin/browse-edgar?action...  \n",
       "480            3.06  http://www.sec.gov/cgi-bin/browse-edgar?action...  "
      ]
     },
     "execution_count": 10,
     "metadata": {},
     "output_type": "execute_result"
    }
   ],
   "source": [
    "csv_data.sample(5)"
   ]
  },
  {
   "cell_type": "markdown",
   "metadata": {},
   "source": [
    "### Identify the number of records in the DataFrame, and compare it with the number of rows in the original file."
   ]
  },
  {
   "cell_type": "code",
   "execution_count": 12,
   "metadata": {},
   "outputs": [
    {
     "data": {
      "text/plain": [
       "symbol                504\n",
       "name                  502\n",
       "sector                501\n",
       "price                 500\n",
       "price_per_earnings    497\n",
       "dividend_yield        499\n",
       "earnings_per_share    498\n",
       "52_week_low           500\n",
       "52_week_high          500\n",
       "market_cap            500\n",
       "ebitda                492\n",
       "price_per_sales       500\n",
       "price_per_book        492\n",
       "sec_filings           500\n",
       "dtype: int64"
      ]
     },
     "execution_count": 12,
     "metadata": {},
     "output_type": "execute_result"
    }
   ],
   "source": [
    "csv_data.count()"
   ]
  },
  {
   "cell_type": "markdown",
   "metadata": {},
   "source": [
    "### Identify nulls records"
   ]
  },
  {
   "cell_type": "code",
   "execution_count": 17,
   "metadata": {},
   "outputs": [
    {
     "data": {
      "text/plain": [
       "symbol                 0\n",
       "name                   2\n",
       "sector                 3\n",
       "price                  4\n",
       "price_per_earnings     7\n",
       "dividend_yield         5\n",
       "earnings_per_share     6\n",
       "52_week_low            4\n",
       "52_week_high           4\n",
       "market_cap             4\n",
       "ebitda                12\n",
       "price_per_sales        4\n",
       "price_per_book        12\n",
       "sec_filings            4\n",
       "dtype: int64"
      ]
     },
     "execution_count": 17,
     "metadata": {},
     "output_type": "execute_result"
    }
   ],
   "source": [
    "csv_data.isnull().sum() # /csv_data.shape[0]"
   ]
  },
  {
   "cell_type": "markdown",
   "metadata": {},
   "source": [
    "### Drop Null Records"
   ]
  },
  {
   "cell_type": "code",
   "execution_count": 19,
   "metadata": {},
   "outputs": [],
   "source": [
    "csv_data = csv_data.dropna()"
   ]
  },
  {
   "cell_type": "markdown",
   "metadata": {},
   "source": [
    "### Validate nulls have been dropped"
   ]
  },
  {
   "cell_type": "code",
   "execution_count": 21,
   "metadata": {},
   "outputs": [
    {
     "data": {
      "text/plain": [
       "symbol                0\n",
       "name                  0\n",
       "sector                0\n",
       "price                 0\n",
       "price_per_earnings    0\n",
       "dividend_yield        0\n",
       "earnings_per_share    0\n",
       "52_week_low           0\n",
       "52_week_high          0\n",
       "market_cap            0\n",
       "ebitda                0\n",
       "price_per_sales       0\n",
       "price_per_book        0\n",
       "sec_filings           0\n",
       "dtype: int64"
      ]
     },
     "execution_count": 21,
     "metadata": {},
     "output_type": "execute_result"
    }
   ],
   "source": [
    "csv_data.isnull().sum()"
   ]
  },
  {
   "cell_type": "markdown",
   "metadata": {},
   "source": [
    "### Default null `ebitda` values to 0. Then, validate no records are null for ebitda."
   ]
  },
  {
   "cell_type": "code",
   "execution_count": null,
   "metadata": {},
   "outputs": [],
   "source": []
  },
  {
   "cell_type": "markdown",
   "metadata": {},
   "source": [
    "### Drop Duplicates"
   ]
  },
  {
   "cell_type": "code",
   "execution_count": 23,
   "metadata": {},
   "outputs": [
    {
     "data": {
      "text/html": [
       "<div>\n",
       "<style scoped>\n",
       "    .dataframe tbody tr th:only-of-type {\n",
       "        vertical-align: middle;\n",
       "    }\n",
       "\n",
       "    .dataframe tbody tr th {\n",
       "        vertical-align: top;\n",
       "    }\n",
       "\n",
       "    .dataframe thead th {\n",
       "        text-align: right;\n",
       "    }\n",
       "</style>\n",
       "<table border=\"1\" class=\"dataframe\">\n",
       "  <thead>\n",
       "    <tr style=\"text-align: right;\">\n",
       "      <th></th>\n",
       "      <th>symbol</th>\n",
       "      <th>name</th>\n",
       "      <th>sector</th>\n",
       "      <th>price</th>\n",
       "      <th>price_per_earnings</th>\n",
       "      <th>dividend_yield</th>\n",
       "      <th>earnings_per_share</th>\n",
       "      <th>52_week_low</th>\n",
       "      <th>52_week_high</th>\n",
       "      <th>market_cap</th>\n",
       "      <th>ebitda</th>\n",
       "      <th>price_per_sales</th>\n",
       "      <th>price_per_book</th>\n",
       "      <th>sec_filings</th>\n",
       "    </tr>\n",
       "  </thead>\n",
       "  <tbody>\n",
       "    <tr>\n",
       "      <th>0</th>\n",
       "      <td>MMM</td>\n",
       "      <td>3M Company</td>\n",
       "      <td>Industrials</td>\n",
       "      <td>$222.89</td>\n",
       "      <td>24.31</td>\n",
       "      <td>2.332862</td>\n",
       "      <td>$7.92</td>\n",
       "      <td>259.77</td>\n",
       "      <td>175.490</td>\n",
       "      <td>1.387211e+11</td>\n",
       "      <td>9.048000e+09</td>\n",
       "      <td>4.390271</td>\n",
       "      <td>11.34</td>\n",
       "      <td>http://www.sec.gov/cgi-bin/browse-edgar?action...</td>\n",
       "    </tr>\n",
       "    <tr>\n",
       "      <th>2</th>\n",
       "      <td>ABT</td>\n",
       "      <td>Abbott Laboratories</td>\n",
       "      <td>Health Care</td>\n",
       "      <td>56.27</td>\n",
       "      <td>22.51</td>\n",
       "      <td>1.908982</td>\n",
       "      <td>0.26</td>\n",
       "      <td>64.60</td>\n",
       "      <td>42.280</td>\n",
       "      <td>1.021210e+11</td>\n",
       "      <td>5.744000e+09</td>\n",
       "      <td>3.740480</td>\n",
       "      <td>3.19</td>\n",
       "      <td>http://www.sec.gov/cgi-bin/browse-edgar?action...</td>\n",
       "    </tr>\n",
       "    <tr>\n",
       "      <th>3</th>\n",
       "      <td>ABBV</td>\n",
       "      <td>AbbVie Inc.</td>\n",
       "      <td>Health Care</td>\n",
       "      <td>108.48</td>\n",
       "      <td>19.41</td>\n",
       "      <td>2.499560</td>\n",
       "      <td>3.29</td>\n",
       "      <td>125.86</td>\n",
       "      <td>60.050</td>\n",
       "      <td>1.813863e+11</td>\n",
       "      <td>1.031000e+10</td>\n",
       "      <td>6.291571</td>\n",
       "      <td>26.14</td>\n",
       "      <td>http://www.sec.gov/cgi-bin/browse-edgar?action...</td>\n",
       "    </tr>\n",
       "    <tr>\n",
       "      <th>5</th>\n",
       "      <td>AYI</td>\n",
       "      <td>Acuity Brands Inc</td>\n",
       "      <td>Industrials</td>\n",
       "      <td>108.48</td>\n",
       "      <td>18.22</td>\n",
       "      <td>0.351185</td>\n",
       "      <td>7.43</td>\n",
       "      <td>225.36</td>\n",
       "      <td>142.000</td>\n",
       "      <td>6.242378e+09</td>\n",
       "      <td>5.878000e+08</td>\n",
       "      <td>1.795347</td>\n",
       "      <td>3.55</td>\n",
       "      <td>http://www.sec.gov/cgi-bin/browse-edgar?action...</td>\n",
       "    </tr>\n",
       "    <tr>\n",
       "      <th>6</th>\n",
       "      <td>ADBE</td>\n",
       "      <td>Adobe Systems Inc</td>\n",
       "      <td>Information Technology</td>\n",
       "      <td>185.16</td>\n",
       "      <td>52.31</td>\n",
       "      <td>0.000000</td>\n",
       "      <td>3.39</td>\n",
       "      <td>204.45</td>\n",
       "      <td>114.451</td>\n",
       "      <td>9.455021e+10</td>\n",
       "      <td>2.538040e+09</td>\n",
       "      <td>13.092818</td>\n",
       "      <td>11.06</td>\n",
       "      <td>http://www.sec.gov/cgi-bin/browse-edgar?action...</td>\n",
       "    </tr>\n",
       "  </tbody>\n",
       "</table>\n",
       "</div>"
      ],
      "text/plain": [
       "  symbol                 name                  sector    price  \\\n",
       "0    MMM           3M Company             Industrials  $222.89   \n",
       "2    ABT  Abbott Laboratories             Health Care    56.27   \n",
       "3   ABBV          AbbVie Inc.             Health Care   108.48   \n",
       "5    AYI    Acuity Brands Inc             Industrials   108.48   \n",
       "6   ADBE    Adobe Systems Inc  Information Technology   185.16   \n",
       "\n",
       "   price_per_earnings  dividend_yield earnings_per_share  52_week_low  \\\n",
       "0               24.31        2.332862              $7.92       259.77   \n",
       "2               22.51        1.908982               0.26        64.60   \n",
       "3               19.41        2.499560               3.29       125.86   \n",
       "5               18.22        0.351185               7.43       225.36   \n",
       "6               52.31        0.000000               3.39       204.45   \n",
       "\n",
       "   52_week_high    market_cap        ebitda  price_per_sales  price_per_book  \\\n",
       "0       175.490  1.387211e+11  9.048000e+09         4.390271           11.34   \n",
       "2        42.280  1.021210e+11  5.744000e+09         3.740480            3.19   \n",
       "3        60.050  1.813863e+11  1.031000e+10         6.291571           26.14   \n",
       "5       142.000  6.242378e+09  5.878000e+08         1.795347            3.55   \n",
       "6       114.451  9.455021e+10  2.538040e+09        13.092818           11.06   \n",
       "\n",
       "                                         sec_filings  \n",
       "0  http://www.sec.gov/cgi-bin/browse-edgar?action...  \n",
       "2  http://www.sec.gov/cgi-bin/browse-edgar?action...  \n",
       "3  http://www.sec.gov/cgi-bin/browse-edgar?action...  \n",
       "5  http://www.sec.gov/cgi-bin/browse-edgar?action...  \n",
       "6  http://www.sec.gov/cgi-bin/browse-edgar?action...  "
      ]
     },
     "execution_count": 23,
     "metadata": {},
     "output_type": "execute_result"
    }
   ],
   "source": [
    "csv_data = csv_data.drop_duplicates()\n",
    "\n",
    "csv_data.head()"
   ]
  }
 ],
 "metadata": {
  "kernelspec": {
   "display_name": "Python 3",
   "language": "python",
   "name": "python3"
  },
  "language_info": {
   "codemirror_mode": {
    "name": "ipython",
    "version": 3
   },
   "file_extension": ".py",
   "mimetype": "text/x-python",
   "name": "python",
   "nbconvert_exporter": "python",
   "pygments_lexer": "ipython3",
   "version": "3.7.11"
  }
 },
 "nbformat": 4,
 "nbformat_minor": 2
}
