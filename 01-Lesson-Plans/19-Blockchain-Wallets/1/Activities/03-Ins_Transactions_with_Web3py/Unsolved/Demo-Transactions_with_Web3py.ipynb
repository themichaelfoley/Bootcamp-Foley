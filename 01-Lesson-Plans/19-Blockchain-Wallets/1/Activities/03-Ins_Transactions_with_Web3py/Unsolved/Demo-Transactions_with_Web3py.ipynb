{
 "cells": [
  {
   "cell_type": "code",
   "execution_count": null,
   "metadata": {},
   "outputs": [],
   "source": [
    "# Import the Web3 library\n",
    "from web3 import Web3\n",
    "\n",
    "# Import the RPC Provider\n",
    "from web3 import EthereumTesterProvider\n",
    "\n",
    "# Create an instance of Web3\n",
    "w3 = Web3()\n",
    "\n",
    "# Create an instance of the EthereumTesterProvider\n",
    "provider = EthereumTesterProvider()\n",
    "\n",
    "# Update the Web3 instance to include the provider\n",
    "w3 = Web3(provider)\n",
    "\n",
    "# Access information for the most recent block\n",
    "w3.eth.get_block('latest')\n"
   ]
  },
  {
   "cell_type": "code",
   "execution_count": null,
   "metadata": {},
   "outputs": [],
   "source": []
  }
 ],
 "metadata": {
  "kernelspec": {
   "display_name": "Python 3 (ipykernel)",
   "language": "python",
   "name": "python3"
  },
  "language_info": {
   "codemirror_mode": {
    "name": "ipython",
    "version": 3
   },
   "file_extension": ".py",
   "mimetype": "text/x-python",
   "name": "python",
   "nbconvert_exporter": "python",
   "pygments_lexer": "ipython3",
   "version": "3.7.11"
  }
 },
 "nbformat": 4,
 "nbformat_minor": 4
}
