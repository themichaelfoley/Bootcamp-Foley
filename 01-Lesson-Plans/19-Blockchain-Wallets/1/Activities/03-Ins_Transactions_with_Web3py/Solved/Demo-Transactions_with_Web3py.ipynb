{
 "cells": [
  {
   "cell_type": "code",
   "execution_count": 1,
   "metadata": {},
   "outputs": [
    {
     "name": "stderr",
     "output_type": "stream",
     "text": [
      "c:\\Users\\themi\\.conda\\envs\\dev\\lib\\site-packages\\eth_tester\\backends\\__init__.py:31: UserWarning: Ethereum Tester: No backend was explicitely set, and no *full* backends were available.  Falling back to the `MockBackend` which does not support all EVM functionality.  Please refer to the `eth-tester` documentation for information on what backends are available and how to set them.\n",
      "  \"Ethereum Tester: No backend was explicitely set, and no *full* \"\n"
     ]
    },
    {
     "data": {
      "text/plain": [
       "HexBytes('0xbe4fbf7205584001df347edd5109c8b99964988fb1ad7397ccb862d355136ad6')"
      ]
     },
     "execution_count": 1,
     "metadata": {},
     "output_type": "execute_result"
    }
   ],
   "source": [
    "# Import the Web3 library\n",
    "from web3 import Web3\n",
    "\n",
    "# Import the RPC Provider\n",
    "from web3 import EthereumTesterProvider\n",
    "\n",
    "# Create an instance of Web3\n",
    "w3 = Web3()\n",
    "\n",
    "# Create an instance of the EthereumTesterProvider\n",
    "provider = EthereumTesterProvider()\n",
    "\n",
    "# Update the Web3 instance to include the provider\n",
    "w3 = Web3(provider)\n",
    "\n",
    "# Access information for the most recent block\n",
    "w3.eth.get_block('latest')\n",
    "\n",
    "# Access a list of accounts on the blockchain\n",
    "w3.eth.accounts\n",
    "\n",
    "# Set the sender address\n",
    "sender = '0xabBACadaBA000000000000000000000000000003'\n",
    "\n",
    "# Set the receiver address\n",
    "receiver = '0xabbAcADABa000000000000000000000000000004'\n",
    "\n",
    "# Set units of gas\n",
    "gas = 21000\n",
    "\n",
    "# Convert balance from ether to wei\n",
    "value = w3.toWei(200, 'ether')\n",
    "\n",
    "# Send the transaction to the blockchain\n",
    "w3.eth.send_transaction({'to': receiver , 'from': sender , 'gas': gas, 'value': value})\n"
   ]
  },
  {
   "cell_type": "code",
   "execution_count": null,
   "metadata": {},
   "outputs": [],
   "source": []
  }
 ],
 "metadata": {
  "kernelspec": {
   "display_name": "Python 3.10.1 64-bit",
   "language": "python",
   "name": "python3"
  },
  "language_info": {
   "codemirror_mode": {
    "name": "ipython",
    "version": 3
   },
   "file_extension": ".py",
   "mimetype": "text/x-python",
   "name": "python",
   "nbconvert_exporter": "python",
   "pygments_lexer": "ipython3",
   "version": "3.10.1"
  },
  "vscode": {
   "interpreter": {
    "hash": "fde157aa3f8387ceba8a3c6770c090bc2d14e20fea34f392122ec4b97f96bee2"
   }
  }
 },
 "nbformat": 4,
 "nbformat_minor": 4
}
